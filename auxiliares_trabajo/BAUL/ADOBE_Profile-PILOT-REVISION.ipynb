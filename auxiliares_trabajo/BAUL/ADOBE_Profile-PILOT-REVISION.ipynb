{
 "cells": [
  {
   "cell_type": "markdown",
   "metadata": {},
   "source": [
    "### PREPARACION PARA ADOBE"
   ]
  },
  {
   "cell_type": "markdown",
   "metadata": {},
   "source": [
    "Este documento busca la data , la relaciona y la sirve de acuerdo a las tablas y tipos de datos que solicitó el partner"
   ]
  },
  {
   "cell_type": "code",
   "execution_count": 1,
   "metadata": {},
   "outputs": [],
   "source": [
    "import pandas as pd\n",
    "from pymongo import MongoClient\n",
    "import pymongo\n",
    "from datetime import datetime, timedelta\n",
    "import numpy as np\n",
    "\n",
    "import csv\n"
   ]
  },
  {
   "cell_type": "code",
   "execution_count": 2,
   "metadata": {},
   "outputs": [],
   "source": [
    "myclient = pymongo.MongoClient(\"mongodb://localhost:27017/\")\n",
    "mydb = myclient[\"ecdf\"]\n",
    "mycol_users = mydb[\"users\"]"
   ]
  },
  {
   "cell_type": "code",
   "execution_count": 3,
   "metadata": {},
   "outputs": [],
   "source": [
    "feh=datetime(2017,1,1,0,0,0)"
   ]
  },
  {
   "cell_type": "code",
   "execution_count": 4,
   "metadata": {},
   "outputs": [],
   "source": [
    "def userframes(iterator, chunk_size: int):\n",
    "  \"\"\"Turn an iterator into multiple small pandas.DataFrame\n",
    "  This is a balance between memory and efficiency\n",
    "  \"\"\"\n",
    "  records = []\n",
    "  frames = []\n",
    "  for i, record in enumerate(iterator):\n",
    "    records.append(record)\n",
    "    if i % chunk_size == chunk_size - 1:\n",
    "      frames.append(pd.DataFrame(records))\n",
    "      records = []\n",
    "  if records:\n",
    "    frames.append(pd.DataFrame(records))\n",
    "  return pd.concat(frames) if frames else pd.DataFrame()\n",
    "  \n",
    "userData = userframes(mycol_users.find({'createdAt': {'$gte':feh}},{'_id':1,'createdAt':1,'cliente_id':1 ,'email':1,'verificado': 1 }), 10000)\n"
   ]
  },
  {
   "cell_type": "code",
   "execution_count": 5,
   "metadata": {
    "scrolled": true
   },
   "outputs": [
    {
     "name": "stdout",
     "output_type": "stream",
     "text": [
      "<class 'pandas.core.frame.DataFrame'>\n",
      "Int64Index: 286777 entries, 0 to 6776\n",
      "Data columns (total 5 columns):\n",
      " #   Column      Non-Null Count   Dtype         \n",
      "---  ------      --------------   -----         \n",
      " 0   _id         286777 non-null  object        \n",
      " 1   createdAt   286777 non-null  datetime64[ns]\n",
      " 2   email       286777 non-null  object        \n",
      " 3   verificado  286776 non-null  object        \n",
      " 4   cliente_id  286717 non-null  object        \n",
      "dtypes: datetime64[ns](1), object(4)\n",
      "memory usage: 13.1+ MB\n"
     ]
    }
   ],
   "source": [
    "userData.info()"
   ]
  },
  {
   "cell_type": "code",
   "execution_count": 6,
   "metadata": {
    "scrolled": true
   },
   "outputs": [
    {
     "data": {
      "text/html": [
       "<div>\n",
       "<style scoped>\n",
       "    .dataframe tbody tr th:only-of-type {\n",
       "        vertical-align: middle;\n",
       "    }\n",
       "\n",
       "    .dataframe tbody tr th {\n",
       "        vertical-align: top;\n",
       "    }\n",
       "\n",
       "    .dataframe thead th {\n",
       "        text-align: right;\n",
       "    }\n",
       "</style>\n",
       "<table border=\"1\" class=\"dataframe\">\n",
       "  <thead>\n",
       "    <tr style=\"text-align: right;\">\n",
       "      <th></th>\n",
       "      <th>_id</th>\n",
       "      <th>createdAt</th>\n",
       "      <th>email</th>\n",
       "      <th>verificado</th>\n",
       "      <th>cliente_id</th>\n",
       "    </tr>\n",
       "  </thead>\n",
       "  <tbody>\n",
       "    <tr>\n",
       "      <th>0</th>\n",
       "      <td>58685c1fd3f4a001fc46f933</td>\n",
       "      <td>2017-01-01 01:32:15.159</td>\n",
       "      <td>vic.ayala1940@gmail.com</td>\n",
       "      <td>True</td>\n",
       "      <td>58685c1fd3f4a001fc46f934</td>\n",
       "    </tr>\n",
       "    <tr>\n",
       "      <th>1</th>\n",
       "      <td>5869079eb54b8b058da94b85</td>\n",
       "      <td>2017-01-01 13:43:58.600</td>\n",
       "      <td>vastipi@hotmail.com</td>\n",
       "      <td>True</td>\n",
       "      <td>5869079eb54b8b058da94b86</td>\n",
       "    </tr>\n",
       "    <tr>\n",
       "      <th>2</th>\n",
       "      <td>586920adb54b8b058da94b8c</td>\n",
       "      <td>2017-01-01 15:30:53.612</td>\n",
       "      <td>cavalos73@gmail.com</td>\n",
       "      <td>True</td>\n",
       "      <td>586920adb54b8b058da94b8d</td>\n",
       "    </tr>\n",
       "    <tr>\n",
       "      <th>3</th>\n",
       "      <td>58692feab54b8b058da94b8e</td>\n",
       "      <td>2017-01-01 16:35:54.370</td>\n",
       "      <td>r19u118@gmail.com</td>\n",
       "      <td>True</td>\n",
       "      <td>58692feab54b8b058da94b8f</td>\n",
       "    </tr>\n",
       "    <tr>\n",
       "      <th>4</th>\n",
       "      <td>5869322ab54b8b058da94b91</td>\n",
       "      <td>2017-01-01 16:45:30.095</td>\n",
       "      <td>gflores761@gmail.com</td>\n",
       "      <td>True</td>\n",
       "      <td>5869322ab54b8b058da94b92</td>\n",
       "    </tr>\n",
       "    <tr>\n",
       "      <th>...</th>\n",
       "      <td>...</td>\n",
       "      <td>...</td>\n",
       "      <td>...</td>\n",
       "      <td>...</td>\n",
       "      <td>...</td>\n",
       "    </tr>\n",
       "    <tr>\n",
       "      <th>6772</th>\n",
       "      <td>5e962397bc029378e090210e</td>\n",
       "      <td>2020-04-14 20:56:55.095</td>\n",
       "      <td>pedrosalazarmaldonado@gmail.com</td>\n",
       "      <td>True</td>\n",
       "      <td>5e962397bc029378e090210f</td>\n",
       "    </tr>\n",
       "    <tr>\n",
       "      <th>6773</th>\n",
       "      <td>5e96249510b7ac782d52d3d0</td>\n",
       "      <td>2020-04-14 21:01:09.755</td>\n",
       "      <td>efraincandianovoa88@gmail.com</td>\n",
       "      <td>False</td>\n",
       "      <td>5e96249510b7ac782d52d3d1</td>\n",
       "    </tr>\n",
       "    <tr>\n",
       "      <th>6774</th>\n",
       "      <td>5e9626a29e965678374927c9</td>\n",
       "      <td>2020-04-14 21:09:54.310</td>\n",
       "      <td>productosmandel@hotmail.com</td>\n",
       "      <td>False</td>\n",
       "      <td>5e9626a29e965678374927ca</td>\n",
       "    </tr>\n",
       "    <tr>\n",
       "      <th>6775</th>\n",
       "      <td>5e96274208a60a78490ffb61</td>\n",
       "      <td>2020-04-14 21:12:34.156</td>\n",
       "      <td>batusai26@gmail.com</td>\n",
       "      <td>True</td>\n",
       "      <td>5e96274208a60a78490ffb62</td>\n",
       "    </tr>\n",
       "    <tr>\n",
       "      <th>6776</th>\n",
       "      <td>5e9636661d48bf7843c666ae</td>\n",
       "      <td>2020-04-14 22:17:10.631</td>\n",
       "      <td>r.cristianb@gmail.com</td>\n",
       "      <td>False</td>\n",
       "      <td>5e9636661d48bf7843c666af</td>\n",
       "    </tr>\n",
       "  </tbody>\n",
       "</table>\n",
       "<p>286777 rows × 5 columns</p>\n",
       "</div>"
      ],
      "text/plain": [
       "                           _id               createdAt  \\\n",
       "0     58685c1fd3f4a001fc46f933 2017-01-01 01:32:15.159   \n",
       "1     5869079eb54b8b058da94b85 2017-01-01 13:43:58.600   \n",
       "2     586920adb54b8b058da94b8c 2017-01-01 15:30:53.612   \n",
       "3     58692feab54b8b058da94b8e 2017-01-01 16:35:54.370   \n",
       "4     5869322ab54b8b058da94b91 2017-01-01 16:45:30.095   \n",
       "...                        ...                     ...   \n",
       "6772  5e962397bc029378e090210e 2020-04-14 20:56:55.095   \n",
       "6773  5e96249510b7ac782d52d3d0 2020-04-14 21:01:09.755   \n",
       "6774  5e9626a29e965678374927c9 2020-04-14 21:09:54.310   \n",
       "6775  5e96274208a60a78490ffb61 2020-04-14 21:12:34.156   \n",
       "6776  5e9636661d48bf7843c666ae 2020-04-14 22:17:10.631   \n",
       "\n",
       "                                email verificado                cliente_id  \n",
       "0             vic.ayala1940@gmail.com       True  58685c1fd3f4a001fc46f934  \n",
       "1                 vastipi@hotmail.com       True  5869079eb54b8b058da94b86  \n",
       "2                 cavalos73@gmail.com       True  586920adb54b8b058da94b8d  \n",
       "3                   r19u118@gmail.com       True  58692feab54b8b058da94b8f  \n",
       "4                gflores761@gmail.com       True  5869322ab54b8b058da94b92  \n",
       "...                               ...        ...                       ...  \n",
       "6772  pedrosalazarmaldonado@gmail.com       True  5e962397bc029378e090210f  \n",
       "6773    efraincandianovoa88@gmail.com      False  5e96249510b7ac782d52d3d1  \n",
       "6774      productosmandel@hotmail.com      False  5e9626a29e965678374927ca  \n",
       "6775              batusai26@gmail.com       True  5e96274208a60a78490ffb62  \n",
       "6776            r.cristianb@gmail.com      False  5e9636661d48bf7843c666af  \n",
       "\n",
       "[286777 rows x 5 columns]"
      ]
     },
     "execution_count": 6,
     "metadata": {},
     "output_type": "execute_result"
    }
   ],
   "source": [
    "userData"
   ]
  },
  {
   "cell_type": "markdown",
   "metadata": {},
   "source": [
    "#### PROFILE TABLE"
   ]
  },
  {
   "cell_type": "code",
   "execution_count": 8,
   "metadata": {},
   "outputs": [],
   "source": [
    "id_user=userData"
   ]
  },
  {
   "cell_type": "code",
   "execution_count": 9,
   "metadata": {},
   "outputs": [],
   "source": [
    "id_user=id_user.rename(columns={ \"createdAt\": \"REGISTRATION_DATE\",\"verificado\": \"HAS_EMAIL_VERIFY\",'email':'EMAIL'})"
   ]
  },
  {
   "cell_type": "code",
   "execution_count": 10,
   "metadata": {},
   "outputs": [],
   "source": [
    "mydb = myclient[\"cdfMaster\"]\n",
    "mycol_clientes = mydb[\"otroClientes\"]\n",
    "feh=datetime(2017,1,1,0,0,0)"
   ]
  },
  {
   "cell_type": "code",
   "execution_count": 11,
   "metadata": {},
   "outputs": [],
   "source": [
    "def clientesframes(iterator, chunk_size: int):\n",
    "  \"\"\"Turn an iterator into multiple small pandas.DataFrame\n",
    "  This is a balance between memory and efficiency\n",
    "  \"\"\"\n",
    "  records = []\n",
    "  frames = []\n",
    "  for i, record in enumerate(iterator):\n",
    "    records.append(record)\n",
    "    if i % chunk_size == chunk_size - 1:\n",
    "      frames.append(pd.DataFrame(records))\n",
    "      records = []\n",
    "  if records:\n",
    "    frames.append(pd.DataFrame(records))\n",
    "  return pd.concat(frames) if frames else pd.DataFrame()\n",
    "  \n",
    "CLIENTES = clientesframes(mycol_clientes.find({\n",
    "},{'fecha_nacimiento':1,'pais':1,'equipo_favorito':1 ,'nombre':1,'apellidoPaterno': 1,'telefono':1,'genero': 1  }), 10000)\n"
   ]
  },
  {
   "cell_type": "code",
   "execution_count": 12,
   "metadata": {},
   "outputs": [
    {
     "name": "stdout",
     "output_type": "stream",
     "text": [
      "<class 'pandas.core.frame.DataFrame'>\n",
      "Int64Index: 434256 entries, 0 to 4255\n",
      "Data columns (total 8 columns):\n",
      " #   Column            Non-Null Count   Dtype \n",
      "---  ------            --------------   ----- \n",
      " 0   _id               434256 non-null  object\n",
      " 1   nombre            433777 non-null  object\n",
      " 2   apellidoPaterno   433885 non-null  object\n",
      " 3   pais              150140 non-null  object\n",
      " 4   fecha_nacimiento  350036 non-null  object\n",
      " 5   genero            261321 non-null  object\n",
      " 6   equipo_favorito   211979 non-null  object\n",
      " 7   telefono          2535 non-null    object\n",
      "dtypes: object(8)\n",
      "memory usage: 29.8+ MB\n"
     ]
    }
   ],
   "source": [
    "CLIENTES.info()"
   ]
  },
  {
   "cell_type": "code",
   "execution_count": null,
   "metadata": {},
   "outputs": [],
   "source": []
  },
  {
   "cell_type": "markdown",
   "metadata": {
    "scrolled": false
   },
   "source": [
    "CLIENTES=pd.read_csv(\"/home/tecnoboy/ClusterMongo-produccion/cdfMaster/clientes.csv\")"
   ]
  },
  {
   "cell_type": "code",
   "execution_count": 13,
   "metadata": {},
   "outputs": [
    {
     "data": {
      "text/html": [
       "<div>\n",
       "<style scoped>\n",
       "    .dataframe tbody tr th:only-of-type {\n",
       "        vertical-align: middle;\n",
       "    }\n",
       "\n",
       "    .dataframe tbody tr th {\n",
       "        vertical-align: top;\n",
       "    }\n",
       "\n",
       "    .dataframe thead th {\n",
       "        text-align: right;\n",
       "    }\n",
       "</style>\n",
       "<table border=\"1\" class=\"dataframe\">\n",
       "  <thead>\n",
       "    <tr style=\"text-align: right;\">\n",
       "      <th></th>\n",
       "      <th>_id</th>\n",
       "      <th>nombre</th>\n",
       "      <th>apellidoPaterno</th>\n",
       "      <th>pais</th>\n",
       "      <th>fecha_nacimiento</th>\n",
       "      <th>genero</th>\n",
       "      <th>equipo_favorito</th>\n",
       "      <th>telefono</th>\n",
       "    </tr>\n",
       "  </thead>\n",
       "  <tbody>\n",
       "    <tr>\n",
       "      <th>0</th>\n",
       "      <td>5860ff4104d5b52eef1e6216</td>\n",
       "      <td>Alejandro</td>\n",
       "      <td>Montero Salinas</td>\n",
       "      <td>Chile</td>\n",
       "      <td>sin informacion</td>\n",
       "      <td>sin informacion</td>\n",
       "      <td>None</td>\n",
       "      <td>None</td>\n",
       "    </tr>\n",
       "    <tr>\n",
       "      <th>1</th>\n",
       "      <td>5860ff4104d5b52eef1e6217</td>\n",
       "      <td>Claudio</td>\n",
       "      <td>Guerra</td>\n",
       "      <td>Chile</td>\n",
       "      <td>sin informacion</td>\n",
       "      <td>sin informacion</td>\n",
       "      <td>None</td>\n",
       "      <td>None</td>\n",
       "    </tr>\n",
       "    <tr>\n",
       "      <th>2</th>\n",
       "      <td>5860ff4104d5b52eef1e6218</td>\n",
       "      <td>Alejandro</td>\n",
       "      <td>Truan</td>\n",
       "      <td>Chile</td>\n",
       "      <td>1900-01-01T04:42:46.000Z</td>\n",
       "      <td>sin informacion</td>\n",
       "      <td>Colo-Colo</td>\n",
       "      <td>None</td>\n",
       "    </tr>\n",
       "    <tr>\n",
       "      <th>3</th>\n",
       "      <td>5860ff4104d5b52eef1e6215</td>\n",
       "      <td>Daniel</td>\n",
       "      <td>Vergara</td>\n",
       "      <td>Chile</td>\n",
       "      <td>1987-06-16</td>\n",
       "      <td>sin informacion</td>\n",
       "      <td>None</td>\n",
       "      <td>None</td>\n",
       "    </tr>\n",
       "    <tr>\n",
       "      <th>4</th>\n",
       "      <td>5860ff4104d5b52eef1e6219</td>\n",
       "      <td>Segundo</td>\n",
       "      <td>Calderon</td>\n",
       "      <td>Chile</td>\n",
       "      <td>sin informacion</td>\n",
       "      <td>sin informacion</td>\n",
       "      <td>None</td>\n",
       "      <td>None</td>\n",
       "    </tr>\n",
       "    <tr>\n",
       "      <th>...</th>\n",
       "      <td>...</td>\n",
       "      <td>...</td>\n",
       "      <td>...</td>\n",
       "      <td>...</td>\n",
       "      <td>...</td>\n",
       "      <td>...</td>\n",
       "      <td>...</td>\n",
       "      <td>...</td>\n",
       "    </tr>\n",
       "    <tr>\n",
       "      <th>4251</th>\n",
       "      <td>5e9924b708a60a78490ffbc9</td>\n",
       "      <td>Patrocio</td>\n",
       "      <td>Guzman valdes</td>\n",
       "      <td>None</td>\n",
       "      <td>None</td>\n",
       "      <td>None</td>\n",
       "      <td>None</td>\n",
       "      <td>None</td>\n",
       "    </tr>\n",
       "    <tr>\n",
       "      <th>4252</th>\n",
       "      <td>5e994600bc029378e09022fe</td>\n",
       "      <td>Guillermo</td>\n",
       "      <td>Ramírez</td>\n",
       "      <td>None</td>\n",
       "      <td>1900-01-01T04:42:46.000Z</td>\n",
       "      <td>None</td>\n",
       "      <td>Colo-Colo</td>\n",
       "      <td>None</td>\n",
       "    </tr>\n",
       "    <tr>\n",
       "      <th>4253</th>\n",
       "      <td>5e99b7c0943ae378c8fe471a</td>\n",
       "      <td>Pedro</td>\n",
       "      <td>Jara</td>\n",
       "      <td>None</td>\n",
       "      <td>None</td>\n",
       "      <td>None</td>\n",
       "      <td>None</td>\n",
       "      <td>None</td>\n",
       "    </tr>\n",
       "    <tr>\n",
       "      <th>4254</th>\n",
       "      <td>5e99b9f4977326783df5c8a0</td>\n",
       "      <td>Andrés</td>\n",
       "      <td>Palominos</td>\n",
       "      <td>None</td>\n",
       "      <td>1900-01-01T04:42:46.000Z</td>\n",
       "      <td>None</td>\n",
       "      <td>Colo-Colo</td>\n",
       "      <td>None</td>\n",
       "    </tr>\n",
       "    <tr>\n",
       "      <th>4255</th>\n",
       "      <td>5e99bb2fbc029378e090232f</td>\n",
       "      <td>belen</td>\n",
       "      <td>guglieri</td>\n",
       "      <td>None</td>\n",
       "      <td>1900-01-01T04:16:48.000Z</td>\n",
       "      <td>None</td>\n",
       "      <td>None</td>\n",
       "      <td>None</td>\n",
       "    </tr>\n",
       "  </tbody>\n",
       "</table>\n",
       "<p>434256 rows × 8 columns</p>\n",
       "</div>"
      ],
      "text/plain": [
       "                           _id      nombre  apellidoPaterno   pais  \\\n",
       "0     5860ff4104d5b52eef1e6216   Alejandro  Montero Salinas  Chile   \n",
       "1     5860ff4104d5b52eef1e6217     Claudio           Guerra  Chile   \n",
       "2     5860ff4104d5b52eef1e6218   Alejandro            Truan  Chile   \n",
       "3     5860ff4104d5b52eef1e6215      Daniel          Vergara  Chile   \n",
       "4     5860ff4104d5b52eef1e6219     Segundo         Calderon  Chile   \n",
       "...                        ...         ...              ...    ...   \n",
       "4251  5e9924b708a60a78490ffbc9    Patrocio    Guzman valdes   None   \n",
       "4252  5e994600bc029378e09022fe  Guillermo           Ramírez   None   \n",
       "4253  5e99b7c0943ae378c8fe471a      Pedro              Jara   None   \n",
       "4254  5e99b9f4977326783df5c8a0      Andrés        Palominos   None   \n",
       "4255  5e99bb2fbc029378e090232f       belen         guglieri   None   \n",
       "\n",
       "              fecha_nacimiento           genero equipo_favorito telefono  \n",
       "0              sin informacion  sin informacion            None     None  \n",
       "1              sin informacion  sin informacion            None     None  \n",
       "2     1900-01-01T04:42:46.000Z  sin informacion       Colo-Colo     None  \n",
       "3                   1987-06-16  sin informacion            None     None  \n",
       "4              sin informacion  sin informacion            None     None  \n",
       "...                        ...              ...             ...      ...  \n",
       "4251                      None             None            None     None  \n",
       "4252  1900-01-01T04:42:46.000Z             None       Colo-Colo     None  \n",
       "4253                      None             None            None     None  \n",
       "4254  1900-01-01T04:42:46.000Z             None       Colo-Colo     None  \n",
       "4255  1900-01-01T04:16:48.000Z             None            None     None  \n",
       "\n",
       "[434256 rows x 8 columns]"
      ]
     },
     "execution_count": 13,
     "metadata": {},
     "output_type": "execute_result"
    }
   ],
   "source": [
    "CLIENTES"
   ]
  },
  {
   "cell_type": "markdown",
   "metadata": {},
   "source": [
    "Se le quiere añadir el id de usuario a la tabla de clientes"
   ]
  },
  {
   "cell_type": "code",
   "execution_count": 14,
   "metadata": {
    "scrolled": true
   },
   "outputs": [
    {
     "data": {
      "text/plain": [
       "0                sin informacion\n",
       "1                sin informacion\n",
       "2       1900-01-01T04:42:46.000Z\n",
       "3                     1987-06-16\n",
       "4                sin informacion\n",
       "                  ...           \n",
       "4251                        None\n",
       "4252    1900-01-01T04:42:46.000Z\n",
       "4253                        None\n",
       "4254    1900-01-01T04:42:46.000Z\n",
       "4255    1900-01-01T04:16:48.000Z\n",
       "Name: fecha_nacimiento, Length: 434256, dtype: object"
      ]
     },
     "execution_count": 14,
     "metadata": {},
     "output_type": "execute_result"
    }
   ],
   "source": [
    "CLIENTES['fecha_nacimiento']"
   ]
  },
  {
   "cell_type": "code",
   "execution_count": 15,
   "metadata": {
    "scrolled": true
   },
   "outputs": [
    {
     "name": "stdout",
     "output_type": "stream",
     "text": [
      "<class 'pandas.core.frame.DataFrame'>\n",
      "Int64Index: 286777 entries, 0 to 6776\n",
      "Data columns (total 5 columns):\n",
      " #   Column             Non-Null Count   Dtype         \n",
      "---  ------             --------------   -----         \n",
      " 0   _id                286777 non-null  object        \n",
      " 1   REGISTRATION_DATE  286777 non-null  datetime64[ns]\n",
      " 2   EMAIL              286777 non-null  object        \n",
      " 3   HAS_EMAIL_VERIFY   286776 non-null  object        \n",
      " 4   cliente_id         286717 non-null  object        \n",
      "dtypes: datetime64[ns](1), object(4)\n",
      "memory usage: 13.1+ MB\n"
     ]
    }
   ],
   "source": [
    "id_user.info()"
   ]
  },
  {
   "cell_type": "code",
   "execution_count": null,
   "metadata": {},
   "outputs": [],
   "source": []
  },
  {
   "cell_type": "code",
   "execution_count": 16,
   "metadata": {},
   "outputs": [],
   "source": [
    "CLIENTES['cliente_id']=CLIENTES['_id']"
   ]
  },
  {
   "cell_type": "code",
   "execution_count": 17,
   "metadata": {
    "scrolled": true
   },
   "outputs": [
    {
     "name": "stdout",
     "output_type": "stream",
     "text": [
      "<class 'pandas.core.frame.DataFrame'>\n",
      "Int64Index: 434256 entries, 0 to 4255\n",
      "Data columns (total 9 columns):\n",
      " #   Column            Non-Null Count   Dtype \n",
      "---  ------            --------------   ----- \n",
      " 0   _id               434256 non-null  object\n",
      " 1   nombre            433777 non-null  object\n",
      " 2   apellidoPaterno   433885 non-null  object\n",
      " 3   pais              150140 non-null  object\n",
      " 4   fecha_nacimiento  350036 non-null  object\n",
      " 5   genero            261321 non-null  object\n",
      " 6   equipo_favorito   211979 non-null  object\n",
      " 7   telefono          2535 non-null    object\n",
      " 8   cliente_id        434256 non-null  object\n",
      "dtypes: object(9)\n",
      "memory usage: 33.1+ MB\n"
     ]
    }
   ],
   "source": [
    "CLIENTES.info()"
   ]
  },
  {
   "cell_type": "markdown",
   "metadata": {
    "scrolled": true
   },
   "source": [
    "CLIENTES2=pd.read_csv(\"/home/tecnoboy/ClusterMongo-produccion/cdfMaster/clientes.csv\")"
   ]
  },
  {
   "cell_type": "markdown",
   "metadata": {},
   "source": [
    "CLIENTES2.info()"
   ]
  },
  {
   "cell_type": "code",
   "execution_count": 17,
   "metadata": {
    "scrolled": false
   },
   "outputs": [
    {
     "name": "stdout",
     "output_type": "stream",
     "text": [
      "<class 'pandas.core.frame.DataFrame'>\n",
      "Int64Index: 434256 entries, 0 to 4255\n",
      "Data columns (total 9 columns):\n",
      " #   Column            Non-Null Count   Dtype \n",
      "---  ------            --------------   ----- \n",
      " 0   _id               434256 non-null  object\n",
      " 1   nombre            433777 non-null  object\n",
      " 2   apellidoPaterno   433885 non-null  object\n",
      " 3   pais              150140 non-null  object\n",
      " 4   fecha_nacimiento  350036 non-null  object\n",
      " 5   genero            261321 non-null  object\n",
      " 6   equipo_favorito   211979 non-null  object\n",
      " 7   telefono          2535 non-null    object\n",
      " 8   cliente_id        434256 non-null  object\n",
      "dtypes: object(9)\n",
      "memory usage: 33.1+ MB\n"
     ]
    }
   ],
   "source": [
    "CLIENTES.info()"
   ]
  },
  {
   "cell_type": "code",
   "execution_count": 18,
   "metadata": {},
   "outputs": [],
   "source": [
    "consolidados2 = CLIENTES.merge(id_user, on='cliente_id', how='right', indicator=True)"
   ]
  },
  {
   "cell_type": "markdown",
   "metadata": {},
   "source": [
    "consolidados2 = CLIENTES.merge(id_user, right_on='cliente_id',left_on='_id', how='right', indicator=True)"
   ]
  },
  {
   "cell_type": "code",
   "execution_count": 19,
   "metadata": {
    "scrolled": false
   },
   "outputs": [
    {
     "name": "stdout",
     "output_type": "stream",
     "text": [
      "<class 'pandas.core.frame.DataFrame'>\n",
      "Int64Index: 286777 entries, 0 to 286776\n",
      "Data columns (total 14 columns):\n",
      " #   Column             Non-Null Count   Dtype         \n",
      "---  ------             --------------   -----         \n",
      " 0   _id_x              286717 non-null  object        \n",
      " 1   nombre             286238 non-null  object        \n",
      " 2   apellidoPaterno    286347 non-null  object        \n",
      " 3   pais               2999 non-null    object        \n",
      " 4   fecha_nacimiento   202995 non-null  object        \n",
      " 5   genero             113949 non-null  object        \n",
      " 6   equipo_favorito    193630 non-null  object        \n",
      " 7   telefono           1803 non-null    object        \n",
      " 8   cliente_id         286717 non-null  object        \n",
      " 9   _id_y              286777 non-null  object        \n",
      " 10  REGISTRATION_DATE  286777 non-null  datetime64[ns]\n",
      " 11  EMAIL              286777 non-null  object        \n",
      " 12  HAS_EMAIL_VERIFY   286776 non-null  object        \n",
      " 13  _merge             286777 non-null  category      \n",
      "dtypes: category(1), datetime64[ns](1), object(12)\n",
      "memory usage: 30.9+ MB\n"
     ]
    }
   ],
   "source": [
    "consolidados2.info()"
   ]
  },
  {
   "cell_type": "code",
   "execution_count": 20,
   "metadata": {},
   "outputs": [
    {
     "data": {
      "text/plain": [
       "Index(['_id_x', 'nombre', 'apellidoPaterno', 'pais', 'fecha_nacimiento',\n",
       "       'genero', 'equipo_favorito', 'telefono', 'cliente_id', '_id_y',\n",
       "       'REGISTRATION_DATE', 'EMAIL', 'HAS_EMAIL_VERIFY', '_merge'],\n",
       "      dtype='object')"
      ]
     },
     "execution_count": 20,
     "metadata": {},
     "output_type": "execute_result"
    }
   ],
   "source": [
    "consolidados2.columns"
   ]
  },
  {
   "cell_type": "code",
   "execution_count": 21,
   "metadata": {},
   "outputs": [],
   "source": [
    "consolidados2['REGISTRATION_DATE'] = pd.to_datetime(consolidados2['REGISTRATION_DATE'])"
   ]
  },
  {
   "cell_type": "code",
   "execution_count": 22,
   "metadata": {},
   "outputs": [
    {
     "data": {
      "text/plain": [
       "0        2017-01-01 01:32:15.159\n",
       "1        2017-01-01 13:43:58.600\n",
       "2        2017-01-01 15:30:53.612\n",
       "3        2017-01-01 16:35:54.370\n",
       "4        2017-01-01 16:45:30.095\n",
       "                   ...          \n",
       "286772   2020-02-04 23:07:09.644\n",
       "286773   2020-02-04 23:07:06.739\n",
       "286774   2020-02-04 23:07:07.230\n",
       "286775   2020-02-04 23:07:07.689\n",
       "286776   2020-03-27 13:19:38.085\n",
       "Name: REGISTRATION_DATE, Length: 286777, dtype: datetime64[ns]"
      ]
     },
     "execution_count": 22,
     "metadata": {},
     "output_type": "execute_result"
    }
   ],
   "source": [
    "consolidados2['REGISTRATION_DATE'] "
   ]
  },
  {
   "cell_type": "code",
   "execution_count": 23,
   "metadata": {},
   "outputs": [
    {
     "data": {
      "text/plain": [
       "286746"
      ]
     },
     "execution_count": 23,
     "metadata": {},
     "output_type": "execute_result"
    }
   ],
   "source": [
    "consolidados2['REGISTRATION_DATE'].nunique()"
   ]
  },
  {
   "cell_type": "markdown",
   "metadata": {},
   "source": [
    "Filtrando a los que están después del  2017"
   ]
  },
  {
   "cell_type": "markdown",
   "metadata": {},
   "source": [
    "consolidados2=consolidados2.loc[consolidados2['REGISTRATION_DATE'] > '2017-01-01 00:00:00.904716']"
   ]
  },
  {
   "cell_type": "code",
   "execution_count": null,
   "metadata": {},
   "outputs": [],
   "source": []
  },
  {
   "cell_type": "code",
   "execution_count": 24,
   "metadata": {},
   "outputs": [],
   "source": [
    "\n",
    "profile=consolidados2"
   ]
  },
  {
   "cell_type": "markdown",
   "metadata": {},
   "source": [
    "TRABAJAR LAS FECHAS DE NACIMIENTO"
   ]
  },
  {
   "cell_type": "code",
   "execution_count": 25,
   "metadata": {
    "scrolled": true
   },
   "outputs": [
    {
     "name": "stdout",
     "output_type": "stream",
     "text": [
      "<class 'pandas.core.frame.DataFrame'>\n",
      "Int64Index: 286777 entries, 0 to 286776\n",
      "Data columns (total 14 columns):\n",
      " #   Column             Non-Null Count   Dtype         \n",
      "---  ------             --------------   -----         \n",
      " 0   _id_x              286717 non-null  object        \n",
      " 1   nombre             286238 non-null  object        \n",
      " 2   apellidoPaterno    286347 non-null  object        \n",
      " 3   pais               2999 non-null    object        \n",
      " 4   fecha_nacimiento   202995 non-null  object        \n",
      " 5   genero             113949 non-null  object        \n",
      " 6   equipo_favorito    193630 non-null  object        \n",
      " 7   telefono           1803 non-null    object        \n",
      " 8   cliente_id         286717 non-null  object        \n",
      " 9   _id_y              286777 non-null  object        \n",
      " 10  REGISTRATION_DATE  286777 non-null  datetime64[ns]\n",
      " 11  EMAIL              286777 non-null  object        \n",
      " 12  HAS_EMAIL_VERIFY   286776 non-null  object        \n",
      " 13  _merge             286777 non-null  category      \n",
      "dtypes: category(1), datetime64[ns](1), object(12)\n",
      "memory usage: 30.9+ MB\n"
     ]
    }
   ],
   "source": [
    "profile.info()"
   ]
  },
  {
   "cell_type": "code",
   "execution_count": 26,
   "metadata": {
    "scrolled": true
   },
   "outputs": [],
   "source": [
    "profile.loc[(profile['fecha_nacimiento'].str.contains(\"sin informacion|1900-01-01T04:42:46.000Z\", na=False)),['fecha_nacimiento']]= np.NaN"
   ]
  },
  {
   "cell_type": "code",
   "execution_count": 27,
   "metadata": {
    "scrolled": true
   },
   "outputs": [],
   "source": [
    "profile['fecha_nacimiento']= pd.to_datetime(profile.fecha_nacimiento, utc=True)"
   ]
  },
  {
   "cell_type": "code",
   "execution_count": 28,
   "metadata": {},
   "outputs": [
    {
     "name": "stdout",
     "output_type": "stream",
     "text": [
      "<class 'pandas.core.frame.DataFrame'>\n",
      "Int64Index: 286777 entries, 0 to 286776\n",
      "Data columns (total 14 columns):\n",
      " #   Column             Non-Null Count   Dtype              \n",
      "---  ------             --------------   -----              \n",
      " 0   _id_x              286717 non-null  object             \n",
      " 1   nombre             286238 non-null  object             \n",
      " 2   apellidoPaterno    286347 non-null  object             \n",
      " 3   pais               2999 non-null    object             \n",
      " 4   fecha_nacimiento   141521 non-null  datetime64[ns, UTC]\n",
      " 5   genero             113949 non-null  object             \n",
      " 6   equipo_favorito    193630 non-null  object             \n",
      " 7   telefono           1803 non-null    object             \n",
      " 8   cliente_id         286717 non-null  object             \n",
      " 9   _id_y              286777 non-null  object             \n",
      " 10  REGISTRATION_DATE  286777 non-null  datetime64[ns]     \n",
      " 11  EMAIL              286777 non-null  object             \n",
      " 12  HAS_EMAIL_VERIFY   286776 non-null  object             \n",
      " 13  _merge             286777 non-null  category           \n",
      "dtypes: category(1), datetime64[ns, UTC](1), datetime64[ns](1), object(11)\n",
      "memory usage: 30.9+ MB\n"
     ]
    }
   ],
   "source": [
    "profile.info()"
   ]
  },
  {
   "cell_type": "code",
   "execution_count": 29,
   "metadata": {},
   "outputs": [],
   "source": [
    "profile.loc[(profile['fecha_nacimiento']<'1910-01-01T04:42:46.000Z'),['fecha_nacimiento']]= np.NaN"
   ]
  },
  {
   "cell_type": "code",
   "execution_count": 30,
   "metadata": {},
   "outputs": [
    {
     "name": "stdout",
     "output_type": "stream",
     "text": [
      "<class 'pandas.core.frame.DataFrame'>\n",
      "Int64Index: 286777 entries, 0 to 286776\n",
      "Data columns (total 14 columns):\n",
      " #   Column             Non-Null Count   Dtype              \n",
      "---  ------             --------------   -----              \n",
      " 0   _id_x              286717 non-null  object             \n",
      " 1   nombre             286238 non-null  object             \n",
      " 2   apellidoPaterno    286347 non-null  object             \n",
      " 3   pais               2999 non-null    object             \n",
      " 4   fecha_nacimiento   113308 non-null  datetime64[ns, UTC]\n",
      " 5   genero             113949 non-null  object             \n",
      " 6   equipo_favorito    193630 non-null  object             \n",
      " 7   telefono           1803 non-null    object             \n",
      " 8   cliente_id         286717 non-null  object             \n",
      " 9   _id_y              286777 non-null  object             \n",
      " 10  REGISTRATION_DATE  286777 non-null  datetime64[ns]     \n",
      " 11  EMAIL              286777 non-null  object             \n",
      " 12  HAS_EMAIL_VERIFY   286776 non-null  object             \n",
      " 13  _merge             286777 non-null  category           \n",
      "dtypes: category(1), datetime64[ns, UTC](1), datetime64[ns](1), object(11)\n",
      "memory usage: 30.9+ MB\n"
     ]
    }
   ],
   "source": [
    "profile.info()"
   ]
  },
  {
   "cell_type": "code",
   "execution_count": 31,
   "metadata": {},
   "outputs": [],
   "source": [
    "profile['fecha_nacimiento'] = pd.to_datetime(profile['fecha_nacimiento'], format='%d/%m/%y %H:%M:%S').dt.strftime('%Y/%m/%d')"
   ]
  },
  {
   "cell_type": "code",
   "execution_count": 32,
   "metadata": {},
   "outputs": [
    {
     "data": {
      "text/plain": [
       "0         1940/03/06\n",
       "1         1970/09/22\n",
       "2         1973/09/08\n",
       "3         1995/10/15\n",
       "4         1972/04/06\n",
       "             ...    \n",
       "286772           NaN\n",
       "286773           NaN\n",
       "286774           NaN\n",
       "286775           NaN\n",
       "286776           NaN\n",
       "Name: fecha_nacimiento, Length: 286777, dtype: object"
      ]
     },
     "execution_count": 32,
     "metadata": {},
     "output_type": "execute_result"
    }
   ],
   "source": [
    "profile['fecha_nacimiento']"
   ]
  },
  {
   "cell_type": "markdown",
   "metadata": {},
   "source": [
    "profile['fecha_nacimiento'] = pd.to_datetime(profile['fecha_nacimiento'])"
   ]
  },
  {
   "cell_type": "code",
   "execution_count": null,
   "metadata": {},
   "outputs": [],
   "source": []
  },
  {
   "cell_type": "markdown",
   "metadata": {},
   "source": [
    "continua"
   ]
  },
  {
   "cell_type": "code",
   "execution_count": 33,
   "metadata": {},
   "outputs": [],
   "source": [
    "profile=profile.rename(columns={ \"cliente_id\": \"CUSTOMER_ID\",\"fecha_nacimiento\": \"DATE_OF_BIRTH\",\"pais\": \"COUNTRY\",\"equipo_favorito\": \"FAVORITE_TEAM\",\"nombre\": \"FIRST_NAME\",\"apellidoPaterno\":\"LAST_NAME\",\"telefono\":\"PHONE\"})"
   ]
  },
  {
   "cell_type": "code",
   "execution_count": 34,
   "metadata": {
    "scrolled": true
   },
   "outputs": [
    {
     "data": {
      "text/plain": [
       "Index(['_id_x', 'FIRST_NAME', 'LAST_NAME', 'COUNTRY', 'DATE_OF_BIRTH',\n",
       "       'genero', 'FAVORITE_TEAM', 'PHONE', 'CUSTOMER_ID', '_id_y',\n",
       "       'REGISTRATION_DATE', 'EMAIL', 'HAS_EMAIL_VERIFY', '_merge'],\n",
       "      dtype='object')"
      ]
     },
     "execution_count": 34,
     "metadata": {},
     "output_type": "execute_result"
    }
   ],
   "source": [
    "profile.columns"
   ]
  },
  {
   "cell_type": "code",
   "execution_count": 35,
   "metadata": {},
   "outputs": [],
   "source": [
    "profile=profile.drop(['_id_x', '_id_y','_merge'],axis=1)"
   ]
  },
  {
   "cell_type": "code",
   "execution_count": 36,
   "metadata": {
    "scrolled": false
   },
   "outputs": [
    {
     "data": {
      "text/plain": [
       "Index(['FIRST_NAME', 'LAST_NAME', 'COUNTRY', 'DATE_OF_BIRTH', 'genero',\n",
       "       'FAVORITE_TEAM', 'PHONE', 'CUSTOMER_ID', 'REGISTRATION_DATE', 'EMAIL',\n",
       "       'HAS_EMAIL_VERIFY'],\n",
       "      dtype='object')"
      ]
     },
     "execution_count": 36,
     "metadata": {},
     "output_type": "execute_result"
    }
   ],
   "source": [
    "profile.columns"
   ]
  },
  {
   "cell_type": "code",
   "execution_count": 37,
   "metadata": {},
   "outputs": [],
   "source": [
    "profile['cusGenderNonBinary']=profile['genero']"
   ]
  },
  {
   "cell_type": "code",
   "execution_count": 38,
   "metadata": {
    "scrolled": true
   },
   "outputs": [
    {
     "name": "stdout",
     "output_type": "stream",
     "text": [
      "<class 'pandas.core.frame.DataFrame'>\n",
      "Int64Index: 286777 entries, 0 to 286776\n",
      "Data columns (total 12 columns):\n",
      " #   Column              Non-Null Count   Dtype         \n",
      "---  ------              --------------   -----         \n",
      " 0   FIRST_NAME          286238 non-null  object        \n",
      " 1   LAST_NAME           286347 non-null  object        \n",
      " 2   COUNTRY             2999 non-null    object        \n",
      " 3   DATE_OF_BIRTH       113308 non-null  object        \n",
      " 4   genero              113949 non-null  object        \n",
      " 5   FAVORITE_TEAM       193630 non-null  object        \n",
      " 6   PHONE               1803 non-null    object        \n",
      " 7   CUSTOMER_ID         286717 non-null  object        \n",
      " 8   REGISTRATION_DATE   286777 non-null  datetime64[ns]\n",
      " 9   EMAIL               286777 non-null  object        \n",
      " 10  HAS_EMAIL_VERIFY    286776 non-null  object        \n",
      " 11  cusGenderNonBinary  113949 non-null  object        \n",
      "dtypes: datetime64[ns](1), object(11)\n",
      "memory usage: 28.4+ MB\n"
     ]
    }
   ],
   "source": [
    "profile.info()"
   ]
  },
  {
   "cell_type": "markdown",
   "metadata": {},
   "source": [
    "Eliminando los user_id nulos"
   ]
  },
  {
   "cell_type": "markdown",
   "metadata": {},
   "source": [
    "profile.drop(profile[profile.user_id.isnull()].index, inplace = True)"
   ]
  },
  {
   "cell_type": "markdown",
   "metadata": {},
   "source": [
    "Hay que transformar el sexo  para llenar el campo cusGenderNonBinary que debe ser numérico"
   ]
  },
  {
   "cell_type": "code",
   "execution_count": 39,
   "metadata": {},
   "outputs": [],
   "source": [
    "profile.loc[(profile['cusGenderNonBinary'].str.contains(\"m|M|male\", na=False)),['cusGenderNonBinary']]='male'"
   ]
  },
  {
   "cell_type": "code",
   "execution_count": 40,
   "metadata": {},
   "outputs": [],
   "source": [
    "profile.loc[(profile['cusGenderNonBinary'].str.contains(\"f|F|female\", na=False)),['cusGenderNonBinary']]='female'"
   ]
  },
  {
   "cell_type": "code",
   "execution_count": 41,
   "metadata": {},
   "outputs": [
    {
     "data": {
      "text/plain": [
       "array(['male', 'female', None, nan], dtype=object)"
      ]
     },
     "execution_count": 41,
     "metadata": {},
     "output_type": "execute_result"
    }
   ],
   "source": [
    "profile['cusGenderNonBinary'].unique()"
   ]
  },
  {
   "cell_type": "markdown",
   "metadata": {},
   "source": [
    "Hay que transformar el sexo para llenar el campo cusGenderNonBinary que debe ser numérico"
   ]
  },
  {
   "cell_type": "code",
   "execution_count": 42,
   "metadata": {},
   "outputs": [],
   "source": [
    "profile.loc[(profile['genero'].str.contains(\"m|M|male\", na=False)),['genero']]='M'"
   ]
  },
  {
   "cell_type": "code",
   "execution_count": 43,
   "metadata": {},
   "outputs": [],
   "source": [
    "profile.loc[(profile['genero'].str.contains(\"f|F|female\", na=False)),['genero']]='F'"
   ]
  },
  {
   "cell_type": "code",
   "execution_count": 44,
   "metadata": {},
   "outputs": [],
   "source": [
    "profile.loc[(profile['genero'].str.contains(\"None|nan\", na=False)),['genero']]=''"
   ]
  },
  {
   "cell_type": "code",
   "execution_count": 45,
   "metadata": {},
   "outputs": [
    {
     "data": {
      "text/plain": [
       "array(['M', 'F', None, nan], dtype=object)"
      ]
     },
     "execution_count": 45,
     "metadata": {},
     "output_type": "execute_result"
    }
   ],
   "source": [
    "profile['genero'].unique()"
   ]
  },
  {
   "cell_type": "code",
   "execution_count": null,
   "metadata": {},
   "outputs": [],
   "source": []
  },
  {
   "cell_type": "code",
   "execution_count": 46,
   "metadata": {
    "scrolled": true
   },
   "outputs": [
    {
     "name": "stdout",
     "output_type": "stream",
     "text": [
      "<class 'pandas.core.frame.DataFrame'>\n",
      "Int64Index: 286777 entries, 0 to 286776\n",
      "Data columns (total 12 columns):\n",
      " #   Column              Non-Null Count   Dtype         \n",
      "---  ------              --------------   -----         \n",
      " 0   FIRST_NAME          286238 non-null  object        \n",
      " 1   LAST_NAME           286347 non-null  object        \n",
      " 2   COUNTRY             2999 non-null    object        \n",
      " 3   DATE_OF_BIRTH       113308 non-null  object        \n",
      " 4   genero              113949 non-null  object        \n",
      " 5   FAVORITE_TEAM       193630 non-null  object        \n",
      " 6   PHONE               1803 non-null    object        \n",
      " 7   CUSTOMER_ID         286717 non-null  object        \n",
      " 8   REGISTRATION_DATE   286777 non-null  datetime64[ns]\n",
      " 9   EMAIL               286777 non-null  object        \n",
      " 10  HAS_EMAIL_VERIFY    286776 non-null  object        \n",
      " 11  cusGenderNonBinary  113949 non-null  object        \n",
      "dtypes: datetime64[ns](1), object(11)\n",
      "memory usage: 28.4+ MB\n"
     ]
    }
   ],
   "source": [
    "profile.info()"
   ]
  },
  {
   "cell_type": "code",
   "execution_count": 47,
   "metadata": {},
   "outputs": [],
   "source": [
    "profile=profile.rename(columns={ 'genero':'GENDER','cusGenderNonBinary':'GENDER_NB'})"
   ]
  },
  {
   "cell_type": "code",
   "execution_count": 48,
   "metadata": {
    "scrolled": false
   },
   "outputs": [
    {
     "data": {
      "text/plain": [
       "Index(['FIRST_NAME', 'LAST_NAME', 'COUNTRY', 'DATE_OF_BIRTH', 'GENDER',\n",
       "       'FAVORITE_TEAM', 'PHONE', 'CUSTOMER_ID', 'REGISTRATION_DATE', 'EMAIL',\n",
       "       'HAS_EMAIL_VERIFY', 'GENDER_NB'],\n",
       "      dtype='object')"
      ]
     },
     "execution_count": 48,
     "metadata": {},
     "output_type": "execute_result"
    }
   ],
   "source": [
    "profile.columns"
   ]
  },
  {
   "cell_type": "code",
   "execution_count": null,
   "metadata": {},
   "outputs": [],
   "source": []
  },
  {
   "cell_type": "code",
   "execution_count": 49,
   "metadata": {},
   "outputs": [],
   "source": [
    "profile = profile[['CUSTOMER_ID','COUNTRY','DATE_OF_BIRTH','EMAIL','FAVORITE_TEAM','FIRST_NAME','LAST_NAME','GENDER','GENDER_NB','PHONE','REGISTRATION_DATE','HAS_EMAIL_VERIFY']]"
   ]
  },
  {
   "cell_type": "code",
   "execution_count": 50,
   "metadata": {},
   "outputs": [],
   "source": [
    "profile['CUSTOMER_ID'] = profile['CUSTOMER_ID']"
   ]
  },
  {
   "cell_type": "code",
   "execution_count": 51,
   "metadata": {},
   "outputs": [],
   "source": [
    "profile['COUNTRY'] =profile['COUNTRY'] "
   ]
  },
  {
   "cell_type": "code",
   "execution_count": 52,
   "metadata": {},
   "outputs": [],
   "source": [
    "profile['FAVORITE_TEAM'] = profile['FAVORITE_TEAM']"
   ]
  },
  {
   "cell_type": "code",
   "execution_count": 53,
   "metadata": {},
   "outputs": [],
   "source": [
    "profile['FIRST_NAME'] =profile['FIRST_NAME'] "
   ]
  },
  {
   "cell_type": "code",
   "execution_count": 54,
   "metadata": {},
   "outputs": [],
   "source": [
    "profile['LAST_NAME'] = profile['LAST_NAME']"
   ]
  },
  {
   "cell_type": "code",
   "execution_count": 55,
   "metadata": {},
   "outputs": [],
   "source": [
    "profile['GENDER'] = profile['GENDER'] "
   ]
  },
  {
   "cell_type": "code",
   "execution_count": 56,
   "metadata": {},
   "outputs": [],
   "source": [
    "profile['GENDER_NB'] = profile['GENDER_NB']"
   ]
  },
  {
   "cell_type": "code",
   "execution_count": 57,
   "metadata": {},
   "outputs": [],
   "source": [
    "profile['EMAIL'] = profile['EMAIL']"
   ]
  },
  {
   "cell_type": "code",
   "execution_count": 58,
   "metadata": {},
   "outputs": [],
   "source": [
    "profile['REGISTRATION_DATE']=pd.to_datetime(profile['REGISTRATION_DATE'], format='%d/%m/%y %H:%M:%S').dt.strftime('%Y/%m/%d %H:%M:%S')"
   ]
  },
  {
   "cell_type": "markdown",
   "metadata": {},
   "source": [
    "profile['REGISTRATION_DATE']=profile['REGISTRATION_DATE'].apply(str)"
   ]
  },
  {
   "cell_type": "code",
   "execution_count": 59,
   "metadata": {},
   "outputs": [
    {
     "data": {
      "text/plain": [
       "0         2017/01/01 01:32:15\n",
       "1         2017/01/01 13:43:58\n",
       "2         2017/01/01 15:30:53\n",
       "3         2017/01/01 16:35:54\n",
       "4         2017/01/01 16:45:30\n",
       "                 ...         \n",
       "286772    2020/02/04 23:07:09\n",
       "286773    2020/02/04 23:07:06\n",
       "286774    2020/02/04 23:07:07\n",
       "286775    2020/02/04 23:07:07\n",
       "286776    2020/03/27 13:19:38\n",
       "Name: REGISTRATION_DATE, Length: 286777, dtype: object"
      ]
     },
     "execution_count": 59,
     "metadata": {},
     "output_type": "execute_result"
    }
   ],
   "source": [
    "profile['REGISTRATION_DATE']"
   ]
  },
  {
   "cell_type": "code",
   "execution_count": null,
   "metadata": {},
   "outputs": [],
   "source": []
  },
  {
   "cell_type": "markdown",
   "metadata": {},
   "source": [
    "profile['REGISTRATION_DATE'] =profile.REGISTRATION_DATE.astype('datetime64[s]')"
   ]
  },
  {
   "cell_type": "markdown",
   "metadata": {},
   "source": [
    "profile['REGISTRATION_DATE']=profile['REGISTRATION_DATE'] .map(lambda x: str(x)[:19])"
   ]
  },
  {
   "cell_type": "code",
   "execution_count": 60,
   "metadata": {},
   "outputs": [
    {
     "name": "stdout",
     "output_type": "stream",
     "text": [
      "<class 'pandas.core.frame.DataFrame'>\n",
      "Int64Index: 286777 entries, 0 to 286776\n",
      "Data columns (total 12 columns):\n",
      " #   Column             Non-Null Count   Dtype \n",
      "---  ------             --------------   ----- \n",
      " 0   CUSTOMER_ID        286717 non-null  object\n",
      " 1   COUNTRY            2999 non-null    object\n",
      " 2   DATE_OF_BIRTH      113308 non-null  object\n",
      " 3   EMAIL              286777 non-null  object\n",
      " 4   FAVORITE_TEAM      193630 non-null  object\n",
      " 5   FIRST_NAME         286238 non-null  object\n",
      " 6   LAST_NAME          286347 non-null  object\n",
      " 7   GENDER             113949 non-null  object\n",
      " 8   GENDER_NB          113949 non-null  object\n",
      " 9   PHONE              1803 non-null    object\n",
      " 10  REGISTRATION_DATE  286777 non-null  object\n",
      " 11  HAS_EMAIL_VERIFY   286776 non-null  object\n",
      "dtypes: object(12)\n",
      "memory usage: 28.4+ MB\n"
     ]
    }
   ],
   "source": [
    "profile.info()"
   ]
  },
  {
   "cell_type": "code",
   "execution_count": 61,
   "metadata": {},
   "outputs": [
    {
     "data": {
      "text/plain": [
       "datetime.datetime(2020, 4, 24, 10, 31, 24, 16642)"
      ]
     },
     "execution_count": 61,
     "metadata": {},
     "output_type": "execute_result"
    }
   ],
   "source": [
    "import datetime\n",
    "datetime.datetime.today()"
   ]
  },
  {
   "cell_type": "markdown",
   "metadata": {},
   "source": [
    " #### Ahora vamos a determinar el nombre y el path"
   ]
  },
  {
   "cell_type": "code",
   "execution_count": 62,
   "metadata": {},
   "outputs": [],
   "source": [
    "name='cdf_profile_'+datetime.datetime.today().strftime('%Y%m%d_%H%M%S')"
   ]
  },
  {
   "cell_type": "code",
   "execution_count": 63,
   "metadata": {},
   "outputs": [],
   "source": [
    "path='/home/tecnoboy/'+name+'.csv'"
   ]
  },
  {
   "cell_type": "markdown",
   "metadata": {},
   "source": [
    "profile.to_csv(path, index=False, quotechar='\"', fieldnames=CUSTOMER_ID)"
   ]
  },
  {
   "cell_type": "markdown",
   "metadata": {},
   "source": [
    "profile.to_csv(path, index=False, quoting=csv.QUOTE_ALL)"
   ]
  },
  {
   "cell_type": "markdown",
   "metadata": {},
   "source": [
    "profile.to_csv(path, index=False, quoting=csv.QUOTE_NONNUMERIC)"
   ]
  },
  {
   "cell_type": "markdown",
   "metadata": {},
   "source": [
    ",quotechar='\"'"
   ]
  },
  {
   "cell_type": "code",
   "execution_count": 64,
   "metadata": {},
   "outputs": [],
   "source": [
    "profile.to_csv(path, index=False, quoting=csv.QUOTE_NONNUMERIC)"
   ]
  },
  {
   "cell_type": "code",
   "execution_count": null,
   "metadata": {},
   "outputs": [],
   "source": []
  }
 ],
 "metadata": {
  "kernelspec": {
   "display_name": "Python 3",
   "language": "python",
   "name": "python3"
  },
  "language_info": {
   "codemirror_mode": {
    "name": "ipython",
    "version": 3
   },
   "file_extension": ".py",
   "mimetype": "text/x-python",
   "name": "python",
   "nbconvert_exporter": "python",
   "pygments_lexer": "ipython3",
   "version": "3.6.9"
  }
 },
 "nbformat": 4,
 "nbformat_minor": 2
}
