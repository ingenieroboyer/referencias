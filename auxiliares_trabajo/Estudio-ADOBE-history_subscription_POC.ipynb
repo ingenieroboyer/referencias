{
 "cells": [
  {
   "cell_type": "markdown",
   "metadata": {},
   "source": [
    "## Data Driver ADOBE"
   ]
  },
  {
   "cell_type": "markdown",
   "metadata": {},
   "source": [
    "## History-subscription"
   ]
  },
  {
   "cell_type": "code",
   "execution_count": 1,
   "metadata": {},
   "outputs": [],
   "source": [
    "import pandas as pd\n",
    "from pymongo import MongoClient\n",
    "import pymongo\n",
    "from datetime import datetime, timedelta\n",
    "import numpy as np\n",
    "\n",
    "import csv"
   ]
  },
  {
   "cell_type": "code",
   "execution_count": null,
   "metadata": {},
   "outputs": [],
   "source": [
    "\n"
   ]
  },
  {
   "cell_type": "code",
   "execution_count": 2,
   "metadata": {
    "scrolled": true
   },
   "outputs": [],
   "source": [
    "feh=datetime(2017,1,1,0,0,0)"
   ]
  },
  {
   "cell_type": "code",
   "execution_count": 3,
   "metadata": {},
   "outputs": [],
   "source": [
    "myclient = pymongo.MongoClient(\"mongodb://localhost:27017/\")\n",
    "mydb = myclient[\"ecdf\"]"
   ]
  },
  {
   "cell_type": "code",
   "execution_count": 4,
   "metadata": {},
   "outputs": [],
   "source": [
    "mycol_cupAsig = mydb[\"cuponesasignados\"]"
   ]
  },
  {
   "cell_type": "code",
   "execution_count": 5,
   "metadata": {},
   "outputs": [],
   "source": [
    "def cuponesAsignadosdataframes(iterator, chunk_size: int):\n",
    "  \"\"\"Turn an iterator into multiple small pandas.DataFrame\n",
    "  This is a balance between memory and efficiency\n",
    "  \"\"\"\n",
    "  records = []\n",
    "  frames = []\n",
    "  for i, record in enumerate(iterator):\n",
    "    records.append(record)\n",
    "    if i % chunk_size == chunk_size - 1:\n",
    "      frames.append(pd.DataFrame(records))\n",
    "      records = []\n",
    "  if records:\n",
    "    frames.append(pd.DataFrame(records))\n",
    "  return pd.concat(frames) if frames else pd.DataFrame()\n",
    "  \n",
    "cuponesAsignados = cuponesAsignadosdataframes(mycol_cupAsig.find({},{'_id':1,'fecha_fin':1,'fecha_activacion':1,'user_id_asignado':1,'createdAt':1 ,'producto_id':1,}), 10000)\n"
   ]
  },
  {
   "cell_type": "code",
   "execution_count": 6,
   "metadata": {
    "scrolled": false
   },
   "outputs": [
    {
     "name": "stdout",
     "output_type": "stream",
     "text": [
      "<class 'pandas.core.frame.DataFrame'>\n",
      "Int64Index: 13179 entries, 0 to 3178\n",
      "Data columns (total 6 columns):\n",
      " #   Column            Non-Null Count  Dtype         \n",
      "---  ------            --------------  -----         \n",
      " 0   _id               13179 non-null  object        \n",
      " 1   createdAt         13179 non-null  datetime64[ns]\n",
      " 2   user_id_asignado  13179 non-null  object        \n",
      " 3   producto_id       13179 non-null  object        \n",
      " 4   fecha_activacion  13179 non-null  datetime64[ns]\n",
      " 5   fecha_fin         13179 non-null  datetime64[ns]\n",
      "dtypes: datetime64[ns](3), object(3)\n",
      "memory usage: 720.7+ KB\n"
     ]
    }
   ],
   "source": [
    "cuponesAsignados.info()\n"
   ]
  },
  {
   "cell_type": "code",
   "execution_count": null,
   "metadata": {},
   "outputs": [],
   "source": []
  },
  {
   "cell_type": "code",
   "execution_count": null,
   "metadata": {},
   "outputs": [],
   "source": []
  },
  {
   "cell_type": "code",
   "execution_count": null,
   "metadata": {},
   "outputs": [],
   "source": []
  },
  {
   "cell_type": "code",
   "execution_count": null,
   "metadata": {},
   "outputs": [],
   "source": []
  },
  {
   "cell_type": "code",
   "execution_count": null,
   "metadata": {},
   "outputs": [],
   "source": []
  },
  {
   "cell_type": "code",
   "execution_count": null,
   "metadata": {},
   "outputs": [],
   "source": []
  },
  {
   "cell_type": "code",
   "execution_count": null,
   "metadata": {},
   "outputs": [],
   "source": []
  },
  {
   "cell_type": "code",
   "execution_count": null,
   "metadata": {},
   "outputs": [],
   "source": []
  },
  {
   "cell_type": "code",
   "execution_count": null,
   "metadata": {},
   "outputs": [],
   "source": []
  },
  {
   "cell_type": "markdown",
   "metadata": {},
   "source": [
    "## Ahora vamos a transbank y a paypal"
   ]
  },
  {
   "cell_type": "code",
   "execution_count": 7,
   "metadata": {},
   "outputs": [],
   "source": [
    "mycol_transAsig = mydb[\"transbankfinalizaregistros\"]"
   ]
  },
  {
   "cell_type": "code",
   "execution_count": 8,
   "metadata": {},
   "outputs": [],
   "source": [
    "def transAsigframes(iterator, chunk_size: int):\n",
    "  \"\"\"Turn an iterator into multiple small pandas.DataFrame\n",
    "  This is a balance between memory and efficiency\n",
    "  \"\"\"\n",
    "  records = []\n",
    "  frames = []\n",
    "  for i, record in enumerate(iterator):\n",
    "    records.append(record)\n",
    "    if i % chunk_size == chunk_size - 1:\n",
    "      frames.append(pd.DataFrame(records))\n",
    "      records = []\n",
    "  if records:\n",
    "    frames.append(pd.DataFrame(records))\n",
    "  return pd.concat(frames) if frames else pd.DataFrame()\n",
    "  \n",
    "transbank = transAsigframes(mycol_transAsig.find({},{'_id':1,'createdAt':1,'user_id':1}), 10000)\n"
   ]
  },
  {
   "cell_type": "code",
   "execution_count": 9,
   "metadata": {},
   "outputs": [
    {
     "name": "stdout",
     "output_type": "stream",
     "text": [
      "<class 'pandas.core.frame.DataFrame'>\n",
      "Int64Index: 135371 entries, 0 to 5370\n",
      "Data columns (total 3 columns):\n",
      " #   Column     Non-Null Count   Dtype         \n",
      "---  ------     --------------   -----         \n",
      " 0   _id        135371 non-null  object        \n",
      " 1   createdAt  135371 non-null  datetime64[ns]\n",
      " 2   user_id    135371 non-null  object        \n",
      "dtypes: datetime64[ns](1), object(2)\n",
      "memory usage: 4.1+ MB\n"
     ]
    }
   ],
   "source": [
    "transbank.info()"
   ]
  },
  {
   "cell_type": "code",
   "execution_count": null,
   "metadata": {},
   "outputs": [],
   "source": []
  },
  {
   "cell_type": "code",
   "execution_count": 10,
   "metadata": {},
   "outputs": [],
   "source": [
    "mycol_paypalAsig= mydb[\"acuerdospaypals\"]"
   ]
  },
  {
   "cell_type": "code",
   "execution_count": 11,
   "metadata": {},
   "outputs": [],
   "source": [
    "def paypalAsigframes(iterator, chunk_size: int):\n",
    "  \"\"\"Turn an iterator into multiple small pandas.DataFrame\n",
    "  This is a balance between memory and efficiency\n",
    "  \"\"\"\n",
    "  records = []\n",
    "  frames = []\n",
    "  for i, record in enumerate(iterator):\n",
    "    records.append(record)\n",
    "    if i % chunk_size == chunk_size - 1:\n",
    "      frames.append(pd.DataFrame(records))\n",
    "      records = []\n",
    "  if records:\n",
    "    frames.append(pd.DataFrame(records))\n",
    "  return pd.concat(frames) if frames else pd.DataFrame()\n",
    "  \n",
    "paypal = paypalAsigframes(mycol_paypalAsig.find({},{'_id':1,'createdAt':1,'user_id':1}), 10000)"
   ]
  },
  {
   "cell_type": "code",
   "execution_count": 12,
   "metadata": {
    "scrolled": true
   },
   "outputs": [
    {
     "name": "stdout",
     "output_type": "stream",
     "text": [
      "<class 'pandas.core.frame.DataFrame'>\n",
      "Int64Index: 31700 entries, 0 to 1699\n",
      "Data columns (total 3 columns):\n",
      " #   Column     Non-Null Count  Dtype         \n",
      "---  ------     --------------  -----         \n",
      " 0   _id        31700 non-null  object        \n",
      " 1   createdAt  31700 non-null  datetime64[ns]\n",
      " 2   user_id    31700 non-null  object        \n",
      "dtypes: datetime64[ns](1), object(2)\n",
      "memory usage: 990.6+ KB\n"
     ]
    }
   ],
   "source": [
    "paypal.info()"
   ]
  },
  {
   "cell_type": "code",
   "execution_count": null,
   "metadata": {},
   "outputs": [],
   "source": []
  },
  {
   "cell_type": "code",
   "execution_count": 13,
   "metadata": {},
   "outputs": [
    {
     "data": {
      "text/html": [
       "<div>\n",
       "<style scoped>\n",
       "    .dataframe tbody tr th:only-of-type {\n",
       "        vertical-align: middle;\n",
       "    }\n",
       "\n",
       "    .dataframe tbody tr th {\n",
       "        vertical-align: top;\n",
       "    }\n",
       "\n",
       "    .dataframe thead th {\n",
       "        text-align: right;\n",
       "    }\n",
       "</style>\n",
       "<table border=\"1\" class=\"dataframe\">\n",
       "  <thead>\n",
       "    <tr style=\"text-align: right;\">\n",
       "      <th></th>\n",
       "      <th>_id</th>\n",
       "      <th>createdAt</th>\n",
       "      <th>user_id</th>\n",
       "    </tr>\n",
       "  </thead>\n",
       "  <tbody>\n",
       "    <tr>\n",
       "      <th>0</th>\n",
       "      <td>5864370c544d345616c76544</td>\n",
       "      <td>2016-12-28 22:05:00.148</td>\n",
       "      <td>5862bd920462ca40dacdfd4d</td>\n",
       "    </tr>\n",
       "    <tr>\n",
       "      <th>1</th>\n",
       "      <td>5865c44b815f266928302e84</td>\n",
       "      <td>2016-12-30 02:19:55.686</td>\n",
       "      <td>572dfd1e2d49f4de08c83e55</td>\n",
       "    </tr>\n",
       "    <tr>\n",
       "      <th>2</th>\n",
       "      <td>586697ca3c27ec7219b7aaaf</td>\n",
       "      <td>2016-12-30 17:22:18.836</td>\n",
       "      <td>586696cd3c27ec7219b7aaad</td>\n",
       "    </tr>\n",
       "    <tr>\n",
       "      <th>3</th>\n",
       "      <td>5866993e3c27ec7219b7aab0</td>\n",
       "      <td>2016-12-30 17:28:30.720</td>\n",
       "      <td>586696cd3c27ec7219b7aaad</td>\n",
       "    </tr>\n",
       "    <tr>\n",
       "      <th>4</th>\n",
       "      <td>58669b233c27ec7219b7aab1</td>\n",
       "      <td>2016-12-30 17:36:35.594</td>\n",
       "      <td>586696cd3c27ec7219b7aaad</td>\n",
       "    </tr>\n",
       "    <tr>\n",
       "      <th>...</th>\n",
       "      <td>...</td>\n",
       "      <td>...</td>\n",
       "      <td>...</td>\n",
       "    </tr>\n",
       "    <tr>\n",
       "      <th>1695</th>\n",
       "      <td>5e9e4364e041830f015fcc43</td>\n",
       "      <td>2020-04-21 00:50:44.231</td>\n",
       "      <td>5d7c1d900f44ab0d2663c71a</td>\n",
       "    </tr>\n",
       "    <tr>\n",
       "      <th>1696</th>\n",
       "      <td>5e9e45a37824a30ef107772e</td>\n",
       "      <td>2020-04-21 01:00:19.002</td>\n",
       "      <td>5e938a59a4371678314e357b</td>\n",
       "    </tr>\n",
       "    <tr>\n",
       "      <th>1697</th>\n",
       "      <td>5e9fa30ef1106b0f0744fcb8</td>\n",
       "      <td>2020-04-22 01:51:10.252</td>\n",
       "      <td>56385862381766175160870b</td>\n",
       "    </tr>\n",
       "    <tr>\n",
       "      <th>1698</th>\n",
       "      <td>5ea0b342f1106b0f0744fd30</td>\n",
       "      <td>2020-04-22 21:12:34.015</td>\n",
       "      <td>5ea0b295a796be1213975b03</td>\n",
       "    </tr>\n",
       "    <tr>\n",
       "      <th>1699</th>\n",
       "      <td>5ea1ac25fd93571f6a4590fe</td>\n",
       "      <td>2020-04-23 14:54:29.636</td>\n",
       "      <td>5b678932257b8a442b642c18</td>\n",
       "    </tr>\n",
       "  </tbody>\n",
       "</table>\n",
       "<p>31700 rows × 3 columns</p>\n",
       "</div>"
      ],
      "text/plain": [
       "                           _id               createdAt  \\\n",
       "0     5864370c544d345616c76544 2016-12-28 22:05:00.148   \n",
       "1     5865c44b815f266928302e84 2016-12-30 02:19:55.686   \n",
       "2     586697ca3c27ec7219b7aaaf 2016-12-30 17:22:18.836   \n",
       "3     5866993e3c27ec7219b7aab0 2016-12-30 17:28:30.720   \n",
       "4     58669b233c27ec7219b7aab1 2016-12-30 17:36:35.594   \n",
       "...                        ...                     ...   \n",
       "1695  5e9e4364e041830f015fcc43 2020-04-21 00:50:44.231   \n",
       "1696  5e9e45a37824a30ef107772e 2020-04-21 01:00:19.002   \n",
       "1697  5e9fa30ef1106b0f0744fcb8 2020-04-22 01:51:10.252   \n",
       "1698  5ea0b342f1106b0f0744fd30 2020-04-22 21:12:34.015   \n",
       "1699  5ea1ac25fd93571f6a4590fe 2020-04-23 14:54:29.636   \n",
       "\n",
       "                       user_id  \n",
       "0     5862bd920462ca40dacdfd4d  \n",
       "1     572dfd1e2d49f4de08c83e55  \n",
       "2     586696cd3c27ec7219b7aaad  \n",
       "3     586696cd3c27ec7219b7aaad  \n",
       "4     586696cd3c27ec7219b7aaad  \n",
       "...                        ...  \n",
       "1695  5d7c1d900f44ab0d2663c71a  \n",
       "1696  5e938a59a4371678314e357b  \n",
       "1697  56385862381766175160870b  \n",
       "1698  5ea0b295a796be1213975b03  \n",
       "1699  5b678932257b8a442b642c18  \n",
       "\n",
       "[31700 rows x 3 columns]"
      ]
     },
     "execution_count": 13,
     "metadata": {},
     "output_type": "execute_result"
    }
   ],
   "source": [
    "paypal"
   ]
  },
  {
   "cell_type": "code",
   "execution_count": 14,
   "metadata": {},
   "outputs": [],
   "source": [
    "mycol_users = mydb[\"users\"]\n",
    "def userframes(iterator, chunk_size: int):\n",
    "  \"\"\"Turn an iterator into multiple small pandas.DataFrame\n",
    "  This is a balance between memory and efficiency\n",
    "  \"\"\"\n",
    "  records = []\n",
    "  frames = []\n",
    "  for i, record in enumerate(iterator):\n",
    "    records.append(record)\n",
    "    if i % chunk_size == chunk_size - 1:\n",
    "      frames.append(pd.DataFrame(records))\n",
    "      records = []\n",
    "  if records:\n",
    "    frames.append(pd.DataFrame(records))\n",
    "  return pd.concat(frames) if frames else pd.DataFrame()\n",
    "  \n",
    "users = userframes(mycol_users.find({},{'_id':1,'email':1,'cliente_id':1,'createdAt':1}), 10000)\n"
   ]
  },
  {
   "cell_type": "code",
   "execution_count": null,
   "metadata": {},
   "outputs": [],
   "source": []
  },
  {
   "cell_type": "code",
   "execution_count": 15,
   "metadata": {},
   "outputs": [],
   "source": [
    "userData=users"
   ]
  },
  {
   "cell_type": "code",
   "execution_count": 16,
   "metadata": {},
   "outputs": [],
   "source": [
    "userData['id']=userData._id.astype(str)"
   ]
  },
  {
   "cell_type": "code",
   "execution_count": 17,
   "metadata": {
    "scrolled": false
   },
   "outputs": [
    {
     "name": "stdout",
     "output_type": "stream",
     "text": [
      "<class 'pandas.core.frame.DataFrame'>\n",
      "Int64Index: 434819 entries, 0 to 4818\n",
      "Data columns (total 5 columns):\n",
      " #   Column      Non-Null Count   Dtype         \n",
      "---  ------      --------------   -----         \n",
      " 0   _id         434819 non-null  object        \n",
      " 1   createdAt   434818 non-null  datetime64[ns]\n",
      " 2   cliente_id  434759 non-null  object        \n",
      " 3   email       434819 non-null  object        \n",
      " 4   id          434819 non-null  object        \n",
      "dtypes: datetime64[ns](1), object(4)\n",
      "memory usage: 19.9+ MB\n"
     ]
    }
   ],
   "source": [
    "userData.info()"
   ]
  },
  {
   "cell_type": "code",
   "execution_count": 18,
   "metadata": {},
   "outputs": [],
   "source": [
    "paypal=paypal.rename(columns={ \"id\":\"COUPON_CODE\"})"
   ]
  },
  {
   "cell_type": "code",
   "execution_count": 19,
   "metadata": {
    "scrolled": true
   },
   "outputs": [
    {
     "name": "stdout",
     "output_type": "stream",
     "text": [
      "<class 'pandas.core.frame.DataFrame'>\n",
      "Int64Index: 31700 entries, 0 to 1699\n",
      "Data columns (total 3 columns):\n",
      " #   Column     Non-Null Count  Dtype         \n",
      "---  ------     --------------  -----         \n",
      " 0   _id        31700 non-null  object        \n",
      " 1   createdAt  31700 non-null  datetime64[ns]\n",
      " 2   user_id    31700 non-null  object        \n",
      "dtypes: datetime64[ns](1), object(2)\n",
      "memory usage: 990.6+ KB\n"
     ]
    }
   ],
   "source": [
    "paypal.info()"
   ]
  },
  {
   "cell_type": "markdown",
   "metadata": {},
   "source": [
    "#### Ahora hay que traer el cruzar para convertir user_id a Cliente_id"
   ]
  },
  {
   "cell_type": "code",
   "execution_count": 20,
   "metadata": {},
   "outputs": [],
   "source": [
    "user_Paypal=userData.merge(paypal, right_on='user_id',left_on='id',how='left')"
   ]
  },
  {
   "cell_type": "code",
   "execution_count": 21,
   "metadata": {
    "scrolled": false
   },
   "outputs": [
    {
     "name": "stdout",
     "output_type": "stream",
     "text": [
      "<class 'pandas.core.frame.DataFrame'>\n",
      "Int64Index: 453864 entries, 0 to 453863\n",
      "Data columns (total 8 columns):\n",
      " #   Column       Non-Null Count   Dtype         \n",
      "---  ------       --------------   -----         \n",
      " 0   _id_x        453864 non-null  object        \n",
      " 1   createdAt_x  453863 non-null  datetime64[ns]\n",
      " 2   cliente_id   453804 non-null  object        \n",
      " 3   email        453864 non-null  object        \n",
      " 4   id           453864 non-null  object        \n",
      " 5   _id_y        31695 non-null   object        \n",
      " 6   createdAt_y  31695 non-null   datetime64[ns]\n",
      " 7   user_id      31695 non-null   object        \n",
      "dtypes: datetime64[ns](2), object(6)\n",
      "memory usage: 31.2+ MB\n"
     ]
    }
   ],
   "source": [
    "user_Paypal.info()"
   ]
  },
  {
   "cell_type": "code",
   "execution_count": 22,
   "metadata": {},
   "outputs": [],
   "source": [
    "user_Paypal = user_Paypal.dropna(axis=0, subset=['user_id'])"
   ]
  },
  {
   "cell_type": "code",
   "execution_count": 23,
   "metadata": {},
   "outputs": [],
   "source": [
    "user_Paypal=user_Paypal.rename(columns={ \"_id_x\":\"CUSTOMER_ID\",\"_id_y\":\"SUBSCRIPTION_CODE\"})"
   ]
  },
  {
   "cell_type": "code",
   "execution_count": 24,
   "metadata": {},
   "outputs": [
    {
     "data": {
      "text/plain": [
       "Index(['CUSTOMER_ID', 'createdAt_x', 'cliente_id', 'email', 'id',\n",
       "       'SUBSCRIPTION_CODE', 'createdAt_y', 'user_id'],\n",
       "      dtype='object')"
      ]
     },
     "execution_count": 24,
     "metadata": {},
     "output_type": "execute_result"
    }
   ],
   "source": [
    "user_Paypal.columns"
   ]
  },
  {
   "cell_type": "code",
   "execution_count": 25,
   "metadata": {},
   "outputs": [],
   "source": [
    "user_Paypal=user_Paypal.drop(['createdAt_x','createdAt_y', 'cliente_id', 'email', 'id', \n",
    "       'user_id'],axis=1)"
   ]
  },
  {
   "cell_type": "code",
   "execution_count": 26,
   "metadata": {
    "scrolled": true
   },
   "outputs": [
    {
     "name": "stdout",
     "output_type": "stream",
     "text": [
      "<class 'pandas.core.frame.DataFrame'>\n",
      "Int64Index: 31695 entries, 83 to 453801\n",
      "Data columns (total 2 columns):\n",
      " #   Column             Non-Null Count  Dtype \n",
      "---  ------             --------------  ----- \n",
      " 0   CUSTOMER_ID        31695 non-null  object\n",
      " 1   SUBSCRIPTION_CODE  31695 non-null  object\n",
      "dtypes: object(2)\n",
      "memory usage: 742.9+ KB\n"
     ]
    }
   ],
   "source": [
    "user_Paypal.info()"
   ]
  },
  {
   "cell_type": "code",
   "execution_count": 27,
   "metadata": {},
   "outputs": [],
   "source": [
    "user_Paypal['GATEWAY']='paypal'"
   ]
  },
  {
   "cell_type": "code",
   "execution_count": null,
   "metadata": {},
   "outputs": [],
   "source": []
  },
  {
   "cell_type": "markdown",
   "metadata": {},
   "source": [
    "## CLASIFICACIÓN DE LOS CUPONES"
   ]
  },
  {
   "cell_type": "code",
   "execution_count": 28,
   "metadata": {
    "scrolled": false
   },
   "outputs": [
    {
     "name": "stdout",
     "output_type": "stream",
     "text": [
      "<class 'pandas.core.frame.DataFrame'>\n",
      "Int64Index: 13179 entries, 0 to 3178\n",
      "Data columns (total 6 columns):\n",
      " #   Column            Non-Null Count  Dtype         \n",
      "---  ------            --------------  -----         \n",
      " 0   _id               13179 non-null  object        \n",
      " 1   createdAt         13179 non-null  datetime64[ns]\n",
      " 2   user_id_asignado  13179 non-null  object        \n",
      " 3   producto_id       13179 non-null  object        \n",
      " 4   fecha_activacion  13179 non-null  datetime64[ns]\n",
      " 5   fecha_fin         13179 non-null  datetime64[ns]\n",
      "dtypes: datetime64[ns](3), object(3)\n",
      "memory usage: 720.7+ KB\n"
     ]
    }
   ],
   "source": [
    "cuponesAsignados.info()"
   ]
  },
  {
   "cell_type": "code",
   "execution_count": 29,
   "metadata": {},
   "outputs": [],
   "source": [
    "cuponesAsignados=cuponesAsignados.rename(columns={ \"fecha_activacion\":\"START_DATE\",\"_id\":\"SUBSCRIPTION_CODE\"})"
   ]
  },
  {
   "cell_type": "code",
   "execution_count": 30,
   "metadata": {},
   "outputs": [],
   "source": [
    "cuponesAsignados['user_id']=cuponesAsignados.user_id_asignado.astype(str)"
   ]
  },
  {
   "cell_type": "code",
   "execution_count": 31,
   "metadata": {},
   "outputs": [],
   "source": [
    "userData['user_id_asignado']=userData._id.astype(str)"
   ]
  },
  {
   "cell_type": "code",
   "execution_count": 32,
   "metadata": {},
   "outputs": [],
   "source": [
    "user_Cupones=userData.merge(cuponesAsignados, right_on='user_id',left_on='id',how='right')"
   ]
  },
  {
   "cell_type": "code",
   "execution_count": 33,
   "metadata": {
    "scrolled": false
   },
   "outputs": [
    {
     "name": "stdout",
     "output_type": "stream",
     "text": [
      "<class 'pandas.core.frame.DataFrame'>\n",
      "Int64Index: 13179 entries, 0 to 13178\n",
      "Data columns (total 13 columns):\n",
      " #   Column              Non-Null Count  Dtype         \n",
      "---  ------              --------------  -----         \n",
      " 0   _id                 13172 non-null  object        \n",
      " 1   createdAt_x         13172 non-null  datetime64[ns]\n",
      " 2   cliente_id          13172 non-null  object        \n",
      " 3   email               13172 non-null  object        \n",
      " 4   id                  13172 non-null  object        \n",
      " 5   user_id_asignado_x  13172 non-null  object        \n",
      " 6   SUBSCRIPTION_CODE   13179 non-null  object        \n",
      " 7   createdAt_y         13179 non-null  datetime64[ns]\n",
      " 8   user_id_asignado_y  13179 non-null  object        \n",
      " 9   producto_id         13179 non-null  object        \n",
      " 10  START_DATE          13179 non-null  datetime64[ns]\n",
      " 11  fecha_fin           13179 non-null  datetime64[ns]\n",
      " 12  user_id             13179 non-null  object        \n",
      "dtypes: datetime64[ns](4), object(9)\n",
      "memory usage: 1.4+ MB\n"
     ]
    }
   ],
   "source": [
    "user_Cupones.info()"
   ]
  },
  {
   "cell_type": "code",
   "execution_count": 34,
   "metadata": {},
   "outputs": [],
   "source": [
    "user_Cupones = user_Cupones.dropna(axis=0, subset=['id'])"
   ]
  },
  {
   "cell_type": "code",
   "execution_count": 35,
   "metadata": {},
   "outputs": [],
   "source": [
    "user_Cupones=user_Cupones.rename(columns={\"cliente_id\":\"CUSTOMER_ID\",\"fecha_fin\":\"END_DATE\",\"\":\"\"})"
   ]
  },
  {
   "cell_type": "code",
   "execution_count": 36,
   "metadata": {},
   "outputs": [],
   "source": [
    "user_Cupones['GATEWAY']='cupones'"
   ]
  },
  {
   "cell_type": "code",
   "execution_count": 37,
   "metadata": {
    "scrolled": true
   },
   "outputs": [
    {
     "name": "stdout",
     "output_type": "stream",
     "text": [
      "<class 'pandas.core.frame.DataFrame'>\n",
      "Int64Index: 13172 entries, 0 to 13171\n",
      "Data columns (total 14 columns):\n",
      " #   Column              Non-Null Count  Dtype         \n",
      "---  ------              --------------  -----         \n",
      " 0   _id                 13172 non-null  object        \n",
      " 1   createdAt_x         13172 non-null  datetime64[ns]\n",
      " 2   CUSTOMER_ID         13172 non-null  object        \n",
      " 3   email               13172 non-null  object        \n",
      " 4   id                  13172 non-null  object        \n",
      " 5   user_id_asignado_x  13172 non-null  object        \n",
      " 6   SUBSCRIPTION_CODE   13172 non-null  object        \n",
      " 7   createdAt_y         13172 non-null  datetime64[ns]\n",
      " 8   user_id_asignado_y  13172 non-null  object        \n",
      " 9   producto_id         13172 non-null  object        \n",
      " 10  START_DATE          13172 non-null  datetime64[ns]\n",
      " 11  END_DATE            13172 non-null  datetime64[ns]\n",
      " 12  user_id             13172 non-null  object        \n",
      " 13  GATEWAY             13172 non-null  object        \n",
      "dtypes: datetime64[ns](4), object(10)\n",
      "memory usage: 1.5+ MB\n"
     ]
    }
   ],
   "source": [
    "user_Cupones.info()"
   ]
  },
  {
   "cell_type": "markdown",
   "metadata": {},
   "source": [
    "# AQUI"
   ]
  },
  {
   "cell_type": "code",
   "execution_count": null,
   "metadata": {},
   "outputs": [],
   "source": []
  },
  {
   "cell_type": "code",
   "execution_count": null,
   "metadata": {},
   "outputs": [],
   "source": []
  },
  {
   "cell_type": "code",
   "execution_count": 38,
   "metadata": {},
   "outputs": [],
   "source": [
    "mycol_product = mydb[\"productos\"]\n",
    "def productosdataframes(iterator, chunk_size: int):\n",
    "  \"\"\"Turn an iterator into multiple small pandas.DataFrame\n",
    "  This is a balance between memory and efficiency\n",
    "  \"\"\"\n",
    "  records = []\n",
    "  frames = []\n",
    "  for i, record in enumerate(iterator):\n",
    "    records.append(record)\n",
    "    if i % chunk_size == chunk_size - 1:\n",
    "      frames.append(pd.DataFrame(records))\n",
    "      records = []\n",
    "  if records:\n",
    "    frames.append(pd.DataFrame(records))\n",
    "  return pd.concat(frames) if frames else pd.DataFrame()\n",
    "  \n",
    "productos = productosdataframes(mycol_product.find({},{'_id':1,'valorInternacional':1,'valorNacional':1}), 10000)\n"
   ]
  },
  {
   "cell_type": "code",
   "execution_count": 39,
   "metadata": {},
   "outputs": [],
   "source": [
    "productos['producto_id']=productos._id.astype(str)"
   ]
  },
  {
   "cell_type": "code",
   "execution_count": 40,
   "metadata": {},
   "outputs": [],
   "source": [
    "productos['producto_id']=productos.producto_id.astype(str)"
   ]
  },
  {
   "cell_type": "code",
   "execution_count": 41,
   "metadata": {},
   "outputs": [],
   "source": [
    "user_Cupones['producto_id']=user_Cupones.producto_id.astype(str)"
   ]
  },
  {
   "cell_type": "code",
   "execution_count": null,
   "metadata": {},
   "outputs": [],
   "source": []
  },
  {
   "cell_type": "code",
   "execution_count": 42,
   "metadata": {},
   "outputs": [
    {
     "name": "stdout",
     "output_type": "stream",
     "text": [
      "<class 'pandas.core.frame.DataFrame'>\n",
      "RangeIndex: 15 entries, 0 to 14\n",
      "Data columns (total 4 columns):\n",
      " #   Column              Non-Null Count  Dtype \n",
      "---  ------              --------------  ----- \n",
      " 0   _id                 15 non-null     object\n",
      " 1   valorNacional       12 non-null     object\n",
      " 2   valorInternacional  3 non-null      object\n",
      " 3   producto_id         15 non-null     object\n",
      "dtypes: object(4)\n",
      "memory usage: 608.0+ bytes\n"
     ]
    }
   ],
   "source": [
    "productos.info()"
   ]
  },
  {
   "cell_type": "code",
   "execution_count": 43,
   "metadata": {},
   "outputs": [],
   "source": [
    "user_Cupones=user_Cupones.merge(productos, on='producto_id',how='left')"
   ]
  },
  {
   "cell_type": "code",
   "execution_count": 44,
   "metadata": {},
   "outputs": [
    {
     "name": "stdout",
     "output_type": "stream",
     "text": [
      "<class 'pandas.core.frame.DataFrame'>\n",
      "Int64Index: 13172 entries, 0 to 13171\n",
      "Data columns (total 17 columns):\n",
      " #   Column              Non-Null Count  Dtype         \n",
      "---  ------              --------------  -----         \n",
      " 0   _id_x               13172 non-null  object        \n",
      " 1   createdAt_x         13172 non-null  datetime64[ns]\n",
      " 2   CUSTOMER_ID         13172 non-null  object        \n",
      " 3   email               13172 non-null  object        \n",
      " 4   id                  13172 non-null  object        \n",
      " 5   user_id_asignado_x  13172 non-null  object        \n",
      " 6   SUBSCRIPTION_CODE   13172 non-null  object        \n",
      " 7   createdAt_y         13172 non-null  datetime64[ns]\n",
      " 8   user_id_asignado_y  13172 non-null  object        \n",
      " 9   producto_id         13172 non-null  object        \n",
      " 10  START_DATE          13172 non-null  datetime64[ns]\n",
      " 11  END_DATE            13172 non-null  datetime64[ns]\n",
      " 12  user_id             13172 non-null  object        \n",
      " 13  GATEWAY             13172 non-null  object        \n",
      " 14  _id_y               13170 non-null  object        \n",
      " 15  valorNacional       13170 non-null  object        \n",
      " 16  valorInternacional  0 non-null      object        \n",
      "dtypes: datetime64[ns](4), object(13)\n",
      "memory usage: 1.8+ MB\n"
     ]
    }
   ],
   "source": [
    "user_Cupones.info()"
   ]
  },
  {
   "cell_type": "code",
   "execution_count": 45,
   "metadata": {},
   "outputs": [],
   "source": [
    "user_Cupones = user_Cupones.dropna(axis=0, subset=['valorNacional'])"
   ]
  },
  {
   "cell_type": "code",
   "execution_count": 46,
   "metadata": {},
   "outputs": [],
   "source": [
    "user_Cupones=user_Cupones.rename(columns={\"valorNacional\":\"CLP_PRICE\"})"
   ]
  },
  {
   "cell_type": "code",
   "execution_count": 47,
   "metadata": {},
   "outputs": [
    {
     "data": {
      "text/plain": [
       "Index(['_id_x', 'createdAt_x', 'CUSTOMER_ID', 'email', 'id',\n",
       "       'user_id_asignado_x', 'SUBSCRIPTION_CODE', 'createdAt_y',\n",
       "       'user_id_asignado_y', 'producto_id', 'START_DATE', 'END_DATE',\n",
       "       'user_id', 'GATEWAY', '_id_y', 'CLP_PRICE', 'valorInternacional'],\n",
       "      dtype='object')"
      ]
     },
     "execution_count": 47,
     "metadata": {},
     "output_type": "execute_result"
    }
   ],
   "source": [
    "user_Cupones.columns"
   ]
  },
  {
   "cell_type": "code",
   "execution_count": null,
   "metadata": {},
   "outputs": [],
   "source": []
  },
  {
   "cell_type": "code",
   "execution_count": null,
   "metadata": {},
   "outputs": [],
   "source": []
  },
  {
   "cell_type": "code",
   "execution_count": null,
   "metadata": {},
   "outputs": [],
   "source": []
  },
  {
   "cell_type": "code",
   "execution_count": null,
   "metadata": {},
   "outputs": [],
   "source": []
  },
  {
   "cell_type": "code",
   "execution_count": null,
   "metadata": {},
   "outputs": [],
   "source": []
  },
  {
   "cell_type": "code",
   "execution_count": 48,
   "metadata": {},
   "outputs": [],
   "source": [
    "user_Cupones=user_Cupones.drop(['_id_x', 'createdAt_x', 'email', 'id',\n",
    "       'user_id_asignado_x','createdAt_y',\n",
    "       'user_id_asignado_y', 'producto_id',\n",
    "       'user_id', '_id_y', 'valorInternacional'],axis=1)"
   ]
  },
  {
   "cell_type": "code",
   "execution_count": 49,
   "metadata": {},
   "outputs": [
    {
     "data": {
      "text/plain": [
       "Index(['CUSTOMER_ID', 'SUBSCRIPTION_CODE', 'START_DATE', 'END_DATE', 'GATEWAY',\n",
       "       'CLP_PRICE'],\n",
       "      dtype='object')"
      ]
     },
     "execution_count": 49,
     "metadata": {},
     "output_type": "execute_result"
    }
   ],
   "source": [
    "user_Cupones.columns"
   ]
  },
  {
   "cell_type": "code",
   "execution_count": 50,
   "metadata": {},
   "outputs": [],
   "source": [
    "user_Cupones['PAYMENT_DATE']=user_Cupones['START_DATE']"
   ]
  },
  {
   "cell_type": "code",
   "execution_count": null,
   "metadata": {},
   "outputs": [],
   "source": []
  },
  {
   "cell_type": "markdown",
   "metadata": {},
   "source": [
    "Ahora vamos por los transbank"
   ]
  },
  {
   "cell_type": "code",
   "execution_count": 51,
   "metadata": {
    "scrolled": true
   },
   "outputs": [
    {
     "name": "stdout",
     "output_type": "stream",
     "text": [
      "<class 'pandas.core.frame.DataFrame'>\n",
      "Int64Index: 135371 entries, 0 to 5370\n",
      "Data columns (total 3 columns):\n",
      " #   Column     Non-Null Count   Dtype         \n",
      "---  ------     --------------   -----         \n",
      " 0   _id        135371 non-null  object        \n",
      " 1   createdAt  135371 non-null  datetime64[ns]\n",
      " 2   user_id    135371 non-null  object        \n",
      "dtypes: datetime64[ns](1), object(2)\n",
      "memory usage: 4.1+ MB\n"
     ]
    }
   ],
   "source": [
    "transbank.info()"
   ]
  },
  {
   "cell_type": "code",
   "execution_count": 52,
   "metadata": {},
   "outputs": [],
   "source": [
    "transbank=transbank.rename(columns={\"_id\":\"SUBSCRIPTION_CODE\"})"
   ]
  },
  {
   "cell_type": "code",
   "execution_count": null,
   "metadata": {},
   "outputs": [],
   "source": []
  },
  {
   "cell_type": "code",
   "execution_count": 53,
   "metadata": {},
   "outputs": [],
   "source": [
    "transbank['user_id']=transbank.user_id.astype(str)"
   ]
  },
  {
   "cell_type": "code",
   "execution_count": 54,
   "metadata": {},
   "outputs": [],
   "source": [
    "user_transbank=userData.merge(transbank, right_on='user_id',left_on='id',how='left')"
   ]
  },
  {
   "cell_type": "code",
   "execution_count": 55,
   "metadata": {},
   "outputs": [
    {
     "name": "stdout",
     "output_type": "stream",
     "text": [
      "<class 'pandas.core.frame.DataFrame'>\n",
      "Int64Index: 498566 entries, 0 to 498565\n",
      "Data columns (total 9 columns):\n",
      " #   Column             Non-Null Count   Dtype         \n",
      "---  ------             --------------   -----         \n",
      " 0   _id                498566 non-null  object        \n",
      " 1   createdAt_x        498565 non-null  datetime64[ns]\n",
      " 2   cliente_id         498506 non-null  object        \n",
      " 3   email              498566 non-null  object        \n",
      " 4   id                 498566 non-null  object        \n",
      " 5   user_id_asignado   498566 non-null  object        \n",
      " 6   SUBSCRIPTION_CODE  135367 non-null  object        \n",
      " 7   createdAt_y        135367 non-null  datetime64[ns]\n",
      " 8   user_id            135367 non-null  object        \n",
      "dtypes: datetime64[ns](2), object(7)\n",
      "memory usage: 38.0+ MB\n"
     ]
    }
   ],
   "source": [
    "user_transbank.info()"
   ]
  },
  {
   "cell_type": "code",
   "execution_count": 56,
   "metadata": {},
   "outputs": [],
   "source": [
    "user_transbank = user_transbank.dropna(axis=0, subset=['SUBSCRIPTION_CODE'])"
   ]
  },
  {
   "cell_type": "code",
   "execution_count": 57,
   "metadata": {},
   "outputs": [],
   "source": [
    "user_transbank=user_transbank.rename(columns={\"user_id_asignado\":\"CUSTOMER_ID\"})"
   ]
  },
  {
   "cell_type": "code",
   "execution_count": 58,
   "metadata": {},
   "outputs": [
    {
     "data": {
      "text/plain": [
       "Index(['_id', 'createdAt_x', 'cliente_id', 'email', 'id', 'CUSTOMER_ID',\n",
       "       'SUBSCRIPTION_CODE', 'createdAt_y', 'user_id'],\n",
       "      dtype='object')"
      ]
     },
     "execution_count": 58,
     "metadata": {},
     "output_type": "execute_result"
    }
   ],
   "source": [
    "user_transbank.columns"
   ]
  },
  {
   "cell_type": "code",
   "execution_count": 59,
   "metadata": {},
   "outputs": [],
   "source": [
    "user_transbank=user_transbank.drop(['_id', 'createdAt_x','createdAt_y', 'cliente_id', 'email', 'id', 'user_id'],axis=1)"
   ]
  },
  {
   "cell_type": "code",
   "execution_count": 60,
   "metadata": {
    "scrolled": false
   },
   "outputs": [
    {
     "name": "stdout",
     "output_type": "stream",
     "text": [
      "<class 'pandas.core.frame.DataFrame'>\n",
      "Int64Index: 135367 entries, 4 to 498423\n",
      "Data columns (total 2 columns):\n",
      " #   Column             Non-Null Count   Dtype \n",
      "---  ------             --------------   ----- \n",
      " 0   CUSTOMER_ID        135367 non-null  object\n",
      " 1   SUBSCRIPTION_CODE  135367 non-null  object\n",
      "dtypes: object(2)\n",
      "memory usage: 3.1+ MB\n"
     ]
    }
   ],
   "source": [
    "user_transbank.info()"
   ]
  },
  {
   "cell_type": "code",
   "execution_count": 61,
   "metadata": {},
   "outputs": [],
   "source": [
    "user_transbank['GATEWAY']='transbank'"
   ]
  },
  {
   "cell_type": "code",
   "execution_count": 62,
   "metadata": {},
   "outputs": [
    {
     "name": "stdout",
     "output_type": "stream",
     "text": [
      "<class 'pandas.core.frame.DataFrame'>\n",
      "Int64Index: 31695 entries, 83 to 453801\n",
      "Data columns (total 3 columns):\n",
      " #   Column             Non-Null Count  Dtype \n",
      "---  ------             --------------  ----- \n",
      " 0   CUSTOMER_ID        31695 non-null  object\n",
      " 1   SUBSCRIPTION_CODE  31695 non-null  object\n",
      " 2   GATEWAY            31695 non-null  object\n",
      "dtypes: object(3)\n",
      "memory usage: 990.5+ KB\n"
     ]
    }
   ],
   "source": [
    "user_Paypal.info()"
   ]
  },
  {
   "cell_type": "code",
   "execution_count": 63,
   "metadata": {
    "scrolled": true
   },
   "outputs": [
    {
     "name": "stdout",
     "output_type": "stream",
     "text": [
      "<class 'pandas.core.frame.DataFrame'>\n",
      "Int64Index: 13170 entries, 0 to 13171\n",
      "Data columns (total 7 columns):\n",
      " #   Column             Non-Null Count  Dtype         \n",
      "---  ------             --------------  -----         \n",
      " 0   CUSTOMER_ID        13170 non-null  object        \n",
      " 1   SUBSCRIPTION_CODE  13170 non-null  object        \n",
      " 2   START_DATE         13170 non-null  datetime64[ns]\n",
      " 3   END_DATE           13170 non-null  datetime64[ns]\n",
      " 4   GATEWAY            13170 non-null  object        \n",
      " 5   CLP_PRICE          13170 non-null  object        \n",
      " 6   PAYMENT_DATE       13170 non-null  datetime64[ns]\n",
      "dtypes: datetime64[ns](3), object(4)\n",
      "memory usage: 823.1+ KB\n"
     ]
    }
   ],
   "source": [
    "user_Cupones.info()"
   ]
  },
  {
   "cell_type": "code",
   "execution_count": 64,
   "metadata": {},
   "outputs": [
    {
     "data": {
      "text/html": [
       "<div>\n",
       "<style scoped>\n",
       "    .dataframe tbody tr th:only-of-type {\n",
       "        vertical-align: middle;\n",
       "    }\n",
       "\n",
       "    .dataframe tbody tr th {\n",
       "        vertical-align: top;\n",
       "    }\n",
       "\n",
       "    .dataframe thead th {\n",
       "        text-align: right;\n",
       "    }\n",
       "</style>\n",
       "<table border=\"1\" class=\"dataframe\">\n",
       "  <thead>\n",
       "    <tr style=\"text-align: right;\">\n",
       "      <th></th>\n",
       "      <th>CUSTOMER_ID</th>\n",
       "      <th>SUBSCRIPTION_CODE</th>\n",
       "      <th>START_DATE</th>\n",
       "      <th>END_DATE</th>\n",
       "      <th>GATEWAY</th>\n",
       "      <th>CLP_PRICE</th>\n",
       "      <th>PAYMENT_DATE</th>\n",
       "    </tr>\n",
       "  </thead>\n",
       "  <tbody>\n",
       "    <tr>\n",
       "      <th>0</th>\n",
       "      <td>5860ff4104d5b52eef1e6269</td>\n",
       "      <td>58652ac5d5928a61d7489934</td>\n",
       "      <td>2016-12-29 15:24:53.563</td>\n",
       "      <td>2017-01-31 00:00:00.000</td>\n",
       "      <td>cupones</td>\n",
       "      <td>0</td>\n",
       "      <td>2016-12-29 15:24:53.563</td>\n",
       "    </tr>\n",
       "    <tr>\n",
       "      <th>1</th>\n",
       "      <td>5860ff4104d5b52eef1e628d</td>\n",
       "      <td>5e52930d43bbf00db5d2028e</td>\n",
       "      <td>2020-02-23 14:58:21.091</td>\n",
       "      <td>2020-03-24 14:58:21.091</td>\n",
       "      <td>cupones</td>\n",
       "      <td>10990</td>\n",
       "      <td>2020-02-23 14:58:21.091</td>\n",
       "    </tr>\n",
       "    <tr>\n",
       "      <th>2</th>\n",
       "      <td>5860ff4104d5b52eef1e6308</td>\n",
       "      <td>58652ac5d5928a61d7489936</td>\n",
       "      <td>2016-12-29 15:24:53.630</td>\n",
       "      <td>2017-01-31 00:00:00.000</td>\n",
       "      <td>cupones</td>\n",
       "      <td>0</td>\n",
       "      <td>2016-12-29 15:24:53.630</td>\n",
       "    </tr>\n",
       "    <tr>\n",
       "      <th>3</th>\n",
       "      <td>5860ff4104d5b52eef1e6266</td>\n",
       "      <td>5918b8dd8c1fcb1233f4c2b4</td>\n",
       "      <td>2017-05-14 20:06:53.293</td>\n",
       "      <td>2017-06-13 23:59:59.999</td>\n",
       "      <td>cupones</td>\n",
       "      <td>0</td>\n",
       "      <td>2017-05-14 20:06:53.293</td>\n",
       "    </tr>\n",
       "    <tr>\n",
       "      <th>4</th>\n",
       "      <td>5860ff4104d5b52eef1e6250</td>\n",
       "      <td>5abe4f6600670417fd848276</td>\n",
       "      <td>2018-03-30 14:53:26.167</td>\n",
       "      <td>2018-07-23 18:55:06.111</td>\n",
       "      <td>cupones</td>\n",
       "      <td>10990</td>\n",
       "      <td>2018-03-30 14:53:26.167</td>\n",
       "    </tr>\n",
       "    <tr>\n",
       "      <th>...</th>\n",
       "      <td>...</td>\n",
       "      <td>...</td>\n",
       "      <td>...</td>\n",
       "      <td>...</td>\n",
       "      <td>...</td>\n",
       "      <td>...</td>\n",
       "      <td>...</td>\n",
       "    </tr>\n",
       "    <tr>\n",
       "      <th>13167</th>\n",
       "      <td>5e875e3a1f3fe30d84909be5</td>\n",
       "      <td>5e875f3a401c6f0ab959323c</td>\n",
       "      <td>2020-04-03 16:07:22.919</td>\n",
       "      <td>2020-08-01 23:59:59.999</td>\n",
       "      <td>cupones</td>\n",
       "      <td>0</td>\n",
       "      <td>2020-04-03 16:07:22.919</td>\n",
       "    </tr>\n",
       "    <tr>\n",
       "      <th>13168</th>\n",
       "      <td>5e8f3985a7730b169fe6eec0</td>\n",
       "      <td>5e8f3a0c49fa5c1699ca9b69</td>\n",
       "      <td>2020-04-09 15:06:52.438</td>\n",
       "      <td>2021-05-04 23:59:59.999</td>\n",
       "      <td>cupones</td>\n",
       "      <td>0</td>\n",
       "      <td>2020-04-09 15:06:52.438</td>\n",
       "    </tr>\n",
       "    <tr>\n",
       "      <th>13169</th>\n",
       "      <td>5e962397bc029378e090210f</td>\n",
       "      <td>5e962468bc029378e0902110</td>\n",
       "      <td>2020-04-14 21:00:24.909</td>\n",
       "      <td>2020-05-14 23:59:59.999</td>\n",
       "      <td>cupones</td>\n",
       "      <td>0</td>\n",
       "      <td>2020-04-14 21:00:24.909</td>\n",
       "    </tr>\n",
       "    <tr>\n",
       "      <th>13170</th>\n",
       "      <td>5e973f661d48bf7843c6671e</td>\n",
       "      <td>5e974678943ae378c8fe464a</td>\n",
       "      <td>2020-04-15 17:38:00.517</td>\n",
       "      <td>2020-07-14 23:59:59.999</td>\n",
       "      <td>cupones</td>\n",
       "      <td>0</td>\n",
       "      <td>2020-04-15 17:38:00.517</td>\n",
       "    </tr>\n",
       "    <tr>\n",
       "      <th>13171</th>\n",
       "      <td>5e98ca631d48bf7843c667e2</td>\n",
       "      <td>5e98caffbc029378e090228d</td>\n",
       "      <td>2020-04-16 21:15:43.084</td>\n",
       "      <td>2020-07-15 23:59:59.999</td>\n",
       "      <td>cupones</td>\n",
       "      <td>0</td>\n",
       "      <td>2020-04-16 21:15:43.084</td>\n",
       "    </tr>\n",
       "  </tbody>\n",
       "</table>\n",
       "<p>13170 rows × 7 columns</p>\n",
       "</div>"
      ],
      "text/plain": [
       "                    CUSTOMER_ID         SUBSCRIPTION_CODE  \\\n",
       "0      5860ff4104d5b52eef1e6269  58652ac5d5928a61d7489934   \n",
       "1      5860ff4104d5b52eef1e628d  5e52930d43bbf00db5d2028e   \n",
       "2      5860ff4104d5b52eef1e6308  58652ac5d5928a61d7489936   \n",
       "3      5860ff4104d5b52eef1e6266  5918b8dd8c1fcb1233f4c2b4   \n",
       "4      5860ff4104d5b52eef1e6250  5abe4f6600670417fd848276   \n",
       "...                         ...                       ...   \n",
       "13167  5e875e3a1f3fe30d84909be5  5e875f3a401c6f0ab959323c   \n",
       "13168  5e8f3985a7730b169fe6eec0  5e8f3a0c49fa5c1699ca9b69   \n",
       "13169  5e962397bc029378e090210f  5e962468bc029378e0902110   \n",
       "13170  5e973f661d48bf7843c6671e  5e974678943ae378c8fe464a   \n",
       "13171  5e98ca631d48bf7843c667e2  5e98caffbc029378e090228d   \n",
       "\n",
       "                   START_DATE                END_DATE  GATEWAY CLP_PRICE  \\\n",
       "0     2016-12-29 15:24:53.563 2017-01-31 00:00:00.000  cupones         0   \n",
       "1     2020-02-23 14:58:21.091 2020-03-24 14:58:21.091  cupones     10990   \n",
       "2     2016-12-29 15:24:53.630 2017-01-31 00:00:00.000  cupones         0   \n",
       "3     2017-05-14 20:06:53.293 2017-06-13 23:59:59.999  cupones         0   \n",
       "4     2018-03-30 14:53:26.167 2018-07-23 18:55:06.111  cupones     10990   \n",
       "...                       ...                     ...      ...       ...   \n",
       "13167 2020-04-03 16:07:22.919 2020-08-01 23:59:59.999  cupones         0   \n",
       "13168 2020-04-09 15:06:52.438 2021-05-04 23:59:59.999  cupones         0   \n",
       "13169 2020-04-14 21:00:24.909 2020-05-14 23:59:59.999  cupones         0   \n",
       "13170 2020-04-15 17:38:00.517 2020-07-14 23:59:59.999  cupones         0   \n",
       "13171 2020-04-16 21:15:43.084 2020-07-15 23:59:59.999  cupones         0   \n",
       "\n",
       "                 PAYMENT_DATE  \n",
       "0     2016-12-29 15:24:53.563  \n",
       "1     2020-02-23 14:58:21.091  \n",
       "2     2016-12-29 15:24:53.630  \n",
       "3     2017-05-14 20:06:53.293  \n",
       "4     2018-03-30 14:53:26.167  \n",
       "...                       ...  \n",
       "13167 2020-04-03 16:07:22.919  \n",
       "13168 2020-04-09 15:06:52.438  \n",
       "13169 2020-04-14 21:00:24.909  \n",
       "13170 2020-04-15 17:38:00.517  \n",
       "13171 2020-04-16 21:15:43.084  \n",
       "\n",
       "[13170 rows x 7 columns]"
      ]
     },
     "execution_count": 64,
     "metadata": {},
     "output_type": "execute_result"
    }
   ],
   "source": [
    "user_Cupones"
   ]
  },
  {
   "cell_type": "code",
   "execution_count": null,
   "metadata": {},
   "outputs": [],
   "source": []
  },
  {
   "cell_type": "code",
   "execution_count": 65,
   "metadata": {},
   "outputs": [],
   "source": [
    "parcialUser = [user_transbank, user_Paypal]"
   ]
  },
  {
   "cell_type": "code",
   "execution_count": 66,
   "metadata": {},
   "outputs": [],
   "source": [
    "historyParcial=pd.concat(parcialUser)"
   ]
  },
  {
   "cell_type": "code",
   "execution_count": 67,
   "metadata": {
    "scrolled": true
   },
   "outputs": [
    {
     "name": "stdout",
     "output_type": "stream",
     "text": [
      "<class 'pandas.core.frame.DataFrame'>\n",
      "Int64Index: 167062 entries, 4 to 453801\n",
      "Data columns (total 3 columns):\n",
      " #   Column             Non-Null Count   Dtype \n",
      "---  ------             --------------   ----- \n",
      " 0   CUSTOMER_ID        167062 non-null  object\n",
      " 1   SUBSCRIPTION_CODE  167062 non-null  object\n",
      " 2   GATEWAY            167062 non-null  object\n",
      "dtypes: object(3)\n",
      "memory usage: 5.1+ MB\n"
     ]
    }
   ],
   "source": [
    "historyParcial.info()"
   ]
  },
  {
   "cell_type": "code",
   "execution_count": 68,
   "metadata": {},
   "outputs": [
    {
     "name": "stdout",
     "output_type": "stream",
     "text": [
      "<class 'pandas.core.frame.DataFrame'>\n",
      "Int64Index: 167062 entries, 4 to 453801\n",
      "Data columns (total 3 columns):\n",
      " #   Column             Non-Null Count   Dtype \n",
      "---  ------             --------------   ----- \n",
      " 0   CUSTOMER_ID        167062 non-null  object\n",
      " 1   SUBSCRIPTION_CODE  167062 non-null  object\n",
      " 2   GATEWAY            167062 non-null  object\n",
      "dtypes: object(3)\n",
      "memory usage: 5.1+ MB\n"
     ]
    }
   ],
   "source": [
    "historyParcial.info()"
   ]
  },
  {
   "cell_type": "code",
   "execution_count": 69,
   "metadata": {},
   "outputs": [],
   "source": [
    "mycol_pagos = mydb[\"pagos\"]"
   ]
  },
  {
   "cell_type": "code",
   "execution_count": 70,
   "metadata": {},
   "outputs": [],
   "source": [
    "def Pagosdataframes(iterator, chunk_size: int):\n",
    "  \"\"\"Turn an iterator into multiple small pandas.DataFrame\n",
    "  This is a balance between memory and efficiency\n",
    "  \"\"\"\n",
    "  records = []\n",
    "  frames = []\n",
    "  for i, record in enumerate(iterator):\n",
    "    records.append(record)\n",
    "    if i % chunk_size == chunk_size - 1:\n",
    "      frames.append(pd.DataFrame(records))\n",
    "      records = []\n",
    "  if records:\n",
    "    frames.append(pd.DataFrame(records))\n",
    "  return pd.concat(frames) if frames else pd.DataFrame()\n",
    "  \n",
    "pagos = Pagosdataframes(mycol_pagos.find({},{'_id':1,'monto':1,'acuerdo_id':1,'moneda':1,'fecha_fin':1,'fecha_pago':1,'pasarela':1,'user_id':1,'createdAt':1 ,'updatedAt':1 }), 10000)\n"
   ]
  },
  {
   "cell_type": "code",
   "execution_count": 71,
   "metadata": {
    "scrolled": false
   },
   "outputs": [
    {
     "data": {
      "text/plain": [
       "Index(['_id', 'updatedAt', 'createdAt', 'user_id', 'pasarela', 'monto',\n",
       "       'moneda', 'fecha_pago', 'acuerdo_id', 'fecha_fin'],\n",
       "      dtype='object')"
      ]
     },
     "execution_count": 71,
     "metadata": {},
     "output_type": "execute_result"
    }
   ],
   "source": [
    "pagos.columns"
   ]
  },
  {
   "cell_type": "code",
   "execution_count": 72,
   "metadata": {},
   "outputs": [
    {
     "data": {
      "text/html": [
       "<div>\n",
       "<style scoped>\n",
       "    .dataframe tbody tr th:only-of-type {\n",
       "        vertical-align: middle;\n",
       "    }\n",
       "\n",
       "    .dataframe tbody tr th {\n",
       "        vertical-align: top;\n",
       "    }\n",
       "\n",
       "    .dataframe thead th {\n",
       "        text-align: right;\n",
       "    }\n",
       "</style>\n",
       "<table border=\"1\" class=\"dataframe\">\n",
       "  <thead>\n",
       "    <tr style=\"text-align: right;\">\n",
       "      <th></th>\n",
       "      <th>_id</th>\n",
       "      <th>updatedAt</th>\n",
       "      <th>createdAt</th>\n",
       "      <th>user_id</th>\n",
       "      <th>pasarela</th>\n",
       "      <th>monto</th>\n",
       "      <th>moneda</th>\n",
       "      <th>fecha_pago</th>\n",
       "      <th>acuerdo_id</th>\n",
       "      <th>fecha_fin</th>\n",
       "    </tr>\n",
       "  </thead>\n",
       "  <tbody>\n",
       "    <tr>\n",
       "      <th>0</th>\n",
       "      <td>5861c4990ee08c3630cdd9b2</td>\n",
       "      <td>2017-01-24 18:50:19.322</td>\n",
       "      <td>2016-12-27 01:32:09.427</td>\n",
       "      <td>563857913817661751603df1</td>\n",
       "      <td>transbank</td>\n",
       "      <td>7390</td>\n",
       "      <td>CLP</td>\n",
       "      <td>2015-10-04 14:22:29.134</td>\n",
       "      <td>5861c4990ee08c3630cdd9b0</td>\n",
       "      <td>2015-11-03 14:23:49.730</td>\n",
       "    </tr>\n",
       "    <tr>\n",
       "      <th>1</th>\n",
       "      <td>5861c4990ee08c3630cdd9c3</td>\n",
       "      <td>2017-01-24 18:50:24.541</td>\n",
       "      <td>2016-12-27 01:32:09.471</td>\n",
       "      <td>563857913817661751603e1e</td>\n",
       "      <td>transbank</td>\n",
       "      <td>7390</td>\n",
       "      <td>CLP</td>\n",
       "      <td>2016-11-18 17:34:45.725</td>\n",
       "      <td>5861c4990ee08c3630cdd9b6</td>\n",
       "      <td>2016-12-18 17:34:47.000</td>\n",
       "    </tr>\n",
       "    <tr>\n",
       "      <th>2</th>\n",
       "      <td>5861c4990ee08c3630cdd9c6</td>\n",
       "      <td>2017-01-24 18:50:22.595</td>\n",
       "      <td>2016-12-27 01:32:09.479</td>\n",
       "      <td>563857913817661751603e0d</td>\n",
       "      <td>transbank</td>\n",
       "      <td>7390</td>\n",
       "      <td>CLP</td>\n",
       "      <td>2014-10-25 23:51:27.702</td>\n",
       "      <td>5861c4990ee08c3630cdd9b7</td>\n",
       "      <td>2014-11-24 23:52:30.371</td>\n",
       "    </tr>\n",
       "    <tr>\n",
       "      <th>3</th>\n",
       "      <td>5861c4990ee08c3630cdd9c4</td>\n",
       "      <td>2017-01-24 18:50:22.594</td>\n",
       "      <td>2016-12-27 01:32:09.479</td>\n",
       "      <td>563857913817661751603e0d</td>\n",
       "      <td>transbank</td>\n",
       "      <td>7390</td>\n",
       "      <td>CLP</td>\n",
       "      <td>2014-12-24 23:51:05.113</td>\n",
       "      <td>5861c4990ee08c3630cdd9b7</td>\n",
       "      <td>2015-01-23 23:52:30.371</td>\n",
       "    </tr>\n",
       "    <tr>\n",
       "      <th>4</th>\n",
       "      <td>5861c4990ee08c3630cdd9c5</td>\n",
       "      <td>2017-01-24 18:50:22.594</td>\n",
       "      <td>2016-12-27 01:32:09.479</td>\n",
       "      <td>563857913817661751603e0d</td>\n",
       "      <td>transbank</td>\n",
       "      <td>7390</td>\n",
       "      <td>CLP</td>\n",
       "      <td>2014-11-24 23:51:17.572</td>\n",
       "      <td>5861c4990ee08c3630cdd9b7</td>\n",
       "      <td>2014-12-24 23:52:30.371</td>\n",
       "    </tr>\n",
       "    <tr>\n",
       "      <th>...</th>\n",
       "      <td>...</td>\n",
       "      <td>...</td>\n",
       "      <td>...</td>\n",
       "      <td>...</td>\n",
       "      <td>...</td>\n",
       "      <td>...</td>\n",
       "      <td>...</td>\n",
       "      <td>...</td>\n",
       "      <td>...</td>\n",
       "      <td>...</td>\n",
       "    </tr>\n",
       "    <tr>\n",
       "      <th>6072</th>\n",
       "      <td>5ea6d085e0a51e2c88674ccd</td>\n",
       "      <td>2020-04-27 12:31:01.356</td>\n",
       "      <td>2020-04-27 12:31:01.352</td>\n",
       "      <td>5e5835dc7629f813181aed10</td>\n",
       "      <td>paypal</td>\n",
       "      <td>17</td>\n",
       "      <td>USD</td>\n",
       "      <td>2020-04-27 12:27:22.000</td>\n",
       "      <td>5e5837577629f813181aed21</td>\n",
       "      <td>2020-05-27 23:59:59.999</td>\n",
       "    </tr>\n",
       "    <tr>\n",
       "      <th>6073</th>\n",
       "      <td>5ea6d443e0a51e2c88674cd0</td>\n",
       "      <td>2020-04-27 12:46:59.496</td>\n",
       "      <td>2020-04-27 12:46:59.492</td>\n",
       "      <td>58a07cac4320da55a2d1d90b</td>\n",
       "      <td>paypal</td>\n",
       "      <td>15.49</td>\n",
       "      <td>USD</td>\n",
       "      <td>2020-04-27 12:42:02.000</td>\n",
       "      <td>58a07d334320da55a2d1d942</td>\n",
       "      <td>2020-05-27 23:59:59.999</td>\n",
       "    </tr>\n",
       "    <tr>\n",
       "      <th>6074</th>\n",
       "      <td>5ea6db40e0a51e2c88674cd3</td>\n",
       "      <td>2020-04-27 13:16:48.290</td>\n",
       "      <td>2020-04-27 13:16:48.287</td>\n",
       "      <td>563856fb38176617516006e7</td>\n",
       "      <td>paypal</td>\n",
       "      <td>17</td>\n",
       "      <td>USD</td>\n",
       "      <td>2020-04-27 13:12:33.000</td>\n",
       "      <td>5bdf2c2539d6040b065590f0</td>\n",
       "      <td>2020-05-28 23:59:59.999</td>\n",
       "    </tr>\n",
       "    <tr>\n",
       "      <th>6075</th>\n",
       "      <td>5ea6f54ee0a51e2c88674d15</td>\n",
       "      <td>2020-04-27 15:07:58.966</td>\n",
       "      <td>2020-04-27 15:07:58.962</td>\n",
       "      <td>57d5c3d9732cf7d8085f606d</td>\n",
       "      <td>paypal</td>\n",
       "      <td>17</td>\n",
       "      <td>USD</td>\n",
       "      <td>2020-04-27 14:43:05.000</td>\n",
       "      <td>5e30ae485f2f260deee70dff</td>\n",
       "      <td>2020-05-27 23:59:59.999</td>\n",
       "    </tr>\n",
       "    <tr>\n",
       "      <th>6076</th>\n",
       "      <td>5ea6fba6e0a51e2c88674d18</td>\n",
       "      <td>2020-04-27 15:35:02.204</td>\n",
       "      <td>2020-04-27 15:35:02.201</td>\n",
       "      <td>5d6a7eb316a0aa0c2cd305da</td>\n",
       "      <td>paypal</td>\n",
       "      <td>17</td>\n",
       "      <td>USD</td>\n",
       "      <td>2020-04-27 15:06:33.000</td>\n",
       "      <td>5d6a853ec8feea0c66e046ec</td>\n",
       "      <td>2020-06-06 23:59:59.999</td>\n",
       "    </tr>\n",
       "  </tbody>\n",
       "</table>\n",
       "<p>736077 rows × 10 columns</p>\n",
       "</div>"
      ],
      "text/plain": [
       "                           _id               updatedAt  \\\n",
       "0     5861c4990ee08c3630cdd9b2 2017-01-24 18:50:19.322   \n",
       "1     5861c4990ee08c3630cdd9c3 2017-01-24 18:50:24.541   \n",
       "2     5861c4990ee08c3630cdd9c6 2017-01-24 18:50:22.595   \n",
       "3     5861c4990ee08c3630cdd9c4 2017-01-24 18:50:22.594   \n",
       "4     5861c4990ee08c3630cdd9c5 2017-01-24 18:50:22.594   \n",
       "...                        ...                     ...   \n",
       "6072  5ea6d085e0a51e2c88674ccd 2020-04-27 12:31:01.356   \n",
       "6073  5ea6d443e0a51e2c88674cd0 2020-04-27 12:46:59.496   \n",
       "6074  5ea6db40e0a51e2c88674cd3 2020-04-27 13:16:48.290   \n",
       "6075  5ea6f54ee0a51e2c88674d15 2020-04-27 15:07:58.966   \n",
       "6076  5ea6fba6e0a51e2c88674d18 2020-04-27 15:35:02.204   \n",
       "\n",
       "                   createdAt                   user_id   pasarela  monto  \\\n",
       "0    2016-12-27 01:32:09.427  563857913817661751603df1  transbank   7390   \n",
       "1    2016-12-27 01:32:09.471  563857913817661751603e1e  transbank   7390   \n",
       "2    2016-12-27 01:32:09.479  563857913817661751603e0d  transbank   7390   \n",
       "3    2016-12-27 01:32:09.479  563857913817661751603e0d  transbank   7390   \n",
       "4    2016-12-27 01:32:09.479  563857913817661751603e0d  transbank   7390   \n",
       "...                      ...                       ...        ...    ...   \n",
       "6072 2020-04-27 12:31:01.352  5e5835dc7629f813181aed10     paypal     17   \n",
       "6073 2020-04-27 12:46:59.492  58a07cac4320da55a2d1d90b     paypal  15.49   \n",
       "6074 2020-04-27 13:16:48.287  563856fb38176617516006e7     paypal     17   \n",
       "6075 2020-04-27 15:07:58.962  57d5c3d9732cf7d8085f606d     paypal     17   \n",
       "6076 2020-04-27 15:35:02.201  5d6a7eb316a0aa0c2cd305da     paypal     17   \n",
       "\n",
       "     moneda              fecha_pago                acuerdo_id  \\\n",
       "0       CLP 2015-10-04 14:22:29.134  5861c4990ee08c3630cdd9b0   \n",
       "1       CLP 2016-11-18 17:34:45.725  5861c4990ee08c3630cdd9b6   \n",
       "2       CLP 2014-10-25 23:51:27.702  5861c4990ee08c3630cdd9b7   \n",
       "3       CLP 2014-12-24 23:51:05.113  5861c4990ee08c3630cdd9b7   \n",
       "4       CLP 2014-11-24 23:51:17.572  5861c4990ee08c3630cdd9b7   \n",
       "...     ...                     ...                       ...   \n",
       "6072    USD 2020-04-27 12:27:22.000  5e5837577629f813181aed21   \n",
       "6073    USD 2020-04-27 12:42:02.000  58a07d334320da55a2d1d942   \n",
       "6074    USD 2020-04-27 13:12:33.000  5bdf2c2539d6040b065590f0   \n",
       "6075    USD 2020-04-27 14:43:05.000  5e30ae485f2f260deee70dff   \n",
       "6076    USD 2020-04-27 15:06:33.000  5d6a853ec8feea0c66e046ec   \n",
       "\n",
       "                   fecha_fin  \n",
       "0    2015-11-03 14:23:49.730  \n",
       "1    2016-12-18 17:34:47.000  \n",
       "2    2014-11-24 23:52:30.371  \n",
       "3    2015-01-23 23:52:30.371  \n",
       "4    2014-12-24 23:52:30.371  \n",
       "...                      ...  \n",
       "6072 2020-05-27 23:59:59.999  \n",
       "6073 2020-05-27 23:59:59.999  \n",
       "6074 2020-05-28 23:59:59.999  \n",
       "6075 2020-05-27 23:59:59.999  \n",
       "6076 2020-06-06 23:59:59.999  \n",
       "\n",
       "[736077 rows x 10 columns]"
      ]
     },
     "execution_count": 72,
     "metadata": {},
     "output_type": "execute_result"
    }
   ],
   "source": [
    "pagos"
   ]
  },
  {
   "cell_type": "code",
   "execution_count": 73,
   "metadata": {},
   "outputs": [],
   "source": [
    "pagos['pasarela']=pagos.acuerdo_id.astype(str)"
   ]
  },
  {
   "cell_type": "code",
   "execution_count": null,
   "metadata": {},
   "outputs": [],
   "source": []
  },
  {
   "cell_type": "code",
   "execution_count": 74,
   "metadata": {},
   "outputs": [],
   "source": [
    "pagos['acuerdo_id']=pagos.acuerdo_id.astype(str)"
   ]
  },
  {
   "cell_type": "code",
   "execution_count": 75,
   "metadata": {},
   "outputs": [],
   "source": [
    "historyParcial['SUBSCRIPTION_CODE']=historyParcial.SUBSCRIPTION_CODE.astype(str)"
   ]
  },
  {
   "cell_type": "code",
   "execution_count": 76,
   "metadata": {},
   "outputs": [],
   "source": [
    "pag_trans_payp=historyParcial.merge(pagos, right_on='acuerdo_id',left_on='SUBSCRIPTION_CODE',how='left')"
   ]
  },
  {
   "cell_type": "code",
   "execution_count": null,
   "metadata": {},
   "outputs": [],
   "source": []
  },
  {
   "cell_type": "code",
   "execution_count": 77,
   "metadata": {
    "scrolled": false
   },
   "outputs": [
    {
     "name": "stdout",
     "output_type": "stream",
     "text": [
      "<class 'pandas.core.frame.DataFrame'>\n",
      "Int64Index: 748861 entries, 0 to 748860\n",
      "Data columns (total 13 columns):\n",
      " #   Column             Non-Null Count   Dtype         \n",
      "---  ------             --------------   -----         \n",
      " 0   CUSTOMER_ID        748861 non-null  object        \n",
      " 1   SUBSCRIPTION_CODE  748861 non-null  object        \n",
      " 2   GATEWAY            748861 non-null  object        \n",
      " 3   _id                725350 non-null  object        \n",
      " 4   updatedAt          725350 non-null  datetime64[ns]\n",
      " 5   createdAt          725348 non-null  datetime64[ns]\n",
      " 6   user_id            725350 non-null  object        \n",
      " 7   pasarela           725350 non-null  object        \n",
      " 8   monto              725350 non-null  object        \n",
      " 9   moneda             725350 non-null  object        \n",
      " 10  fecha_pago         725350 non-null  datetime64[ns]\n",
      " 11  acuerdo_id         725350 non-null  object        \n",
      " 12  fecha_fin          725350 non-null  datetime64[ns]\n",
      "dtypes: datetime64[ns](4), object(9)\n",
      "memory usage: 80.0+ MB\n"
     ]
    }
   ],
   "source": [
    "pag_trans_payp.info()"
   ]
  },
  {
   "cell_type": "code",
   "execution_count": 78,
   "metadata": {},
   "outputs": [],
   "source": [
    "pag_trans_payp = pag_trans_payp.dropna(axis=0, subset=['createdAt'])"
   ]
  },
  {
   "cell_type": "code",
   "execution_count": 79,
   "metadata": {},
   "outputs": [
    {
     "data": {
      "text/plain": [
       "array(['transbank', 'paypal'], dtype=object)"
      ]
     },
     "execution_count": 79,
     "metadata": {},
     "output_type": "execute_result"
    }
   ],
   "source": [
    "pag_trans_payp['GATEWAY'].unique()"
   ]
  },
  {
   "cell_type": "code",
   "execution_count": 80,
   "metadata": {},
   "outputs": [
    {
     "data": {
      "text/plain": [
       "array(['transbank', 'paypal'], dtype=object)"
      ]
     },
     "execution_count": 80,
     "metadata": {},
     "output_type": "execute_result"
    }
   ],
   "source": [
    "pag_trans_payp['GATEWAY'].unique()"
   ]
  },
  {
   "cell_type": "code",
   "execution_count": 81,
   "metadata": {},
   "outputs": [
    {
     "name": "stdout",
     "output_type": "stream",
     "text": [
      "<class 'pandas.core.frame.DataFrame'>\n",
      "Int64Index: 725348 entries, 0 to 748860\n",
      "Data columns (total 13 columns):\n",
      " #   Column             Non-Null Count   Dtype         \n",
      "---  ------             --------------   -----         \n",
      " 0   CUSTOMER_ID        725348 non-null  object        \n",
      " 1   SUBSCRIPTION_CODE  725348 non-null  object        \n",
      " 2   GATEWAY            725348 non-null  object        \n",
      " 3   _id                725348 non-null  object        \n",
      " 4   updatedAt          725348 non-null  datetime64[ns]\n",
      " 5   createdAt          725348 non-null  datetime64[ns]\n",
      " 6   user_id            725348 non-null  object        \n",
      " 7   pasarela           725348 non-null  object        \n",
      " 8   monto              725348 non-null  object        \n",
      " 9   moneda             725348 non-null  object        \n",
      " 10  fecha_pago         725348 non-null  datetime64[ns]\n",
      " 11  acuerdo_id         725348 non-null  object        \n",
      " 12  fecha_fin          725348 non-null  datetime64[ns]\n",
      "dtypes: datetime64[ns](4), object(9)\n",
      "memory usage: 77.5+ MB\n"
     ]
    }
   ],
   "source": [
    "pag_trans_payp.info()"
   ]
  },
  {
   "cell_type": "code",
   "execution_count": null,
   "metadata": {},
   "outputs": [],
   "source": []
  },
  {
   "cell_type": "code",
   "execution_count": 82,
   "metadata": {},
   "outputs": [
    {
     "data": {
      "text/html": [
       "<div>\n",
       "<style scoped>\n",
       "    .dataframe tbody tr th:only-of-type {\n",
       "        vertical-align: middle;\n",
       "    }\n",
       "\n",
       "    .dataframe tbody tr th {\n",
       "        vertical-align: top;\n",
       "    }\n",
       "\n",
       "    .dataframe thead th {\n",
       "        text-align: right;\n",
       "    }\n",
       "</style>\n",
       "<table border=\"1\" class=\"dataframe\">\n",
       "  <thead>\n",
       "    <tr style=\"text-align: right;\">\n",
       "      <th></th>\n",
       "      <th>CUSTOMER_ID</th>\n",
       "      <th>SUBSCRIPTION_CODE</th>\n",
       "      <th>GATEWAY</th>\n",
       "      <th>_id</th>\n",
       "      <th>updatedAt</th>\n",
       "      <th>createdAt</th>\n",
       "      <th>user_id</th>\n",
       "      <th>pasarela</th>\n",
       "      <th>monto</th>\n",
       "      <th>moneda</th>\n",
       "      <th>fecha_pago</th>\n",
       "      <th>acuerdo_id</th>\n",
       "      <th>fecha_fin</th>\n",
       "    </tr>\n",
       "  </thead>\n",
       "  <tbody>\n",
       "    <tr>\n",
       "      <th>0</th>\n",
       "      <td>563857913817661751603df1</td>\n",
       "      <td>5861c4990ee08c3630cdd9b0</td>\n",
       "      <td>transbank</td>\n",
       "      <td>5861c4990ee08c3630cdd9b2</td>\n",
       "      <td>2017-01-24 18:50:19.322</td>\n",
       "      <td>2016-12-27 01:32:09.427</td>\n",
       "      <td>563857913817661751603df1</td>\n",
       "      <td>5861c4990ee08c3630cdd9b0</td>\n",
       "      <td>7390</td>\n",
       "      <td>CLP</td>\n",
       "      <td>2015-10-04 14:22:29.134</td>\n",
       "      <td>5861c4990ee08c3630cdd9b0</td>\n",
       "      <td>2015-11-03 14:23:49.730</td>\n",
       "    </tr>\n",
       "    <tr>\n",
       "      <th>1</th>\n",
       "      <td>563857923817661751603e6b</td>\n",
       "      <td>5861c4990ee08c3630cddaba</td>\n",
       "      <td>transbank</td>\n",
       "      <td>5861c4990ee08c3630cddad4</td>\n",
       "      <td>2017-01-24 18:50:21.232</td>\n",
       "      <td>2016-12-27 01:32:09.883</td>\n",
       "      <td>563857923817661751603e6b</td>\n",
       "      <td>5861c4990ee08c3630cddaba</td>\n",
       "      <td>7390</td>\n",
       "      <td>CLP</td>\n",
       "      <td>2014-01-21 23:52:17.022</td>\n",
       "      <td>5861c4990ee08c3630cddaba</td>\n",
       "      <td>2014-02-20 23:53:33.429</td>\n",
       "    </tr>\n",
       "    <tr>\n",
       "      <th>2</th>\n",
       "      <td>563857923817661751603e6b</td>\n",
       "      <td>5861c4990ee08c3630cddaba</td>\n",
       "      <td>transbank</td>\n",
       "      <td>5861c4990ee08c3630cddad3</td>\n",
       "      <td>2017-01-24 18:50:21.231</td>\n",
       "      <td>2016-12-27 01:32:09.883</td>\n",
       "      <td>563857923817661751603e6b</td>\n",
       "      <td>5861c4990ee08c3630cddaba</td>\n",
       "      <td>7390</td>\n",
       "      <td>CLP</td>\n",
       "      <td>2014-02-20 23:52:00.005</td>\n",
       "      <td>5861c4990ee08c3630cddaba</td>\n",
       "      <td>2014-03-22 23:53:33.429</td>\n",
       "    </tr>\n",
       "    <tr>\n",
       "      <th>3</th>\n",
       "      <td>563857923817661751603e6b</td>\n",
       "      <td>5861c4990ee08c3630cddaba</td>\n",
       "      <td>transbank</td>\n",
       "      <td>5861c4990ee08c3630cddad5</td>\n",
       "      <td>2017-01-24 18:50:21.232</td>\n",
       "      <td>2016-12-27 01:32:09.883</td>\n",
       "      <td>563857923817661751603e6b</td>\n",
       "      <td>5861c4990ee08c3630cddaba</td>\n",
       "      <td>7390</td>\n",
       "      <td>CLP</td>\n",
       "      <td>2013-12-22 23:52:20.639</td>\n",
       "      <td>5861c4990ee08c3630cddaba</td>\n",
       "      <td>2014-01-21 23:53:33.429</td>\n",
       "    </tr>\n",
       "    <tr>\n",
       "      <th>4</th>\n",
       "      <td>563857923817661751603e6b</td>\n",
       "      <td>5861c4990ee08c3630cddaba</td>\n",
       "      <td>transbank</td>\n",
       "      <td>5861c4990ee08c3630cddad9</td>\n",
       "      <td>2017-01-24 18:50:21.235</td>\n",
       "      <td>2016-12-27 01:32:09.884</td>\n",
       "      <td>563857923817661751603e6b</td>\n",
       "      <td>5861c4990ee08c3630cddaba</td>\n",
       "      <td>7390</td>\n",
       "      <td>CLP</td>\n",
       "      <td>2013-08-24 20:16:13.932</td>\n",
       "      <td>5861c4990ee08c3630cddaba</td>\n",
       "      <td>2013-09-23 20:18:49.240</td>\n",
       "    </tr>\n",
       "    <tr>\n",
       "      <th>...</th>\n",
       "      <td>...</td>\n",
       "      <td>...</td>\n",
       "      <td>...</td>\n",
       "      <td>...</td>\n",
       "      <td>...</td>\n",
       "      <td>...</td>\n",
       "      <td>...</td>\n",
       "      <td>...</td>\n",
       "      <td>...</td>\n",
       "      <td>...</td>\n",
       "      <td>...</td>\n",
       "      <td>...</td>\n",
       "      <td>...</td>\n",
       "    </tr>\n",
       "    <tr>\n",
       "      <th>748835</th>\n",
       "      <td>5e6ebac1faadb50d9386c4d7</td>\n",
       "      <td>5e6ebb958d6fbc109d67017d</td>\n",
       "      <td>paypal</td>\n",
       "      <td>5e6ebc040b6801388a352fb0</td>\n",
       "      <td>2020-03-17 13:01:26.137</td>\n",
       "      <td>2020-03-15 23:36:36.161</td>\n",
       "      <td>5e6ebac1faadb50d9386c4d7</td>\n",
       "      <td>5e6ebb958d6fbc109d67017d</td>\n",
       "      <td>17</td>\n",
       "      <td>USD</td>\n",
       "      <td>2020-03-15 23:36:10.000</td>\n",
       "      <td>5e6ebb958d6fbc109d67017d</td>\n",
       "      <td>2020-04-14 23:59:59.999</td>\n",
       "    </tr>\n",
       "    <tr>\n",
       "      <th>748836</th>\n",
       "      <td>5e713ea4f2f7c20d78d19cc4</td>\n",
       "      <td>5e714680c22d530aad0ed3ec</td>\n",
       "      <td>paypal</td>\n",
       "      <td>5e7146c9d30d7254bc57432e</td>\n",
       "      <td>2020-03-19 13:05:35.838</td>\n",
       "      <td>2020-03-17 21:53:13.372</td>\n",
       "      <td>5e713ea4f2f7c20d78d19cc4</td>\n",
       "      <td>5e714680c22d530aad0ed3ec</td>\n",
       "      <td>17</td>\n",
       "      <td>USD</td>\n",
       "      <td>2020-03-17 21:52:48.000</td>\n",
       "      <td>5e714680c22d530aad0ed3ec</td>\n",
       "      <td>2020-04-16 23:59:59.999</td>\n",
       "    </tr>\n",
       "    <tr>\n",
       "      <th>748840</th>\n",
       "      <td>5e781e7ec22d530aad0edb2a</td>\n",
       "      <td>5e7823a8f2f7c20d78d1a5ab</td>\n",
       "      <td>paypal</td>\n",
       "      <td>5e789db9f348107f6a50348b</td>\n",
       "      <td>2020-03-24 13:04:51.517</td>\n",
       "      <td>2020-03-23 11:30:01.103</td>\n",
       "      <td>5e781e7ec22d530aad0edb2a</td>\n",
       "      <td>5e7823a8f2f7c20d78d1a5ab</td>\n",
       "      <td>17</td>\n",
       "      <td>USD</td>\n",
       "      <td>2020-03-23 11:29:36.000</td>\n",
       "      <td>5e7823a8f2f7c20d78d1a5ab</td>\n",
       "      <td>2020-04-22 23:59:59.999</td>\n",
       "    </tr>\n",
       "    <tr>\n",
       "      <th>748841</th>\n",
       "      <td>5e781e7ec22d530aad0edb2a</td>\n",
       "      <td>5e7823a8f2f7c20d78d1a5ab</td>\n",
       "      <td>paypal</td>\n",
       "      <td>5ea0577ee0a51e2c88674944</td>\n",
       "      <td>2020-04-24 16:15:19.709</td>\n",
       "      <td>2020-04-22 14:41:02.176</td>\n",
       "      <td>5e781e7ec22d530aad0edb2a</td>\n",
       "      <td>5e7823a8f2f7c20d78d1a5ab</td>\n",
       "      <td>17</td>\n",
       "      <td>USD</td>\n",
       "      <td>2020-04-22 14:40:35.000</td>\n",
       "      <td>5e7823a8f2f7c20d78d1a5ab</td>\n",
       "      <td>2020-05-22 23:59:59.999</td>\n",
       "    </tr>\n",
       "    <tr>\n",
       "      <th>748860</th>\n",
       "      <td>5ea0b295a796be1213975b03</td>\n",
       "      <td>5ea0b342f1106b0f0744fd30</td>\n",
       "      <td>paypal</td>\n",
       "      <td>5ea0b392e0a51e2c8867494a</td>\n",
       "      <td>2020-04-24 16:15:20.044</td>\n",
       "      <td>2020-04-22 21:13:54.224</td>\n",
       "      <td>5ea0b295a796be1213975b03</td>\n",
       "      <td>5ea0b342f1106b0f0744fd30</td>\n",
       "      <td>17</td>\n",
       "      <td>USD</td>\n",
       "      <td>2020-04-22 21:13:28.000</td>\n",
       "      <td>5ea0b342f1106b0f0744fd30</td>\n",
       "      <td>2020-05-22 23:59:59.999</td>\n",
       "    </tr>\n",
       "  </tbody>\n",
       "</table>\n",
       "<p>725348 rows × 13 columns</p>\n",
       "</div>"
      ],
      "text/plain": [
       "                     CUSTOMER_ID         SUBSCRIPTION_CODE    GATEWAY  \\\n",
       "0       563857913817661751603df1  5861c4990ee08c3630cdd9b0  transbank   \n",
       "1       563857923817661751603e6b  5861c4990ee08c3630cddaba  transbank   \n",
       "2       563857923817661751603e6b  5861c4990ee08c3630cddaba  transbank   \n",
       "3       563857923817661751603e6b  5861c4990ee08c3630cddaba  transbank   \n",
       "4       563857923817661751603e6b  5861c4990ee08c3630cddaba  transbank   \n",
       "...                          ...                       ...        ...   \n",
       "748835  5e6ebac1faadb50d9386c4d7  5e6ebb958d6fbc109d67017d     paypal   \n",
       "748836  5e713ea4f2f7c20d78d19cc4  5e714680c22d530aad0ed3ec     paypal   \n",
       "748840  5e781e7ec22d530aad0edb2a  5e7823a8f2f7c20d78d1a5ab     paypal   \n",
       "748841  5e781e7ec22d530aad0edb2a  5e7823a8f2f7c20d78d1a5ab     paypal   \n",
       "748860  5ea0b295a796be1213975b03  5ea0b342f1106b0f0744fd30     paypal   \n",
       "\n",
       "                             _id               updatedAt  \\\n",
       "0       5861c4990ee08c3630cdd9b2 2017-01-24 18:50:19.322   \n",
       "1       5861c4990ee08c3630cddad4 2017-01-24 18:50:21.232   \n",
       "2       5861c4990ee08c3630cddad3 2017-01-24 18:50:21.231   \n",
       "3       5861c4990ee08c3630cddad5 2017-01-24 18:50:21.232   \n",
       "4       5861c4990ee08c3630cddad9 2017-01-24 18:50:21.235   \n",
       "...                          ...                     ...   \n",
       "748835  5e6ebc040b6801388a352fb0 2020-03-17 13:01:26.137   \n",
       "748836  5e7146c9d30d7254bc57432e 2020-03-19 13:05:35.838   \n",
       "748840  5e789db9f348107f6a50348b 2020-03-24 13:04:51.517   \n",
       "748841  5ea0577ee0a51e2c88674944 2020-04-24 16:15:19.709   \n",
       "748860  5ea0b392e0a51e2c8867494a 2020-04-24 16:15:20.044   \n",
       "\n",
       "                     createdAt                   user_id  \\\n",
       "0      2016-12-27 01:32:09.427  563857913817661751603df1   \n",
       "1      2016-12-27 01:32:09.883  563857923817661751603e6b   \n",
       "2      2016-12-27 01:32:09.883  563857923817661751603e6b   \n",
       "3      2016-12-27 01:32:09.883  563857923817661751603e6b   \n",
       "4      2016-12-27 01:32:09.884  563857923817661751603e6b   \n",
       "...                        ...                       ...   \n",
       "748835 2020-03-15 23:36:36.161  5e6ebac1faadb50d9386c4d7   \n",
       "748836 2020-03-17 21:53:13.372  5e713ea4f2f7c20d78d19cc4   \n",
       "748840 2020-03-23 11:30:01.103  5e781e7ec22d530aad0edb2a   \n",
       "748841 2020-04-22 14:41:02.176  5e781e7ec22d530aad0edb2a   \n",
       "748860 2020-04-22 21:13:54.224  5ea0b295a796be1213975b03   \n",
       "\n",
       "                        pasarela monto moneda              fecha_pago  \\\n",
       "0       5861c4990ee08c3630cdd9b0  7390    CLP 2015-10-04 14:22:29.134   \n",
       "1       5861c4990ee08c3630cddaba  7390    CLP 2014-01-21 23:52:17.022   \n",
       "2       5861c4990ee08c3630cddaba  7390    CLP 2014-02-20 23:52:00.005   \n",
       "3       5861c4990ee08c3630cddaba  7390    CLP 2013-12-22 23:52:20.639   \n",
       "4       5861c4990ee08c3630cddaba  7390    CLP 2013-08-24 20:16:13.932   \n",
       "...                          ...   ...    ...                     ...   \n",
       "748835  5e6ebb958d6fbc109d67017d    17    USD 2020-03-15 23:36:10.000   \n",
       "748836  5e714680c22d530aad0ed3ec    17    USD 2020-03-17 21:52:48.000   \n",
       "748840  5e7823a8f2f7c20d78d1a5ab    17    USD 2020-03-23 11:29:36.000   \n",
       "748841  5e7823a8f2f7c20d78d1a5ab    17    USD 2020-04-22 14:40:35.000   \n",
       "748860  5ea0b342f1106b0f0744fd30    17    USD 2020-04-22 21:13:28.000   \n",
       "\n",
       "                      acuerdo_id               fecha_fin  \n",
       "0       5861c4990ee08c3630cdd9b0 2015-11-03 14:23:49.730  \n",
       "1       5861c4990ee08c3630cddaba 2014-02-20 23:53:33.429  \n",
       "2       5861c4990ee08c3630cddaba 2014-03-22 23:53:33.429  \n",
       "3       5861c4990ee08c3630cddaba 2014-01-21 23:53:33.429  \n",
       "4       5861c4990ee08c3630cddaba 2013-09-23 20:18:49.240  \n",
       "...                          ...                     ...  \n",
       "748835  5e6ebb958d6fbc109d67017d 2020-04-14 23:59:59.999  \n",
       "748836  5e714680c22d530aad0ed3ec 2020-04-16 23:59:59.999  \n",
       "748840  5e7823a8f2f7c20d78d1a5ab 2020-04-22 23:59:59.999  \n",
       "748841  5e7823a8f2f7c20d78d1a5ab 2020-05-22 23:59:59.999  \n",
       "748860  5ea0b342f1106b0f0744fd30 2020-05-22 23:59:59.999  \n",
       "\n",
       "[725348 rows x 13 columns]"
      ]
     },
     "execution_count": 82,
     "metadata": {},
     "output_type": "execute_result"
    }
   ],
   "source": [
    "pag_trans_payp"
   ]
  },
  {
   "cell_type": "code",
   "execution_count": 83,
   "metadata": {},
   "outputs": [],
   "source": [
    "pag_trans_payp['fecha_fin'] = pd.to_datetime(pag_trans_payp['fecha_fin'])"
   ]
  },
  {
   "cell_type": "markdown",
   "metadata": {},
   "source": [
    "pag_trans_payp['START_DATE'] = pd.to_datetime(pag_trans_payp['START_DATE'])"
   ]
  },
  {
   "cell_type": "code",
   "execution_count": 103,
   "metadata": {},
   "outputs": [],
   "source": [
    "pag_trans_payp['fecha_pago'] = pd.to_datetime(pag_trans_payp['fecha_pago'])"
   ]
  },
  {
   "cell_type": "code",
   "execution_count": null,
   "metadata": {},
   "outputs": [],
   "source": []
  },
  {
   "cell_type": "code",
   "execution_count": 104,
   "metadata": {},
   "outputs": [
    {
     "data": {
      "text/plain": [
       "CUSTOMER_ID          7\n",
       "SUBSCRIPTION_CODE    7\n",
       "GATEWAY              7\n",
       "_id                  7\n",
       "updatedAt            7\n",
       "createdAt            7\n",
       "user_id              7\n",
       "pasarela             7\n",
       "monto                7\n",
       "moneda               7\n",
       "fecha_pago           7\n",
       "acuerdo_id           7\n",
       "fecha_fin            7\n",
       "dtype: int64"
      ]
     },
     "execution_count": 104,
     "metadata": {},
     "output_type": "execute_result"
    }
   ],
   "source": [
    "pag_trans_payp[pag_trans_payp['fecha_pago']>pag_trans_payp['fecha_fin']].count()"
   ]
  },
  {
   "cell_type": "code",
   "execution_count": 105,
   "metadata": {},
   "outputs": [
    {
     "data": {
      "text/html": [
       "<div>\n",
       "<style scoped>\n",
       "    .dataframe tbody tr th:only-of-type {\n",
       "        vertical-align: middle;\n",
       "    }\n",
       "\n",
       "    .dataframe tbody tr th {\n",
       "        vertical-align: top;\n",
       "    }\n",
       "\n",
       "    .dataframe thead th {\n",
       "        text-align: right;\n",
       "    }\n",
       "</style>\n",
       "<table border=\"1\" class=\"dataframe\">\n",
       "  <thead>\n",
       "    <tr style=\"text-align: right;\">\n",
       "      <th></th>\n",
       "      <th>CUSTOMER_ID</th>\n",
       "      <th>SUBSCRIPTION_CODE</th>\n",
       "      <th>GATEWAY</th>\n",
       "      <th>_id</th>\n",
       "      <th>updatedAt</th>\n",
       "      <th>createdAt</th>\n",
       "      <th>user_id</th>\n",
       "      <th>pasarela</th>\n",
       "      <th>monto</th>\n",
       "      <th>moneda</th>\n",
       "      <th>fecha_pago</th>\n",
       "      <th>acuerdo_id</th>\n",
       "      <th>fecha_fin</th>\n",
       "    </tr>\n",
       "  </thead>\n",
       "  <tbody>\n",
       "    <tr>\n",
       "      <th>207682</th>\n",
       "      <td>5638586b3817661751608a41</td>\n",
       "      <td>5861c7000ee08c3630d46d5f</td>\n",
       "      <td>transbank</td>\n",
       "      <td>5861c7000ee08c3630d46d61</td>\n",
       "      <td>2017-01-25 12:15:58.306</td>\n",
       "      <td>2016-12-27 01:42:24.347</td>\n",
       "      <td>5638586b3817661751608a41</td>\n",
       "      <td>5861c7000ee08c3630d46d5f</td>\n",
       "      <td>7390</td>\n",
       "      <td>CLP</td>\n",
       "      <td>2013-04-12 21:04:47.921</td>\n",
       "      <td>5861c7000ee08c3630d46d5f</td>\n",
       "      <td>2013-03-22 21:41:21.943</td>\n",
       "    </tr>\n",
       "    <tr>\n",
       "      <th>676616</th>\n",
       "      <td>5dd44755dec85f55595cef0b</td>\n",
       "      <td>5dd447f9fbecca53edee7a81</td>\n",
       "      <td>transbank</td>\n",
       "      <td>5dd447fcfbecca53edee7a83</td>\n",
       "      <td>2019-11-19 20:00:43.323</td>\n",
       "      <td>2019-11-19 19:52:28.297</td>\n",
       "      <td>5dd44755dec85f55595cef0b</td>\n",
       "      <td>5dd447f9fbecca53edee7a81</td>\n",
       "      <td>10990</td>\n",
       "      <td>CLP</td>\n",
       "      <td>2019-11-19 20:00:26.000</td>\n",
       "      <td>5dd447f9fbecca53edee7a81</td>\n",
       "      <td>2019-11-18 23:59:59.999</td>\n",
       "    </tr>\n",
       "    <tr>\n",
       "      <th>697166</th>\n",
       "      <td>56385701381766175160091f</td>\n",
       "      <td>589531553eca95290708d7d6</td>\n",
       "      <td>paypal</td>\n",
       "      <td>58e7da65d128441a7018f574</td>\n",
       "      <td>2017-04-07 20:04:03.126</td>\n",
       "      <td>2017-04-07 18:28:53.363</td>\n",
       "      <td>56385701381766175160091f</td>\n",
       "      <td>589531553eca95290708d7d6</td>\n",
       "      <td>15.49</td>\n",
       "      <td>USD</td>\n",
       "      <td>2017-04-05 22:25:39.000</td>\n",
       "      <td>589531553eca95290708d7d6</td>\n",
       "      <td>2017-04-05 01:43:45.811</td>\n",
       "    </tr>\n",
       "    <tr>\n",
       "      <th>702700</th>\n",
       "      <td>5638581d3817661751606ed0</td>\n",
       "      <td>58a970c1e058e3060078693e</td>\n",
       "      <td>paypal</td>\n",
       "      <td>58d17e4b7af49d600e108ae8</td>\n",
       "      <td>2017-03-21 19:40:19.163</td>\n",
       "      <td>2017-03-21 19:26:03.516</td>\n",
       "      <td>5638581d3817661751606ed0</td>\n",
       "      <td>58a970c1e058e3060078693e</td>\n",
       "      <td>15.49</td>\n",
       "      <td>USD</td>\n",
       "      <td>2017-03-21 13:44:23.000</td>\n",
       "      <td>58a970c1e058e3060078693e</td>\n",
       "      <td>2017-03-21 10:18:07.007</td>\n",
       "    </tr>\n",
       "    <tr>\n",
       "      <th>716093</th>\n",
       "      <td>589fbdc34320da55a2d1d14c</td>\n",
       "      <td>58a8e78be058e30600786576</td>\n",
       "      <td>paypal</td>\n",
       "      <td>58d17e9a7af49d600e108aeb</td>\n",
       "      <td>2017-03-21 19:40:35.864</td>\n",
       "      <td>2017-03-21 19:27:23.002</td>\n",
       "      <td>589fbdc34320da55a2d1d14c</td>\n",
       "      <td>58a8e78be058e30600786576</td>\n",
       "      <td>15.49</td>\n",
       "      <td>USD</td>\n",
       "      <td>2017-03-21 13:45:44.000</td>\n",
       "      <td>58a8e78be058e30600786576</td>\n",
       "      <td>2017-03-21 00:33:37.475</td>\n",
       "    </tr>\n",
       "    <tr>\n",
       "      <th>717550</th>\n",
       "      <td>58baec13c907224492c2c16e</td>\n",
       "      <td>58baededc907224492c2c1b3</td>\n",
       "      <td>paypal</td>\n",
       "      <td>58e7f481a3b2683821a2440d</td>\n",
       "      <td>2017-04-07 20:40:17.261</td>\n",
       "      <td>2017-04-07 20:20:17.498</td>\n",
       "      <td>58baec13c907224492c2c16e</td>\n",
       "      <td>58baededc907224492c2c1b3</td>\n",
       "      <td>17</td>\n",
       "      <td>USD</td>\n",
       "      <td>2017-04-03 22:49:02.000</td>\n",
       "      <td>58baededc907224492c2c1b3</td>\n",
       "      <td>2017-04-03 16:48:08.230</td>\n",
       "    </tr>\n",
       "    <tr>\n",
       "      <th>718174</th>\n",
       "      <td>58c4a0a3bd8fea0b125674de</td>\n",
       "      <td>58c58b50e3121f0bc8348526</td>\n",
       "      <td>paypal</td>\n",
       "      <td>58f3d6bf14eb043bfd55e3c0</td>\n",
       "      <td>2017-04-16 21:00:35.641</td>\n",
       "      <td>2017-04-16 20:40:31.324</td>\n",
       "      <td>58c4a0a3bd8fea0b125674de</td>\n",
       "      <td>58c58b50e3121f0bc8348526</td>\n",
       "      <td>17</td>\n",
       "      <td>USD</td>\n",
       "      <td>2017-04-16 20:40:25.000</td>\n",
       "      <td>58c58b50e3121f0bc8348526</td>\n",
       "      <td>2017-04-11 17:59:06.557</td>\n",
       "    </tr>\n",
       "  </tbody>\n",
       "</table>\n",
       "</div>"
      ],
      "text/plain": [
       "                     CUSTOMER_ID         SUBSCRIPTION_CODE    GATEWAY  \\\n",
       "207682  5638586b3817661751608a41  5861c7000ee08c3630d46d5f  transbank   \n",
       "676616  5dd44755dec85f55595cef0b  5dd447f9fbecca53edee7a81  transbank   \n",
       "697166  56385701381766175160091f  589531553eca95290708d7d6     paypal   \n",
       "702700  5638581d3817661751606ed0  58a970c1e058e3060078693e     paypal   \n",
       "716093  589fbdc34320da55a2d1d14c  58a8e78be058e30600786576     paypal   \n",
       "717550  58baec13c907224492c2c16e  58baededc907224492c2c1b3     paypal   \n",
       "718174  58c4a0a3bd8fea0b125674de  58c58b50e3121f0bc8348526     paypal   \n",
       "\n",
       "                             _id               updatedAt  \\\n",
       "207682  5861c7000ee08c3630d46d61 2017-01-25 12:15:58.306   \n",
       "676616  5dd447fcfbecca53edee7a83 2019-11-19 20:00:43.323   \n",
       "697166  58e7da65d128441a7018f574 2017-04-07 20:04:03.126   \n",
       "702700  58d17e4b7af49d600e108ae8 2017-03-21 19:40:19.163   \n",
       "716093  58d17e9a7af49d600e108aeb 2017-03-21 19:40:35.864   \n",
       "717550  58e7f481a3b2683821a2440d 2017-04-07 20:40:17.261   \n",
       "718174  58f3d6bf14eb043bfd55e3c0 2017-04-16 21:00:35.641   \n",
       "\n",
       "                     createdAt                   user_id  \\\n",
       "207682 2016-12-27 01:42:24.347  5638586b3817661751608a41   \n",
       "676616 2019-11-19 19:52:28.297  5dd44755dec85f55595cef0b   \n",
       "697166 2017-04-07 18:28:53.363  56385701381766175160091f   \n",
       "702700 2017-03-21 19:26:03.516  5638581d3817661751606ed0   \n",
       "716093 2017-03-21 19:27:23.002  589fbdc34320da55a2d1d14c   \n",
       "717550 2017-04-07 20:20:17.498  58baec13c907224492c2c16e   \n",
       "718174 2017-04-16 20:40:31.324  58c4a0a3bd8fea0b125674de   \n",
       "\n",
       "                        pasarela  monto moneda              fecha_pago  \\\n",
       "207682  5861c7000ee08c3630d46d5f   7390    CLP 2013-04-12 21:04:47.921   \n",
       "676616  5dd447f9fbecca53edee7a81  10990    CLP 2019-11-19 20:00:26.000   \n",
       "697166  589531553eca95290708d7d6  15.49    USD 2017-04-05 22:25:39.000   \n",
       "702700  58a970c1e058e3060078693e  15.49    USD 2017-03-21 13:44:23.000   \n",
       "716093  58a8e78be058e30600786576  15.49    USD 2017-03-21 13:45:44.000   \n",
       "717550  58baededc907224492c2c1b3     17    USD 2017-04-03 22:49:02.000   \n",
       "718174  58c58b50e3121f0bc8348526     17    USD 2017-04-16 20:40:25.000   \n",
       "\n",
       "                      acuerdo_id               fecha_fin  \n",
       "207682  5861c7000ee08c3630d46d5f 2013-03-22 21:41:21.943  \n",
       "676616  5dd447f9fbecca53edee7a81 2019-11-18 23:59:59.999  \n",
       "697166  589531553eca95290708d7d6 2017-04-05 01:43:45.811  \n",
       "702700  58a970c1e058e3060078693e 2017-03-21 10:18:07.007  \n",
       "716093  58a8e78be058e30600786576 2017-03-21 00:33:37.475  \n",
       "717550  58baededc907224492c2c1b3 2017-04-03 16:48:08.230  \n",
       "718174  58c58b50e3121f0bc8348526 2017-04-11 17:59:06.557  "
      ]
     },
     "execution_count": 105,
     "metadata": {},
     "output_type": "execute_result"
    }
   ],
   "source": [
    "pag_trans_payp[pag_trans_payp['fecha_pago']>pag_trans_payp['fecha_fin']]"
   ]
  },
  {
   "cell_type": "code",
   "execution_count": 106,
   "metadata": {},
   "outputs": [],
   "source": [
    "pag_trans_payp=pag_trans_payp[pag_trans_payp['fecha_pago']<pag_trans_payp['fecha_fin']]"
   ]
  },
  {
   "cell_type": "code",
   "execution_count": 107,
   "metadata": {},
   "outputs": [
    {
     "name": "stderr",
     "output_type": "stream",
     "text": [
      "/home/tecnoboy/HERRAMIENTAS/jupyterNotebook/datosSernac/lib/python3.6/site-packages/ipykernel_launcher.py:1: SettingWithCopyWarning: \n",
      "A value is trying to be set on a copy of a slice from a DataFrame.\n",
      "Try using .loc[row_indexer,col_indexer] = value instead\n",
      "\n",
      "See the caveats in the documentation: https://pandas.pydata.org/pandas-docs/stable/user_guide/indexing.html#returning-a-view-versus-a-copy\n",
      "  \"\"\"Entry point for launching an IPython kernel.\n"
     ]
    }
   ],
   "source": [
    "pag_trans_payp['monto']=pag_trans_payp['monto'].astype(float)"
   ]
  },
  {
   "cell_type": "code",
   "execution_count": 108,
   "metadata": {},
   "outputs": [
    {
     "name": "stderr",
     "output_type": "stream",
     "text": [
      "/home/tecnoboy/HERRAMIENTAS/jupyterNotebook/datosSernac/lib/python3.6/site-packages/pandas/core/indexing.py:965: SettingWithCopyWarning: \n",
      "A value is trying to be set on a copy of a slice from a DataFrame.\n",
      "Try using .loc[row_indexer,col_indexer] = value instead\n",
      "\n",
      "See the caveats in the documentation: https://pandas.pydata.org/pandas-docs/stable/user_guide/indexing.html#returning-a-view-versus-a-copy\n",
      "  self.obj[item] = s\n"
     ]
    }
   ],
   "source": [
    "pag_trans_payp.loc[pag_trans_payp[\"moneda\"]=='USD','monto'] = pag_trans_payp[\"monto\"]*685"
   ]
  },
  {
   "cell_type": "code",
   "execution_count": 109,
   "metadata": {
    "scrolled": true
   },
   "outputs": [
    {
     "data": {
      "text/html": [
       "<div>\n",
       "<style scoped>\n",
       "    .dataframe tbody tr th:only-of-type {\n",
       "        vertical-align: middle;\n",
       "    }\n",
       "\n",
       "    .dataframe tbody tr th {\n",
       "        vertical-align: top;\n",
       "    }\n",
       "\n",
       "    .dataframe thead th {\n",
       "        text-align: right;\n",
       "    }\n",
       "</style>\n",
       "<table border=\"1\" class=\"dataframe\">\n",
       "  <thead>\n",
       "    <tr style=\"text-align: right;\">\n",
       "      <th></th>\n",
       "      <th>CUSTOMER_ID</th>\n",
       "      <th>SUBSCRIPTION_CODE</th>\n",
       "      <th>GATEWAY</th>\n",
       "      <th>_id</th>\n",
       "      <th>updatedAt</th>\n",
       "      <th>createdAt</th>\n",
       "      <th>user_id</th>\n",
       "      <th>pasarela</th>\n",
       "      <th>monto</th>\n",
       "      <th>moneda</th>\n",
       "      <th>fecha_pago</th>\n",
       "      <th>acuerdo_id</th>\n",
       "      <th>fecha_fin</th>\n",
       "    </tr>\n",
       "  </thead>\n",
       "  <tbody>\n",
       "    <tr>\n",
       "      <th>0</th>\n",
       "      <td>563857913817661751603df1</td>\n",
       "      <td>5861c4990ee08c3630cdd9b0</td>\n",
       "      <td>transbank</td>\n",
       "      <td>5861c4990ee08c3630cdd9b2</td>\n",
       "      <td>2017-01-24 18:50:19.322</td>\n",
       "      <td>2016-12-27 01:32:09.427</td>\n",
       "      <td>563857913817661751603df1</td>\n",
       "      <td>5861c4990ee08c3630cdd9b0</td>\n",
       "      <td>7390.0</td>\n",
       "      <td>CLP</td>\n",
       "      <td>2015-10-04 14:22:29.134</td>\n",
       "      <td>5861c4990ee08c3630cdd9b0</td>\n",
       "      <td>2015-11-03 14:23:49.730</td>\n",
       "    </tr>\n",
       "    <tr>\n",
       "      <th>1</th>\n",
       "      <td>563857923817661751603e6b</td>\n",
       "      <td>5861c4990ee08c3630cddaba</td>\n",
       "      <td>transbank</td>\n",
       "      <td>5861c4990ee08c3630cddad4</td>\n",
       "      <td>2017-01-24 18:50:21.232</td>\n",
       "      <td>2016-12-27 01:32:09.883</td>\n",
       "      <td>563857923817661751603e6b</td>\n",
       "      <td>5861c4990ee08c3630cddaba</td>\n",
       "      <td>7390.0</td>\n",
       "      <td>CLP</td>\n",
       "      <td>2014-01-21 23:52:17.022</td>\n",
       "      <td>5861c4990ee08c3630cddaba</td>\n",
       "      <td>2014-02-20 23:53:33.429</td>\n",
       "    </tr>\n",
       "    <tr>\n",
       "      <th>2</th>\n",
       "      <td>563857923817661751603e6b</td>\n",
       "      <td>5861c4990ee08c3630cddaba</td>\n",
       "      <td>transbank</td>\n",
       "      <td>5861c4990ee08c3630cddad3</td>\n",
       "      <td>2017-01-24 18:50:21.231</td>\n",
       "      <td>2016-12-27 01:32:09.883</td>\n",
       "      <td>563857923817661751603e6b</td>\n",
       "      <td>5861c4990ee08c3630cddaba</td>\n",
       "      <td>7390.0</td>\n",
       "      <td>CLP</td>\n",
       "      <td>2014-02-20 23:52:00.005</td>\n",
       "      <td>5861c4990ee08c3630cddaba</td>\n",
       "      <td>2014-03-22 23:53:33.429</td>\n",
       "    </tr>\n",
       "    <tr>\n",
       "      <th>3</th>\n",
       "      <td>563857923817661751603e6b</td>\n",
       "      <td>5861c4990ee08c3630cddaba</td>\n",
       "      <td>transbank</td>\n",
       "      <td>5861c4990ee08c3630cddad5</td>\n",
       "      <td>2017-01-24 18:50:21.232</td>\n",
       "      <td>2016-12-27 01:32:09.883</td>\n",
       "      <td>563857923817661751603e6b</td>\n",
       "      <td>5861c4990ee08c3630cddaba</td>\n",
       "      <td>7390.0</td>\n",
       "      <td>CLP</td>\n",
       "      <td>2013-12-22 23:52:20.639</td>\n",
       "      <td>5861c4990ee08c3630cddaba</td>\n",
       "      <td>2014-01-21 23:53:33.429</td>\n",
       "    </tr>\n",
       "    <tr>\n",
       "      <th>4</th>\n",
       "      <td>563857923817661751603e6b</td>\n",
       "      <td>5861c4990ee08c3630cddaba</td>\n",
       "      <td>transbank</td>\n",
       "      <td>5861c4990ee08c3630cddad9</td>\n",
       "      <td>2017-01-24 18:50:21.235</td>\n",
       "      <td>2016-12-27 01:32:09.884</td>\n",
       "      <td>563857923817661751603e6b</td>\n",
       "      <td>5861c4990ee08c3630cddaba</td>\n",
       "      <td>7390.0</td>\n",
       "      <td>CLP</td>\n",
       "      <td>2013-08-24 20:16:13.932</td>\n",
       "      <td>5861c4990ee08c3630cddaba</td>\n",
       "      <td>2013-09-23 20:18:49.240</td>\n",
       "    </tr>\n",
       "    <tr>\n",
       "      <th>...</th>\n",
       "      <td>...</td>\n",
       "      <td>...</td>\n",
       "      <td>...</td>\n",
       "      <td>...</td>\n",
       "      <td>...</td>\n",
       "      <td>...</td>\n",
       "      <td>...</td>\n",
       "      <td>...</td>\n",
       "      <td>...</td>\n",
       "      <td>...</td>\n",
       "      <td>...</td>\n",
       "      <td>...</td>\n",
       "      <td>...</td>\n",
       "    </tr>\n",
       "    <tr>\n",
       "      <th>748835</th>\n",
       "      <td>5e6ebac1faadb50d9386c4d7</td>\n",
       "      <td>5e6ebb958d6fbc109d67017d</td>\n",
       "      <td>paypal</td>\n",
       "      <td>5e6ebc040b6801388a352fb0</td>\n",
       "      <td>2020-03-17 13:01:26.137</td>\n",
       "      <td>2020-03-15 23:36:36.161</td>\n",
       "      <td>5e6ebac1faadb50d9386c4d7</td>\n",
       "      <td>5e6ebb958d6fbc109d67017d</td>\n",
       "      <td>11645.0</td>\n",
       "      <td>USD</td>\n",
       "      <td>2020-03-15 23:36:10.000</td>\n",
       "      <td>5e6ebb958d6fbc109d67017d</td>\n",
       "      <td>2020-04-14 23:59:59.999</td>\n",
       "    </tr>\n",
       "    <tr>\n",
       "      <th>748836</th>\n",
       "      <td>5e713ea4f2f7c20d78d19cc4</td>\n",
       "      <td>5e714680c22d530aad0ed3ec</td>\n",
       "      <td>paypal</td>\n",
       "      <td>5e7146c9d30d7254bc57432e</td>\n",
       "      <td>2020-03-19 13:05:35.838</td>\n",
       "      <td>2020-03-17 21:53:13.372</td>\n",
       "      <td>5e713ea4f2f7c20d78d19cc4</td>\n",
       "      <td>5e714680c22d530aad0ed3ec</td>\n",
       "      <td>11645.0</td>\n",
       "      <td>USD</td>\n",
       "      <td>2020-03-17 21:52:48.000</td>\n",
       "      <td>5e714680c22d530aad0ed3ec</td>\n",
       "      <td>2020-04-16 23:59:59.999</td>\n",
       "    </tr>\n",
       "    <tr>\n",
       "      <th>748840</th>\n",
       "      <td>5e781e7ec22d530aad0edb2a</td>\n",
       "      <td>5e7823a8f2f7c20d78d1a5ab</td>\n",
       "      <td>paypal</td>\n",
       "      <td>5e789db9f348107f6a50348b</td>\n",
       "      <td>2020-03-24 13:04:51.517</td>\n",
       "      <td>2020-03-23 11:30:01.103</td>\n",
       "      <td>5e781e7ec22d530aad0edb2a</td>\n",
       "      <td>5e7823a8f2f7c20d78d1a5ab</td>\n",
       "      <td>11645.0</td>\n",
       "      <td>USD</td>\n",
       "      <td>2020-03-23 11:29:36.000</td>\n",
       "      <td>5e7823a8f2f7c20d78d1a5ab</td>\n",
       "      <td>2020-04-22 23:59:59.999</td>\n",
       "    </tr>\n",
       "    <tr>\n",
       "      <th>748841</th>\n",
       "      <td>5e781e7ec22d530aad0edb2a</td>\n",
       "      <td>5e7823a8f2f7c20d78d1a5ab</td>\n",
       "      <td>paypal</td>\n",
       "      <td>5ea0577ee0a51e2c88674944</td>\n",
       "      <td>2020-04-24 16:15:19.709</td>\n",
       "      <td>2020-04-22 14:41:02.176</td>\n",
       "      <td>5e781e7ec22d530aad0edb2a</td>\n",
       "      <td>5e7823a8f2f7c20d78d1a5ab</td>\n",
       "      <td>11645.0</td>\n",
       "      <td>USD</td>\n",
       "      <td>2020-04-22 14:40:35.000</td>\n",
       "      <td>5e7823a8f2f7c20d78d1a5ab</td>\n",
       "      <td>2020-05-22 23:59:59.999</td>\n",
       "    </tr>\n",
       "    <tr>\n",
       "      <th>748860</th>\n",
       "      <td>5ea0b295a796be1213975b03</td>\n",
       "      <td>5ea0b342f1106b0f0744fd30</td>\n",
       "      <td>paypal</td>\n",
       "      <td>5ea0b392e0a51e2c8867494a</td>\n",
       "      <td>2020-04-24 16:15:20.044</td>\n",
       "      <td>2020-04-22 21:13:54.224</td>\n",
       "      <td>5ea0b295a796be1213975b03</td>\n",
       "      <td>5ea0b342f1106b0f0744fd30</td>\n",
       "      <td>11645.0</td>\n",
       "      <td>USD</td>\n",
       "      <td>2020-04-22 21:13:28.000</td>\n",
       "      <td>5ea0b342f1106b0f0744fd30</td>\n",
       "      <td>2020-05-22 23:59:59.999</td>\n",
       "    </tr>\n",
       "  </tbody>\n",
       "</table>\n",
       "<p>725341 rows × 13 columns</p>\n",
       "</div>"
      ],
      "text/plain": [
       "                     CUSTOMER_ID         SUBSCRIPTION_CODE    GATEWAY  \\\n",
       "0       563857913817661751603df1  5861c4990ee08c3630cdd9b0  transbank   \n",
       "1       563857923817661751603e6b  5861c4990ee08c3630cddaba  transbank   \n",
       "2       563857923817661751603e6b  5861c4990ee08c3630cddaba  transbank   \n",
       "3       563857923817661751603e6b  5861c4990ee08c3630cddaba  transbank   \n",
       "4       563857923817661751603e6b  5861c4990ee08c3630cddaba  transbank   \n",
       "...                          ...                       ...        ...   \n",
       "748835  5e6ebac1faadb50d9386c4d7  5e6ebb958d6fbc109d67017d     paypal   \n",
       "748836  5e713ea4f2f7c20d78d19cc4  5e714680c22d530aad0ed3ec     paypal   \n",
       "748840  5e781e7ec22d530aad0edb2a  5e7823a8f2f7c20d78d1a5ab     paypal   \n",
       "748841  5e781e7ec22d530aad0edb2a  5e7823a8f2f7c20d78d1a5ab     paypal   \n",
       "748860  5ea0b295a796be1213975b03  5ea0b342f1106b0f0744fd30     paypal   \n",
       "\n",
       "                             _id               updatedAt  \\\n",
       "0       5861c4990ee08c3630cdd9b2 2017-01-24 18:50:19.322   \n",
       "1       5861c4990ee08c3630cddad4 2017-01-24 18:50:21.232   \n",
       "2       5861c4990ee08c3630cddad3 2017-01-24 18:50:21.231   \n",
       "3       5861c4990ee08c3630cddad5 2017-01-24 18:50:21.232   \n",
       "4       5861c4990ee08c3630cddad9 2017-01-24 18:50:21.235   \n",
       "...                          ...                     ...   \n",
       "748835  5e6ebc040b6801388a352fb0 2020-03-17 13:01:26.137   \n",
       "748836  5e7146c9d30d7254bc57432e 2020-03-19 13:05:35.838   \n",
       "748840  5e789db9f348107f6a50348b 2020-03-24 13:04:51.517   \n",
       "748841  5ea0577ee0a51e2c88674944 2020-04-24 16:15:19.709   \n",
       "748860  5ea0b392e0a51e2c8867494a 2020-04-24 16:15:20.044   \n",
       "\n",
       "                     createdAt                   user_id  \\\n",
       "0      2016-12-27 01:32:09.427  563857913817661751603df1   \n",
       "1      2016-12-27 01:32:09.883  563857923817661751603e6b   \n",
       "2      2016-12-27 01:32:09.883  563857923817661751603e6b   \n",
       "3      2016-12-27 01:32:09.883  563857923817661751603e6b   \n",
       "4      2016-12-27 01:32:09.884  563857923817661751603e6b   \n",
       "...                        ...                       ...   \n",
       "748835 2020-03-15 23:36:36.161  5e6ebac1faadb50d9386c4d7   \n",
       "748836 2020-03-17 21:53:13.372  5e713ea4f2f7c20d78d19cc4   \n",
       "748840 2020-03-23 11:30:01.103  5e781e7ec22d530aad0edb2a   \n",
       "748841 2020-04-22 14:41:02.176  5e781e7ec22d530aad0edb2a   \n",
       "748860 2020-04-22 21:13:54.224  5ea0b295a796be1213975b03   \n",
       "\n",
       "                        pasarela    monto moneda              fecha_pago  \\\n",
       "0       5861c4990ee08c3630cdd9b0   7390.0    CLP 2015-10-04 14:22:29.134   \n",
       "1       5861c4990ee08c3630cddaba   7390.0    CLP 2014-01-21 23:52:17.022   \n",
       "2       5861c4990ee08c3630cddaba   7390.0    CLP 2014-02-20 23:52:00.005   \n",
       "3       5861c4990ee08c3630cddaba   7390.0    CLP 2013-12-22 23:52:20.639   \n",
       "4       5861c4990ee08c3630cddaba   7390.0    CLP 2013-08-24 20:16:13.932   \n",
       "...                          ...      ...    ...                     ...   \n",
       "748835  5e6ebb958d6fbc109d67017d  11645.0    USD 2020-03-15 23:36:10.000   \n",
       "748836  5e714680c22d530aad0ed3ec  11645.0    USD 2020-03-17 21:52:48.000   \n",
       "748840  5e7823a8f2f7c20d78d1a5ab  11645.0    USD 2020-03-23 11:29:36.000   \n",
       "748841  5e7823a8f2f7c20d78d1a5ab  11645.0    USD 2020-04-22 14:40:35.000   \n",
       "748860  5ea0b342f1106b0f0744fd30  11645.0    USD 2020-04-22 21:13:28.000   \n",
       "\n",
       "                      acuerdo_id               fecha_fin  \n",
       "0       5861c4990ee08c3630cdd9b0 2015-11-03 14:23:49.730  \n",
       "1       5861c4990ee08c3630cddaba 2014-02-20 23:53:33.429  \n",
       "2       5861c4990ee08c3630cddaba 2014-03-22 23:53:33.429  \n",
       "3       5861c4990ee08c3630cddaba 2014-01-21 23:53:33.429  \n",
       "4       5861c4990ee08c3630cddaba 2013-09-23 20:18:49.240  \n",
       "...                          ...                     ...  \n",
       "748835  5e6ebb958d6fbc109d67017d 2020-04-14 23:59:59.999  \n",
       "748836  5e714680c22d530aad0ed3ec 2020-04-16 23:59:59.999  \n",
       "748840  5e7823a8f2f7c20d78d1a5ab 2020-04-22 23:59:59.999  \n",
       "748841  5e7823a8f2f7c20d78d1a5ab 2020-05-22 23:59:59.999  \n",
       "748860  5ea0b342f1106b0f0744fd30 2020-05-22 23:59:59.999  \n",
       "\n",
       "[725341 rows x 13 columns]"
      ]
     },
     "execution_count": 109,
     "metadata": {},
     "output_type": "execute_result"
    }
   ],
   "source": [
    "pag_trans_payp"
   ]
  },
  {
   "cell_type": "markdown",
   "metadata": {},
   "source": [
    "pag_trans_payp=pag_trans_payp.drop([ 'START_DATE'],axis=1)"
   ]
  },
  {
   "cell_type": "code",
   "execution_count": 110,
   "metadata": {},
   "outputs": [
    {
     "name": "stdout",
     "output_type": "stream",
     "text": [
      "<class 'pandas.core.frame.DataFrame'>\n",
      "Int64Index: 725341 entries, 0 to 748860\n",
      "Data columns (total 13 columns):\n",
      " #   Column             Non-Null Count   Dtype         \n",
      "---  ------             --------------   -----         \n",
      " 0   CUSTOMER_ID        725341 non-null  object        \n",
      " 1   SUBSCRIPTION_CODE  725341 non-null  object        \n",
      " 2   GATEWAY            725341 non-null  object        \n",
      " 3   _id                725341 non-null  object        \n",
      " 4   updatedAt          725341 non-null  datetime64[ns]\n",
      " 5   createdAt          725341 non-null  datetime64[ns]\n",
      " 6   user_id            725341 non-null  object        \n",
      " 7   pasarela           725341 non-null  object        \n",
      " 8   monto              725341 non-null  float64       \n",
      " 9   moneda             725341 non-null  object        \n",
      " 10  fecha_pago         725341 non-null  datetime64[ns]\n",
      " 11  acuerdo_id         725341 non-null  object        \n",
      " 12  fecha_fin          725341 non-null  datetime64[ns]\n",
      "dtypes: datetime64[ns](4), float64(1), object(8)\n",
      "memory usage: 97.5+ MB\n"
     ]
    }
   ],
   "source": [
    "pag_trans_payp.info()"
   ]
  },
  {
   "cell_type": "code",
   "execution_count": 111,
   "metadata": {},
   "outputs": [],
   "source": [
    "pag_trans_payp=pag_trans_payp.rename(columns={ \"monto\":\"CLP_PRICE\",\"fecha_fin\":\"END_DATE\",\"createdAt\":\"START_DATE\",\"fecha_pago\":\"PAYMENT_DATE\"})"
   ]
  },
  {
   "cell_type": "code",
   "execution_count": 112,
   "metadata": {},
   "outputs": [
    {
     "data": {
      "text/plain": [
       "Index(['CUSTOMER_ID', 'SUBSCRIPTION_CODE', 'GATEWAY', '_id', 'updatedAt',\n",
       "       'START_DATE', 'user_id', 'pasarela', 'CLP_PRICE', 'moneda',\n",
       "       'PAYMENT_DATE', 'acuerdo_id', 'END_DATE'],\n",
       "      dtype='object')"
      ]
     },
     "execution_count": 112,
     "metadata": {},
     "output_type": "execute_result"
    }
   ],
   "source": [
    "pag_trans_payp.columns"
   ]
  },
  {
   "cell_type": "code",
   "execution_count": 113,
   "metadata": {},
   "outputs": [],
   "source": [
    "pag_trans_payp=pag_trans_payp.drop([ '_id', 'updatedAt',\n",
    "        'user_id', 'pasarela', 'moneda', 'acuerdo_id'],axis=1)"
   ]
  },
  {
   "cell_type": "code",
   "execution_count": 114,
   "metadata": {},
   "outputs": [
    {
     "data": {
      "text/html": [
       "<div>\n",
       "<style scoped>\n",
       "    .dataframe tbody tr th:only-of-type {\n",
       "        vertical-align: middle;\n",
       "    }\n",
       "\n",
       "    .dataframe tbody tr th {\n",
       "        vertical-align: top;\n",
       "    }\n",
       "\n",
       "    .dataframe thead th {\n",
       "        text-align: right;\n",
       "    }\n",
       "</style>\n",
       "<table border=\"1\" class=\"dataframe\">\n",
       "  <thead>\n",
       "    <tr style=\"text-align: right;\">\n",
       "      <th></th>\n",
       "      <th>CUSTOMER_ID</th>\n",
       "      <th>SUBSCRIPTION_CODE</th>\n",
       "      <th>GATEWAY</th>\n",
       "      <th>START_DATE</th>\n",
       "      <th>CLP_PRICE</th>\n",
       "      <th>PAYMENT_DATE</th>\n",
       "      <th>END_DATE</th>\n",
       "    </tr>\n",
       "  </thead>\n",
       "  <tbody>\n",
       "    <tr>\n",
       "      <th>0</th>\n",
       "      <td>563857913817661751603df1</td>\n",
       "      <td>5861c4990ee08c3630cdd9b0</td>\n",
       "      <td>transbank</td>\n",
       "      <td>2016-12-27 01:32:09.427</td>\n",
       "      <td>7390.0</td>\n",
       "      <td>2015-10-04 14:22:29.134</td>\n",
       "      <td>2015-11-03 14:23:49.730</td>\n",
       "    </tr>\n",
       "    <tr>\n",
       "      <th>1</th>\n",
       "      <td>563857923817661751603e6b</td>\n",
       "      <td>5861c4990ee08c3630cddaba</td>\n",
       "      <td>transbank</td>\n",
       "      <td>2016-12-27 01:32:09.883</td>\n",
       "      <td>7390.0</td>\n",
       "      <td>2014-01-21 23:52:17.022</td>\n",
       "      <td>2014-02-20 23:53:33.429</td>\n",
       "    </tr>\n",
       "    <tr>\n",
       "      <th>2</th>\n",
       "      <td>563857923817661751603e6b</td>\n",
       "      <td>5861c4990ee08c3630cddaba</td>\n",
       "      <td>transbank</td>\n",
       "      <td>2016-12-27 01:32:09.883</td>\n",
       "      <td>7390.0</td>\n",
       "      <td>2014-02-20 23:52:00.005</td>\n",
       "      <td>2014-03-22 23:53:33.429</td>\n",
       "    </tr>\n",
       "    <tr>\n",
       "      <th>3</th>\n",
       "      <td>563857923817661751603e6b</td>\n",
       "      <td>5861c4990ee08c3630cddaba</td>\n",
       "      <td>transbank</td>\n",
       "      <td>2016-12-27 01:32:09.883</td>\n",
       "      <td>7390.0</td>\n",
       "      <td>2013-12-22 23:52:20.639</td>\n",
       "      <td>2014-01-21 23:53:33.429</td>\n",
       "    </tr>\n",
       "    <tr>\n",
       "      <th>4</th>\n",
       "      <td>563857923817661751603e6b</td>\n",
       "      <td>5861c4990ee08c3630cddaba</td>\n",
       "      <td>transbank</td>\n",
       "      <td>2016-12-27 01:32:09.884</td>\n",
       "      <td>7390.0</td>\n",
       "      <td>2013-08-24 20:16:13.932</td>\n",
       "      <td>2013-09-23 20:18:49.240</td>\n",
       "    </tr>\n",
       "    <tr>\n",
       "      <th>...</th>\n",
       "      <td>...</td>\n",
       "      <td>...</td>\n",
       "      <td>...</td>\n",
       "      <td>...</td>\n",
       "      <td>...</td>\n",
       "      <td>...</td>\n",
       "      <td>...</td>\n",
       "    </tr>\n",
       "    <tr>\n",
       "      <th>748835</th>\n",
       "      <td>5e6ebac1faadb50d9386c4d7</td>\n",
       "      <td>5e6ebb958d6fbc109d67017d</td>\n",
       "      <td>paypal</td>\n",
       "      <td>2020-03-15 23:36:36.161</td>\n",
       "      <td>11645.0</td>\n",
       "      <td>2020-03-15 23:36:10.000</td>\n",
       "      <td>2020-04-14 23:59:59.999</td>\n",
       "    </tr>\n",
       "    <tr>\n",
       "      <th>748836</th>\n",
       "      <td>5e713ea4f2f7c20d78d19cc4</td>\n",
       "      <td>5e714680c22d530aad0ed3ec</td>\n",
       "      <td>paypal</td>\n",
       "      <td>2020-03-17 21:53:13.372</td>\n",
       "      <td>11645.0</td>\n",
       "      <td>2020-03-17 21:52:48.000</td>\n",
       "      <td>2020-04-16 23:59:59.999</td>\n",
       "    </tr>\n",
       "    <tr>\n",
       "      <th>748840</th>\n",
       "      <td>5e781e7ec22d530aad0edb2a</td>\n",
       "      <td>5e7823a8f2f7c20d78d1a5ab</td>\n",
       "      <td>paypal</td>\n",
       "      <td>2020-03-23 11:30:01.103</td>\n",
       "      <td>11645.0</td>\n",
       "      <td>2020-03-23 11:29:36.000</td>\n",
       "      <td>2020-04-22 23:59:59.999</td>\n",
       "    </tr>\n",
       "    <tr>\n",
       "      <th>748841</th>\n",
       "      <td>5e781e7ec22d530aad0edb2a</td>\n",
       "      <td>5e7823a8f2f7c20d78d1a5ab</td>\n",
       "      <td>paypal</td>\n",
       "      <td>2020-04-22 14:41:02.176</td>\n",
       "      <td>11645.0</td>\n",
       "      <td>2020-04-22 14:40:35.000</td>\n",
       "      <td>2020-05-22 23:59:59.999</td>\n",
       "    </tr>\n",
       "    <tr>\n",
       "      <th>748860</th>\n",
       "      <td>5ea0b295a796be1213975b03</td>\n",
       "      <td>5ea0b342f1106b0f0744fd30</td>\n",
       "      <td>paypal</td>\n",
       "      <td>2020-04-22 21:13:54.224</td>\n",
       "      <td>11645.0</td>\n",
       "      <td>2020-04-22 21:13:28.000</td>\n",
       "      <td>2020-05-22 23:59:59.999</td>\n",
       "    </tr>\n",
       "  </tbody>\n",
       "</table>\n",
       "<p>725341 rows × 7 columns</p>\n",
       "</div>"
      ],
      "text/plain": [
       "                     CUSTOMER_ID         SUBSCRIPTION_CODE    GATEWAY  \\\n",
       "0       563857913817661751603df1  5861c4990ee08c3630cdd9b0  transbank   \n",
       "1       563857923817661751603e6b  5861c4990ee08c3630cddaba  transbank   \n",
       "2       563857923817661751603e6b  5861c4990ee08c3630cddaba  transbank   \n",
       "3       563857923817661751603e6b  5861c4990ee08c3630cddaba  transbank   \n",
       "4       563857923817661751603e6b  5861c4990ee08c3630cddaba  transbank   \n",
       "...                          ...                       ...        ...   \n",
       "748835  5e6ebac1faadb50d9386c4d7  5e6ebb958d6fbc109d67017d     paypal   \n",
       "748836  5e713ea4f2f7c20d78d19cc4  5e714680c22d530aad0ed3ec     paypal   \n",
       "748840  5e781e7ec22d530aad0edb2a  5e7823a8f2f7c20d78d1a5ab     paypal   \n",
       "748841  5e781e7ec22d530aad0edb2a  5e7823a8f2f7c20d78d1a5ab     paypal   \n",
       "748860  5ea0b295a796be1213975b03  5ea0b342f1106b0f0744fd30     paypal   \n",
       "\n",
       "                    START_DATE  CLP_PRICE            PAYMENT_DATE  \\\n",
       "0      2016-12-27 01:32:09.427     7390.0 2015-10-04 14:22:29.134   \n",
       "1      2016-12-27 01:32:09.883     7390.0 2014-01-21 23:52:17.022   \n",
       "2      2016-12-27 01:32:09.883     7390.0 2014-02-20 23:52:00.005   \n",
       "3      2016-12-27 01:32:09.883     7390.0 2013-12-22 23:52:20.639   \n",
       "4      2016-12-27 01:32:09.884     7390.0 2013-08-24 20:16:13.932   \n",
       "...                        ...        ...                     ...   \n",
       "748835 2020-03-15 23:36:36.161    11645.0 2020-03-15 23:36:10.000   \n",
       "748836 2020-03-17 21:53:13.372    11645.0 2020-03-17 21:52:48.000   \n",
       "748840 2020-03-23 11:30:01.103    11645.0 2020-03-23 11:29:36.000   \n",
       "748841 2020-04-22 14:41:02.176    11645.0 2020-04-22 14:40:35.000   \n",
       "748860 2020-04-22 21:13:54.224    11645.0 2020-04-22 21:13:28.000   \n",
       "\n",
       "                      END_DATE  \n",
       "0      2015-11-03 14:23:49.730  \n",
       "1      2014-02-20 23:53:33.429  \n",
       "2      2014-03-22 23:53:33.429  \n",
       "3      2014-01-21 23:53:33.429  \n",
       "4      2013-09-23 20:18:49.240  \n",
       "...                        ...  \n",
       "748835 2020-04-14 23:59:59.999  \n",
       "748836 2020-04-16 23:59:59.999  \n",
       "748840 2020-04-22 23:59:59.999  \n",
       "748841 2020-05-22 23:59:59.999  \n",
       "748860 2020-05-22 23:59:59.999  \n",
       "\n",
       "[725341 rows x 7 columns]"
      ]
     },
     "execution_count": 114,
     "metadata": {},
     "output_type": "execute_result"
    }
   ],
   "source": [
    "pag_trans_payp"
   ]
  },
  {
   "cell_type": "code",
   "execution_count": null,
   "metadata": {},
   "outputs": [],
   "source": []
  },
  {
   "cell_type": "code",
   "execution_count": null,
   "metadata": {},
   "outputs": [],
   "source": []
  },
  {
   "cell_type": "code",
   "execution_count": null,
   "metadata": {},
   "outputs": [],
   "source": []
  },
  {
   "cell_type": "code",
   "execution_count": null,
   "metadata": {},
   "outputs": [],
   "source": []
  },
  {
   "cell_type": "code",
   "execution_count": 115,
   "metadata": {
    "scrolled": true
   },
   "outputs": [
    {
     "name": "stdout",
     "output_type": "stream",
     "text": [
      "<class 'pandas.core.frame.DataFrame'>\n",
      "Int64Index: 725341 entries, 0 to 748860\n",
      "Data columns (total 7 columns):\n",
      " #   Column             Non-Null Count   Dtype         \n",
      "---  ------             --------------   -----         \n",
      " 0   CUSTOMER_ID        725341 non-null  object        \n",
      " 1   SUBSCRIPTION_CODE  725341 non-null  object        \n",
      " 2   GATEWAY            725341 non-null  object        \n",
      " 3   START_DATE         725341 non-null  datetime64[ns]\n",
      " 4   CLP_PRICE          725341 non-null  float64       \n",
      " 5   PAYMENT_DATE       725341 non-null  datetime64[ns]\n",
      " 6   END_DATE           725341 non-null  datetime64[ns]\n",
      "dtypes: datetime64[ns](3), float64(1), object(3)\n",
      "memory usage: 44.3+ MB\n"
     ]
    }
   ],
   "source": [
    "pag_trans_payp.info()"
   ]
  },
  {
   "cell_type": "code",
   "execution_count": null,
   "metadata": {},
   "outputs": [],
   "source": []
  },
  {
   "cell_type": "code",
   "execution_count": 116,
   "metadata": {},
   "outputs": [],
   "source": [
    "pag_trans_payp=pag_trans_payp.rename(columns={ \"fecha_fin\":\"END_DATE\"})"
   ]
  },
  {
   "cell_type": "code",
   "execution_count": null,
   "metadata": {},
   "outputs": [],
   "source": []
  },
  {
   "cell_type": "code",
   "execution_count": 117,
   "metadata": {
    "scrolled": true
   },
   "outputs": [
    {
     "name": "stdout",
     "output_type": "stream",
     "text": [
      "<class 'pandas.core.frame.DataFrame'>\n",
      "Int64Index: 725341 entries, 0 to 748860\n",
      "Data columns (total 7 columns):\n",
      " #   Column             Non-Null Count   Dtype         \n",
      "---  ------             --------------   -----         \n",
      " 0   CUSTOMER_ID        725341 non-null  object        \n",
      " 1   SUBSCRIPTION_CODE  725341 non-null  object        \n",
      " 2   GATEWAY            725341 non-null  object        \n",
      " 3   START_DATE         725341 non-null  datetime64[ns]\n",
      " 4   CLP_PRICE          725341 non-null  float64       \n",
      " 5   PAYMENT_DATE       725341 non-null  datetime64[ns]\n",
      " 6   END_DATE           725341 non-null  datetime64[ns]\n",
      "dtypes: datetime64[ns](3), float64(1), object(3)\n",
      "memory usage: 44.3+ MB\n"
     ]
    }
   ],
   "source": [
    "pag_trans_payp.info()"
   ]
  },
  {
   "cell_type": "code",
   "execution_count": null,
   "metadata": {},
   "outputs": [],
   "source": []
  },
  {
   "cell_type": "code",
   "execution_count": 140,
   "metadata": {},
   "outputs": [
    {
     "name": "stdout",
     "output_type": "stream",
     "text": [
      "<class 'pandas.core.frame.DataFrame'>\n",
      "Int64Index: 13170 entries, 0 to 13171\n",
      "Data columns (total 7 columns):\n",
      " #   Column             Non-Null Count  Dtype         \n",
      "---  ------             --------------  -----         \n",
      " 0   CUSTOMER_ID        13170 non-null  object        \n",
      " 1   SUBSCRIPTION_CODE  13170 non-null  object        \n",
      " 2   START_DATE         13170 non-null  datetime64[ns]\n",
      " 3   END_DATE           13170 non-null  datetime64[ns]\n",
      " 4   GATEWAY            13170 non-null  object        \n",
      " 5   CLP_PRICE          13170 non-null  object        \n",
      " 6   PAYMENT_DATE       13170 non-null  datetime64[ns]\n",
      "dtypes: datetime64[ns](3), object(4)\n",
      "memory usage: 823.1+ KB\n"
     ]
    }
   ],
   "source": [
    "user_Cupones.info()"
   ]
  },
  {
   "cell_type": "code",
   "execution_count": null,
   "metadata": {},
   "outputs": [],
   "source": []
  },
  {
   "cell_type": "code",
   "execution_count": 141,
   "metadata": {},
   "outputs": [],
   "source": [
    "total = [pag_trans_payp, user_Cupones]\n",
    "historyTotal=pd.concat(total)"
   ]
  },
  {
   "cell_type": "code",
   "execution_count": 144,
   "metadata": {},
   "outputs": [
    {
     "data": {
      "text/plain": [
       "array(['transbank', 'paypal', 'cupones'], dtype=object)"
      ]
     },
     "execution_count": 144,
     "metadata": {},
     "output_type": "execute_result"
    }
   ],
   "source": [
    "historyTotal['GATEWAY'].unique()"
   ]
  },
  {
   "cell_type": "code",
   "execution_count": 145,
   "metadata": {
    "scrolled": false
   },
   "outputs": [
    {
     "data": {
      "text/plain": [
       "Index(['CUSTOMER_ID', 'SUBSCRIPTION_CODE', 'GATEWAY', 'START_DATE',\n",
       "       'CLP_PRICE', 'PAYMENT_DATE', 'END_DATE'],\n",
       "      dtype='object')"
      ]
     },
     "execution_count": 145,
     "metadata": {},
     "output_type": "execute_result"
    }
   ],
   "source": [
    "historyTotal.columns"
   ]
  },
  {
   "cell_type": "code",
   "execution_count": 146,
   "metadata": {},
   "outputs": [
    {
     "name": "stdout",
     "output_type": "stream",
     "text": [
      "<class 'pandas.core.frame.DataFrame'>\n",
      "Int64Index: 738511 entries, 0 to 13171\n",
      "Data columns (total 7 columns):\n",
      " #   Column             Non-Null Count   Dtype         \n",
      "---  ------             --------------   -----         \n",
      " 0   CUSTOMER_ID        738511 non-null  object        \n",
      " 1   SUBSCRIPTION_CODE  738511 non-null  object        \n",
      " 2   GATEWAY            738511 non-null  object        \n",
      " 3   START_DATE         738511 non-null  datetime64[ns]\n",
      " 4   CLP_PRICE          738511 non-null  object        \n",
      " 5   PAYMENT_DATE       738511 non-null  datetime64[ns]\n",
      " 6   END_DATE           738511 non-null  datetime64[ns]\n",
      "dtypes: datetime64[ns](3), object(4)\n",
      "memory usage: 45.1+ MB\n"
     ]
    }
   ],
   "source": [
    "historyTotal.info()"
   ]
  },
  {
   "cell_type": "code",
   "execution_count": null,
   "metadata": {},
   "outputs": [],
   "source": []
  },
  {
   "cell_type": "markdown",
   "metadata": {},
   "source": [
    "historyTotal=historyTotal.drop([ '_id', 'updatedAt',\n",
    "       'createdAt', 'user_id', 'pasarela', 'monto', 'moneda', 'fecha_pago',\n",
    "       'acuerdo_id', 'fecha_fin'],axis=1)"
   ]
  },
  {
   "cell_type": "code",
   "execution_count": null,
   "metadata": {},
   "outputs": [],
   "source": []
  },
  {
   "cell_type": "code",
   "execution_count": 147,
   "metadata": {},
   "outputs": [],
   "source": [
    "historyTotal['CUSTOMER_ID']=historyTotal['CUSTOMER_ID'].apply(str)"
   ]
  },
  {
   "cell_type": "code",
   "execution_count": 148,
   "metadata": {},
   "outputs": [],
   "source": [
    "historyTotal['SUBSCRIPTION_CODE']=historyTotal['SUBSCRIPTION_CODE'].apply(str)"
   ]
  },
  {
   "cell_type": "code",
   "execution_count": 149,
   "metadata": {},
   "outputs": [],
   "source": [
    "historyTotal['CLP_PRICE']=historyTotal['CLP_PRICE'].apply(float)"
   ]
  },
  {
   "cell_type": "code",
   "execution_count": 150,
   "metadata": {},
   "outputs": [],
   "source": [
    "historyTotal['START_DATE']=historyTotal['START_DATE'] .map(lambda x: str(x)[:10])"
   ]
  },
  {
   "cell_type": "code",
   "execution_count": 151,
   "metadata": {},
   "outputs": [],
   "source": [
    "historyTotal['PAYMENT_DATE']=historyTotal['PAYMENT_DATE'] .map(lambda x: str(x)[:10])"
   ]
  },
  {
   "cell_type": "code",
   "execution_count": 152,
   "metadata": {},
   "outputs": [],
   "source": [
    "historyTotal['END_DATE']=historyTotal['END_DATE'] .map(lambda x: str(x)[:10])"
   ]
  },
  {
   "cell_type": "code",
   "execution_count": 153,
   "metadata": {},
   "outputs": [],
   "source": [
    "historyTotal = historyTotal[['CUSTOMER_ID','SUBSCRIPTION_CODE','CLP_PRICE','END_DATE','GATEWAY','PAYMENT_DATE','START_DATE']]"
   ]
  },
  {
   "cell_type": "code",
   "execution_count": 155,
   "metadata": {},
   "outputs": [],
   "source": [
    "import datetime"
   ]
  },
  {
   "cell_type": "code",
   "execution_count": 156,
   "metadata": {},
   "outputs": [],
   "source": [
    "name='cdf_subHisto_'+datetime.datetime.today().strftime('%Y%m%d_%H%M%S')"
   ]
  },
  {
   "cell_type": "code",
   "execution_count": 157,
   "metadata": {},
   "outputs": [],
   "source": [
    "path='/home/tecnoboy/'+name+'.csv'"
   ]
  },
  {
   "cell_type": "code",
   "execution_count": 158,
   "metadata": {},
   "outputs": [],
   "source": [
    "historyTotal.to_csv(path, index=False, quoting=csv.QUOTE_NONNUMERIC)"
   ]
  },
  {
   "cell_type": "code",
   "execution_count": null,
   "metadata": {},
   "outputs": [],
   "source": []
  },
  {
   "cell_type": "code",
   "execution_count": 159,
   "metadata": {
    "scrolled": true
   },
   "outputs": [
    {
     "data": {
      "text/plain": [
       "array(['transbank', 'paypal', 'cupones'], dtype=object)"
      ]
     },
     "execution_count": 159,
     "metadata": {},
     "output_type": "execute_result"
    }
   ],
   "source": [
    "historyTotal['GATEWAY'].unique()"
   ]
  },
  {
   "cell_type": "code",
   "execution_count": null,
   "metadata": {},
   "outputs": [],
   "source": []
  }
 ],
 "metadata": {
  "kernelspec": {
   "display_name": "Python 3",
   "language": "python",
   "name": "python3"
  },
  "language_info": {
   "codemirror_mode": {
    "name": "ipython",
    "version": 3
   },
   "file_extension": ".py",
   "mimetype": "text/x-python",
   "name": "python",
   "nbconvert_exporter": "python",
   "pygments_lexer": "ipython3",
   "version": "3.6.9"
  }
 },
 "nbformat": 4,
 "nbformat_minor": 4
}
