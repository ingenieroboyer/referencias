{
 "cells": [
  {
   "cell_type": "markdown",
   "metadata": {},
   "source": [
    "### PREPARACION PARA ADOBE"
   ]
  },
  {
   "cell_type": "markdown",
   "metadata": {},
   "source": [
    "Este documento busca la data , la relaciona y la sirve de acuerdo a las tablas y tipos de datos que solicitó el partner"
   ]
  },
  {
   "cell_type": "code",
   "execution_count": 1,
   "metadata": {},
   "outputs": [],
   "source": [
    "import pandas as pd\n",
    "from pymongo import MongoClient\n",
    "from datetime import timedelta  \n"
   ]
  },
  {
   "cell_type": "code",
   "execution_count": 2,
   "metadata": {},
   "outputs": [],
   "source": [
    "import datetime \n",
    "import pymongo"
   ]
  },
  {
   "cell_type": "code",
   "execution_count": 3,
   "metadata": {},
   "outputs": [],
   "source": [
    "myclient = pymongo.MongoClient(\"mongodb://localhost:27017/\")\n",
    "mydb2 = myclient[\"ecdf\"]\n",
    "mycol_users = mydb2[\"users\"]\n",
    "mycol_clientes = mydb2[\"clientes\"]"
   ]
  },
  {
   "cell_type": "code",
   "execution_count": 4,
   "metadata": {},
   "outputs": [
    {
     "name": "stdout",
     "output_type": "stream",
     "text": [
      "_id           434201\n",
      "createdAt     434200\n",
      "cliente_id    434141\n",
      "email         434201\n",
      "dtype: int64\n"
     ]
    }
   ],
   "source": [
    "def users_to_dataframes(iterator, chunk_size: int):\n",
    "  \"\"\"Turn an iterator into multiple small pandas.DataFrame\n",
    "  This is a balance between memory and efficiency\n",
    "  \"\"\"\n",
    "  records = []\n",
    "  frames = []\n",
    "  for i, record in enumerate(iterator):\n",
    "    records.append(record)\n",
    "    if i % chunk_size == chunk_size - 1:\n",
    "      frames.append(pd.DataFrame(records))\n",
    "      records = []\n",
    "  if records:\n",
    "    frames.append(pd.DataFrame(records))\n",
    "  return pd.concat(frames) if frames else pd.DataFrame()\n",
    "  \n",
    "users = users_to_dataframes(mycol_users.find({},{'_id':1,'email':1,'cliente_id':1,'createdAt':1}), 10000)\n",
    "\n",
    "print(users.count())"
   ]
  },
  {
   "cell_type": "code",
   "execution_count": 5,
   "metadata": {
    "scrolled": true
   },
   "outputs": [
    {
     "data": {
      "text/plain": [
       "datetime.datetime(2020, 4, 21, 11, 39, 37, 544769)"
      ]
     },
     "execution_count": 5,
     "metadata": {},
     "output_type": "execute_result"
    }
   ],
   "source": [
    "datetime.datetime.today()"
   ]
  },
  {
   "cell_type": "markdown",
   "metadata": {},
   "source": [
    "Excluir los usuarios anteriores al 2017 "
   ]
  },
  {
   "cell_type": "code",
   "execution_count": 6,
   "metadata": {},
   "outputs": [],
   "source": [
    "users['createdAt'] = pd.to_datetime(users['createdAt'])"
   ]
  },
  {
   "cell_type": "code",
   "execution_count": 7,
   "metadata": {},
   "outputs": [],
   "source": [
    "users=users.loc[users['createdAt'] > '2017-01-01 00:00:00.904716']"
   ]
  },
  {
   "cell_type": "markdown",
   "metadata": {},
   "source": [
    "#### LoginSummary TABLE"
   ]
  },
  {
   "cell_type": "code",
   "execution_count": 8,
   "metadata": {
    "scrolled": false
   },
   "outputs": [
    {
     "name": "stdout",
     "output_type": "stream",
     "text": [
      "<class 'pandas.core.frame.DataFrame'>\n",
      "Int64Index: 286777 entries, 7421 to 4200\n",
      "Data columns (total 4 columns):\n",
      " #   Column      Non-Null Count   Dtype         \n",
      "---  ------      --------------   -----         \n",
      " 0   _id         286777 non-null  object        \n",
      " 1   createdAt   286777 non-null  datetime64[ns]\n",
      " 2   cliente_id  286717 non-null  object        \n",
      " 3   email       286777 non-null  object        \n",
      "dtypes: datetime64[ns](1), object(3)\n",
      "memory usage: 10.9+ MB\n"
     ]
    }
   ],
   "source": [
    "users.info()"
   ]
  },
  {
   "cell_type": "code",
   "execution_count": 9,
   "metadata": {},
   "outputs": [
    {
     "name": "stdout",
     "output_type": "stream",
     "text": [
      "_id           434201\n",
      "createdAt     434200\n",
      "cliente_id    434141\n",
      "email         434201\n",
      "dtype: int64\n"
     ]
    }
   ],
   "source": [
    "def users_to_dataframes(iterator, chunk_size: int):\n",
    "  \"\"\"Turn an iterator into multiple small pandas.DataFrame\n",
    "  This is a balance between memory and efficiency\n",
    "  \"\"\"\n",
    "  records = []\n",
    "  frames = []\n",
    "  for i, record in enumerate(iterator):\n",
    "    records.append(record)\n",
    "    if i % chunk_size == chunk_size - 1:\n",
    "      frames.append(pd.DataFrame(records))\n",
    "      records = []\n",
    "  if records:\n",
    "    frames.append(pd.DataFrame(records))\n",
    "  return pd.concat(frames) if frames else pd.DataFrame()\n",
    "  \n",
    "users = users_to_dataframes(mycol_users.find({},{'_id':1,'email':1,'cliente_id':1,'createdAt':1}), 10000)\n",
    "\n",
    "print(users.count())"
   ]
  },
  {
   "cell_type": "code",
   "execution_count": 10,
   "metadata": {},
   "outputs": [],
   "source": [
    "users=users.rename(columns={ \"_id\": \"user_id\"})"
   ]
  },
  {
   "cell_type": "markdown",
   "metadata": {},
   "source": [
    "user_email=user_email.head(150) #CORTANDO EL DATASET PARA QUE PUEDA SER PROCESADO POR MI LAPTOP"
   ]
  },
  {
   "cell_type": "markdown",
   "metadata": {},
   "source": [
    "user_email._id.nunique()"
   ]
  },
  {
   "cell_type": "markdown",
   "metadata": {},
   "source": [
    "Eliminando los user_id nulos"
   ]
  },
  {
   "cell_type": "code",
   "execution_count": 11,
   "metadata": {},
   "outputs": [],
   "source": [
    "users.drop(users[users.email.isnull()].index, inplace = True)"
   ]
  },
  {
   "cell_type": "code",
   "execution_count": 12,
   "metadata": {
    "scrolled": true
   },
   "outputs": [
    {
     "name": "stdout",
     "output_type": "stream",
     "text": [
      "<class 'pandas.core.frame.DataFrame'>\n",
      "Int64Index: 434201 entries, 0 to 4200\n",
      "Data columns (total 4 columns):\n",
      " #   Column      Non-Null Count   Dtype         \n",
      "---  ------      --------------   -----         \n",
      " 0   user_id     434201 non-null  object        \n",
      " 1   createdAt   434200 non-null  datetime64[ns]\n",
      " 2   cliente_id  434141 non-null  object        \n",
      " 3   email       434201 non-null  object        \n",
      "dtypes: datetime64[ns](1), object(3)\n",
      "memory usage: 16.6+ MB\n"
     ]
    }
   ],
   "source": [
    "users.info()"
   ]
  },
  {
   "cell_type": "markdown",
   "metadata": {},
   "source": [
    " AHORA BUSCAMOS LAS CONEXIONES"
   ]
  },
  {
   "cell_type": "code",
   "execution_count": 13,
   "metadata": {},
   "outputs": [],
   "source": [
    "mydb2 = myclient[\"ecdf\"]\n",
    "mycol_conexion = mydb2[\"Conexion\"]"
   ]
  },
  {
   "cell_type": "code",
   "execution_count": 14,
   "metadata": {},
   "outputs": [
    {
     "name": "stdout",
     "output_type": "stream",
     "text": [
      "_id          4107119\n",
      "_user        4107119\n",
      "createdAt    4107119\n",
      "email        2091686\n",
      "dtype: int64\n"
     ]
    }
   ],
   "source": [
    "def conexiones_to_dataframes(iterator, chunk_size: int):\n",
    "  \"\"\"Turn an iterator into multiple small pandas.DataFrame\n",
    "  This is a balance between memory and efficiency\n",
    "  \"\"\"\n",
    "  records = []\n",
    "  frames = []\n",
    "  for i, record in enumerate(iterator):\n",
    "    records.append(record)\n",
    "    if i % chunk_size == chunk_size - 1:\n",
    "      frames.append(pd.DataFrame(records))\n",
    "      records = []\n",
    "  if records:\n",
    "    frames.append(pd.DataFrame(records))\n",
    "  return pd.concat(frames) if frames else pd.DataFrame()\n",
    "  \n",
    "conexiones = conexiones_to_dataframes(mycol_conexion.find({},{'_user':1,'email':1,'createdAt':1}), 10000)\n",
    "\n",
    "print(conexiones.count())"
   ]
  },
  {
   "cell_type": "code",
   "execution_count": 15,
   "metadata": {
    "scrolled": false
   },
   "outputs": [
    {
     "name": "stdout",
     "output_type": "stream",
     "text": [
      "<class 'pandas.core.frame.DataFrame'>\n",
      "Int64Index: 4107119 entries, 0 to 7118\n",
      "Data columns (total 4 columns):\n",
      " #   Column     Dtype \n",
      "---  ------     ----- \n",
      " 0   _id        object\n",
      " 1   _user      object\n",
      " 2   createdAt  object\n",
      " 3   email      object\n",
      "dtypes: object(4)\n",
      "memory usage: 156.7+ MB\n"
     ]
    }
   ],
   "source": [
    "conexiones.info()"
   ]
  },
  {
   "cell_type": "code",
   "execution_count": 16,
   "metadata": {},
   "outputs": [],
   "source": [
    "conexiones=conexiones.rename(columns={'createdAt':'fecha_conexion','_user':'user_id'})"
   ]
  },
  {
   "cell_type": "code",
   "execution_count": 17,
   "metadata": {},
   "outputs": [],
   "source": [
    "mydb3 = myclient[\"apiUser\"]\n",
    "mycol_usersautomaticos = mydb3[\"usersautomaticos\"]"
   ]
  },
  {
   "cell_type": "code",
   "execution_count": 18,
   "metadata": {},
   "outputs": [
    {
     "name": "stdout",
     "output_type": "stream",
     "text": [
      "_id          4199866\n",
      "createdAt    4199866\n",
      "_user        4199866\n",
      "dtype: int64\n"
     ]
    }
   ],
   "source": [
    "def usersautomaticos_to_dataframes(iterator, chunk_size: int):\n",
    "  \"\"\"Turn an iterator into multiple small pandas.DataFrame\n",
    "  This is a balance between memory and efficiency\n",
    "  \"\"\"\n",
    "  records = []\n",
    "  frames = []\n",
    "  for i, record in enumerate(iterator):\n",
    "    records.append(record)\n",
    "    if i % chunk_size == chunk_size - 1:\n",
    "      frames.append(pd.DataFrame(records))\n",
    "      records = []\n",
    "  if records:\n",
    "    frames.append(pd.DataFrame(records))\n",
    "  return pd.concat(frames) if frames else pd.DataFrame()\n",
    "  \n",
    "usersautomaticos =usersautomaticos_to_dataframes(mycol_usersautomaticos.find({},{'_user':1,'createdAt':1}), 10000)\n",
    "\n",
    "print(usersautomaticos.count())"
   ]
  },
  {
   "cell_type": "code",
   "execution_count": 19,
   "metadata": {
    "scrolled": false
   },
   "outputs": [
    {
     "name": "stdout",
     "output_type": "stream",
     "text": [
      "<class 'pandas.core.frame.DataFrame'>\n",
      "Int64Index: 4199866 entries, 0 to 9865\n",
      "Data columns (total 3 columns):\n",
      " #   Column     Dtype \n",
      "---  ------     ----- \n",
      " 0   _id        object\n",
      " 1   createdAt  object\n",
      " 2   _user      object\n",
      "dtypes: object(3)\n",
      "memory usage: 128.2+ MB\n"
     ]
    }
   ],
   "source": [
    "usersautomaticos.info()"
   ]
  },
  {
   "cell_type": "code",
   "execution_count": 20,
   "metadata": {},
   "outputs": [],
   "source": [
    "usersautomaticos=usersautomaticos.rename(columns={'createdAt':'fecha_conexion','_user':'user_id'})"
   ]
  },
  {
   "cell_type": "code",
   "execution_count": null,
   "metadata": {},
   "outputs": [],
   "source": []
  },
  {
   "cell_type": "code",
   "execution_count": 21,
   "metadata": {},
   "outputs": [],
   "source": [
    "mydb3 = myclient[\"logins\"]\n",
    "mycol_conexLog = mydb3[\"conexiones\"]"
   ]
  },
  {
   "cell_type": "code",
   "execution_count": 22,
   "metadata": {},
   "outputs": [
    {
     "name": "stdout",
     "output_type": "stream",
     "text": [
      "_id               231737\n",
      "fecha_conexion    231737\n",
      "user_id           231737\n",
      "dtype: int64\n"
     ]
    }
   ],
   "source": [
    "def mycol_conexLog_to_dataframes(iterator, chunk_size: int):\n",
    "  \"\"\"Turn an iterator into multiple small pandas.DataFrame\n",
    "  This is a balance between memory and efficiency\n",
    "  \"\"\"\n",
    "  records = []\n",
    "  frames = []\n",
    "  for i, record in enumerate(iterator):\n",
    "    records.append(record)\n",
    "    if i % chunk_size == chunk_size - 1:\n",
    "      frames.append(pd.DataFrame(records))\n",
    "      records = []\n",
    "  if records:\n",
    "    frames.append(pd.DataFrame(records))\n",
    "  return pd.concat(frames) if frames else pd.DataFrame()\n",
    "  \n",
    "conexLog =mycol_conexLog_to_dataframes(mycol_conexLog.find({},{'user_id':1,'fecha_conexion':1}), 10000)\n",
    "\n",
    "print(conexLog.count())"
   ]
  },
  {
   "cell_type": "code",
   "execution_count": 23,
   "metadata": {},
   "outputs": [
    {
     "name": "stdout",
     "output_type": "stream",
     "text": [
      "<class 'pandas.core.frame.DataFrame'>\n",
      "Int64Index: 231737 entries, 0 to 1736\n",
      "Data columns (total 3 columns):\n",
      " #   Column          Non-Null Count   Dtype         \n",
      "---  ------          --------------   -----         \n",
      " 0   _id             231737 non-null  object        \n",
      " 1   fecha_conexion  231737 non-null  datetime64[ns]\n",
      " 2   user_id         231737 non-null  object        \n",
      "dtypes: datetime64[ns](1), object(2)\n",
      "memory usage: 7.1+ MB\n"
     ]
    }
   ],
   "source": [
    "conexLog.info()"
   ]
  },
  {
   "cell_type": "markdown",
   "metadata": {},
   "source": [
    "Unifico los accesos"
   ]
  },
  {
   "cell_type": "code",
   "execution_count": 24,
   "metadata": {},
   "outputs": [],
   "source": [
    "accesos=pd.concat([conexLog, usersautomaticos,conexiones], axis=0)"
   ]
  },
  {
   "cell_type": "code",
   "execution_count": 25,
   "metadata": {
    "scrolled": true
   },
   "outputs": [
    {
     "name": "stdout",
     "output_type": "stream",
     "text": [
      "<class 'pandas.core.frame.DataFrame'>\n",
      "Int64Index: 8538722 entries, 0 to 7118\n",
      "Data columns (total 4 columns):\n",
      " #   Column          Dtype \n",
      "---  ------          ----- \n",
      " 0   _id             object\n",
      " 1   fecha_conexion  object\n",
      " 2   user_id         object\n",
      " 3   email           object\n",
      "dtypes: object(4)\n",
      "memory usage: 325.7+ MB\n"
     ]
    }
   ],
   "source": [
    "accesos.info()"
   ]
  },
  {
   "cell_type": "code",
   "execution_count": 26,
   "metadata": {},
   "outputs": [],
   "source": [
    "accesos=accesos.drop([ 'email'],axis=1)"
   ]
  },
  {
   "cell_type": "code",
   "execution_count": null,
   "metadata": {},
   "outputs": [],
   "source": []
  },
  {
   "cell_type": "code",
   "execution_count": 27,
   "metadata": {
    "scrolled": false
   },
   "outputs": [
    {
     "name": "stdout",
     "output_type": "stream",
     "text": [
      "<class 'pandas.core.frame.DataFrame'>\n",
      "Int64Index: 434201 entries, 0 to 4200\n",
      "Data columns (total 4 columns):\n",
      " #   Column      Non-Null Count   Dtype         \n",
      "---  ------      --------------   -----         \n",
      " 0   user_id     434201 non-null  object        \n",
      " 1   createdAt   434200 non-null  datetime64[ns]\n",
      " 2   cliente_id  434141 non-null  object        \n",
      " 3   email       434201 non-null  object        \n",
      "dtypes: datetime64[ns](1), object(3)\n",
      "memory usage: 16.6+ MB\n"
     ]
    }
   ],
   "source": [
    "users.info()"
   ]
  },
  {
   "cell_type": "code",
   "execution_count": 28,
   "metadata": {},
   "outputs": [],
   "source": [
    "users=users.drop([ 'email','cliente_id'],axis=1)"
   ]
  },
  {
   "cell_type": "code",
   "execution_count": 29,
   "metadata": {},
   "outputs": [],
   "source": [
    "user_conexiones= users.merge(accesos, on=['user_id'], how=\"outer\", indicator=True)"
   ]
  },
  {
   "cell_type": "code",
   "execution_count": 30,
   "metadata": {
    "scrolled": true
   },
   "outputs": [
    {
     "data": {
      "text/plain": [
       "user_id           8937945\n",
       "createdAt          630959\n",
       "_id               8538722\n",
       "fecha_conexion    8538722\n",
       "_merge            8937945\n",
       "dtype: int64"
      ]
     },
     "execution_count": 30,
     "metadata": {},
     "output_type": "execute_result"
    }
   ],
   "source": [
    "user_conexiones.count()"
   ]
  },
  {
   "cell_type": "code",
   "execution_count": null,
   "metadata": {},
   "outputs": [],
   "source": []
  },
  {
   "cell_type": "code",
   "execution_count": 31,
   "metadata": {},
   "outputs": [],
   "source": [
    "##A PARTIR DE AQUÍ SE TIENE QUE IR HOMOLOGANDO EL CÓDIGO"
   ]
  },
  {
   "cell_type": "code",
   "execution_count": 32,
   "metadata": {},
   "outputs": [],
   "source": [
    "accesConsolidado=user_conexiones.drop([ 'createdAt','_id','_merge'],axis=1)"
   ]
  },
  {
   "cell_type": "code",
   "execution_count": 33,
   "metadata": {},
   "outputs": [
    {
     "name": "stdout",
     "output_type": "stream",
     "text": [
      "<class 'pandas.core.frame.DataFrame'>\n",
      "Int64Index: 8937945 entries, 0 to 8937944\n",
      "Data columns (total 2 columns):\n",
      " #   Column          Dtype \n",
      "---  ------          ----- \n",
      " 0   user_id         object\n",
      " 1   fecha_conexion  object\n",
      "dtypes: object(2)\n",
      "memory usage: 204.6+ MB\n"
     ]
    }
   ],
   "source": [
    "accesConsolidado.info()"
   ]
  },
  {
   "cell_type": "code",
   "execution_count": 34,
   "metadata": {
    "scrolled": true
   },
   "outputs": [
    {
     "data": {
      "text/html": [
       "<div>\n",
       "<style scoped>\n",
       "    .dataframe tbody tr th:only-of-type {\n",
       "        vertical-align: middle;\n",
       "    }\n",
       "\n",
       "    .dataframe tbody tr th {\n",
       "        vertical-align: top;\n",
       "    }\n",
       "\n",
       "    .dataframe thead th {\n",
       "        text-align: right;\n",
       "    }\n",
       "</style>\n",
       "<table border=\"1\" class=\"dataframe\">\n",
       "  <thead>\n",
       "    <tr style=\"text-align: right;\">\n",
       "      <th></th>\n",
       "      <th>user_id</th>\n",
       "      <th>fecha_conexion</th>\n",
       "    </tr>\n",
       "  </thead>\n",
       "  <tbody>\n",
       "    <tr>\n",
       "      <th>0</th>\n",
       "      <td>563857913817661751603df2</td>\n",
       "      <td>NaN</td>\n",
       "    </tr>\n",
       "    <tr>\n",
       "      <th>1</th>\n",
       "      <td>563857913817661751603df1</td>\n",
       "      <td>NaN</td>\n",
       "    </tr>\n",
       "    <tr>\n",
       "      <th>2</th>\n",
       "      <td>563857913817661751603df9</td>\n",
       "      <td>NaN</td>\n",
       "    </tr>\n",
       "    <tr>\n",
       "      <th>3</th>\n",
       "      <td>563857913817661751603e0c</td>\n",
       "      <td>NaN</td>\n",
       "    </tr>\n",
       "    <tr>\n",
       "      <th>4</th>\n",
       "      <td>563857913817661751603e11</td>\n",
       "      <td>NaN</td>\n",
       "    </tr>\n",
       "    <tr>\n",
       "      <th>...</th>\n",
       "      <td>...</td>\n",
       "      <td>...</td>\n",
       "    </tr>\n",
       "    <tr>\n",
       "      <th>8937940</th>\n",
       "      <td>5e190d7c6bd40277102b8483</td>\n",
       "      <td>2020-01-10T23:50:23.182Z</td>\n",
       "    </tr>\n",
       "    <tr>\n",
       "      <th>8937941</th>\n",
       "      <td>5e190e9f98204e759cecc8fa</td>\n",
       "      <td>2020-01-10T23:55:23.468Z</td>\n",
       "    </tr>\n",
       "    <tr>\n",
       "      <th>8937942</th>\n",
       "      <td>5e19228f5c965677169f4107</td>\n",
       "      <td>2020-01-11T01:22:05.757Z</td>\n",
       "    </tr>\n",
       "    <tr>\n",
       "      <th>8937943</th>\n",
       "      <td>5e19228f5c965677169f4107</td>\n",
       "      <td>2020-01-11T01:24:19.551Z</td>\n",
       "    </tr>\n",
       "    <tr>\n",
       "      <th>8937944</th>\n",
       "      <td>5e1948cf540e90771c507c79</td>\n",
       "      <td>2020-01-11T04:03:14.720Z</td>\n",
       "    </tr>\n",
       "  </tbody>\n",
       "</table>\n",
       "<p>8937945 rows × 2 columns</p>\n",
       "</div>"
      ],
      "text/plain": [
       "                          user_id            fecha_conexion\n",
       "0        563857913817661751603df2                       NaN\n",
       "1        563857913817661751603df1                       NaN\n",
       "2        563857913817661751603df9                       NaN\n",
       "3        563857913817661751603e0c                       NaN\n",
       "4        563857913817661751603e11                       NaN\n",
       "...                           ...                       ...\n",
       "8937940  5e190d7c6bd40277102b8483  2020-01-10T23:50:23.182Z\n",
       "8937941  5e190e9f98204e759cecc8fa  2020-01-10T23:55:23.468Z\n",
       "8937942  5e19228f5c965677169f4107  2020-01-11T01:22:05.757Z\n",
       "8937943  5e19228f5c965677169f4107  2020-01-11T01:24:19.551Z\n",
       "8937944  5e1948cf540e90771c507c79  2020-01-11T04:03:14.720Z\n",
       "\n",
       "[8937945 rows x 2 columns]"
      ]
     },
     "execution_count": 34,
     "metadata": {},
     "output_type": "execute_result"
    }
   ],
   "source": [
    "accesConsolidado"
   ]
  },
  {
   "cell_type": "markdown",
   "metadata": {},
   "source": [
    "accesConsolidado = accesConsolidado.dropna(axis=0, subset=['fecha_conexion'])"
   ]
  },
  {
   "cell_type": "code",
   "execution_count": 35,
   "metadata": {},
   "outputs": [],
   "source": [
    "accesConsolidado['fecha_conexion'] = pd.to_datetime(accesConsolidado['fecha_conexion'])"
   ]
  },
  {
   "cell_type": "code",
   "execution_count": null,
   "metadata": {},
   "outputs": [],
   "source": []
  },
  {
   "cell_type": "code",
   "execution_count": 36,
   "metadata": {
    "scrolled": true
   },
   "outputs": [
    {
     "data": {
      "text/plain": [
       "Timestamp('2018-03-20 16:52:16.885000+0000', tz='UTC')"
      ]
     },
     "execution_count": 36,
     "metadata": {},
     "output_type": "execute_result"
    }
   ],
   "source": [
    "accesConsolidado.fecha_conexion.min()"
   ]
  },
  {
   "cell_type": "code",
   "execution_count": 37,
   "metadata": {
    "scrolled": true
   },
   "outputs": [
    {
     "data": {
      "text/plain": [
       "Timestamp('2020-03-24 20:59:20.358000+0000', tz='UTC')"
      ]
     },
     "execution_count": 37,
     "metadata": {},
     "output_type": "execute_result"
    }
   ],
   "source": [
    "accesConsolidado.fecha_conexion.max()"
   ]
  },
  {
   "cell_type": "code",
   "execution_count": null,
   "metadata": {},
   "outputs": [],
   "source": []
  },
  {
   "cell_type": "code",
   "execution_count": 38,
   "metadata": {},
   "outputs": [],
   "source": [
    "accesConsolidadoLife=accesConsolidado.groupby('user_id').agg(conexioneslife=('fecha_conexion','count'))"
   ]
  },
  {
   "cell_type": "code",
   "execution_count": 39,
   "metadata": {},
   "outputs": [
    {
     "data": {
      "text/html": [
       "<div>\n",
       "<style scoped>\n",
       "    .dataframe tbody tr th:only-of-type {\n",
       "        vertical-align: middle;\n",
       "    }\n",
       "\n",
       "    .dataframe tbody tr th {\n",
       "        vertical-align: top;\n",
       "    }\n",
       "\n",
       "    .dataframe thead th {\n",
       "        text-align: right;\n",
       "    }\n",
       "</style>\n",
       "<table border=\"1\" class=\"dataframe\">\n",
       "  <thead>\n",
       "    <tr style=\"text-align: right;\">\n",
       "      <th></th>\n",
       "      <th>conexioneslife</th>\n",
       "    </tr>\n",
       "    <tr>\n",
       "      <th>user_id</th>\n",
       "      <th></th>\n",
       "    </tr>\n",
       "  </thead>\n",
       "  <tbody>\n",
       "    <tr>\n",
       "      <th>563854bd38176617515f2bee</th>\n",
       "      <td>0</td>\n",
       "    </tr>\n",
       "    <tr>\n",
       "      <th>563854bd38176617515f2bef</th>\n",
       "      <td>0</td>\n",
       "    </tr>\n",
       "    <tr>\n",
       "      <th>563854bd38176617515f2bf0</th>\n",
       "      <td>0</td>\n",
       "    </tr>\n",
       "    <tr>\n",
       "      <th>563854bd38176617515f2bf1</th>\n",
       "      <td>0</td>\n",
       "    </tr>\n",
       "    <tr>\n",
       "      <th>563854bd38176617515f2bf2</th>\n",
       "      <td>0</td>\n",
       "    </tr>\n",
       "    <tr>\n",
       "      <th>...</th>\n",
       "      <td>...</td>\n",
       "    </tr>\n",
       "    <tr>\n",
       "      <th>5e7a5ad87c0c1e0ab721b63d</th>\n",
       "      <td>1</td>\n",
       "    </tr>\n",
       "    <tr>\n",
       "      <th>5e7a65e16d1f2b0aa7ac4acc</th>\n",
       "      <td>1</td>\n",
       "    </tr>\n",
       "    <tr>\n",
       "      <th>5e7a67157c0c1e0ab721b65b</th>\n",
       "      <td>1</td>\n",
       "    </tr>\n",
       "    <tr>\n",
       "      <th>5e7a69d31f3fe30d84908b79</th>\n",
       "      <td>1</td>\n",
       "    </tr>\n",
       "    <tr>\n",
       "      <th>5e7a718d1f3fe30d84908b9f</th>\n",
       "      <td>1</td>\n",
       "    </tr>\n",
       "  </tbody>\n",
       "</table>\n",
       "<p>591311 rows × 1 columns</p>\n",
       "</div>"
      ],
      "text/plain": [
       "                          conexioneslife\n",
       "user_id                                 \n",
       "563854bd38176617515f2bee               0\n",
       "563854bd38176617515f2bef               0\n",
       "563854bd38176617515f2bf0               0\n",
       "563854bd38176617515f2bf1               0\n",
       "563854bd38176617515f2bf2               0\n",
       "...                                  ...\n",
       "5e7a5ad87c0c1e0ab721b63d               1\n",
       "5e7a65e16d1f2b0aa7ac4acc               1\n",
       "5e7a67157c0c1e0ab721b65b               1\n",
       "5e7a69d31f3fe30d84908b79               1\n",
       "5e7a718d1f3fe30d84908b9f               1\n",
       "\n",
       "[591311 rows x 1 columns]"
      ]
     },
     "execution_count": 39,
     "metadata": {},
     "output_type": "execute_result"
    }
   ],
   "source": [
    "accesConsolidadoLife"
   ]
  },
  {
   "cell_type": "code",
   "execution_count": null,
   "metadata": {},
   "outputs": [],
   "source": []
  },
  {
   "cell_type": "code",
   "execution_count": null,
   "metadata": {},
   "outputs": [],
   "source": []
  },
  {
   "cell_type": "markdown",
   "metadata": {},
   "source": [
    "###  Ahora hay que segmentar por fecha para ir llenando la tabla"
   ]
  },
  {
   "cell_type": "code",
   "execution_count": 40,
   "metadata": {},
   "outputs": [],
   "source": [
    "ultimos30dias=pd.to_datetime((datetime.datetime.today() - timedelta(days=30)))"
   ]
  },
  {
   "cell_type": "code",
   "execution_count": 41,
   "metadata": {
    "scrolled": true
   },
   "outputs": [
    {
     "data": {
      "text/plain": [
       "Timestamp('2020-03-22 11:41:31.996019')"
      ]
     },
     "execution_count": 41,
     "metadata": {},
     "output_type": "execute_result"
    }
   ],
   "source": [
    "ultimos30dias"
   ]
  },
  {
   "cell_type": "code",
   "execution_count": 42,
   "metadata": {},
   "outputs": [],
   "source": [
    "ultimos30dias=ultimos30dias.tz_localize('UTC')"
   ]
  },
  {
   "cell_type": "markdown",
   "metadata": {},
   "source": [
    "Con rebeca"
   ]
  },
  {
   "cell_type": "code",
   "execution_count": 43,
   "metadata": {},
   "outputs": [],
   "source": [
    "mes_hoy=datetime.datetime.today().month"
   ]
  },
  {
   "cell_type": "code",
   "execution_count": 44,
   "metadata": {},
   "outputs": [],
   "source": [
    "mes_ant=mes_hoy-1"
   ]
  },
  {
   "cell_type": "code",
   "execution_count": 45,
   "metadata": {},
   "outputs": [],
   "source": [
    "primer_diamesAnterior=pd.to_datetime(datetime.datetime.today().replace(month=mes_ant,day=1,hour=00,minute=0,second=0,microsecond=0))"
   ]
  },
  {
   "cell_type": "code",
   "execution_count": 46,
   "metadata": {},
   "outputs": [],
   "source": [
    "primer_diamesAnterior=primer_diamesAnterior.tz_localize('UTC')"
   ]
  },
  {
   "cell_type": "code",
   "execution_count": 47,
   "metadata": {},
   "outputs": [],
   "source": [
    "ultimo_diamesAnterir=pd.to_datetime(datetime.datetime.today().replace(day=1,hour=00,minute=0,second=0,microsecond=0))"
   ]
  },
  {
   "cell_type": "code",
   "execution_count": 48,
   "metadata": {},
   "outputs": [],
   "source": [
    "ultimo_diamesAnterir=ultimo_diamesAnterir.tz_localize('UTC')"
   ]
  },
  {
   "cell_type": "code",
   "execution_count": 49,
   "metadata": {
    "scrolled": true
   },
   "outputs": [
    {
     "data": {
      "text/plain": [
       "Timestamp('2020-03-22 11:41:31.996019+0000', tz='UTC')"
      ]
     },
     "execution_count": 49,
     "metadata": {},
     "output_type": "execute_result"
    }
   ],
   "source": [
    "ultimos30dias"
   ]
  },
  {
   "cell_type": "code",
   "execution_count": 50,
   "metadata": {},
   "outputs": [
    {
     "name": "stdout",
     "output_type": "stream",
     "text": [
      "<class 'pandas.core.frame.DataFrame'>\n",
      "Int64Index: 8937945 entries, 0 to 8937944\n",
      "Data columns (total 2 columns):\n",
      " #   Column          Dtype              \n",
      "---  ------          -----              \n",
      " 0   user_id         object             \n",
      " 1   fecha_conexion  datetime64[ns, UTC]\n",
      "dtypes: datetime64[ns, UTC](1), object(1)\n",
      "memory usage: 524.6+ MB\n"
     ]
    }
   ],
   "source": [
    "accesConsolidado.info()"
   ]
  },
  {
   "cell_type": "code",
   "execution_count": 51,
   "metadata": {},
   "outputs": [],
   "source": [
    "user_conexionesLast30Days=accesConsolidado.loc[accesConsolidado['fecha_conexion'] > ultimos30dias]"
   ]
  },
  {
   "cell_type": "code",
   "execution_count": 52,
   "metadata": {
    "scrolled": false
   },
   "outputs": [
    {
     "name": "stdout",
     "output_type": "stream",
     "text": [
      "<class 'pandas.core.frame.DataFrame'>\n",
      "Int64Index: 4712 entries, 717078 to 8868414\n",
      "Data columns (total 2 columns):\n",
      " #   Column          Non-Null Count  Dtype              \n",
      "---  ------          --------------  -----              \n",
      " 0   user_id         4712 non-null   object             \n",
      " 1   fecha_conexion  4712 non-null   datetime64[ns, UTC]\n",
      "dtypes: datetime64[ns, UTC](1), object(1)\n",
      "memory usage: 110.4+ KB\n"
     ]
    }
   ],
   "source": [
    "user_conexionesLast30Days.info()"
   ]
  },
  {
   "cell_type": "code",
   "execution_count": 53,
   "metadata": {},
   "outputs": [
    {
     "data": {
      "text/plain": [
       "2909"
      ]
     },
     "execution_count": 53,
     "metadata": {},
     "output_type": "execute_result"
    }
   ],
   "source": [
    "user_conexionesLast30Days.user_id.nunique()"
   ]
  },
  {
   "cell_type": "code",
   "execution_count": 54,
   "metadata": {},
   "outputs": [],
   "source": [
    "user_conexionesLast30Days=user_conexionesLast30Days.groupby('user_id').agg(conexionesLast30Days=('fecha_conexion','count'))"
   ]
  },
  {
   "cell_type": "code",
   "execution_count": 55,
   "metadata": {},
   "outputs": [
    {
     "data": {
      "text/html": [
       "<div>\n",
       "<style scoped>\n",
       "    .dataframe tbody tr th:only-of-type {\n",
       "        vertical-align: middle;\n",
       "    }\n",
       "\n",
       "    .dataframe tbody tr th {\n",
       "        vertical-align: top;\n",
       "    }\n",
       "\n",
       "    .dataframe thead th {\n",
       "        text-align: right;\n",
       "    }\n",
       "</style>\n",
       "<table border=\"1\" class=\"dataframe\">\n",
       "  <thead>\n",
       "    <tr style=\"text-align: right;\">\n",
       "      <th></th>\n",
       "      <th>conexionesLast30Days</th>\n",
       "    </tr>\n",
       "    <tr>\n",
       "      <th>user_id</th>\n",
       "      <th></th>\n",
       "    </tr>\n",
       "  </thead>\n",
       "  <tbody>\n",
       "    <tr>\n",
       "      <th>563854be38176617515f2c5c</th>\n",
       "      <td>1</td>\n",
       "    </tr>\n",
       "    <tr>\n",
       "      <th>563854bf38176617515f2cee</th>\n",
       "      <td>1</td>\n",
       "    </tr>\n",
       "    <tr>\n",
       "      <th>563854c038176617515f2d56</th>\n",
       "      <td>2</td>\n",
       "    </tr>\n",
       "    <tr>\n",
       "      <th>563854c238176617515f2dfa</th>\n",
       "      <td>1</td>\n",
       "    </tr>\n",
       "    <tr>\n",
       "      <th>563854c238176617515f2e0e</th>\n",
       "      <td>1</td>\n",
       "    </tr>\n",
       "    <tr>\n",
       "      <th>...</th>\n",
       "      <td>...</td>\n",
       "    </tr>\n",
       "    <tr>\n",
       "      <th>5e7a5ad87c0c1e0ab721b63d</th>\n",
       "      <td>1</td>\n",
       "    </tr>\n",
       "    <tr>\n",
       "      <th>5e7a65e16d1f2b0aa7ac4acc</th>\n",
       "      <td>1</td>\n",
       "    </tr>\n",
       "    <tr>\n",
       "      <th>5e7a67157c0c1e0ab721b65b</th>\n",
       "      <td>1</td>\n",
       "    </tr>\n",
       "    <tr>\n",
       "      <th>5e7a69d31f3fe30d84908b79</th>\n",
       "      <td>1</td>\n",
       "    </tr>\n",
       "    <tr>\n",
       "      <th>5e7a718d1f3fe30d84908b9f</th>\n",
       "      <td>1</td>\n",
       "    </tr>\n",
       "  </tbody>\n",
       "</table>\n",
       "<p>2909 rows × 1 columns</p>\n",
       "</div>"
      ],
      "text/plain": [
       "                          conexionesLast30Days\n",
       "user_id                                       \n",
       "563854be38176617515f2c5c                     1\n",
       "563854bf38176617515f2cee                     1\n",
       "563854c038176617515f2d56                     2\n",
       "563854c238176617515f2dfa                     1\n",
       "563854c238176617515f2e0e                     1\n",
       "...                                        ...\n",
       "5e7a5ad87c0c1e0ab721b63d                     1\n",
       "5e7a65e16d1f2b0aa7ac4acc                     1\n",
       "5e7a67157c0c1e0ab721b65b                     1\n",
       "5e7a69d31f3fe30d84908b79                     1\n",
       "5e7a718d1f3fe30d84908b9f                     1\n",
       "\n",
       "[2909 rows x 1 columns]"
      ]
     },
     "execution_count": 55,
     "metadata": {},
     "output_type": "execute_result"
    }
   ],
   "source": [
    "user_conexionesLast30Days"
   ]
  },
  {
   "cell_type": "markdown",
   "metadata": {},
   "source": [
    "#### Obtener el último login"
   ]
  },
  {
   "cell_type": "code",
   "execution_count": 56,
   "metadata": {
    "scrolled": true
   },
   "outputs": [],
   "source": [
    "cusLastLoginDate=accesConsolidado.groupby('user_id').agg(cusLastLoginDate=('fecha_conexion','last'))"
   ]
  },
  {
   "cell_type": "code",
   "execution_count": 57,
   "metadata": {},
   "outputs": [
    {
     "data": {
      "text/html": [
       "<div>\n",
       "<style scoped>\n",
       "    .dataframe tbody tr th:only-of-type {\n",
       "        vertical-align: middle;\n",
       "    }\n",
       "\n",
       "    .dataframe tbody tr th {\n",
       "        vertical-align: top;\n",
       "    }\n",
       "\n",
       "    .dataframe thead th {\n",
       "        text-align: right;\n",
       "    }\n",
       "</style>\n",
       "<table border=\"1\" class=\"dataframe\">\n",
       "  <thead>\n",
       "    <tr style=\"text-align: right;\">\n",
       "      <th></th>\n",
       "      <th>cusLastLoginDate</th>\n",
       "    </tr>\n",
       "    <tr>\n",
       "      <th>user_id</th>\n",
       "      <th></th>\n",
       "    </tr>\n",
       "  </thead>\n",
       "  <tbody>\n",
       "    <tr>\n",
       "      <th>563854bd38176617515f2bee</th>\n",
       "      <td>NaT</td>\n",
       "    </tr>\n",
       "    <tr>\n",
       "      <th>563854bd38176617515f2bef</th>\n",
       "      <td>NaT</td>\n",
       "    </tr>\n",
       "    <tr>\n",
       "      <th>563854bd38176617515f2bf0</th>\n",
       "      <td>NaT</td>\n",
       "    </tr>\n",
       "    <tr>\n",
       "      <th>563854bd38176617515f2bf1</th>\n",
       "      <td>NaT</td>\n",
       "    </tr>\n",
       "    <tr>\n",
       "      <th>563854bd38176617515f2bf2</th>\n",
       "      <td>NaT</td>\n",
       "    </tr>\n",
       "    <tr>\n",
       "      <th>...</th>\n",
       "      <td>...</td>\n",
       "    </tr>\n",
       "    <tr>\n",
       "      <th>5e7a5ad87c0c1e0ab721b63d</th>\n",
       "      <td>2020-03-24 19:11:07.081000+00:00</td>\n",
       "    </tr>\n",
       "    <tr>\n",
       "      <th>5e7a65e16d1f2b0aa7ac4acc</th>\n",
       "      <td>2020-03-24 20:00:15.458000+00:00</td>\n",
       "    </tr>\n",
       "    <tr>\n",
       "      <th>5e7a67157c0c1e0ab721b65b</th>\n",
       "      <td>2020-03-24 20:02:25.965000+00:00</td>\n",
       "    </tr>\n",
       "    <tr>\n",
       "      <th>5e7a69d31f3fe30d84908b79</th>\n",
       "      <td>2020-03-24 20:14:42.848000+00:00</td>\n",
       "    </tr>\n",
       "    <tr>\n",
       "      <th>5e7a718d1f3fe30d84908b9f</th>\n",
       "      <td>2020-03-24 20:57:08.529000+00:00</td>\n",
       "    </tr>\n",
       "  </tbody>\n",
       "</table>\n",
       "<p>591311 rows × 1 columns</p>\n",
       "</div>"
      ],
      "text/plain": [
       "                                         cusLastLoginDate\n",
       "user_id                                                  \n",
       "563854bd38176617515f2bee                              NaT\n",
       "563854bd38176617515f2bef                              NaT\n",
       "563854bd38176617515f2bf0                              NaT\n",
       "563854bd38176617515f2bf1                              NaT\n",
       "563854bd38176617515f2bf2                              NaT\n",
       "...                                                   ...\n",
       "5e7a5ad87c0c1e0ab721b63d 2020-03-24 19:11:07.081000+00:00\n",
       "5e7a65e16d1f2b0aa7ac4acc 2020-03-24 20:00:15.458000+00:00\n",
       "5e7a67157c0c1e0ab721b65b 2020-03-24 20:02:25.965000+00:00\n",
       "5e7a69d31f3fe30d84908b79 2020-03-24 20:14:42.848000+00:00\n",
       "5e7a718d1f3fe30d84908b9f 2020-03-24 20:57:08.529000+00:00\n",
       "\n",
       "[591311 rows x 1 columns]"
      ]
     },
     "execution_count": 57,
     "metadata": {},
     "output_type": "execute_result"
    }
   ],
   "source": [
    "cusLastLoginDate"
   ]
  },
  {
   "cell_type": "markdown",
   "metadata": {},
   "source": [
    "#### Obtener cusLoginsThisMonth"
   ]
  },
  {
   "cell_type": "code",
   "execution_count": 58,
   "metadata": {},
   "outputs": [],
   "source": [
    "hoy=datetime.datetime.today()"
   ]
  },
  {
   "cell_type": "code",
   "execution_count": 59,
   "metadata": {},
   "outputs": [],
   "source": [
    "primer_diames=pd.to_datetime(datetime.datetime.today().replace(day=1,hour=00,minute=0,second=0,microsecond=0))"
   ]
  },
  {
   "cell_type": "code",
   "execution_count": 60,
   "metadata": {},
   "outputs": [],
   "source": [
    "primer_diames=primer_diames.tz_localize('UTC')"
   ]
  },
  {
   "cell_type": "code",
   "execution_count": 61,
   "metadata": {},
   "outputs": [
    {
     "data": {
      "text/plain": [
       "Timestamp('2020-04-01 00:00:00+0000', tz='UTC')"
      ]
     },
     "execution_count": 61,
     "metadata": {},
     "output_type": "execute_result"
    }
   ],
   "source": [
    "primer_diames"
   ]
  },
  {
   "cell_type": "code",
   "execution_count": null,
   "metadata": {},
   "outputs": [],
   "source": []
  },
  {
   "cell_type": "code",
   "execution_count": null,
   "metadata": {},
   "outputs": [],
   "source": []
  },
  {
   "cell_type": "code",
   "execution_count": null,
   "metadata": {},
   "outputs": [],
   "source": []
  },
  {
   "cell_type": "code",
   "execution_count": 62,
   "metadata": {},
   "outputs": [],
   "source": [
    "user_cusLoginsThisMonth=accesConsolidado.loc[accesConsolidado['fecha_conexion'] > primer_diames]"
   ]
  },
  {
   "cell_type": "code",
   "execution_count": 63,
   "metadata": {},
   "outputs": [],
   "source": [
    "user_cusLoginsThisMonth=user_cusLoginsThisMonth.groupby('user_id').agg(cusLoginsThisMonth=('fecha_conexion', 'count') )"
   ]
  },
  {
   "cell_type": "code",
   "execution_count": 64,
   "metadata": {},
   "outputs": [
    {
     "data": {
      "text/html": [
       "<div>\n",
       "<style scoped>\n",
       "    .dataframe tbody tr th:only-of-type {\n",
       "        vertical-align: middle;\n",
       "    }\n",
       "\n",
       "    .dataframe tbody tr th {\n",
       "        vertical-align: top;\n",
       "    }\n",
       "\n",
       "    .dataframe thead th {\n",
       "        text-align: right;\n",
       "    }\n",
       "</style>\n",
       "<table border=\"1\" class=\"dataframe\">\n",
       "  <thead>\n",
       "    <tr style=\"text-align: right;\">\n",
       "      <th></th>\n",
       "      <th>cusLoginsThisMonth</th>\n",
       "    </tr>\n",
       "    <tr>\n",
       "      <th>user_id</th>\n",
       "      <th></th>\n",
       "    </tr>\n",
       "  </thead>\n",
       "  <tbody>\n",
       "  </tbody>\n",
       "</table>\n",
       "</div>"
      ],
      "text/plain": [
       "Empty DataFrame\n",
       "Columns: [cusLoginsThisMonth]\n",
       "Index: []"
      ]
     },
     "execution_count": 64,
     "metadata": {},
     "output_type": "execute_result"
    }
   ],
   "source": [
    "user_cusLoginsThisMonth"
   ]
  },
  {
   "cell_type": "code",
   "execution_count": null,
   "metadata": {},
   "outputs": [],
   "source": []
  },
  {
   "cell_type": "markdown",
   "metadata": {},
   "source": [
    "#### Obtener cusLoginsPreviousMonth"
   ]
  },
  {
   "cell_type": "code",
   "execution_count": 65,
   "metadata": {},
   "outputs": [
    {
     "data": {
      "text/plain": [
       "Timestamp('2020-03-01 00:00:00+0000', tz='UTC')"
      ]
     },
     "execution_count": 65,
     "metadata": {},
     "output_type": "execute_result"
    }
   ],
   "source": [
    "primer_diamesAnterior"
   ]
  },
  {
   "cell_type": "code",
   "execution_count": 66,
   "metadata": {},
   "outputs": [
    {
     "data": {
      "text/plain": [
       "Timestamp('2020-04-01 00:00:00+0000', tz='UTC')"
      ]
     },
     "execution_count": 66,
     "metadata": {},
     "output_type": "execute_result"
    }
   ],
   "source": [
    "ultimo_diamesAnterir"
   ]
  },
  {
   "cell_type": "code",
   "execution_count": 67,
   "metadata": {},
   "outputs": [],
   "source": [
    "user_conexiones_cusLoginsPreviousMonth=accesConsolidado.loc[(accesConsolidado['fecha_conexion'] > primer_diamesAnterior)&(accesConsolidado['fecha_conexion'] < ultimo_diamesAnterir)]"
   ]
  },
  {
   "cell_type": "code",
   "execution_count": 68,
   "metadata": {},
   "outputs": [
    {
     "name": "stdout",
     "output_type": "stream",
     "text": [
      "<class 'pandas.core.frame.DataFrame'>\n",
      "Int64Index: 194965 entries, 636239 to 8868414\n",
      "Data columns (total 2 columns):\n",
      " #   Column          Non-Null Count   Dtype              \n",
      "---  ------          --------------   -----              \n",
      " 0   user_id         194965 non-null  object             \n",
      " 1   fecha_conexion  194965 non-null  datetime64[ns, UTC]\n",
      "dtypes: datetime64[ns, UTC](1), object(1)\n",
      "memory usage: 4.5+ MB\n"
     ]
    }
   ],
   "source": [
    "user_conexiones_cusLoginsPreviousMonth.info()"
   ]
  },
  {
   "cell_type": "code",
   "execution_count": 69,
   "metadata": {},
   "outputs": [],
   "source": [
    "user_conexiones_cusLoginsPreviousMonth=user_conexiones_cusLoginsPreviousMonth.groupby('user_id').agg(cusLoginsPreviousMonth=('fecha_conexion','count') )"
   ]
  },
  {
   "cell_type": "code",
   "execution_count": 70,
   "metadata": {},
   "outputs": [
    {
     "data": {
      "text/html": [
       "<div>\n",
       "<style scoped>\n",
       "    .dataframe tbody tr th:only-of-type {\n",
       "        vertical-align: middle;\n",
       "    }\n",
       "\n",
       "    .dataframe tbody tr th {\n",
       "        vertical-align: top;\n",
       "    }\n",
       "\n",
       "    .dataframe thead th {\n",
       "        text-align: right;\n",
       "    }\n",
       "</style>\n",
       "<table border=\"1\" class=\"dataframe\">\n",
       "  <thead>\n",
       "    <tr style=\"text-align: right;\">\n",
       "      <th></th>\n",
       "      <th>cusLoginsPreviousMonth</th>\n",
       "    </tr>\n",
       "    <tr>\n",
       "      <th>user_id</th>\n",
       "      <th></th>\n",
       "    </tr>\n",
       "  </thead>\n",
       "  <tbody>\n",
       "    <tr>\n",
       "      <th>563854bd38176617515f2c19</th>\n",
       "      <td>5</td>\n",
       "    </tr>\n",
       "    <tr>\n",
       "      <th>563854bd38176617515f2c31</th>\n",
       "      <td>7</td>\n",
       "    </tr>\n",
       "    <tr>\n",
       "      <th>563854be38176617515f2c3e</th>\n",
       "      <td>17</td>\n",
       "    </tr>\n",
       "    <tr>\n",
       "      <th>563854be38176617515f2c5c</th>\n",
       "      <td>41</td>\n",
       "    </tr>\n",
       "    <tr>\n",
       "      <th>563854bf38176617515f2cbe</th>\n",
       "      <td>3</td>\n",
       "    </tr>\n",
       "    <tr>\n",
       "      <th>...</th>\n",
       "      <td>...</td>\n",
       "    </tr>\n",
       "    <tr>\n",
       "      <th>5e7a5ad87c0c1e0ab721b63d</th>\n",
       "      <td>1</td>\n",
       "    </tr>\n",
       "    <tr>\n",
       "      <th>5e7a65e16d1f2b0aa7ac4acc</th>\n",
       "      <td>1</td>\n",
       "    </tr>\n",
       "    <tr>\n",
       "      <th>5e7a67157c0c1e0ab721b65b</th>\n",
       "      <td>1</td>\n",
       "    </tr>\n",
       "    <tr>\n",
       "      <th>5e7a69d31f3fe30d84908b79</th>\n",
       "      <td>1</td>\n",
       "    </tr>\n",
       "    <tr>\n",
       "      <th>5e7a718d1f3fe30d84908b9f</th>\n",
       "      <td>1</td>\n",
       "    </tr>\n",
       "  </tbody>\n",
       "</table>\n",
       "<p>22599 rows × 1 columns</p>\n",
       "</div>"
      ],
      "text/plain": [
       "                          cusLoginsPreviousMonth\n",
       "user_id                                         \n",
       "563854bd38176617515f2c19                       5\n",
       "563854bd38176617515f2c31                       7\n",
       "563854be38176617515f2c3e                      17\n",
       "563854be38176617515f2c5c                      41\n",
       "563854bf38176617515f2cbe                       3\n",
       "...                                          ...\n",
       "5e7a5ad87c0c1e0ab721b63d                       1\n",
       "5e7a65e16d1f2b0aa7ac4acc                       1\n",
       "5e7a67157c0c1e0ab721b65b                       1\n",
       "5e7a69d31f3fe30d84908b79                       1\n",
       "5e7a718d1f3fe30d84908b9f                       1\n",
       "\n",
       "[22599 rows x 1 columns]"
      ]
     },
     "execution_count": 70,
     "metadata": {},
     "output_type": "execute_result"
    }
   ],
   "source": [
    "user_conexiones_cusLoginsPreviousMonth"
   ]
  },
  {
   "cell_type": "code",
   "execution_count": null,
   "metadata": {},
   "outputs": [],
   "source": []
  },
  {
   "cell_type": "markdown",
   "metadata": {},
   "source": [
    "#### Obtener cusLoginsLast3Months "
   ]
  },
  {
   "cell_type": "code",
   "execution_count": 71,
   "metadata": {},
   "outputs": [],
   "source": [
    "def periodo3():\n",
    "    hoy=datetime.datetime.today()\n",
    "    mes_hoy=hoy.month\n",
    "    mes_last3Month=mes_hoy-3\n",
    "    if (mes_last3Month == 0):\n",
    "        mes_last3Month=12\n",
    "        ano=hoy.year-1\n",
    "        limite_izq=pd.to_datetime(datetime.datetime.today().replace(year=ano,month=mes_last3Month,day=1,hour=00,minute=0,second=0,microsecond=0))\n",
    "        limite_izq=limite_izq.tz_localize('UTC')\n",
    "        print(limite_izq)\n",
    "    if (mes_last3Month == -1):\n",
    "        mes_last3Month=11\n",
    "        ano=hoy.year-1\n",
    "        limite_izq=pd.to_datetime(datetime.datetime.today().replace(year=ano,month=mes_last3Month,day=1,hour=00,minute=0,second=0,microsecond=0))\n",
    "    if (mes_last3Month == -2):\n",
    "        mes_last3Month=10\n",
    "        ano=hoy.year-1\n",
    "        limite_izq=pd.to_datetime(datetime.datetime.today().replace(year=ano,month=mes_last3Month,day=1,hour=00,minute=0,second=0,microsecond=0))\n",
    "    else:\n",
    "        ano=hoy.year\n",
    "        limite_izq=pd.to_datetime(datetime.datetime.today().replace(year=ano,month=mes_last3Month,day=1,hour=00,minute=0,second=0,microsecond=0))\n",
    "        limite_izq=limite_izq.tz_localize('UTC')\n",
    "        return limite_izq"
   ]
  },
  {
   "cell_type": "code",
   "execution_count": null,
   "metadata": {},
   "outputs": [],
   "source": []
  },
  {
   "cell_type": "code",
   "execution_count": 72,
   "metadata": {
    "scrolled": true
   },
   "outputs": [],
   "source": [
    "mes_inici3=periodo3()"
   ]
  },
  {
   "cell_type": "code",
   "execution_count": 73,
   "metadata": {
    "scrolled": true
   },
   "outputs": [
    {
     "data": {
      "text/plain": [
       "Timestamp('2020-01-01 00:00:00+0000', tz='UTC')"
      ]
     },
     "execution_count": 73,
     "metadata": {},
     "output_type": "execute_result"
    }
   ],
   "source": [
    "mes_inici3"
   ]
  },
  {
   "cell_type": "code",
   "execution_count": 74,
   "metadata": {},
   "outputs": [
    {
     "data": {
      "text/plain": [
       "Timestamp('2020-04-01 00:00:00+0000', tz='UTC')"
      ]
     },
     "execution_count": 74,
     "metadata": {},
     "output_type": "execute_result"
    }
   ],
   "source": [
    "ultimo_diamesAnterir"
   ]
  },
  {
   "cell_type": "code",
   "execution_count": 75,
   "metadata": {},
   "outputs": [],
   "source": [
    "user_conexiones_cusLoginsLast3Months=accesConsolidado.loc[(accesConsolidado['fecha_conexion'] > mes_inici3)&(accesConsolidado['fecha_conexion'] < ultimo_diamesAnterir)]"
   ]
  },
  {
   "cell_type": "code",
   "execution_count": 76,
   "metadata": {},
   "outputs": [],
   "source": [
    "user_conexiones_cusLoginsLast3Months=user_conexiones_cusLoginsLast3Months.groupby('user_id').agg(cusLoginsLast3Months=('fecha_conexion', 'count') )"
   ]
  },
  {
   "cell_type": "code",
   "execution_count": 77,
   "metadata": {
    "scrolled": true
   },
   "outputs": [
    {
     "data": {
      "text/html": [
       "<div>\n",
       "<style scoped>\n",
       "    .dataframe tbody tr th:only-of-type {\n",
       "        vertical-align: middle;\n",
       "    }\n",
       "\n",
       "    .dataframe tbody tr th {\n",
       "        vertical-align: top;\n",
       "    }\n",
       "\n",
       "    .dataframe thead th {\n",
       "        text-align: right;\n",
       "    }\n",
       "</style>\n",
       "<table border=\"1\" class=\"dataframe\">\n",
       "  <thead>\n",
       "    <tr style=\"text-align: right;\">\n",
       "      <th></th>\n",
       "      <th>cusLoginsLast3Months</th>\n",
       "    </tr>\n",
       "    <tr>\n",
       "      <th>user_id</th>\n",
       "      <th></th>\n",
       "    </tr>\n",
       "  </thead>\n",
       "  <tbody>\n",
       "    <tr>\n",
       "      <th>563854bd38176617515f2c09</th>\n",
       "      <td>2</td>\n",
       "    </tr>\n",
       "    <tr>\n",
       "      <th>563854bd38176617515f2c19</th>\n",
       "      <td>16</td>\n",
       "    </tr>\n",
       "    <tr>\n",
       "      <th>563854bd38176617515f2c31</th>\n",
       "      <td>6</td>\n",
       "    </tr>\n",
       "    <tr>\n",
       "      <th>563854be38176617515f2c3e</th>\n",
       "      <td>17</td>\n",
       "    </tr>\n",
       "    <tr>\n",
       "      <th>563854be38176617515f2c4d</th>\n",
       "      <td>6</td>\n",
       "    </tr>\n",
       "    <tr>\n",
       "      <th>...</th>\n",
       "      <td>...</td>\n",
       "    </tr>\n",
       "    <tr>\n",
       "      <th>5e7a5ad87c0c1e0ab721b63d</th>\n",
       "      <td>1</td>\n",
       "    </tr>\n",
       "    <tr>\n",
       "      <th>5e7a65e16d1f2b0aa7ac4acc</th>\n",
       "      <td>1</td>\n",
       "    </tr>\n",
       "    <tr>\n",
       "      <th>5e7a67157c0c1e0ab721b65b</th>\n",
       "      <td>1</td>\n",
       "    </tr>\n",
       "    <tr>\n",
       "      <th>5e7a69d31f3fe30d84908b79</th>\n",
       "      <td>1</td>\n",
       "    </tr>\n",
       "    <tr>\n",
       "      <th>5e7a718d1f3fe30d84908b9f</th>\n",
       "      <td>1</td>\n",
       "    </tr>\n",
       "  </tbody>\n",
       "</table>\n",
       "<p>88071 rows × 1 columns</p>\n",
       "</div>"
      ],
      "text/plain": [
       "                          cusLoginsLast3Months\n",
       "user_id                                       \n",
       "563854bd38176617515f2c09                     2\n",
       "563854bd38176617515f2c19                    16\n",
       "563854bd38176617515f2c31                     6\n",
       "563854be38176617515f2c3e                    17\n",
       "563854be38176617515f2c4d                     6\n",
       "...                                        ...\n",
       "5e7a5ad87c0c1e0ab721b63d                     1\n",
       "5e7a65e16d1f2b0aa7ac4acc                     1\n",
       "5e7a67157c0c1e0ab721b65b                     1\n",
       "5e7a69d31f3fe30d84908b79                     1\n",
       "5e7a718d1f3fe30d84908b9f                     1\n",
       "\n",
       "[88071 rows x 1 columns]"
      ]
     },
     "execution_count": 77,
     "metadata": {},
     "output_type": "execute_result"
    }
   ],
   "source": [
    "user_conexiones_cusLoginsLast3Months"
   ]
  },
  {
   "cell_type": "code",
   "execution_count": null,
   "metadata": {},
   "outputs": [],
   "source": []
  },
  {
   "cell_type": "markdown",
   "metadata": {},
   "source": [
    "#### Obtener cusLoginsLast12Months"
   ]
  },
  {
   "cell_type": "code",
   "execution_count": 78,
   "metadata": {},
   "outputs": [],
   "source": [
    "def periodo12():\n",
    "    hoy=datetime.datetime.today()\n",
    "    month=hoy.month\n",
    "    ano=hoy.year-1\n",
    "    limite_izq=pd.to_datetime(datetime.datetime.today().replace(year=ano,month=month,day=1,hour=00,minute=0,second=0,microsecond=0))\n",
    "    limite_izq=limite_izq.tz_localize('UTC')\n",
    "\n",
    "    return limite_izq"
   ]
  },
  {
   "cell_type": "code",
   "execution_count": 79,
   "metadata": {},
   "outputs": [],
   "source": [
    "mes_inici12=periodo12()"
   ]
  },
  {
   "cell_type": "code",
   "execution_count": 80,
   "metadata": {},
   "outputs": [
    {
     "data": {
      "text/plain": [
       "Timestamp('2019-04-01 00:00:00+0000', tz='UTC')"
      ]
     },
     "execution_count": 80,
     "metadata": {},
     "output_type": "execute_result"
    }
   ],
   "source": [
    "mes_inici12"
   ]
  },
  {
   "cell_type": "code",
   "execution_count": 81,
   "metadata": {},
   "outputs": [],
   "source": [
    "user_conexiones_cusLoginsLast12Months=accesConsolidado.loc[(accesConsolidado['fecha_conexion']>mes_inici12)&(accesConsolidado['fecha_conexion'] < ultimo_diamesAnterir)]"
   ]
  },
  {
   "cell_type": "code",
   "execution_count": 82,
   "metadata": {},
   "outputs": [],
   "source": [
    "user_conexiones_cusLoginsLast12Months=user_conexiones_cusLoginsLast12Months.groupby('user_id').agg(cusLoginsLast12Months=('fecha_conexion','count'))"
   ]
  },
  {
   "cell_type": "code",
   "execution_count": 83,
   "metadata": {},
   "outputs": [
    {
     "data": {
      "text/html": [
       "<div>\n",
       "<style scoped>\n",
       "    .dataframe tbody tr th:only-of-type {\n",
       "        vertical-align: middle;\n",
       "    }\n",
       "\n",
       "    .dataframe tbody tr th {\n",
       "        vertical-align: top;\n",
       "    }\n",
       "\n",
       "    .dataframe thead th {\n",
       "        text-align: right;\n",
       "    }\n",
       "</style>\n",
       "<table border=\"1\" class=\"dataframe\">\n",
       "  <thead>\n",
       "    <tr style=\"text-align: right;\">\n",
       "      <th></th>\n",
       "      <th>cusLoginsLast12Months</th>\n",
       "    </tr>\n",
       "    <tr>\n",
       "      <th>user_id</th>\n",
       "      <th></th>\n",
       "    </tr>\n",
       "  </thead>\n",
       "  <tbody>\n",
       "    <tr>\n",
       "      <th>563854bd38176617515f2c09</th>\n",
       "      <td>2</td>\n",
       "    </tr>\n",
       "    <tr>\n",
       "      <th>563854bd38176617515f2c19</th>\n",
       "      <td>16</td>\n",
       "    </tr>\n",
       "    <tr>\n",
       "      <th>563854bd38176617515f2c31</th>\n",
       "      <td>6</td>\n",
       "    </tr>\n",
       "    <tr>\n",
       "      <th>563854be38176617515f2c3e</th>\n",
       "      <td>17</td>\n",
       "    </tr>\n",
       "    <tr>\n",
       "      <th>563854be38176617515f2c4d</th>\n",
       "      <td>6</td>\n",
       "    </tr>\n",
       "    <tr>\n",
       "      <th>...</th>\n",
       "      <td>...</td>\n",
       "    </tr>\n",
       "    <tr>\n",
       "      <th>5e7a5ad87c0c1e0ab721b63d</th>\n",
       "      <td>1</td>\n",
       "    </tr>\n",
       "    <tr>\n",
       "      <th>5e7a65e16d1f2b0aa7ac4acc</th>\n",
       "      <td>1</td>\n",
       "    </tr>\n",
       "    <tr>\n",
       "      <th>5e7a67157c0c1e0ab721b65b</th>\n",
       "      <td>1</td>\n",
       "    </tr>\n",
       "    <tr>\n",
       "      <th>5e7a69d31f3fe30d84908b79</th>\n",
       "      <td>1</td>\n",
       "    </tr>\n",
       "    <tr>\n",
       "      <th>5e7a718d1f3fe30d84908b9f</th>\n",
       "      <td>1</td>\n",
       "    </tr>\n",
       "  </tbody>\n",
       "</table>\n",
       "<p>147934 rows × 1 columns</p>\n",
       "</div>"
      ],
      "text/plain": [
       "                          cusLoginsLast12Months\n",
       "user_id                                        \n",
       "563854bd38176617515f2c09                      2\n",
       "563854bd38176617515f2c19                     16\n",
       "563854bd38176617515f2c31                      6\n",
       "563854be38176617515f2c3e                     17\n",
       "563854be38176617515f2c4d                      6\n",
       "...                                         ...\n",
       "5e7a5ad87c0c1e0ab721b63d                      1\n",
       "5e7a65e16d1f2b0aa7ac4acc                      1\n",
       "5e7a67157c0c1e0ab721b65b                      1\n",
       "5e7a69d31f3fe30d84908b79                      1\n",
       "5e7a718d1f3fe30d84908b9f                      1\n",
       "\n",
       "[147934 rows x 1 columns]"
      ]
     },
     "execution_count": 83,
     "metadata": {},
     "output_type": "execute_result"
    }
   ],
   "source": [
    "user_conexiones_cusLoginsLast12Months"
   ]
  },
  {
   "cell_type": "code",
   "execution_count": 84,
   "metadata": {
    "scrolled": true
   },
   "outputs": [
    {
     "data": {
      "text/plain": [
       "pandas.core.frame.DataFrame"
      ]
     },
     "execution_count": 84,
     "metadata": {},
     "output_type": "execute_result"
    }
   ],
   "source": [
    "type(user_conexiones_cusLoginsLast12Months)"
   ]
  },
  {
   "cell_type": "code",
   "execution_count": 85,
   "metadata": {},
   "outputs": [],
   "source": [
    "user_conexiones_cusLoginsBefore12Month=accesConsolidado.loc[(accesConsolidado['fecha_conexion']<mes_inici12)&(accesConsolidado['fecha_conexion'] < ultimo_diamesAnterir)]"
   ]
  },
  {
   "cell_type": "code",
   "execution_count": 86,
   "metadata": {},
   "outputs": [],
   "source": [
    "user_conexiones_cusLoginsBefore12Month=user_conexiones_cusLoginsBefore12Month.groupby('user_id').agg(LoginsBefore12Month=('fecha_conexion','count'))"
   ]
  },
  {
   "cell_type": "code",
   "execution_count": null,
   "metadata": {},
   "outputs": [],
   "source": []
  },
  {
   "cell_type": "code",
   "execution_count": null,
   "metadata": {},
   "outputs": [],
   "source": []
  },
  {
   "cell_type": "markdown",
   "metadata": {},
   "source": [
    "## ARMANDO LA TABLA FINAL"
   ]
  },
  {
   "cell_type": "code",
   "execution_count": 87,
   "metadata": {},
   "outputs": [],
   "source": [
    "frames = [cusLastLoginDate, user_cusLoginsThisMonth, user_conexionesLast30Days,user_conexiones_cusLoginsPreviousMonth,user_conexiones_cusLoginsLast3Months,user_conexiones_cusLoginsLast12Months,accesConsolidadoLife]"
   ]
  },
  {
   "cell_type": "code",
   "execution_count": 88,
   "metadata": {},
   "outputs": [],
   "source": [
    "CDF_LoginSummary = pd.concat(frames)"
   ]
  },
  {
   "cell_type": "code",
   "execution_count": 89,
   "metadata": {},
   "outputs": [
    {
     "data": {
      "text/html": [
       "<div>\n",
       "<style scoped>\n",
       "    .dataframe tbody tr th:only-of-type {\n",
       "        vertical-align: middle;\n",
       "    }\n",
       "\n",
       "    .dataframe tbody tr th {\n",
       "        vertical-align: top;\n",
       "    }\n",
       "\n",
       "    .dataframe thead th {\n",
       "        text-align: right;\n",
       "    }\n",
       "</style>\n",
       "<table border=\"1\" class=\"dataframe\">\n",
       "  <thead>\n",
       "    <tr style=\"text-align: right;\">\n",
       "      <th></th>\n",
       "      <th>cusLastLoginDate</th>\n",
       "      <th>cusLoginsThisMonth</th>\n",
       "      <th>conexionesLast30Days</th>\n",
       "      <th>cusLoginsPreviousMonth</th>\n",
       "      <th>cusLoginsLast3Months</th>\n",
       "      <th>cusLoginsLast12Months</th>\n",
       "      <th>conexioneslife</th>\n",
       "    </tr>\n",
       "    <tr>\n",
       "      <th>user_id</th>\n",
       "      <th></th>\n",
       "      <th></th>\n",
       "      <th></th>\n",
       "      <th></th>\n",
       "      <th></th>\n",
       "      <th></th>\n",
       "      <th></th>\n",
       "    </tr>\n",
       "  </thead>\n",
       "  <tbody>\n",
       "    <tr>\n",
       "      <th>563854bd38176617515f2bee</th>\n",
       "      <td>NaT</td>\n",
       "      <td>NaN</td>\n",
       "      <td>NaN</td>\n",
       "      <td>NaN</td>\n",
       "      <td>NaN</td>\n",
       "      <td>NaN</td>\n",
       "      <td>NaN</td>\n",
       "    </tr>\n",
       "    <tr>\n",
       "      <th>563854bd38176617515f2bef</th>\n",
       "      <td>NaT</td>\n",
       "      <td>NaN</td>\n",
       "      <td>NaN</td>\n",
       "      <td>NaN</td>\n",
       "      <td>NaN</td>\n",
       "      <td>NaN</td>\n",
       "      <td>NaN</td>\n",
       "    </tr>\n",
       "    <tr>\n",
       "      <th>563854bd38176617515f2bf0</th>\n",
       "      <td>NaT</td>\n",
       "      <td>NaN</td>\n",
       "      <td>NaN</td>\n",
       "      <td>NaN</td>\n",
       "      <td>NaN</td>\n",
       "      <td>NaN</td>\n",
       "      <td>NaN</td>\n",
       "    </tr>\n",
       "    <tr>\n",
       "      <th>563854bd38176617515f2bf1</th>\n",
       "      <td>NaT</td>\n",
       "      <td>NaN</td>\n",
       "      <td>NaN</td>\n",
       "      <td>NaN</td>\n",
       "      <td>NaN</td>\n",
       "      <td>NaN</td>\n",
       "      <td>NaN</td>\n",
       "    </tr>\n",
       "    <tr>\n",
       "      <th>563854bd38176617515f2bf2</th>\n",
       "      <td>NaT</td>\n",
       "      <td>NaN</td>\n",
       "      <td>NaN</td>\n",
       "      <td>NaN</td>\n",
       "      <td>NaN</td>\n",
       "      <td>NaN</td>\n",
       "      <td>NaN</td>\n",
       "    </tr>\n",
       "    <tr>\n",
       "      <th>...</th>\n",
       "      <td>...</td>\n",
       "      <td>...</td>\n",
       "      <td>...</td>\n",
       "      <td>...</td>\n",
       "      <td>...</td>\n",
       "      <td>...</td>\n",
       "      <td>...</td>\n",
       "    </tr>\n",
       "    <tr>\n",
       "      <th>5e7a5ad87c0c1e0ab721b63d</th>\n",
       "      <td>NaT</td>\n",
       "      <td>NaN</td>\n",
       "      <td>NaN</td>\n",
       "      <td>NaN</td>\n",
       "      <td>NaN</td>\n",
       "      <td>NaN</td>\n",
       "      <td>1.0</td>\n",
       "    </tr>\n",
       "    <tr>\n",
       "      <th>5e7a65e16d1f2b0aa7ac4acc</th>\n",
       "      <td>NaT</td>\n",
       "      <td>NaN</td>\n",
       "      <td>NaN</td>\n",
       "      <td>NaN</td>\n",
       "      <td>NaN</td>\n",
       "      <td>NaN</td>\n",
       "      <td>1.0</td>\n",
       "    </tr>\n",
       "    <tr>\n",
       "      <th>5e7a67157c0c1e0ab721b65b</th>\n",
       "      <td>NaT</td>\n",
       "      <td>NaN</td>\n",
       "      <td>NaN</td>\n",
       "      <td>NaN</td>\n",
       "      <td>NaN</td>\n",
       "      <td>NaN</td>\n",
       "      <td>1.0</td>\n",
       "    </tr>\n",
       "    <tr>\n",
       "      <th>5e7a69d31f3fe30d84908b79</th>\n",
       "      <td>NaT</td>\n",
       "      <td>NaN</td>\n",
       "      <td>NaN</td>\n",
       "      <td>NaN</td>\n",
       "      <td>NaN</td>\n",
       "      <td>NaN</td>\n",
       "      <td>1.0</td>\n",
       "    </tr>\n",
       "    <tr>\n",
       "      <th>5e7a718d1f3fe30d84908b9f</th>\n",
       "      <td>NaT</td>\n",
       "      <td>NaN</td>\n",
       "      <td>NaN</td>\n",
       "      <td>NaN</td>\n",
       "      <td>NaN</td>\n",
       "      <td>NaN</td>\n",
       "      <td>1.0</td>\n",
       "    </tr>\n",
       "  </tbody>\n",
       "</table>\n",
       "<p>1444135 rows × 7 columns</p>\n",
       "</div>"
      ],
      "text/plain": [
       "                         cusLastLoginDate  cusLoginsThisMonth  \\\n",
       "user_id                                                         \n",
       "563854bd38176617515f2bee              NaT                 NaN   \n",
       "563854bd38176617515f2bef              NaT                 NaN   \n",
       "563854bd38176617515f2bf0              NaT                 NaN   \n",
       "563854bd38176617515f2bf1              NaT                 NaN   \n",
       "563854bd38176617515f2bf2              NaT                 NaN   \n",
       "...                                   ...                 ...   \n",
       "5e7a5ad87c0c1e0ab721b63d              NaT                 NaN   \n",
       "5e7a65e16d1f2b0aa7ac4acc              NaT                 NaN   \n",
       "5e7a67157c0c1e0ab721b65b              NaT                 NaN   \n",
       "5e7a69d31f3fe30d84908b79              NaT                 NaN   \n",
       "5e7a718d1f3fe30d84908b9f              NaT                 NaN   \n",
       "\n",
       "                          conexionesLast30Days  cusLoginsPreviousMonth  \\\n",
       "user_id                                                                  \n",
       "563854bd38176617515f2bee                   NaN                     NaN   \n",
       "563854bd38176617515f2bef                   NaN                     NaN   \n",
       "563854bd38176617515f2bf0                   NaN                     NaN   \n",
       "563854bd38176617515f2bf1                   NaN                     NaN   \n",
       "563854bd38176617515f2bf2                   NaN                     NaN   \n",
       "...                                        ...                     ...   \n",
       "5e7a5ad87c0c1e0ab721b63d                   NaN                     NaN   \n",
       "5e7a65e16d1f2b0aa7ac4acc                   NaN                     NaN   \n",
       "5e7a67157c0c1e0ab721b65b                   NaN                     NaN   \n",
       "5e7a69d31f3fe30d84908b79                   NaN                     NaN   \n",
       "5e7a718d1f3fe30d84908b9f                   NaN                     NaN   \n",
       "\n",
       "                          cusLoginsLast3Months  cusLoginsLast12Months  \\\n",
       "user_id                                                                 \n",
       "563854bd38176617515f2bee                   NaN                    NaN   \n",
       "563854bd38176617515f2bef                   NaN                    NaN   \n",
       "563854bd38176617515f2bf0                   NaN                    NaN   \n",
       "563854bd38176617515f2bf1                   NaN                    NaN   \n",
       "563854bd38176617515f2bf2                   NaN                    NaN   \n",
       "...                                        ...                    ...   \n",
       "5e7a5ad87c0c1e0ab721b63d                   NaN                    NaN   \n",
       "5e7a65e16d1f2b0aa7ac4acc                   NaN                    NaN   \n",
       "5e7a67157c0c1e0ab721b65b                   NaN                    NaN   \n",
       "5e7a69d31f3fe30d84908b79                   NaN                    NaN   \n",
       "5e7a718d1f3fe30d84908b9f                   NaN                    NaN   \n",
       "\n",
       "                          conexioneslife  \n",
       "user_id                                   \n",
       "563854bd38176617515f2bee             NaN  \n",
       "563854bd38176617515f2bef             NaN  \n",
       "563854bd38176617515f2bf0             NaN  \n",
       "563854bd38176617515f2bf1             NaN  \n",
       "563854bd38176617515f2bf2             NaN  \n",
       "...                                  ...  \n",
       "5e7a5ad87c0c1e0ab721b63d             1.0  \n",
       "5e7a65e16d1f2b0aa7ac4acc             1.0  \n",
       "5e7a67157c0c1e0ab721b65b             1.0  \n",
       "5e7a69d31f3fe30d84908b79             1.0  \n",
       "5e7a718d1f3fe30d84908b9f             1.0  \n",
       "\n",
       "[1444135 rows x 7 columns]"
      ]
     },
     "execution_count": 89,
     "metadata": {},
     "output_type": "execute_result"
    }
   ],
   "source": [
    "CDF_LoginSummary"
   ]
  },
  {
   "cell_type": "code",
   "execution_count": null,
   "metadata": {},
   "outputs": [],
   "source": []
  },
  {
   "cell_type": "code",
   "execution_count": null,
   "metadata": {},
   "outputs": [],
   "source": []
  },
  {
   "cell_type": "code",
   "execution_count": 90,
   "metadata": {},
   "outputs": [],
   "source": [
    "table=pd.concat([cusLastLoginDate,user_cusLoginsThisMonth, user_conexionesLast30Days,user_conexiones_cusLoginsPreviousMonth,user_conexiones_cusLoginsLast3Months,user_conexiones_cusLoginsLast12Months,accesConsolidadoLife], axis=1, sort=False)"
   ]
  },
  {
   "cell_type": "code",
   "execution_count": 91,
   "metadata": {
    "scrolled": false
   },
   "outputs": [
    {
     "name": "stdout",
     "output_type": "stream",
     "text": [
      "<class 'pandas.core.frame.DataFrame'>\n",
      "Index: 591311 entries, 563854bd38176617515f2bee to 5e7a718d1f3fe30d84908b9f\n",
      "Data columns (total 7 columns):\n",
      " #   Column                  Non-Null Count   Dtype              \n",
      "---  ------                  --------------   -----              \n",
      " 0   cusLastLoginDate        192088 non-null  datetime64[ns, UTC]\n",
      " 1   cusLoginsThisMonth      0 non-null       float64            \n",
      " 2   conexionesLast30Days    2909 non-null    float64            \n",
      " 3   cusLoginsPreviousMonth  22599 non-null   float64            \n",
      " 4   cusLoginsLast3Months    88071 non-null   float64            \n",
      " 5   cusLoginsLast12Months   147934 non-null  float64            \n",
      " 6   conexioneslife          591311 non-null  int64              \n",
      "dtypes: datetime64[ns, UTC](1), float64(5), int64(1)\n",
      "memory usage: 36.1+ MB\n"
     ]
    }
   ],
   "source": [
    "table.info()"
   ]
  },
  {
   "cell_type": "code",
   "execution_count": 92,
   "metadata": {},
   "outputs": [],
   "source": [
    "table=table.rename(columns={'cusLastLoginDate':'LAST_LOGIN_DATE','cusLastLoginDate':'LAST_LOGIN_DATE','cusLoginsLifetime':'LOGINS_LIFETIME','cusLoginsThisMonth':'LOGINS_THIS_MONTH','conexionesLast30Days':'LOGINS_LAST_30_DAYS','cusLoginsPreviousMonth':'LOGINS_PREVIOUS_MONTH','cusLoginsLast3Months':'LOGINS_LAST_3_MONTHS','cusLoginsLast12Months':'LOGINS_LAST_12_MONTHS','conexioneslife':'LOGINS_LIFETIME'})"
   ]
  },
  {
   "cell_type": "code",
   "execution_count": 93,
   "metadata": {},
   "outputs": [
    {
     "data": {
      "text/html": [
       "<div>\n",
       "<style scoped>\n",
       "    .dataframe tbody tr th:only-of-type {\n",
       "        vertical-align: middle;\n",
       "    }\n",
       "\n",
       "    .dataframe tbody tr th {\n",
       "        vertical-align: top;\n",
       "    }\n",
       "\n",
       "    .dataframe thead th {\n",
       "        text-align: right;\n",
       "    }\n",
       "</style>\n",
       "<table border=\"1\" class=\"dataframe\">\n",
       "  <thead>\n",
       "    <tr style=\"text-align: right;\">\n",
       "      <th></th>\n",
       "      <th>LAST_LOGIN_DATE</th>\n",
       "      <th>LOGINS_THIS_MONTH</th>\n",
       "      <th>LOGINS_LAST_30_DAYS</th>\n",
       "      <th>LOGINS_PREVIOUS_MONTH</th>\n",
       "      <th>LOGINS_LAST_3_MONTHS</th>\n",
       "      <th>LOGINS_LAST_12_MONTHS</th>\n",
       "      <th>LOGINS_LIFETIME</th>\n",
       "    </tr>\n",
       "  </thead>\n",
       "  <tbody>\n",
       "    <tr>\n",
       "      <th>563854bd38176617515f2bee</th>\n",
       "      <td>NaT</td>\n",
       "      <td>NaN</td>\n",
       "      <td>NaN</td>\n",
       "      <td>NaN</td>\n",
       "      <td>NaN</td>\n",
       "      <td>NaN</td>\n",
       "      <td>0</td>\n",
       "    </tr>\n",
       "    <tr>\n",
       "      <th>563854bd38176617515f2bef</th>\n",
       "      <td>NaT</td>\n",
       "      <td>NaN</td>\n",
       "      <td>NaN</td>\n",
       "      <td>NaN</td>\n",
       "      <td>NaN</td>\n",
       "      <td>NaN</td>\n",
       "      <td>0</td>\n",
       "    </tr>\n",
       "    <tr>\n",
       "      <th>563854bd38176617515f2bf0</th>\n",
       "      <td>NaT</td>\n",
       "      <td>NaN</td>\n",
       "      <td>NaN</td>\n",
       "      <td>NaN</td>\n",
       "      <td>NaN</td>\n",
       "      <td>NaN</td>\n",
       "      <td>0</td>\n",
       "    </tr>\n",
       "    <tr>\n",
       "      <th>563854bd38176617515f2bf1</th>\n",
       "      <td>NaT</td>\n",
       "      <td>NaN</td>\n",
       "      <td>NaN</td>\n",
       "      <td>NaN</td>\n",
       "      <td>NaN</td>\n",
       "      <td>NaN</td>\n",
       "      <td>0</td>\n",
       "    </tr>\n",
       "    <tr>\n",
       "      <th>563854bd38176617515f2bf2</th>\n",
       "      <td>NaT</td>\n",
       "      <td>NaN</td>\n",
       "      <td>NaN</td>\n",
       "      <td>NaN</td>\n",
       "      <td>NaN</td>\n",
       "      <td>NaN</td>\n",
       "      <td>0</td>\n",
       "    </tr>\n",
       "    <tr>\n",
       "      <th>...</th>\n",
       "      <td>...</td>\n",
       "      <td>...</td>\n",
       "      <td>...</td>\n",
       "      <td>...</td>\n",
       "      <td>...</td>\n",
       "      <td>...</td>\n",
       "      <td>...</td>\n",
       "    </tr>\n",
       "    <tr>\n",
       "      <th>5e7a5ad87c0c1e0ab721b63d</th>\n",
       "      <td>2020-03-24 19:11:07.081000+00:00</td>\n",
       "      <td>NaN</td>\n",
       "      <td>1.0</td>\n",
       "      <td>1.0</td>\n",
       "      <td>1.0</td>\n",
       "      <td>1.0</td>\n",
       "      <td>1</td>\n",
       "    </tr>\n",
       "    <tr>\n",
       "      <th>5e7a65e16d1f2b0aa7ac4acc</th>\n",
       "      <td>2020-03-24 20:00:15.458000+00:00</td>\n",
       "      <td>NaN</td>\n",
       "      <td>1.0</td>\n",
       "      <td>1.0</td>\n",
       "      <td>1.0</td>\n",
       "      <td>1.0</td>\n",
       "      <td>1</td>\n",
       "    </tr>\n",
       "    <tr>\n",
       "      <th>5e7a67157c0c1e0ab721b65b</th>\n",
       "      <td>2020-03-24 20:02:25.965000+00:00</td>\n",
       "      <td>NaN</td>\n",
       "      <td>1.0</td>\n",
       "      <td>1.0</td>\n",
       "      <td>1.0</td>\n",
       "      <td>1.0</td>\n",
       "      <td>1</td>\n",
       "    </tr>\n",
       "    <tr>\n",
       "      <th>5e7a69d31f3fe30d84908b79</th>\n",
       "      <td>2020-03-24 20:14:42.848000+00:00</td>\n",
       "      <td>NaN</td>\n",
       "      <td>1.0</td>\n",
       "      <td>1.0</td>\n",
       "      <td>1.0</td>\n",
       "      <td>1.0</td>\n",
       "      <td>1</td>\n",
       "    </tr>\n",
       "    <tr>\n",
       "      <th>5e7a718d1f3fe30d84908b9f</th>\n",
       "      <td>2020-03-24 20:57:08.529000+00:00</td>\n",
       "      <td>NaN</td>\n",
       "      <td>1.0</td>\n",
       "      <td>1.0</td>\n",
       "      <td>1.0</td>\n",
       "      <td>1.0</td>\n",
       "      <td>1</td>\n",
       "    </tr>\n",
       "  </tbody>\n",
       "</table>\n",
       "<p>591311 rows × 7 columns</p>\n",
       "</div>"
      ],
      "text/plain": [
       "                                          LAST_LOGIN_DATE  LOGINS_THIS_MONTH  \\\n",
       "563854bd38176617515f2bee                              NaT                NaN   \n",
       "563854bd38176617515f2bef                              NaT                NaN   \n",
       "563854bd38176617515f2bf0                              NaT                NaN   \n",
       "563854bd38176617515f2bf1                              NaT                NaN   \n",
       "563854bd38176617515f2bf2                              NaT                NaN   \n",
       "...                                                   ...                ...   \n",
       "5e7a5ad87c0c1e0ab721b63d 2020-03-24 19:11:07.081000+00:00                NaN   \n",
       "5e7a65e16d1f2b0aa7ac4acc 2020-03-24 20:00:15.458000+00:00                NaN   \n",
       "5e7a67157c0c1e0ab721b65b 2020-03-24 20:02:25.965000+00:00                NaN   \n",
       "5e7a69d31f3fe30d84908b79 2020-03-24 20:14:42.848000+00:00                NaN   \n",
       "5e7a718d1f3fe30d84908b9f 2020-03-24 20:57:08.529000+00:00                NaN   \n",
       "\n",
       "                          LOGINS_LAST_30_DAYS  LOGINS_PREVIOUS_MONTH  \\\n",
       "563854bd38176617515f2bee                  NaN                    NaN   \n",
       "563854bd38176617515f2bef                  NaN                    NaN   \n",
       "563854bd38176617515f2bf0                  NaN                    NaN   \n",
       "563854bd38176617515f2bf1                  NaN                    NaN   \n",
       "563854bd38176617515f2bf2                  NaN                    NaN   \n",
       "...                                       ...                    ...   \n",
       "5e7a5ad87c0c1e0ab721b63d                  1.0                    1.0   \n",
       "5e7a65e16d1f2b0aa7ac4acc                  1.0                    1.0   \n",
       "5e7a67157c0c1e0ab721b65b                  1.0                    1.0   \n",
       "5e7a69d31f3fe30d84908b79                  1.0                    1.0   \n",
       "5e7a718d1f3fe30d84908b9f                  1.0                    1.0   \n",
       "\n",
       "                          LOGINS_LAST_3_MONTHS  LOGINS_LAST_12_MONTHS  \\\n",
       "563854bd38176617515f2bee                   NaN                    NaN   \n",
       "563854bd38176617515f2bef                   NaN                    NaN   \n",
       "563854bd38176617515f2bf0                   NaN                    NaN   \n",
       "563854bd38176617515f2bf1                   NaN                    NaN   \n",
       "563854bd38176617515f2bf2                   NaN                    NaN   \n",
       "...                                        ...                    ...   \n",
       "5e7a5ad87c0c1e0ab721b63d                   1.0                    1.0   \n",
       "5e7a65e16d1f2b0aa7ac4acc                   1.0                    1.0   \n",
       "5e7a67157c0c1e0ab721b65b                   1.0                    1.0   \n",
       "5e7a69d31f3fe30d84908b79                   1.0                    1.0   \n",
       "5e7a718d1f3fe30d84908b9f                   1.0                    1.0   \n",
       "\n",
       "                          LOGINS_LIFETIME  \n",
       "563854bd38176617515f2bee                0  \n",
       "563854bd38176617515f2bef                0  \n",
       "563854bd38176617515f2bf0                0  \n",
       "563854bd38176617515f2bf1                0  \n",
       "563854bd38176617515f2bf2                0  \n",
       "...                                   ...  \n",
       "5e7a5ad87c0c1e0ab721b63d                1  \n",
       "5e7a65e16d1f2b0aa7ac4acc                1  \n",
       "5e7a67157c0c1e0ab721b65b                1  \n",
       "5e7a69d31f3fe30d84908b79                1  \n",
       "5e7a718d1f3fe30d84908b9f                1  \n",
       "\n",
       "[591311 rows x 7 columns]"
      ]
     },
     "execution_count": 93,
     "metadata": {},
     "output_type": "execute_result"
    }
   ],
   "source": [
    "table"
   ]
  },
  {
   "cell_type": "markdown",
   "metadata": {
    "scrolled": true
   },
   "source": [
    "table.loc[table.LOGINS_LAST_12_MONTHS.notnull()]"
   ]
  },
  {
   "cell_type": "code",
   "execution_count": 94,
   "metadata": {},
   "outputs": [],
   "source": [
    "table['CUSTOMER_ID'] = table.index"
   ]
  },
  {
   "cell_type": "markdown",
   "metadata": {
    "scrolled": true
   },
   "source": [
    "table=table.fillna(0)"
   ]
  },
  {
   "cell_type": "code",
   "execution_count": 95,
   "metadata": {},
   "outputs": [],
   "source": [
    "table = table[['CUSTOMER_ID','LAST_LOGIN_DATE','LOGINS_THIS_MONTH','LOGINS_LAST_30_DAYS','LOGINS_PREVIOUS_MONTH','LOGINS_LAST_3_MONTHS','LOGINS_LAST_12_MONTHS','LOGINS_LIFETIME']]"
   ]
  },
  {
   "cell_type": "code",
   "execution_count": 96,
   "metadata": {},
   "outputs": [
    {
     "data": {
      "text/html": [
       "<div>\n",
       "<style scoped>\n",
       "    .dataframe tbody tr th:only-of-type {\n",
       "        vertical-align: middle;\n",
       "    }\n",
       "\n",
       "    .dataframe tbody tr th {\n",
       "        vertical-align: top;\n",
       "    }\n",
       "\n",
       "    .dataframe thead th {\n",
       "        text-align: right;\n",
       "    }\n",
       "</style>\n",
       "<table border=\"1\" class=\"dataframe\">\n",
       "  <thead>\n",
       "    <tr style=\"text-align: right;\">\n",
       "      <th></th>\n",
       "      <th>CUSTOMER_ID</th>\n",
       "      <th>LAST_LOGIN_DATE</th>\n",
       "      <th>LOGINS_THIS_MONTH</th>\n",
       "      <th>LOGINS_LAST_30_DAYS</th>\n",
       "      <th>LOGINS_PREVIOUS_MONTH</th>\n",
       "      <th>LOGINS_LAST_3_MONTHS</th>\n",
       "      <th>LOGINS_LAST_12_MONTHS</th>\n",
       "      <th>LOGINS_LIFETIME</th>\n",
       "    </tr>\n",
       "  </thead>\n",
       "  <tbody>\n",
       "    <tr>\n",
       "      <th>563854bd38176617515f2bee</th>\n",
       "      <td>563854bd38176617515f2bee</td>\n",
       "      <td>NaT</td>\n",
       "      <td>NaN</td>\n",
       "      <td>NaN</td>\n",
       "      <td>NaN</td>\n",
       "      <td>NaN</td>\n",
       "      <td>NaN</td>\n",
       "      <td>0</td>\n",
       "    </tr>\n",
       "    <tr>\n",
       "      <th>563854bd38176617515f2bef</th>\n",
       "      <td>563854bd38176617515f2bef</td>\n",
       "      <td>NaT</td>\n",
       "      <td>NaN</td>\n",
       "      <td>NaN</td>\n",
       "      <td>NaN</td>\n",
       "      <td>NaN</td>\n",
       "      <td>NaN</td>\n",
       "      <td>0</td>\n",
       "    </tr>\n",
       "    <tr>\n",
       "      <th>563854bd38176617515f2bf0</th>\n",
       "      <td>563854bd38176617515f2bf0</td>\n",
       "      <td>NaT</td>\n",
       "      <td>NaN</td>\n",
       "      <td>NaN</td>\n",
       "      <td>NaN</td>\n",
       "      <td>NaN</td>\n",
       "      <td>NaN</td>\n",
       "      <td>0</td>\n",
       "    </tr>\n",
       "    <tr>\n",
       "      <th>563854bd38176617515f2bf1</th>\n",
       "      <td>563854bd38176617515f2bf1</td>\n",
       "      <td>NaT</td>\n",
       "      <td>NaN</td>\n",
       "      <td>NaN</td>\n",
       "      <td>NaN</td>\n",
       "      <td>NaN</td>\n",
       "      <td>NaN</td>\n",
       "      <td>0</td>\n",
       "    </tr>\n",
       "    <tr>\n",
       "      <th>563854bd38176617515f2bf2</th>\n",
       "      <td>563854bd38176617515f2bf2</td>\n",
       "      <td>NaT</td>\n",
       "      <td>NaN</td>\n",
       "      <td>NaN</td>\n",
       "      <td>NaN</td>\n",
       "      <td>NaN</td>\n",
       "      <td>NaN</td>\n",
       "      <td>0</td>\n",
       "    </tr>\n",
       "    <tr>\n",
       "      <th>...</th>\n",
       "      <td>...</td>\n",
       "      <td>...</td>\n",
       "      <td>...</td>\n",
       "      <td>...</td>\n",
       "      <td>...</td>\n",
       "      <td>...</td>\n",
       "      <td>...</td>\n",
       "      <td>...</td>\n",
       "    </tr>\n",
       "    <tr>\n",
       "      <th>5e7a5ad87c0c1e0ab721b63d</th>\n",
       "      <td>5e7a5ad87c0c1e0ab721b63d</td>\n",
       "      <td>2020-03-24 19:11:07.081000+00:00</td>\n",
       "      <td>NaN</td>\n",
       "      <td>1.0</td>\n",
       "      <td>1.0</td>\n",
       "      <td>1.0</td>\n",
       "      <td>1.0</td>\n",
       "      <td>1</td>\n",
       "    </tr>\n",
       "    <tr>\n",
       "      <th>5e7a65e16d1f2b0aa7ac4acc</th>\n",
       "      <td>5e7a65e16d1f2b0aa7ac4acc</td>\n",
       "      <td>2020-03-24 20:00:15.458000+00:00</td>\n",
       "      <td>NaN</td>\n",
       "      <td>1.0</td>\n",
       "      <td>1.0</td>\n",
       "      <td>1.0</td>\n",
       "      <td>1.0</td>\n",
       "      <td>1</td>\n",
       "    </tr>\n",
       "    <tr>\n",
       "      <th>5e7a67157c0c1e0ab721b65b</th>\n",
       "      <td>5e7a67157c0c1e0ab721b65b</td>\n",
       "      <td>2020-03-24 20:02:25.965000+00:00</td>\n",
       "      <td>NaN</td>\n",
       "      <td>1.0</td>\n",
       "      <td>1.0</td>\n",
       "      <td>1.0</td>\n",
       "      <td>1.0</td>\n",
       "      <td>1</td>\n",
       "    </tr>\n",
       "    <tr>\n",
       "      <th>5e7a69d31f3fe30d84908b79</th>\n",
       "      <td>5e7a69d31f3fe30d84908b79</td>\n",
       "      <td>2020-03-24 20:14:42.848000+00:00</td>\n",
       "      <td>NaN</td>\n",
       "      <td>1.0</td>\n",
       "      <td>1.0</td>\n",
       "      <td>1.0</td>\n",
       "      <td>1.0</td>\n",
       "      <td>1</td>\n",
       "    </tr>\n",
       "    <tr>\n",
       "      <th>5e7a718d1f3fe30d84908b9f</th>\n",
       "      <td>5e7a718d1f3fe30d84908b9f</td>\n",
       "      <td>2020-03-24 20:57:08.529000+00:00</td>\n",
       "      <td>NaN</td>\n",
       "      <td>1.0</td>\n",
       "      <td>1.0</td>\n",
       "      <td>1.0</td>\n",
       "      <td>1.0</td>\n",
       "      <td>1</td>\n",
       "    </tr>\n",
       "  </tbody>\n",
       "</table>\n",
       "<p>591311 rows × 8 columns</p>\n",
       "</div>"
      ],
      "text/plain": [
       "                                       CUSTOMER_ID  \\\n",
       "563854bd38176617515f2bee  563854bd38176617515f2bee   \n",
       "563854bd38176617515f2bef  563854bd38176617515f2bef   \n",
       "563854bd38176617515f2bf0  563854bd38176617515f2bf0   \n",
       "563854bd38176617515f2bf1  563854bd38176617515f2bf1   \n",
       "563854bd38176617515f2bf2  563854bd38176617515f2bf2   \n",
       "...                                            ...   \n",
       "5e7a5ad87c0c1e0ab721b63d  5e7a5ad87c0c1e0ab721b63d   \n",
       "5e7a65e16d1f2b0aa7ac4acc  5e7a65e16d1f2b0aa7ac4acc   \n",
       "5e7a67157c0c1e0ab721b65b  5e7a67157c0c1e0ab721b65b   \n",
       "5e7a69d31f3fe30d84908b79  5e7a69d31f3fe30d84908b79   \n",
       "5e7a718d1f3fe30d84908b9f  5e7a718d1f3fe30d84908b9f   \n",
       "\n",
       "                                          LAST_LOGIN_DATE  LOGINS_THIS_MONTH  \\\n",
       "563854bd38176617515f2bee                              NaT                NaN   \n",
       "563854bd38176617515f2bef                              NaT                NaN   \n",
       "563854bd38176617515f2bf0                              NaT                NaN   \n",
       "563854bd38176617515f2bf1                              NaT                NaN   \n",
       "563854bd38176617515f2bf2                              NaT                NaN   \n",
       "...                                                   ...                ...   \n",
       "5e7a5ad87c0c1e0ab721b63d 2020-03-24 19:11:07.081000+00:00                NaN   \n",
       "5e7a65e16d1f2b0aa7ac4acc 2020-03-24 20:00:15.458000+00:00                NaN   \n",
       "5e7a67157c0c1e0ab721b65b 2020-03-24 20:02:25.965000+00:00                NaN   \n",
       "5e7a69d31f3fe30d84908b79 2020-03-24 20:14:42.848000+00:00                NaN   \n",
       "5e7a718d1f3fe30d84908b9f 2020-03-24 20:57:08.529000+00:00                NaN   \n",
       "\n",
       "                          LOGINS_LAST_30_DAYS  LOGINS_PREVIOUS_MONTH  \\\n",
       "563854bd38176617515f2bee                  NaN                    NaN   \n",
       "563854bd38176617515f2bef                  NaN                    NaN   \n",
       "563854bd38176617515f2bf0                  NaN                    NaN   \n",
       "563854bd38176617515f2bf1                  NaN                    NaN   \n",
       "563854bd38176617515f2bf2                  NaN                    NaN   \n",
       "...                                       ...                    ...   \n",
       "5e7a5ad87c0c1e0ab721b63d                  1.0                    1.0   \n",
       "5e7a65e16d1f2b0aa7ac4acc                  1.0                    1.0   \n",
       "5e7a67157c0c1e0ab721b65b                  1.0                    1.0   \n",
       "5e7a69d31f3fe30d84908b79                  1.0                    1.0   \n",
       "5e7a718d1f3fe30d84908b9f                  1.0                    1.0   \n",
       "\n",
       "                          LOGINS_LAST_3_MONTHS  LOGINS_LAST_12_MONTHS  \\\n",
       "563854bd38176617515f2bee                   NaN                    NaN   \n",
       "563854bd38176617515f2bef                   NaN                    NaN   \n",
       "563854bd38176617515f2bf0                   NaN                    NaN   \n",
       "563854bd38176617515f2bf1                   NaN                    NaN   \n",
       "563854bd38176617515f2bf2                   NaN                    NaN   \n",
       "...                                        ...                    ...   \n",
       "5e7a5ad87c0c1e0ab721b63d                   1.0                    1.0   \n",
       "5e7a65e16d1f2b0aa7ac4acc                   1.0                    1.0   \n",
       "5e7a67157c0c1e0ab721b65b                   1.0                    1.0   \n",
       "5e7a69d31f3fe30d84908b79                   1.0                    1.0   \n",
       "5e7a718d1f3fe30d84908b9f                   1.0                    1.0   \n",
       "\n",
       "                          LOGINS_LIFETIME  \n",
       "563854bd38176617515f2bee                0  \n",
       "563854bd38176617515f2bef                0  \n",
       "563854bd38176617515f2bf0                0  \n",
       "563854bd38176617515f2bf1                0  \n",
       "563854bd38176617515f2bf2                0  \n",
       "...                                   ...  \n",
       "5e7a5ad87c0c1e0ab721b63d                1  \n",
       "5e7a65e16d1f2b0aa7ac4acc                1  \n",
       "5e7a67157c0c1e0ab721b65b                1  \n",
       "5e7a69d31f3fe30d84908b79                1  \n",
       "5e7a718d1f3fe30d84908b9f                1  \n",
       "\n",
       "[591311 rows x 8 columns]"
      ]
     },
     "execution_count": 96,
     "metadata": {},
     "output_type": "execute_result"
    }
   ],
   "source": [
    "table"
   ]
  },
  {
   "cell_type": "markdown",
   "metadata": {},
   "source": [
    " #### Ahora vamos a determinar el nombre y el path"
   ]
  },
  {
   "cell_type": "code",
   "execution_count": 97,
   "metadata": {},
   "outputs": [],
   "source": [
    "name='cdf_loginSummary_'+datetime.datetime.today().strftime('%Y%m%d_%H%M%S')"
   ]
  },
  {
   "cell_type": "code",
   "execution_count": 98,
   "metadata": {},
   "outputs": [
    {
     "data": {
      "text/plain": [
       "'cdf_loginSummary_20200421_114149'"
      ]
     },
     "execution_count": 98,
     "metadata": {},
     "output_type": "execute_result"
    }
   ],
   "source": [
    "name"
   ]
  },
  {
   "cell_type": "code",
   "execution_count": 99,
   "metadata": {},
   "outputs": [],
   "source": [
    "path='/home/tecnoboy/'+name+'.csv'"
   ]
  },
  {
   "cell_type": "code",
   "execution_count": 100,
   "metadata": {
    "scrolled": true
   },
   "outputs": [
    {
     "data": {
      "text/plain": [
       "'/home/tecnoboy/cdf_loginSummary_20200421_114149.csv'"
      ]
     },
     "execution_count": 100,
     "metadata": {},
     "output_type": "execute_result"
    }
   ],
   "source": [
    "path"
   ]
  },
  {
   "cell_type": "code",
   "execution_count": 101,
   "metadata": {},
   "outputs": [
    {
     "data": {
      "text/plain": [
       "Index(['CUSTOMER_ID', 'LAST_LOGIN_DATE', 'LOGINS_THIS_MONTH',\n",
       "       'LOGINS_LAST_30_DAYS', 'LOGINS_PREVIOUS_MONTH', 'LOGINS_LAST_3_MONTHS',\n",
       "       'LOGINS_LAST_12_MONTHS', 'LOGINS_LIFETIME'],\n",
       "      dtype='object')"
      ]
     },
     "execution_count": 101,
     "metadata": {},
     "output_type": "execute_result"
    }
   ],
   "source": [
    "table.columns"
   ]
  },
  {
   "cell_type": "code",
   "execution_count": 102,
   "metadata": {},
   "outputs": [],
   "source": [
    "table['CUSTOMER_ID']=table['CUSTOMER_ID'].apply(str)"
   ]
  },
  {
   "cell_type": "code",
   "execution_count": 103,
   "metadata": {},
   "outputs": [],
   "source": [
    "table['CUSTOMER_ID'] = '\"' + table['CUSTOMER_ID'] + '\"'"
   ]
  },
  {
   "cell_type": "code",
   "execution_count": 104,
   "metadata": {},
   "outputs": [],
   "source": [
    "table['LAST_LOGIN_DATE']=table['LAST_LOGIN_DATE'].apply(str)"
   ]
  },
  {
   "cell_type": "code",
   "execution_count": 105,
   "metadata": {},
   "outputs": [],
   "source": [
    "table['LAST_LOGIN_DATE']=table['LAST_LOGIN_DATE'].map(lambda x: str(x)[:19])"
   ]
  },
  {
   "cell_type": "code",
   "execution_count": 106,
   "metadata": {},
   "outputs": [],
   "source": [
    "table['LOGINS_THIS_MONTH']=table['LOGINS_THIS_MONTH'].fillna(0)"
   ]
  },
  {
   "cell_type": "code",
   "execution_count": 107,
   "metadata": {},
   "outputs": [],
   "source": [
    "table['LOGINS_LAST_3_MONTHS']=table['LOGINS_LAST_3_MONTHS'].fillna(0)"
   ]
  },
  {
   "cell_type": "code",
   "execution_count": 108,
   "metadata": {},
   "outputs": [],
   "source": [
    "table['LOGINS_LAST_30_DAYS']=table['LOGINS_LAST_30_DAYS'].fillna(0)"
   ]
  },
  {
   "cell_type": "code",
   "execution_count": 109,
   "metadata": {},
   "outputs": [],
   "source": [
    "table['LOGINS_PREVIOUS_MONTH']=table['LOGINS_PREVIOUS_MONTH'].fillna(0)"
   ]
  },
  {
   "cell_type": "code",
   "execution_count": 110,
   "metadata": {},
   "outputs": [],
   "source": [
    "table['LOGINS_LAST_3_MONTHS']=table['LOGINS_LAST_3_MONTHS'].fillna(0)"
   ]
  },
  {
   "cell_type": "code",
   "execution_count": 111,
   "metadata": {},
   "outputs": [],
   "source": [
    "table['LOGINS_LAST_12_MONTHS']=table['LOGINS_LAST_12_MONTHS'].fillna(0)"
   ]
  },
  {
   "cell_type": "code",
   "execution_count": 112,
   "metadata": {},
   "outputs": [],
   "source": [
    "table['LOGINS_LIFETIME']=table['LOGINS_LIFETIME'].fillna(0)"
   ]
  },
  {
   "cell_type": "code",
   "execution_count": null,
   "metadata": {},
   "outputs": [],
   "source": []
  },
  {
   "cell_type": "code",
   "execution_count": 113,
   "metadata": {},
   "outputs": [],
   "source": [
    "table['LOGINS_THIS_MONTH']=table['LOGINS_THIS_MONTH'].astype(int)"
   ]
  },
  {
   "cell_type": "code",
   "execution_count": 114,
   "metadata": {},
   "outputs": [],
   "source": [
    "table['LOGINS_LAST_3_MONTHS']=table['LOGINS_LAST_3_MONTHS'].astype(int)"
   ]
  },
  {
   "cell_type": "code",
   "execution_count": 115,
   "metadata": {},
   "outputs": [],
   "source": [
    "table['LOGINS_LAST_30_DAYS']=table['LOGINS_LAST_30_DAYS'].astype(int)"
   ]
  },
  {
   "cell_type": "code",
   "execution_count": 116,
   "metadata": {},
   "outputs": [],
   "source": [
    "table['LOGINS_PREVIOUS_MONTH']=table['LOGINS_PREVIOUS_MONTH'].astype(int)"
   ]
  },
  {
   "cell_type": "code",
   "execution_count": 117,
   "metadata": {},
   "outputs": [],
   "source": [
    "table['LOGINS_LAST_3_MONTHS']=table['LOGINS_LAST_3_MONTHS'].astype(int)"
   ]
  },
  {
   "cell_type": "code",
   "execution_count": 118,
   "metadata": {},
   "outputs": [],
   "source": [
    "table['LOGINS_LAST_12_MONTHS']=table['LOGINS_LAST_12_MONTHS'].astype(int)"
   ]
  },
  {
   "cell_type": "code",
   "execution_count": 119,
   "metadata": {},
   "outputs": [],
   "source": [
    "table['LOGINS_LIFETIME']=table['LOGINS_LIFETIME'].astype(int)"
   ]
  },
  {
   "cell_type": "code",
   "execution_count": 120,
   "metadata": {},
   "outputs": [],
   "source": [
    "table.to_csv(path, index=False)"
   ]
  },
  {
   "cell_type": "code",
   "execution_count": null,
   "metadata": {},
   "outputs": [],
   "source": []
  }
 ],
 "metadata": {
  "kernelspec": {
   "display_name": "Python 3",
   "language": "python",
   "name": "python3"
  },
  "language_info": {
   "codemirror_mode": {
    "name": "ipython",
    "version": 3
   },
   "file_extension": ".py",
   "mimetype": "text/x-python",
   "name": "python",
   "nbconvert_exporter": "python",
   "pygments_lexer": "ipython3",
   "version": "3.6.9"
  }
 },
 "nbformat": 4,
 "nbformat_minor": 2
}
