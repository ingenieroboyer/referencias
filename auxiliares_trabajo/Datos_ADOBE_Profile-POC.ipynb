{
 "cells": [
  {
   "cell_type": "markdown",
   "metadata": {},
   "source": [
    "### PREPARACION PARA ADOBE"
   ]
  },
  {
   "cell_type": "markdown",
   "metadata": {},
   "source": [
    "Este documento busca la data , la relaciona y la sirve de acuerdo a las tablas y tipos de datos que solicitó el partner"
   ]
  },
  {
   "cell_type": "code",
   "execution_count": 1,
   "metadata": {},
   "outputs": [],
   "source": [
    "import pandas as pd\n",
    "from pymongo import MongoClient\n",
    "import datetime \n",
    "import numpy as np\n"
   ]
  },
  {
   "cell_type": "code",
   "execution_count": 2,
   "metadata": {
    "scrolled": false
   },
   "outputs": [
    {
     "name": "stderr",
     "output_type": "stream",
     "text": [
      "/home/tecnoboy/HERRAMIENTAS/jupyterNotebook/datosSernac/lib/python3.6/site-packages/IPython/core/interactiveshell.py:3063: DtypeWarning: Columns (11,12,13,15) have mixed types.Specify dtype option on import or set low_memory=False.\n",
      "  interactivity=interactivity, compiler=compiler, result=result)\n"
     ]
    }
   ],
   "source": [
    "USERS=pd.read_csv(\"/home/tecnoboy/ClusterMongo-produccion/cdfMaster/users.csv\")"
   ]
  },
  {
   "cell_type": "code",
   "execution_count": 3,
   "metadata": {},
   "outputs": [
    {
     "data": {
      "text/html": [
       "<div>\n",
       "<style scoped>\n",
       "    .dataframe tbody tr th:only-of-type {\n",
       "        vertical-align: middle;\n",
       "    }\n",
       "\n",
       "    .dataframe tbody tr th {\n",
       "        vertical-align: top;\n",
       "    }\n",
       "\n",
       "    .dataframe thead th {\n",
       "        text-align: right;\n",
       "    }\n",
       "</style>\n",
       "<table border=\"1\" class=\"dataframe\">\n",
       "  <thead>\n",
       "    <tr style=\"text-align: right;\">\n",
       "      <th></th>\n",
       "      <th>_id</th>\n",
       "      <th>updatedAt</th>\n",
       "      <th>createdAt</th>\n",
       "      <th>email</th>\n",
       "      <th>password</th>\n",
       "      <th>nombre</th>\n",
       "      <th>apellido</th>\n",
       "      <th>estado_token</th>\n",
       "      <th>pasarela</th>\n",
       "      <th>material</th>\n",
       "      <th>...</th>\n",
       "      <th>fecha_nacimiento</th>\n",
       "      <th>_transaccion</th>\n",
       "      <th>_acuerdo</th>\n",
       "      <th>_producto</th>\n",
       "      <th>fecha_fin</th>\n",
       "      <th>fecha_pago</th>\n",
       "      <th>fecha_acuerdo</th>\n",
       "      <th>email_recuperacion</th>\n",
       "      <th>fecha_cancelacion</th>\n",
       "      <th>genero</th>\n",
       "    </tr>\n",
       "  </thead>\n",
       "  <tbody>\n",
       "    <tr>\n",
       "      <th>0</th>\n",
       "      <td>563857913817661751603df2</td>\n",
       "      <td>2017-04-06T21:07:54.410Z</td>\n",
       "      <td>2016-12-26T11:47:05.935Z</td>\n",
       "      <td>rsmonteros@gmail.com</td>\n",
       "      <td>$2a$10$u/Gz4dlwJXh7gdk6R00Hi.jFflKRD391nb8aGer...</td>\n",
       "      <td>Alejandro</td>\n",
       "      <td>Montero Salinas</td>\n",
       "      <td>freemium</td>\n",
       "      <td>freemium</td>\n",
       "      <td>freemium</td>\n",
       "      <td>...</td>\n",
       "      <td>NaN</td>\n",
       "      <td>NaN</td>\n",
       "      <td>NaN</td>\n",
       "      <td>NaN</td>\n",
       "      <td>2016-12-26T11:47:05.935Z</td>\n",
       "      <td>2016-12-26T11:47:05.935Z</td>\n",
       "      <td>2016-12-26T11:47:05.935Z</td>\n",
       "      <td>NaN</td>\n",
       "      <td>2016-12-26T11:47:05.935Z</td>\n",
       "      <td>NaN</td>\n",
       "    </tr>\n",
       "    <tr>\n",
       "      <th>1</th>\n",
       "      <td>563857913817661751603df5</td>\n",
       "      <td>2017-04-06T21:07:56.680Z</td>\n",
       "      <td>2016-12-26T11:47:05.935Z</td>\n",
       "      <td>segundocabe@hotmail.com</td>\n",
       "      <td>$2a$10$CTW5LDZeT1zbdu1pC80ruO.A6RHzEQudT7Cd44N...</td>\n",
       "      <td>Segundo</td>\n",
       "      <td>Calderon</td>\n",
       "      <td>freemium</td>\n",
       "      <td>freemium</td>\n",
       "      <td>freemium</td>\n",
       "      <td>...</td>\n",
       "      <td>NaN</td>\n",
       "      <td>NaN</td>\n",
       "      <td>NaN</td>\n",
       "      <td>NaN</td>\n",
       "      <td>2016-12-26T11:47:05.935Z</td>\n",
       "      <td>2016-12-26T11:47:05.935Z</td>\n",
       "      <td>2016-12-26T11:47:05.935Z</td>\n",
       "      <td>NaN</td>\n",
       "      <td>2016-12-26T11:47:05.935Z</td>\n",
       "      <td>NaN</td>\n",
       "    </tr>\n",
       "    <tr>\n",
       "      <th>2</th>\n",
       "      <td>563857913817661751603df4</td>\n",
       "      <td>2019-02-23T14:36:51.988Z</td>\n",
       "      <td>2016-12-26T11:47:05.935Z</td>\n",
       "      <td>alejandro.truan@gmail.com</td>\n",
       "      <td>$2a$10$NDydpFNHSwURsPG634hkW.ps.LM.H3rPXmEZ9Jw...</td>\n",
       "      <td>Alejandro</td>\n",
       "      <td>Truan</td>\n",
       "      <td>freemium</td>\n",
       "      <td>freemium</td>\n",
       "      <td>freemium</td>\n",
       "      <td>...</td>\n",
       "      <td>1900-01-01T04:42:46.000Z</td>\n",
       "      <td>NaN</td>\n",
       "      <td>NaN</td>\n",
       "      <td>NaN</td>\n",
       "      <td>2016-12-26T11:47:05.935Z</td>\n",
       "      <td>2016-12-26T11:47:05.935Z</td>\n",
       "      <td>2016-12-26T11:47:05.935Z</td>\n",
       "      <td>NaN</td>\n",
       "      <td>2016-12-26T11:47:05.935Z</td>\n",
       "      <td>sin informacion</td>\n",
       "    </tr>\n",
       "    <tr>\n",
       "      <th>3</th>\n",
       "      <td>563857913817661751603df3</td>\n",
       "      <td>2017-04-06T21:07:56.941Z</td>\n",
       "      <td>2016-12-26T11:47:05.935Z</td>\n",
       "      <td>cg_criminalista@hotmail.com</td>\n",
       "      <td>$2a$10$h3LwuCGKP9YKYXwx6jkJwensLIjyromT.oVW9MY...</td>\n",
       "      <td>Claudio</td>\n",
       "      <td>Guerra</td>\n",
       "      <td>freemium</td>\n",
       "      <td>freemium</td>\n",
       "      <td>freemium</td>\n",
       "      <td>...</td>\n",
       "      <td>NaN</td>\n",
       "      <td>NaN</td>\n",
       "      <td>NaN</td>\n",
       "      <td>NaN</td>\n",
       "      <td>2016-12-26T11:47:05.935Z</td>\n",
       "      <td>2016-12-26T11:47:05.935Z</td>\n",
       "      <td>2016-12-26T11:47:05.935Z</td>\n",
       "      <td>NaN</td>\n",
       "      <td>2016-12-26T11:47:05.935Z</td>\n",
       "      <td>NaN</td>\n",
       "    </tr>\n",
       "    <tr>\n",
       "      <th>4</th>\n",
       "      <td>563857913817661751603df1</td>\n",
       "      <td>2017-04-06T21:07:57.067Z</td>\n",
       "      <td>2016-12-26T11:47:05.934Z</td>\n",
       "      <td>daver182@gmail.com</td>\n",
       "      <td>$2a$10$Cy9ryLCRNnkiqvLA7tRQr.uBsJb7sR7lm1av89P...</td>\n",
       "      <td>Daniel</td>\n",
       "      <td>Vergara</td>\n",
       "      <td>freemium</td>\n",
       "      <td>freemium</td>\n",
       "      <td>freemium</td>\n",
       "      <td>...</td>\n",
       "      <td>1987-06-16T00:00:00.000Z</td>\n",
       "      <td>5861c4990ee08c3630cdd9b1</td>\n",
       "      <td>5861c4990ee08c3630cdd9b0</td>\n",
       "      <td>5864280873981c4e423c0cb1</td>\n",
       "      <td>2015-11-03T14:23:49.730Z</td>\n",
       "      <td>2015-10-04T14:22:29.134Z</td>\n",
       "      <td>2016-12-27T01:32:09.416Z</td>\n",
       "      <td>NaN</td>\n",
       "      <td>2016-12-27T01:32:09.416Z</td>\n",
       "      <td>NaN</td>\n",
       "    </tr>\n",
       "    <tr>\n",
       "      <th>...</th>\n",
       "      <td>...</td>\n",
       "      <td>...</td>\n",
       "      <td>...</td>\n",
       "      <td>...</td>\n",
       "      <td>...</td>\n",
       "      <td>...</td>\n",
       "      <td>...</td>\n",
       "      <td>...</td>\n",
       "      <td>...</td>\n",
       "      <td>...</td>\n",
       "      <td>...</td>\n",
       "      <td>...</td>\n",
       "      <td>...</td>\n",
       "      <td>...</td>\n",
       "      <td>...</td>\n",
       "      <td>...</td>\n",
       "      <td>...</td>\n",
       "      <td>...</td>\n",
       "      <td>...</td>\n",
       "      <td>...</td>\n",
       "      <td>...</td>\n",
       "    </tr>\n",
       "    <tr>\n",
       "      <th>432750</th>\n",
       "      <td>5e6a514d7a067310ad8d2605</td>\n",
       "      <td>2020-03-12T15:12:13.323Z</td>\n",
       "      <td>2020-03-12T15:12:13.318Z</td>\n",
       "      <td>samuel.bascur@gmail.com</td>\n",
       "      <td>$2a$10$qwHMY7mOIWBJS6ZPCtEn6ewcdRIBqcyB3Rol9ei...</td>\n",
       "      <td>Samuel</td>\n",
       "      <td>Bascur</td>\n",
       "      <td>freemium</td>\n",
       "      <td>freemium</td>\n",
       "      <td>freemium</td>\n",
       "      <td>...</td>\n",
       "      <td>NaN</td>\n",
       "      <td>NaN</td>\n",
       "      <td>NaN</td>\n",
       "      <td>NaN</td>\n",
       "      <td>NaN</td>\n",
       "      <td>NaN</td>\n",
       "      <td>NaN</td>\n",
       "      <td>NaN</td>\n",
       "      <td>NaN</td>\n",
       "      <td>NaN</td>\n",
       "    </tr>\n",
       "    <tr>\n",
       "      <th>432751</th>\n",
       "      <td>5e6a52d58d6fbc109d66f9e7</td>\n",
       "      <td>2020-03-12T15:19:14.194Z</td>\n",
       "      <td>2020-03-12T15:18:45.730Z</td>\n",
       "      <td>djalexcid@gmail.com</td>\n",
       "      <td>$2a$10$mzJplOuts7VO9PCQktPvA.blg.JvnjJ87.tALOO...</td>\n",
       "      <td>Alejandro</td>\n",
       "      <td>Cid</td>\n",
       "      <td>freemium</td>\n",
       "      <td>freemium</td>\n",
       "      <td>freemium</td>\n",
       "      <td>...</td>\n",
       "      <td>NaN</td>\n",
       "      <td>NaN</td>\n",
       "      <td>NaN</td>\n",
       "      <td>NaN</td>\n",
       "      <td>NaN</td>\n",
       "      <td>NaN</td>\n",
       "      <td>NaN</td>\n",
       "      <td>NaN</td>\n",
       "      <td>NaN</td>\n",
       "      <td>NaN</td>\n",
       "    </tr>\n",
       "    <tr>\n",
       "      <th>432752</th>\n",
       "      <td>5e6a5355ad807c1304b5b6ea</td>\n",
       "      <td>2020-03-12T15:22:37.713Z</td>\n",
       "      <td>2020-03-12T15:20:53.570Z</td>\n",
       "      <td>alexis.barria.c@outlook.cl</td>\n",
       "      <td>$2a$10$yteHUa5MoviN1A3qaTptl.5pV0yPo6FW3WvZKI/...</td>\n",
       "      <td>Alexis Andrés</td>\n",
       "      <td>Barría Cabello</td>\n",
       "      <td>freemium</td>\n",
       "      <td>freemium</td>\n",
       "      <td>freemium</td>\n",
       "      <td>...</td>\n",
       "      <td>1900-01-01T04:42:46.000Z</td>\n",
       "      <td>NaN</td>\n",
       "      <td>NaN</td>\n",
       "      <td>NaN</td>\n",
       "      <td>NaN</td>\n",
       "      <td>NaN</td>\n",
       "      <td>NaN</td>\n",
       "      <td>NaN</td>\n",
       "      <td>NaN</td>\n",
       "      <td>NaN</td>\n",
       "    </tr>\n",
       "    <tr>\n",
       "      <th>432753</th>\n",
       "      <td>5e6a55c8805fdd10915faa74</td>\n",
       "      <td>2020-03-12T15:31:20.592Z</td>\n",
       "      <td>2020-03-12T15:31:20.588Z</td>\n",
       "      <td>rorrocarrasco8@hotmail.com</td>\n",
       "      <td>$2a$10$wMf3csDUGO35GAadDdp1ruK.C8Wbz1dwsgHQpHK...</td>\n",
       "      <td>Rodrigo</td>\n",
       "      <td>Carrasco</td>\n",
       "      <td>freemium</td>\n",
       "      <td>freemium</td>\n",
       "      <td>freemium</td>\n",
       "      <td>...</td>\n",
       "      <td>NaN</td>\n",
       "      <td>NaN</td>\n",
       "      <td>NaN</td>\n",
       "      <td>NaN</td>\n",
       "      <td>NaN</td>\n",
       "      <td>NaN</td>\n",
       "      <td>NaN</td>\n",
       "      <td>NaN</td>\n",
       "      <td>NaN</td>\n",
       "      <td>NaN</td>\n",
       "    </tr>\n",
       "    <tr>\n",
       "      <th>432754</th>\n",
       "      <td>5e6a588868335813120f0d6d</td>\n",
       "      <td>2020-03-12T15:43:04.662Z</td>\n",
       "      <td>2020-03-12T15:43:04.657Z</td>\n",
       "      <td>vegasalejandro77@gmail.com</td>\n",
       "      <td>$2a$10$9Sr2XjVld6U3JNF24beyf.6VuNiYUVFJd047CjG...</td>\n",
       "      <td>Aldjandro</td>\n",
       "      <td>Rojas</td>\n",
       "      <td>freemium</td>\n",
       "      <td>freemium</td>\n",
       "      <td>freemium</td>\n",
       "      <td>...</td>\n",
       "      <td>NaN</td>\n",
       "      <td>NaN</td>\n",
       "      <td>NaN</td>\n",
       "      <td>NaN</td>\n",
       "      <td>NaN</td>\n",
       "      <td>NaN</td>\n",
       "      <td>NaN</td>\n",
       "      <td>NaN</td>\n",
       "      <td>NaN</td>\n",
       "      <td>NaN</td>\n",
       "    </tr>\n",
       "  </tbody>\n",
       "</table>\n",
       "<p>432755 rows × 30 columns</p>\n",
       "</div>"
      ],
      "text/plain": [
       "                             _id                 updatedAt  \\\n",
       "0       563857913817661751603df2  2017-04-06T21:07:54.410Z   \n",
       "1       563857913817661751603df5  2017-04-06T21:07:56.680Z   \n",
       "2       563857913817661751603df4  2019-02-23T14:36:51.988Z   \n",
       "3       563857913817661751603df3  2017-04-06T21:07:56.941Z   \n",
       "4       563857913817661751603df1  2017-04-06T21:07:57.067Z   \n",
       "...                          ...                       ...   \n",
       "432750  5e6a514d7a067310ad8d2605  2020-03-12T15:12:13.323Z   \n",
       "432751  5e6a52d58d6fbc109d66f9e7  2020-03-12T15:19:14.194Z   \n",
       "432752  5e6a5355ad807c1304b5b6ea  2020-03-12T15:22:37.713Z   \n",
       "432753  5e6a55c8805fdd10915faa74  2020-03-12T15:31:20.592Z   \n",
       "432754  5e6a588868335813120f0d6d  2020-03-12T15:43:04.662Z   \n",
       "\n",
       "                       createdAt                        email  \\\n",
       "0       2016-12-26T11:47:05.935Z         rsmonteros@gmail.com   \n",
       "1       2016-12-26T11:47:05.935Z      segundocabe@hotmail.com   \n",
       "2       2016-12-26T11:47:05.935Z    alejandro.truan@gmail.com   \n",
       "3       2016-12-26T11:47:05.935Z  cg_criminalista@hotmail.com   \n",
       "4       2016-12-26T11:47:05.934Z           daver182@gmail.com   \n",
       "...                          ...                          ...   \n",
       "432750  2020-03-12T15:12:13.318Z      samuel.bascur@gmail.com   \n",
       "432751  2020-03-12T15:18:45.730Z          djalexcid@gmail.com   \n",
       "432752  2020-03-12T15:20:53.570Z   alexis.barria.c@outlook.cl   \n",
       "432753  2020-03-12T15:31:20.588Z   rorrocarrasco8@hotmail.com   \n",
       "432754  2020-03-12T15:43:04.657Z   vegasalejandro77@gmail.com   \n",
       "\n",
       "                                                 password         nombre  \\\n",
       "0       $2a$10$u/Gz4dlwJXh7gdk6R00Hi.jFflKRD391nb8aGer...      Alejandro   \n",
       "1       $2a$10$CTW5LDZeT1zbdu1pC80ruO.A6RHzEQudT7Cd44N...        Segundo   \n",
       "2       $2a$10$NDydpFNHSwURsPG634hkW.ps.LM.H3rPXmEZ9Jw...      Alejandro   \n",
       "3       $2a$10$h3LwuCGKP9YKYXwx6jkJwensLIjyromT.oVW9MY...        Claudio   \n",
       "4       $2a$10$Cy9ryLCRNnkiqvLA7tRQr.uBsJb7sR7lm1av89P...         Daniel   \n",
       "...                                                   ...            ...   \n",
       "432750  $2a$10$qwHMY7mOIWBJS6ZPCtEn6ewcdRIBqcyB3Rol9ei...         Samuel   \n",
       "432751  $2a$10$mzJplOuts7VO9PCQktPvA.blg.JvnjJ87.tALOO...      Alejandro   \n",
       "432752  $2a$10$yteHUa5MoviN1A3qaTptl.5pV0yPo6FW3WvZKI/...  Alexis Andrés   \n",
       "432753  $2a$10$wMf3csDUGO35GAadDdp1ruK.C8Wbz1dwsgHQpHK...        Rodrigo   \n",
       "432754  $2a$10$9Sr2XjVld6U3JNF24beyf.6VuNiYUVFJd047CjG...      Aldjandro   \n",
       "\n",
       "               apellido estado_token  pasarela  material  ...  \\\n",
       "0       Montero Salinas     freemium  freemium  freemium  ...   \n",
       "1              Calderon     freemium  freemium  freemium  ...   \n",
       "2                 Truan     freemium  freemium  freemium  ...   \n",
       "3                Guerra     freemium  freemium  freemium  ...   \n",
       "4               Vergara     freemium  freemium  freemium  ...   \n",
       "...                 ...          ...       ...       ...  ...   \n",
       "432750           Bascur     freemium  freemium  freemium  ...   \n",
       "432751              Cid     freemium  freemium  freemium  ...   \n",
       "432752   Barría Cabello     freemium  freemium  freemium  ...   \n",
       "432753         Carrasco     freemium  freemium  freemium  ...   \n",
       "432754            Rojas     freemium  freemium  freemium  ...   \n",
       "\n",
       "                fecha_nacimiento              _transaccion  \\\n",
       "0                            NaN                       NaN   \n",
       "1                            NaN                       NaN   \n",
       "2       1900-01-01T04:42:46.000Z                       NaN   \n",
       "3                            NaN                       NaN   \n",
       "4       1987-06-16T00:00:00.000Z  5861c4990ee08c3630cdd9b1   \n",
       "...                          ...                       ...   \n",
       "432750                       NaN                       NaN   \n",
       "432751                       NaN                       NaN   \n",
       "432752  1900-01-01T04:42:46.000Z                       NaN   \n",
       "432753                       NaN                       NaN   \n",
       "432754                       NaN                       NaN   \n",
       "\n",
       "                        _acuerdo                 _producto  \\\n",
       "0                            NaN                       NaN   \n",
       "1                            NaN                       NaN   \n",
       "2                            NaN                       NaN   \n",
       "3                            NaN                       NaN   \n",
       "4       5861c4990ee08c3630cdd9b0  5864280873981c4e423c0cb1   \n",
       "...                          ...                       ...   \n",
       "432750                       NaN                       NaN   \n",
       "432751                       NaN                       NaN   \n",
       "432752                       NaN                       NaN   \n",
       "432753                       NaN                       NaN   \n",
       "432754                       NaN                       NaN   \n",
       "\n",
       "                       fecha_fin                fecha_pago  \\\n",
       "0       2016-12-26T11:47:05.935Z  2016-12-26T11:47:05.935Z   \n",
       "1       2016-12-26T11:47:05.935Z  2016-12-26T11:47:05.935Z   \n",
       "2       2016-12-26T11:47:05.935Z  2016-12-26T11:47:05.935Z   \n",
       "3       2016-12-26T11:47:05.935Z  2016-12-26T11:47:05.935Z   \n",
       "4       2015-11-03T14:23:49.730Z  2015-10-04T14:22:29.134Z   \n",
       "...                          ...                       ...   \n",
       "432750                       NaN                       NaN   \n",
       "432751                       NaN                       NaN   \n",
       "432752                       NaN                       NaN   \n",
       "432753                       NaN                       NaN   \n",
       "432754                       NaN                       NaN   \n",
       "\n",
       "                   fecha_acuerdo  email_recuperacion  \\\n",
       "0       2016-12-26T11:47:05.935Z                 NaN   \n",
       "1       2016-12-26T11:47:05.935Z                 NaN   \n",
       "2       2016-12-26T11:47:05.935Z                 NaN   \n",
       "3       2016-12-26T11:47:05.935Z                 NaN   \n",
       "4       2016-12-27T01:32:09.416Z                 NaN   \n",
       "...                          ...                 ...   \n",
       "432750                       NaN                 NaN   \n",
       "432751                       NaN                 NaN   \n",
       "432752                       NaN                 NaN   \n",
       "432753                       NaN                 NaN   \n",
       "432754                       NaN                 NaN   \n",
       "\n",
       "               fecha_cancelacion           genero  \n",
       "0       2016-12-26T11:47:05.935Z              NaN  \n",
       "1       2016-12-26T11:47:05.935Z              NaN  \n",
       "2       2016-12-26T11:47:05.935Z  sin informacion  \n",
       "3       2016-12-26T11:47:05.935Z              NaN  \n",
       "4       2016-12-27T01:32:09.416Z              NaN  \n",
       "...                          ...              ...  \n",
       "432750                       NaN              NaN  \n",
       "432751                       NaN              NaN  \n",
       "432752                       NaN              NaN  \n",
       "432753                       NaN              NaN  \n",
       "432754                       NaN              NaN  \n",
       "\n",
       "[432755 rows x 30 columns]"
      ]
     },
     "execution_count": 3,
     "metadata": {},
     "output_type": "execute_result"
    }
   ],
   "source": [
    "USERS"
   ]
  },
  {
   "cell_type": "markdown",
   "metadata": {},
   "source": [
    "#### PROFILE TABLE"
   ]
  },
  {
   "cell_type": "code",
   "execution_count": 4,
   "metadata": {
    "scrolled": false
   },
   "outputs": [
    {
     "data": {
      "text/plain": [
       "Index(['_id', 'updatedAt', 'createdAt', 'email', 'password', 'nombre',\n",
       "       'apellido', 'estado_token', 'pasarela', 'material', 'dispositivos',\n",
       "       'propiedades.0.beta', 'baneado', 'estado', 'tipo', 'verificado',\n",
       "       '_roles', '__v', '_cliente', 'cliente_id', 'fecha_nacimiento',\n",
       "       '_transaccion', '_acuerdo', '_producto', 'fecha_fin', 'fecha_pago',\n",
       "       'fecha_acuerdo', 'email_recuperacion', 'fecha_cancelacion', 'genero'],\n",
       "      dtype='object')"
      ]
     },
     "execution_count": 4,
     "metadata": {},
     "output_type": "execute_result"
    }
   ],
   "source": [
    "USERS.columns"
   ]
  },
  {
   "cell_type": "code",
   "execution_count": 5,
   "metadata": {},
   "outputs": [],
   "source": [
    "id_user=USERS.drop([\n",
    "    'updatedAt', 'password', 'nombre',\n",
    "       'apellido', 'estado_token', 'pasarela', 'material', 'dispositivos',\n",
    "       'propiedades.0.beta', 'baneado', 'estado', 'tipo', \n",
    "       '_roles', '__v', '_cliente',  'fecha_nacimiento',\n",
    "       'email_recuperacion', 'genero', '_acuerdo', 'fecha_acuerdo',\n",
    "       'fecha_fin', 'fecha_pago', 'fecha_cancelacion', '_transaccion',\n",
    "       '_producto'],axis=1)"
   ]
  },
  {
   "cell_type": "code",
   "execution_count": 6,
   "metadata": {
    "scrolled": false
   },
   "outputs": [
    {
     "data": {
      "text/plain": [
       "Index(['_id', 'createdAt', 'email', 'verificado', 'cliente_id'], dtype='object')"
      ]
     },
     "execution_count": 6,
     "metadata": {},
     "output_type": "execute_result"
    }
   ],
   "source": [
    "id_user.columns"
   ]
  },
  {
   "cell_type": "code",
   "execution_count": 7,
   "metadata": {},
   "outputs": [],
   "source": [
    "id_user=id_user.rename(columns={ \"createdAt\": \"REGISTRATION_DATE\",\"verificado\": \"HAS_EMAIL_VERIFY\",'email':'EMAIL'})"
   ]
  },
  {
   "cell_type": "code",
   "execution_count": null,
   "metadata": {},
   "outputs": [],
   "source": []
  },
  {
   "cell_type": "code",
   "execution_count": 8,
   "metadata": {
    "scrolled": false
   },
   "outputs": [
    {
     "name": "stderr",
     "output_type": "stream",
     "text": [
      "/home/tecnoboy/HERRAMIENTAS/jupyterNotebook/datosSernac/lib/python3.6/site-packages/IPython/core/interactiveshell.py:3063: DtypeWarning: Columns (4,10,11,12,13,16,17,18,21,22,23,24,28,29) have mixed types.Specify dtype option on import or set low_memory=False.\n",
      "  interactivity=interactivity, compiler=compiler, result=result)\n"
     ]
    }
   ],
   "source": [
    "CLIENTES=pd.read_csv(\"/home/tecnoboy/ClusterMongo-produccion/cdfMaster/clientes.csv\")"
   ]
  },
  {
   "cell_type": "code",
   "execution_count": 9,
   "metadata": {},
   "outputs": [
    {
     "data": {
      "text/html": [
       "<div>\n",
       "<style scoped>\n",
       "    .dataframe tbody tr th:only-of-type {\n",
       "        vertical-align: middle;\n",
       "    }\n",
       "\n",
       "    .dataframe tbody tr th {\n",
       "        vertical-align: top;\n",
       "    }\n",
       "\n",
       "    .dataframe thead th {\n",
       "        text-align: right;\n",
       "    }\n",
       "</style>\n",
       "<table border=\"1\" class=\"dataframe\">\n",
       "  <thead>\n",
       "    <tr style=\"text-align: right;\">\n",
       "      <th></th>\n",
       "      <th>_id</th>\n",
       "      <th>updatedAt</th>\n",
       "      <th>createdAt</th>\n",
       "      <th>__v</th>\n",
       "      <th>idMd</th>\n",
       "      <th>nombre</th>\n",
       "      <th>apellidoPaterno</th>\n",
       "      <th>rut</th>\n",
       "      <th>email</th>\n",
       "      <th>pais</th>\n",
       "      <th>...</th>\n",
       "      <th>pago</th>\n",
       "      <th>estado</th>\n",
       "      <th>obsoleto</th>\n",
       "      <th>creado</th>\n",
       "      <th>compra_activa</th>\n",
       "      <th>email_recuperacion</th>\n",
       "      <th>equipo_favorito</th>\n",
       "      <th>favorito</th>\n",
       "      <th>apellidoMaterno</th>\n",
       "      <th>telefono</th>\n",
       "    </tr>\n",
       "  </thead>\n",
       "  <tbody>\n",
       "    <tr>\n",
       "      <th>0</th>\n",
       "      <td>5860ff4104d5b52eef1e6216</td>\n",
       "      <td>2016-12-26T11:30:09.755Z</td>\n",
       "      <td>2016-12-26T11:30:09.755Z</td>\n",
       "      <td>0.0</td>\n",
       "      <td>563857913817661751603df2</td>\n",
       "      <td>Alejandro</td>\n",
       "      <td>Montero Salinas</td>\n",
       "      <td>66666666-6</td>\n",
       "      <td>rsmonteros@gmail.com</td>\n",
       "      <td>Chile</td>\n",
       "      <td>...</td>\n",
       "      <td>0.0</td>\n",
       "      <td>ACTIVE</td>\n",
       "      <td>False</td>\n",
       "      <td>2013-08-25T14:37:54.039Z</td>\n",
       "      <td>False</td>\n",
       "      <td>NaN</td>\n",
       "      <td>NaN</td>\n",
       "      <td>NaN</td>\n",
       "      <td>NaN</td>\n",
       "      <td>NaN</td>\n",
       "    </tr>\n",
       "    <tr>\n",
       "      <th>1</th>\n",
       "      <td>5860ff4104d5b52eef1e6217</td>\n",
       "      <td>2016-12-26T11:30:09.755Z</td>\n",
       "      <td>2016-12-26T11:30:09.755Z</td>\n",
       "      <td>0.0</td>\n",
       "      <td>563857913817661751603df3</td>\n",
       "      <td>Claudio</td>\n",
       "      <td>Guerra</td>\n",
       "      <td>66666666-6</td>\n",
       "      <td>cg_criminalista@hotmail.com</td>\n",
       "      <td>Chile</td>\n",
       "      <td>...</td>\n",
       "      <td>0.0</td>\n",
       "      <td>ACTIVE</td>\n",
       "      <td>False</td>\n",
       "      <td>2013-08-25T14:19:55.760Z</td>\n",
       "      <td>False</td>\n",
       "      <td>NaN</td>\n",
       "      <td>NaN</td>\n",
       "      <td>NaN</td>\n",
       "      <td>NaN</td>\n",
       "      <td>NaN</td>\n",
       "    </tr>\n",
       "    <tr>\n",
       "      <th>2</th>\n",
       "      <td>5860ff4104d5b52eef1e6218</td>\n",
       "      <td>2019-02-23T14:36:51.986Z</td>\n",
       "      <td>2016-12-26T11:30:09.755Z</td>\n",
       "      <td>0.0</td>\n",
       "      <td>563857913817661751603df4</td>\n",
       "      <td>Alejandro</td>\n",
       "      <td>Truan</td>\n",
       "      <td>66666666-6</td>\n",
       "      <td>alejandro.truan@gmail.com</td>\n",
       "      <td>Chile</td>\n",
       "      <td>...</td>\n",
       "      <td>0.0</td>\n",
       "      <td>ACTIVE</td>\n",
       "      <td>False</td>\n",
       "      <td>2013-08-25T14:15:48.995Z</td>\n",
       "      <td>False</td>\n",
       "      <td>NaN</td>\n",
       "      <td>Colo-Colo</td>\n",
       "      <td>2641.0</td>\n",
       "      <td>NaN</td>\n",
       "      <td>NaN</td>\n",
       "    </tr>\n",
       "    <tr>\n",
       "      <th>3</th>\n",
       "      <td>5860ff4104d5b52eef1e6215</td>\n",
       "      <td>2016-12-26T11:30:09.754Z</td>\n",
       "      <td>2016-12-26T11:30:09.754Z</td>\n",
       "      <td>0.0</td>\n",
       "      <td>563857913817661751603df1</td>\n",
       "      <td>Daniel</td>\n",
       "      <td>Vergara</td>\n",
       "      <td>66666666-6</td>\n",
       "      <td>daver182@gmail.com</td>\n",
       "      <td>Chile</td>\n",
       "      <td>...</td>\n",
       "      <td>1.0</td>\n",
       "      <td>ACTIVE</td>\n",
       "      <td>False</td>\n",
       "      <td>2013-08-25T14:41:58.497Z</td>\n",
       "      <td>False</td>\n",
       "      <td>NaN</td>\n",
       "      <td>NaN</td>\n",
       "      <td>NaN</td>\n",
       "      <td>NaN</td>\n",
       "      <td>NaN</td>\n",
       "    </tr>\n",
       "    <tr>\n",
       "      <th>4</th>\n",
       "      <td>5860ff4104d5b52eef1e6219</td>\n",
       "      <td>2016-12-26T11:30:09.756Z</td>\n",
       "      <td>2016-12-26T11:30:09.756Z</td>\n",
       "      <td>0.0</td>\n",
       "      <td>563857913817661751603df5</td>\n",
       "      <td>Segundo</td>\n",
       "      <td>Calderon</td>\n",
       "      <td>66666666-6</td>\n",
       "      <td>segundocabe@hotmail.com</td>\n",
       "      <td>Chile</td>\n",
       "      <td>...</td>\n",
       "      <td>0.0</td>\n",
       "      <td>ACTIVE</td>\n",
       "      <td>False</td>\n",
       "      <td>2013-08-25T14:13:46.515Z</td>\n",
       "      <td>False</td>\n",
       "      <td>NaN</td>\n",
       "      <td>NaN</td>\n",
       "      <td>NaN</td>\n",
       "      <td>NaN</td>\n",
       "      <td>NaN</td>\n",
       "    </tr>\n",
       "    <tr>\n",
       "      <th>...</th>\n",
       "      <td>...</td>\n",
       "      <td>...</td>\n",
       "      <td>...</td>\n",
       "      <td>...</td>\n",
       "      <td>...</td>\n",
       "      <td>...</td>\n",
       "      <td>...</td>\n",
       "      <td>...</td>\n",
       "      <td>...</td>\n",
       "      <td>...</td>\n",
       "      <td>...</td>\n",
       "      <td>...</td>\n",
       "      <td>...</td>\n",
       "      <td>...</td>\n",
       "      <td>...</td>\n",
       "      <td>...</td>\n",
       "      <td>...</td>\n",
       "      <td>...</td>\n",
       "      <td>...</td>\n",
       "      <td>...</td>\n",
       "      <td>...</td>\n",
       "    </tr>\n",
       "    <tr>\n",
       "      <th>434251</th>\n",
       "      <td>5e9924b708a60a78490ffbc9</td>\n",
       "      <td>2020-04-17T03:38:31.378Z</td>\n",
       "      <td>2020-04-17T03:38:31.378Z</td>\n",
       "      <td>0.0</td>\n",
       "      <td>NaN</td>\n",
       "      <td>Patrocio</td>\n",
       "      <td>Guzman valdes</td>\n",
       "      <td>NaN</td>\n",
       "      <td>hpguzman2018@gmail.com</td>\n",
       "      <td>NaN</td>\n",
       "      <td>...</td>\n",
       "      <td>NaN</td>\n",
       "      <td>NaN</td>\n",
       "      <td>NaN</td>\n",
       "      <td>NaN</td>\n",
       "      <td>NaN</td>\n",
       "      <td>NaN</td>\n",
       "      <td>NaN</td>\n",
       "      <td>NaN</td>\n",
       "      <td>NaN</td>\n",
       "      <td>NaN</td>\n",
       "    </tr>\n",
       "    <tr>\n",
       "      <th>434252</th>\n",
       "      <td>5e994600bc029378e09022fe</td>\n",
       "      <td>2020-04-17T06:03:16.807Z</td>\n",
       "      <td>2020-04-17T06:00:32.656Z</td>\n",
       "      <td>0.0</td>\n",
       "      <td>NaN</td>\n",
       "      <td>Guillermo</td>\n",
       "      <td>Ramírez</td>\n",
       "      <td>NaN</td>\n",
       "      <td>gramirez33.me@gmail.com</td>\n",
       "      <td>NaN</td>\n",
       "      <td>...</td>\n",
       "      <td>NaN</td>\n",
       "      <td>NaN</td>\n",
       "      <td>NaN</td>\n",
       "      <td>NaN</td>\n",
       "      <td>NaN</td>\n",
       "      <td>NaN</td>\n",
       "      <td>Colo-Colo</td>\n",
       "      <td>2641.0</td>\n",
       "      <td>NaN</td>\n",
       "      <td>NaN</td>\n",
       "    </tr>\n",
       "    <tr>\n",
       "      <th>434253</th>\n",
       "      <td>5e99b7c0943ae378c8fe471a</td>\n",
       "      <td>2020-04-17T14:05:52.307Z</td>\n",
       "      <td>2020-04-17T14:05:52.307Z</td>\n",
       "      <td>0.0</td>\n",
       "      <td>NaN</td>\n",
       "      <td>Pedro</td>\n",
       "      <td>Jara</td>\n",
       "      <td>NaN</td>\n",
       "      <td>pedro721@gmail.com</td>\n",
       "      <td>NaN</td>\n",
       "      <td>...</td>\n",
       "      <td>NaN</td>\n",
       "      <td>NaN</td>\n",
       "      <td>NaN</td>\n",
       "      <td>NaN</td>\n",
       "      <td>NaN</td>\n",
       "      <td>NaN</td>\n",
       "      <td>NaN</td>\n",
       "      <td>NaN</td>\n",
       "      <td>NaN</td>\n",
       "      <td>NaN</td>\n",
       "    </tr>\n",
       "    <tr>\n",
       "      <th>434254</th>\n",
       "      <td>5e99b9f4977326783df5c8a0</td>\n",
       "      <td>2020-04-17T14:20:00.888Z</td>\n",
       "      <td>2020-04-17T14:15:16.678Z</td>\n",
       "      <td>0.0</td>\n",
       "      <td>NaN</td>\n",
       "      <td>Andrés</td>\n",
       "      <td>Palominos</td>\n",
       "      <td>NaN</td>\n",
       "      <td>andresspalominoss@hotmail.com</td>\n",
       "      <td>NaN</td>\n",
       "      <td>...</td>\n",
       "      <td>NaN</td>\n",
       "      <td>NaN</td>\n",
       "      <td>NaN</td>\n",
       "      <td>NaN</td>\n",
       "      <td>NaN</td>\n",
       "      <td>NaN</td>\n",
       "      <td>Colo-Colo</td>\n",
       "      <td>2641.0</td>\n",
       "      <td>NaN</td>\n",
       "      <td>NaN</td>\n",
       "    </tr>\n",
       "    <tr>\n",
       "      <th>434255</th>\n",
       "      <td>5e99bb2fbc029378e090232f</td>\n",
       "      <td>2020-04-17T14:21:44.518Z</td>\n",
       "      <td>2020-04-17T14:20:31.978Z</td>\n",
       "      <td>0.0</td>\n",
       "      <td>NaN</td>\n",
       "      <td>belen</td>\n",
       "      <td>guglieri</td>\n",
       "      <td>NaN</td>\n",
       "      <td>beluguglieri@gmail.com</td>\n",
       "      <td>NaN</td>\n",
       "      <td>...</td>\n",
       "      <td>NaN</td>\n",
       "      <td>NaN</td>\n",
       "      <td>NaN</td>\n",
       "      <td>NaN</td>\n",
       "      <td>NaN</td>\n",
       "      <td>NaN</td>\n",
       "      <td>NaN</td>\n",
       "      <td>NaN</td>\n",
       "      <td>NaN</td>\n",
       "      <td>NaN</td>\n",
       "    </tr>\n",
       "  </tbody>\n",
       "</table>\n",
       "<p>434256 rows × 30 columns</p>\n",
       "</div>"
      ],
      "text/plain": [
       "                             _id                 updatedAt  \\\n",
       "0       5860ff4104d5b52eef1e6216  2016-12-26T11:30:09.755Z   \n",
       "1       5860ff4104d5b52eef1e6217  2016-12-26T11:30:09.755Z   \n",
       "2       5860ff4104d5b52eef1e6218  2019-02-23T14:36:51.986Z   \n",
       "3       5860ff4104d5b52eef1e6215  2016-12-26T11:30:09.754Z   \n",
       "4       5860ff4104d5b52eef1e6219  2016-12-26T11:30:09.756Z   \n",
       "...                          ...                       ...   \n",
       "434251  5e9924b708a60a78490ffbc9  2020-04-17T03:38:31.378Z   \n",
       "434252  5e994600bc029378e09022fe  2020-04-17T06:03:16.807Z   \n",
       "434253  5e99b7c0943ae378c8fe471a  2020-04-17T14:05:52.307Z   \n",
       "434254  5e99b9f4977326783df5c8a0  2020-04-17T14:20:00.888Z   \n",
       "434255  5e99bb2fbc029378e090232f  2020-04-17T14:21:44.518Z   \n",
       "\n",
       "                       createdAt  __v                      idMd      nombre  \\\n",
       "0       2016-12-26T11:30:09.755Z  0.0  563857913817661751603df2   Alejandro   \n",
       "1       2016-12-26T11:30:09.755Z  0.0  563857913817661751603df3     Claudio   \n",
       "2       2016-12-26T11:30:09.755Z  0.0  563857913817661751603df4   Alejandro   \n",
       "3       2016-12-26T11:30:09.754Z  0.0  563857913817661751603df1      Daniel   \n",
       "4       2016-12-26T11:30:09.756Z  0.0  563857913817661751603df5     Segundo   \n",
       "...                          ...  ...                       ...         ...   \n",
       "434251  2020-04-17T03:38:31.378Z  0.0                       NaN    Patrocio   \n",
       "434252  2020-04-17T06:00:32.656Z  0.0                       NaN  Guillermo    \n",
       "434253  2020-04-17T14:05:52.307Z  0.0                       NaN      Pedro    \n",
       "434254  2020-04-17T14:15:16.678Z  0.0                       NaN      Andrés   \n",
       "434255  2020-04-17T14:20:31.978Z  0.0                       NaN       belen   \n",
       "\n",
       "        apellidoPaterno         rut                          email   pais  \\\n",
       "0       Montero Salinas  66666666-6           rsmonteros@gmail.com  Chile   \n",
       "1                Guerra  66666666-6    cg_criminalista@hotmail.com  Chile   \n",
       "2                 Truan  66666666-6      alejandro.truan@gmail.com  Chile   \n",
       "3               Vergara  66666666-6             daver182@gmail.com  Chile   \n",
       "4              Calderon  66666666-6        segundocabe@hotmail.com  Chile   \n",
       "...                 ...         ...                            ...    ...   \n",
       "434251    Guzman valdes         NaN         hpguzman2018@gmail.com    NaN   \n",
       "434252          Ramírez         NaN        gramirez33.me@gmail.com    NaN   \n",
       "434253             Jara         NaN             pedro721@gmail.com    NaN   \n",
       "434254        Palominos         NaN  andresspalominoss@hotmail.com    NaN   \n",
       "434255         guglieri         NaN         beluguglieri@gmail.com    NaN   \n",
       "\n",
       "        ... pago  estado obsoleto                    creado compra_activa  \\\n",
       "0       ...  0.0  ACTIVE    False  2013-08-25T14:37:54.039Z         False   \n",
       "1       ...  0.0  ACTIVE    False  2013-08-25T14:19:55.760Z         False   \n",
       "2       ...  0.0  ACTIVE    False  2013-08-25T14:15:48.995Z         False   \n",
       "3       ...  1.0  ACTIVE    False  2013-08-25T14:41:58.497Z         False   \n",
       "4       ...  0.0  ACTIVE    False  2013-08-25T14:13:46.515Z         False   \n",
       "...     ...  ...     ...      ...                       ...           ...   \n",
       "434251  ...  NaN     NaN      NaN                       NaN           NaN   \n",
       "434252  ...  NaN     NaN      NaN                       NaN           NaN   \n",
       "434253  ...  NaN     NaN      NaN                       NaN           NaN   \n",
       "434254  ...  NaN     NaN      NaN                       NaN           NaN   \n",
       "434255  ...  NaN     NaN      NaN                       NaN           NaN   \n",
       "\n",
       "       email_recuperacion equipo_favorito favorito apellidoMaterno  telefono  \n",
       "0                     NaN             NaN      NaN             NaN       NaN  \n",
       "1                     NaN             NaN      NaN             NaN       NaN  \n",
       "2                     NaN       Colo-Colo   2641.0             NaN       NaN  \n",
       "3                     NaN             NaN      NaN             NaN       NaN  \n",
       "4                     NaN             NaN      NaN             NaN       NaN  \n",
       "...                   ...             ...      ...             ...       ...  \n",
       "434251                NaN             NaN      NaN             NaN       NaN  \n",
       "434252                NaN       Colo-Colo   2641.0             NaN       NaN  \n",
       "434253                NaN             NaN      NaN             NaN       NaN  \n",
       "434254                NaN       Colo-Colo   2641.0             NaN       NaN  \n",
       "434255                NaN             NaN      NaN             NaN       NaN  \n",
       "\n",
       "[434256 rows x 30 columns]"
      ]
     },
     "execution_count": 9,
     "metadata": {},
     "output_type": "execute_result"
    }
   ],
   "source": [
    "CLIENTES"
   ]
  },
  {
   "cell_type": "markdown",
   "metadata": {},
   "source": [
    "Se le quiere añadir el id de usuario a la tabla de clientes"
   ]
  },
  {
   "cell_type": "code",
   "execution_count": 10,
   "metadata": {
    "scrolled": true
   },
   "outputs": [
    {
     "name": "stdout",
     "output_type": "stream",
     "text": [
      "<class 'pandas.core.frame.DataFrame'>\n",
      "RangeIndex: 434256 entries, 0 to 434255\n",
      "Data columns (total 30 columns):\n",
      " #   Column              Non-Null Count   Dtype  \n",
      "---  ------              --------------   -----  \n",
      " 0   _id                 434256 non-null  object \n",
      " 1   updatedAt           434255 non-null  object \n",
      " 2   createdAt           434255 non-null  object \n",
      " 3   __v                 434255 non-null  float64\n",
      " 4   idMd                147385 non-null  object \n",
      " 5   nombre              433775 non-null  object \n",
      " 6   apellidoPaterno     433885 non-null  object \n",
      " 7   rut                 256666 non-null  object \n",
      " 8   email               434256 non-null  object \n",
      " 9   pais                150140 non-null  object \n",
      " 10  provincia           143799 non-null  object \n",
      " 11  codigoPais          144898 non-null  object \n",
      " 12  direccion           147988 non-null  object \n",
      " 13  tipo                147386 non-null  object \n",
      " 14  fecha_nacimiento    350036 non-null  object \n",
      " 15  genero              261321 non-null  object \n",
      " 16  email_confirmado    136851 non-null  object \n",
      " 17  avatar              147386 non-null  object \n",
      " 18  equipo              147307 non-null  object \n",
      " 19  compra              147384 non-null  float64\n",
      " 20  pago                147384 non-null  float64\n",
      " 21  estado              147386 non-null  object \n",
      " 22  obsoleto            147386 non-null  object \n",
      " 23  creado              147386 non-null  object \n",
      " 24  compra_activa       147386 non-null  object \n",
      " 25  email_recuperacion  2480 non-null    object \n",
      " 26  equipo_favorito     211979 non-null  object \n",
      " 27  favorito            114552 non-null  float64\n",
      " 28  apellidoMaterno     115099 non-null  object \n",
      " 29  telefono            2535 non-null    object \n",
      "dtypes: float64(4), object(26)\n",
      "memory usage: 99.4+ MB\n"
     ]
    }
   ],
   "source": [
    "CLIENTES.info()"
   ]
  },
  {
   "cell_type": "code",
   "execution_count": 11,
   "metadata": {
    "scrolled": true
   },
   "outputs": [
    {
     "data": {
      "text/plain": [
       "0                  sin informacion\n",
       "1                  sin informacion\n",
       "2         1900-01-01T04:42:46.000Z\n",
       "3                       1987-06-16\n",
       "4                  sin informacion\n",
       "                    ...           \n",
       "434251                         NaN\n",
       "434252    1900-01-01T04:42:46.000Z\n",
       "434253                         NaN\n",
       "434254    1900-01-01T04:42:46.000Z\n",
       "434255    1900-01-01T04:16:48.000Z\n",
       "Name: fecha_nacimiento, Length: 434256, dtype: object"
      ]
     },
     "execution_count": 11,
     "metadata": {},
     "output_type": "execute_result"
    }
   ],
   "source": [
    "CLIENTES['fecha_nacimiento']"
   ]
  },
  {
   "cell_type": "code",
   "execution_count": 12,
   "metadata": {},
   "outputs": [
    {
     "name": "stdout",
     "output_type": "stream",
     "text": [
      "<class 'pandas.core.frame.DataFrame'>\n",
      "RangeIndex: 432755 entries, 0 to 432754\n",
      "Data columns (total 5 columns):\n",
      " #   Column             Non-Null Count   Dtype \n",
      "---  ------             --------------   ----- \n",
      " 0   _id                432755 non-null  object\n",
      " 1   REGISTRATION_DATE  432754 non-null  object\n",
      " 2   EMAIL              432755 non-null  object\n",
      " 3   HAS_EMAIL_VERIFY   432754 non-null  object\n",
      " 4   cliente_id         432696 non-null  object\n",
      "dtypes: object(5)\n",
      "memory usage: 16.5+ MB\n"
     ]
    }
   ],
   "source": [
    "id_user.info()"
   ]
  },
  {
   "cell_type": "code",
   "execution_count": 13,
   "metadata": {},
   "outputs": [],
   "source": [
    "CLIENTES['cliente_id']=CLIENTES['_id']"
   ]
  },
  {
   "cell_type": "code",
   "execution_count": 14,
   "metadata": {},
   "outputs": [],
   "source": [
    "consolidados2 = CLIENTES.merge(id_user, on=['cliente_id'], how=\"right\", indicator=True)"
   ]
  },
  {
   "cell_type": "code",
   "execution_count": 15,
   "metadata": {},
   "outputs": [
    {
     "name": "stdout",
     "output_type": "stream",
     "text": [
      "<class 'pandas.core.frame.DataFrame'>\n",
      "Int64Index: 432755 entries, 0 to 432754\n",
      "Data columns (total 36 columns):\n",
      " #   Column              Non-Null Count   Dtype   \n",
      "---  ------              --------------   -----   \n",
      " 0   _id_x               432696 non-null  object  \n",
      " 1   updatedAt           432695 non-null  object  \n",
      " 2   createdAt           432695 non-null  object  \n",
      " 3   __v                 432695 non-null  float64 \n",
      " 4   idMd                147385 non-null  object  \n",
      " 5   nombre              432222 non-null  object  \n",
      " 6   apellidoPaterno     432333 non-null  object  \n",
      " 7   rut                 256621 non-null  object  \n",
      " 8   email               432696 non-null  object  \n",
      " 9   pais                150132 non-null  object  \n",
      " 10  provincia           143798 non-null  object  \n",
      " 11  codigoPais          144897 non-null  object  \n",
      " 12  direccion           147988 non-null  object  \n",
      " 13  tipo                147386 non-null  object  \n",
      " 14  fecha_nacimiento    349179 non-null  object  \n",
      " 15  genero              261274 non-null  object  \n",
      " 16  email_confirmado    136853 non-null  object  \n",
      " 17  avatar              147386 non-null  object  \n",
      " 18  equipo              147307 non-null  object  \n",
      " 19  compra              147384 non-null  float64 \n",
      " 20  pago                147384 non-null  float64 \n",
      " 21  estado              147386 non-null  object  \n",
      " 22  obsoleto            147386 non-null  object  \n",
      " 23  creado              147386 non-null  object  \n",
      " 24  compra_activa       147386 non-null  object  \n",
      " 25  email_recuperacion  2473 non-null    object  \n",
      " 26  equipo_favorito     211249 non-null  object  \n",
      " 27  favorito            113858 non-null  float64 \n",
      " 28  apellidoMaterno     115061 non-null  object  \n",
      " 29  telefono            2528 non-null    object  \n",
      " 30  cliente_id          432696 non-null  object  \n",
      " 31  _id_y               432755 non-null  object  \n",
      " 32  REGISTRATION_DATE   432754 non-null  object  \n",
      " 33  EMAIL               432755 non-null  object  \n",
      " 34  HAS_EMAIL_VERIFY    432754 non-null  object  \n",
      " 35  _merge              432755 non-null  category\n",
      "dtypes: category(1), float64(4), object(31)\n",
      "memory usage: 119.3+ MB\n"
     ]
    }
   ],
   "source": [
    "consolidados2.info()"
   ]
  },
  {
   "cell_type": "code",
   "execution_count": 16,
   "metadata": {
    "scrolled": true
   },
   "outputs": [
    {
     "data": {
      "text/plain": [
       "Index(['_id_x', 'updatedAt', 'createdAt', '__v', 'idMd', 'nombre',\n",
       "       'apellidoPaterno', 'rut', 'email', 'pais', 'provincia', 'codigoPais',\n",
       "       'direccion', 'tipo', 'fecha_nacimiento', 'genero', 'email_confirmado',\n",
       "       'avatar', 'equipo', 'compra', 'pago', 'estado', 'obsoleto', 'creado',\n",
       "       'compra_activa', 'email_recuperacion', 'equipo_favorito', 'favorito',\n",
       "       'apellidoMaterno', 'telefono', 'cliente_id', '_id_y',\n",
       "       'REGISTRATION_DATE', 'EMAIL', 'HAS_EMAIL_VERIFY', '_merge'],\n",
       "      dtype='object')"
      ]
     },
     "execution_count": 16,
     "metadata": {},
     "output_type": "execute_result"
    }
   ],
   "source": [
    "consolidados2.columns"
   ]
  },
  {
   "cell_type": "code",
   "execution_count": 17,
   "metadata": {},
   "outputs": [],
   "source": [
    "consolidados2['REGISTRATION_DATE'] = pd.to_datetime(consolidados2['REGISTRATION_DATE'])"
   ]
  },
  {
   "cell_type": "markdown",
   "metadata": {},
   "source": [
    "Filtrando a los que están después del  2017"
   ]
  },
  {
   "cell_type": "code",
   "execution_count": 18,
   "metadata": {},
   "outputs": [],
   "source": [
    "consolidados2=consolidados2.loc[consolidados2['REGISTRATION_DATE'] > '2017-01-01 00:00:00.904716']"
   ]
  },
  {
   "cell_type": "code",
   "execution_count": null,
   "metadata": {},
   "outputs": [],
   "source": []
  },
  {
   "cell_type": "code",
   "execution_count": 19,
   "metadata": {},
   "outputs": [],
   "source": [
    "\n",
    "profile=consolidados2"
   ]
  },
  {
   "cell_type": "markdown",
   "metadata": {},
   "source": [
    "TRABAJAR LAS FECHAS DE NACIMIENTO"
   ]
  },
  {
   "cell_type": "code",
   "execution_count": 20,
   "metadata": {
    "scrolled": true
   },
   "outputs": [
    {
     "name": "stdout",
     "output_type": "stream",
     "text": [
      "<class 'pandas.core.frame.DataFrame'>\n",
      "Int64Index: 285331 entries, 147423 to 432754\n",
      "Data columns (total 36 columns):\n",
      " #   Column              Non-Null Count   Dtype              \n",
      "---  ------              --------------   -----              \n",
      " 0   _id_x               285272 non-null  object             \n",
      " 1   updatedAt           285272 non-null  object             \n",
      " 2   createdAt           285272 non-null  object             \n",
      " 3   __v                 285272 non-null  float64            \n",
      " 4   idMd                2 non-null       object             \n",
      " 5   nombre              284799 non-null  object             \n",
      " 6   apellidoPaterno     284909 non-null  object             \n",
      " 7   rut                 109248 non-null  object             \n",
      " 8   email               285272 non-null  object             \n",
      " 9   pais                2990 non-null    object             \n",
      " 10  provincia           2 non-null       object             \n",
      " 11  codigoPais          1 non-null       object             \n",
      " 12  direccion           661 non-null     object             \n",
      " 13  tipo                2 non-null       object             \n",
      " 14  fecha_nacimiento    202201 non-null  object             \n",
      " 15  genero              113941 non-null  object             \n",
      " 16  email_confirmado    2 non-null       object             \n",
      " 17  avatar              2 non-null       object             \n",
      " 18  equipo              0 non-null       object             \n",
      " 19  compra              0 non-null       float64            \n",
      " 20  pago                0 non-null       float64            \n",
      " 21  estado              2 non-null       object             \n",
      " 22  obsoleto            2 non-null       object             \n",
      " 23  creado              2 non-null       object             \n",
      " 24  compra_activa       2 non-null       object             \n",
      " 25  email_recuperacion  1737 non-null    object             \n",
      " 26  equipo_favorito     192954 non-null  object             \n",
      " 27  favorito            96594 non-null   float64            \n",
      " 28  apellidoMaterno     112555 non-null  object             \n",
      " 29  telefono            1795 non-null    object             \n",
      " 30  cliente_id          285272 non-null  object             \n",
      " 31  _id_y               285331 non-null  object             \n",
      " 32  REGISTRATION_DATE   285331 non-null  datetime64[ns, UTC]\n",
      " 33  EMAIL               285331 non-null  object             \n",
      " 34  HAS_EMAIL_VERIFY    285330 non-null  object             \n",
      " 35  _merge              285331 non-null  category           \n",
      "dtypes: category(1), datetime64[ns, UTC](1), float64(4), object(30)\n",
      "memory usage: 78.6+ MB\n"
     ]
    }
   ],
   "source": [
    "profile.info()"
   ]
  },
  {
   "cell_type": "code",
   "execution_count": 21,
   "metadata": {
    "scrolled": true
   },
   "outputs": [],
   "source": [
    "profile.loc[(profile['fecha_nacimiento'].str.contains(\"sin informacion|1900-01-01T04:42:46.000Z\", na=False)),['fecha_nacimiento']]= np.NaN"
   ]
  },
  {
   "cell_type": "code",
   "execution_count": 22,
   "metadata": {
    "scrolled": true
   },
   "outputs": [],
   "source": [
    "profile['fecha_nacimiento']= pd.to_datetime(profile.fecha_nacimiento, utc=True)"
   ]
  },
  {
   "cell_type": "code",
   "execution_count": 23,
   "metadata": {},
   "outputs": [
    {
     "name": "stdout",
     "output_type": "stream",
     "text": [
      "<class 'pandas.core.frame.DataFrame'>\n",
      "Int64Index: 285331 entries, 147423 to 432754\n",
      "Data columns (total 36 columns):\n",
      " #   Column              Non-Null Count   Dtype              \n",
      "---  ------              --------------   -----              \n",
      " 0   _id_x               285272 non-null  object             \n",
      " 1   updatedAt           285272 non-null  object             \n",
      " 2   createdAt           285272 non-null  object             \n",
      " 3   __v                 285272 non-null  float64            \n",
      " 4   idMd                2 non-null       object             \n",
      " 5   nombre              284799 non-null  object             \n",
      " 6   apellidoPaterno     284909 non-null  object             \n",
      " 7   rut                 109248 non-null  object             \n",
      " 8   email               285272 non-null  object             \n",
      " 9   pais                2990 non-null    object             \n",
      " 10  provincia           2 non-null       object             \n",
      " 11  codigoPais          1 non-null       object             \n",
      " 12  direccion           661 non-null     object             \n",
      " 13  tipo                2 non-null       object             \n",
      " 14  fecha_nacimiento    141308 non-null  datetime64[ns, UTC]\n",
      " 15  genero              113941 non-null  object             \n",
      " 16  email_confirmado    2 non-null       object             \n",
      " 17  avatar              2 non-null       object             \n",
      " 18  equipo              0 non-null       object             \n",
      " 19  compra              0 non-null       float64            \n",
      " 20  pago                0 non-null       float64            \n",
      " 21  estado              2 non-null       object             \n",
      " 22  obsoleto            2 non-null       object             \n",
      " 23  creado              2 non-null       object             \n",
      " 24  compra_activa       2 non-null       object             \n",
      " 25  email_recuperacion  1737 non-null    object             \n",
      " 26  equipo_favorito     192954 non-null  object             \n",
      " 27  favorito            96594 non-null   float64            \n",
      " 28  apellidoMaterno     112555 non-null  object             \n",
      " 29  telefono            1795 non-null    object             \n",
      " 30  cliente_id          285272 non-null  object             \n",
      " 31  _id_y               285331 non-null  object             \n",
      " 32  REGISTRATION_DATE   285331 non-null  datetime64[ns, UTC]\n",
      " 33  EMAIL               285331 non-null  object             \n",
      " 34  HAS_EMAIL_VERIFY    285330 non-null  object             \n",
      " 35  _merge              285331 non-null  category           \n",
      "dtypes: category(1), datetime64[ns, UTC](2), float64(4), object(29)\n",
      "memory usage: 78.6+ MB\n"
     ]
    }
   ],
   "source": [
    "profile.info()"
   ]
  },
  {
   "cell_type": "code",
   "execution_count": 24,
   "metadata": {},
   "outputs": [],
   "source": [
    "profile.loc[(profile['fecha_nacimiento']<'1910-01-01T04:42:46.000Z'),['fecha_nacimiento']]= np.NaN"
   ]
  },
  {
   "cell_type": "code",
   "execution_count": 25,
   "metadata": {},
   "outputs": [
    {
     "name": "stdout",
     "output_type": "stream",
     "text": [
      "<class 'pandas.core.frame.DataFrame'>\n",
      "Int64Index: 285331 entries, 147423 to 432754\n",
      "Data columns (total 36 columns):\n",
      " #   Column              Non-Null Count   Dtype              \n",
      "---  ------              --------------   -----              \n",
      " 0   _id_x               285272 non-null  object             \n",
      " 1   updatedAt           285272 non-null  object             \n",
      " 2   createdAt           285272 non-null  object             \n",
      " 3   __v                 285272 non-null  float64            \n",
      " 4   idMd                2 non-null       object             \n",
      " 5   nombre              284799 non-null  object             \n",
      " 6   apellidoPaterno     284909 non-null  object             \n",
      " 7   rut                 109248 non-null  object             \n",
      " 8   email               285272 non-null  object             \n",
      " 9   pais                2990 non-null    object             \n",
      " 10  provincia           2 non-null       object             \n",
      " 11  codigoPais          1 non-null       object             \n",
      " 12  direccion           661 non-null     object             \n",
      " 13  tipo                2 non-null       object             \n",
      " 14  fecha_nacimiento    113298 non-null  datetime64[ns, UTC]\n",
      " 15  genero              113941 non-null  object             \n",
      " 16  email_confirmado    2 non-null       object             \n",
      " 17  avatar              2 non-null       object             \n",
      " 18  equipo              0 non-null       object             \n",
      " 19  compra              0 non-null       float64            \n",
      " 20  pago                0 non-null       float64            \n",
      " 21  estado              2 non-null       object             \n",
      " 22  obsoleto            2 non-null       object             \n",
      " 23  creado              2 non-null       object             \n",
      " 24  compra_activa       2 non-null       object             \n",
      " 25  email_recuperacion  1737 non-null    object             \n",
      " 26  equipo_favorito     192954 non-null  object             \n",
      " 27  favorito            96594 non-null   float64            \n",
      " 28  apellidoMaterno     112555 non-null  object             \n",
      " 29  telefono            1795 non-null    object             \n",
      " 30  cliente_id          285272 non-null  object             \n",
      " 31  _id_y               285331 non-null  object             \n",
      " 32  REGISTRATION_DATE   285331 non-null  datetime64[ns, UTC]\n",
      " 33  EMAIL               285331 non-null  object             \n",
      " 34  HAS_EMAIL_VERIFY    285330 non-null  object             \n",
      " 35  _merge              285331 non-null  category           \n",
      "dtypes: category(1), datetime64[ns, UTC](2), float64(4), object(29)\n",
      "memory usage: 78.6+ MB\n"
     ]
    }
   ],
   "source": [
    "profile.info()"
   ]
  },
  {
   "cell_type": "code",
   "execution_count": 26,
   "metadata": {},
   "outputs": [],
   "source": [
    "profile['fecha_nacimiento'] = pd.to_datetime(profile['fecha_nacimiento'], format='%d/%m/%y %H:%M:%S').dt.strftime('%Y/%m/%d')"
   ]
  },
  {
   "cell_type": "code",
   "execution_count": 27,
   "metadata": {},
   "outputs": [
    {
     "data": {
      "text/plain": [
       "147423    1940/03/06\n",
       "147424    1970/09/22\n",
       "147425    1973/09/08\n",
       "147426    1995/10/15\n",
       "147427    1972/04/06\n",
       "             ...    \n",
       "432750           NaN\n",
       "432751           NaN\n",
       "432752           NaN\n",
       "432753           NaN\n",
       "432754           NaN\n",
       "Name: fecha_nacimiento, Length: 285331, dtype: object"
      ]
     },
     "execution_count": 27,
     "metadata": {},
     "output_type": "execute_result"
    }
   ],
   "source": [
    "profile['fecha_nacimiento']"
   ]
  },
  {
   "cell_type": "markdown",
   "metadata": {},
   "source": [
    "profile['fecha_nacimiento'] = pd.to_datetime(profile['fecha_nacimiento'])"
   ]
  },
  {
   "cell_type": "code",
   "execution_count": null,
   "metadata": {},
   "outputs": [],
   "source": []
  },
  {
   "cell_type": "markdown",
   "metadata": {},
   "source": [
    "continua"
   ]
  },
  {
   "cell_type": "code",
   "execution_count": 28,
   "metadata": {},
   "outputs": [],
   "source": [
    "profile=profile.rename(columns={ \"cliente_id\": \"CUSTOMER_ID\",\"fecha_nacimiento\": \"DATE_OF_BIRTH\",\"pais\": \"COUNTRY\",\"equipo_favorito\": \"FAVORITE_TEAM\",\"nombre\": \"FIRST_NAME\",\"apellidoPaterno\":\"LAST_NAME\",\"telefono\":\"PHONE\"})"
   ]
  },
  {
   "cell_type": "code",
   "execution_count": 29,
   "metadata": {
    "scrolled": true
   },
   "outputs": [
    {
     "data": {
      "text/plain": [
       "Index(['_id_x', 'updatedAt', 'createdAt', '__v', 'idMd', 'FIRST_NAME',\n",
       "       'LAST_NAME', 'rut', 'email', 'COUNTRY', 'provincia', 'codigoPais',\n",
       "       'direccion', 'tipo', 'DATE_OF_BIRTH', 'genero', 'email_confirmado',\n",
       "       'avatar', 'equipo', 'compra', 'pago', 'estado', 'obsoleto', 'creado',\n",
       "       'compra_activa', 'email_recuperacion', 'FAVORITE_TEAM', 'favorito',\n",
       "       'apellidoMaterno', 'PHONE', 'CUSTOMER_ID', '_id_y', 'REGISTRATION_DATE',\n",
       "       'EMAIL', 'HAS_EMAIL_VERIFY', '_merge'],\n",
       "      dtype='object')"
      ]
     },
     "execution_count": 29,
     "metadata": {},
     "output_type": "execute_result"
    }
   ],
   "source": [
    "profile.columns"
   ]
  },
  {
   "cell_type": "code",
   "execution_count": 30,
   "metadata": {},
   "outputs": [],
   "source": [
    "profile=profile.drop(['_id_x', 'updatedAt', 'createdAt', 'email',\n",
    "       'codigoPais', '__v', 'email_recuperacion', 'provincia','direccion','tipo','favorito', 'rut', \n",
    "       '_id_y', '_merge','email_confirmado','avatar','equipo','compra','pago','estado','obsoleto','creado','compra_activa','apellidoMaterno'],axis=1)"
   ]
  },
  {
   "cell_type": "code",
   "execution_count": 31,
   "metadata": {
    "scrolled": false
   },
   "outputs": [
    {
     "data": {
      "text/plain": [
       "Index(['idMd', 'FIRST_NAME', 'LAST_NAME', 'COUNTRY', 'DATE_OF_BIRTH', 'genero',\n",
       "       'FAVORITE_TEAM', 'PHONE', 'CUSTOMER_ID', 'REGISTRATION_DATE', 'EMAIL',\n",
       "       'HAS_EMAIL_VERIFY'],\n",
       "      dtype='object')"
      ]
     },
     "execution_count": 31,
     "metadata": {},
     "output_type": "execute_result"
    }
   ],
   "source": [
    "profile.columns"
   ]
  },
  {
   "cell_type": "code",
   "execution_count": 32,
   "metadata": {},
   "outputs": [],
   "source": [
    "profile['cusGenderNonBinary']=profile['genero']"
   ]
  },
  {
   "cell_type": "code",
   "execution_count": 33,
   "metadata": {
    "scrolled": true
   },
   "outputs": [
    {
     "name": "stdout",
     "output_type": "stream",
     "text": [
      "<class 'pandas.core.frame.DataFrame'>\n",
      "Int64Index: 285331 entries, 147423 to 432754\n",
      "Data columns (total 13 columns):\n",
      " #   Column              Non-Null Count   Dtype              \n",
      "---  ------              --------------   -----              \n",
      " 0   idMd                2 non-null       object             \n",
      " 1   FIRST_NAME          284799 non-null  object             \n",
      " 2   LAST_NAME           284909 non-null  object             \n",
      " 3   COUNTRY             2990 non-null    object             \n",
      " 4   DATE_OF_BIRTH       113298 non-null  object             \n",
      " 5   genero              113941 non-null  object             \n",
      " 6   FAVORITE_TEAM       192954 non-null  object             \n",
      " 7   PHONE               1795 non-null    object             \n",
      " 8   CUSTOMER_ID         285272 non-null  object             \n",
      " 9   REGISTRATION_DATE   285331 non-null  datetime64[ns, UTC]\n",
      " 10  EMAIL               285331 non-null  object             \n",
      " 11  HAS_EMAIL_VERIFY    285330 non-null  object             \n",
      " 12  cusGenderNonBinary  113941 non-null  object             \n",
      "dtypes: datetime64[ns, UTC](1), object(12)\n",
      "memory usage: 30.5+ MB\n"
     ]
    }
   ],
   "source": [
    "profile.info()"
   ]
  },
  {
   "cell_type": "markdown",
   "metadata": {},
   "source": [
    "Eliminando los user_id nulos"
   ]
  },
  {
   "cell_type": "markdown",
   "metadata": {},
   "source": [
    "profile.drop(profile[profile.user_id.isnull()].index, inplace = True)"
   ]
  },
  {
   "cell_type": "markdown",
   "metadata": {},
   "source": [
    "Hay que transformar el sexo  para llenar el campo cusGenderNonBinary que debe ser numérico"
   ]
  },
  {
   "cell_type": "code",
   "execution_count": 34,
   "metadata": {},
   "outputs": [],
   "source": [
    "profile.loc[(profile['cusGenderNonBinary'].str.contains(\"m|M|male\", na=False)),['cusGenderNonBinary']]='male'"
   ]
  },
  {
   "cell_type": "code",
   "execution_count": 35,
   "metadata": {},
   "outputs": [],
   "source": [
    "profile.loc[(profile['cusGenderNonBinary'].str.contains(\"f|F|female\", na=False)),['cusGenderNonBinary']]='female'"
   ]
  },
  {
   "cell_type": "code",
   "execution_count": 36,
   "metadata": {},
   "outputs": [
    {
     "data": {
      "text/plain": [
       "array(['male', 'female', nan], dtype=object)"
      ]
     },
     "execution_count": 36,
     "metadata": {},
     "output_type": "execute_result"
    }
   ],
   "source": [
    "profile['cusGenderNonBinary'].unique()"
   ]
  },
  {
   "cell_type": "markdown",
   "metadata": {},
   "source": [
    "Hay que transformar el sexo para llenar el campo cusGenderNonBinary que debe ser numérico"
   ]
  },
  {
   "cell_type": "code",
   "execution_count": 37,
   "metadata": {},
   "outputs": [],
   "source": [
    "profile.loc[(profile['genero'].str.contains(\"m|M|male\", na=False)),['genero']]='M'"
   ]
  },
  {
   "cell_type": "code",
   "execution_count": 38,
   "metadata": {},
   "outputs": [],
   "source": [
    "profile.loc[(profile['genero'].str.contains(\"f|F|female\", na=False)),['genero']]='F'"
   ]
  },
  {
   "cell_type": "code",
   "execution_count": 39,
   "metadata": {},
   "outputs": [
    {
     "data": {
      "text/plain": [
       "array(['M', 'F', nan], dtype=object)"
      ]
     },
     "execution_count": 39,
     "metadata": {},
     "output_type": "execute_result"
    }
   ],
   "source": [
    "profile['genero'].unique()"
   ]
  },
  {
   "cell_type": "code",
   "execution_count": null,
   "metadata": {},
   "outputs": [],
   "source": []
  },
  {
   "cell_type": "code",
   "execution_count": 40,
   "metadata": {
    "scrolled": true
   },
   "outputs": [
    {
     "name": "stdout",
     "output_type": "stream",
     "text": [
      "<class 'pandas.core.frame.DataFrame'>\n",
      "Int64Index: 285331 entries, 147423 to 432754\n",
      "Data columns (total 13 columns):\n",
      " #   Column              Non-Null Count   Dtype              \n",
      "---  ------              --------------   -----              \n",
      " 0   idMd                2 non-null       object             \n",
      " 1   FIRST_NAME          284799 non-null  object             \n",
      " 2   LAST_NAME           284909 non-null  object             \n",
      " 3   COUNTRY             2990 non-null    object             \n",
      " 4   DATE_OF_BIRTH       113298 non-null  object             \n",
      " 5   genero              113941 non-null  object             \n",
      " 6   FAVORITE_TEAM       192954 non-null  object             \n",
      " 7   PHONE               1795 non-null    object             \n",
      " 8   CUSTOMER_ID         285272 non-null  object             \n",
      " 9   REGISTRATION_DATE   285331 non-null  datetime64[ns, UTC]\n",
      " 10  EMAIL               285331 non-null  object             \n",
      " 11  HAS_EMAIL_VERIFY    285330 non-null  object             \n",
      " 12  cusGenderNonBinary  113941 non-null  object             \n",
      "dtypes: datetime64[ns, UTC](1), object(12)\n",
      "memory usage: 30.5+ MB\n"
     ]
    }
   ],
   "source": [
    "profile.info()"
   ]
  },
  {
   "cell_type": "code",
   "execution_count": 41,
   "metadata": {},
   "outputs": [],
   "source": [
    "profile=profile.rename(columns={ 'genero':'GENDER','cusGenderNonBinary':'GENDER_NB'})"
   ]
  },
  {
   "cell_type": "code",
   "execution_count": 42,
   "metadata": {
    "scrolled": false
   },
   "outputs": [
    {
     "data": {
      "text/plain": [
       "Index(['idMd', 'FIRST_NAME', 'LAST_NAME', 'COUNTRY', 'DATE_OF_BIRTH', 'GENDER',\n",
       "       'FAVORITE_TEAM', 'PHONE', 'CUSTOMER_ID', 'REGISTRATION_DATE', 'EMAIL',\n",
       "       'HAS_EMAIL_VERIFY', 'GENDER_NB'],\n",
       "      dtype='object')"
      ]
     },
     "execution_count": 42,
     "metadata": {},
     "output_type": "execute_result"
    }
   ],
   "source": [
    "profile.columns"
   ]
  },
  {
   "cell_type": "code",
   "execution_count": null,
   "metadata": {},
   "outputs": [],
   "source": []
  },
  {
   "cell_type": "code",
   "execution_count": 43,
   "metadata": {},
   "outputs": [],
   "source": [
    "profile = profile[['CUSTOMER_ID','COUNTRY','DATE_OF_BIRTH','EMAIL','FAVORITE_TEAM','FIRST_NAME','LAST_NAME','GENDER','GENDER_NB','PHONE','REGISTRATION_DATE','HAS_EMAIL_VERIFY']]"
   ]
  },
  {
   "cell_type": "code",
   "execution_count": 44,
   "metadata": {
    "scrolled": true
   },
   "outputs": [
    {
     "name": "stdout",
     "output_type": "stream",
     "text": [
      "<class 'pandas.core.frame.DataFrame'>\n",
      "Int64Index: 285331 entries, 147423 to 432754\n",
      "Data columns (total 12 columns):\n",
      " #   Column             Non-Null Count   Dtype              \n",
      "---  ------             --------------   -----              \n",
      " 0   CUSTOMER_ID        285272 non-null  object             \n",
      " 1   COUNTRY            2990 non-null    object             \n",
      " 2   DATE_OF_BIRTH      113298 non-null  object             \n",
      " 3   EMAIL              285331 non-null  object             \n",
      " 4   FAVORITE_TEAM      192954 non-null  object             \n",
      " 5   FIRST_NAME         284799 non-null  object             \n",
      " 6   LAST_NAME          284909 non-null  object             \n",
      " 7   GENDER             113941 non-null  object             \n",
      " 8   GENDER_NB          113941 non-null  object             \n",
      " 9   PHONE              1795 non-null    object             \n",
      " 10  REGISTRATION_DATE  285331 non-null  datetime64[ns, UTC]\n",
      " 11  HAS_EMAIL_VERIFY   285330 non-null  object             \n",
      "dtypes: datetime64[ns, UTC](1), object(11)\n",
      "memory usage: 28.3+ MB\n"
     ]
    }
   ],
   "source": [
    "profile.info()"
   ]
  },
  {
   "cell_type": "code",
   "execution_count": null,
   "metadata": {},
   "outputs": [],
   "source": []
  },
  {
   "cell_type": "markdown",
   "metadata": {},
   "source": [
    " #### Ahora vamos a determinar el nombre y el path"
   ]
  },
  {
   "cell_type": "code",
   "execution_count": 45,
   "metadata": {},
   "outputs": [],
   "source": [
    "name='cdf_profile_'+datetime.datetime.today().strftime('%Y%m%d_%H%M%S')"
   ]
  },
  {
   "cell_type": "code",
   "execution_count": 46,
   "metadata": {},
   "outputs": [],
   "source": [
    "path='/home/tecnoboy/'+name+'.csv'"
   ]
  },
  {
   "cell_type": "code",
   "execution_count": 47,
   "metadata": {},
   "outputs": [],
   "source": [
    "profile.to_csv(path, index=False)"
   ]
  },
  {
   "cell_type": "code",
   "execution_count": null,
   "metadata": {},
   "outputs": [],
   "source": []
  },
  {
   "cell_type": "code",
   "execution_count": null,
   "metadata": {},
   "outputs": [],
   "source": []
  }
 ],
 "metadata": {
  "kernelspec": {
   "display_name": "Python 3",
   "language": "python",
   "name": "python3"
  },
  "language_info": {
   "codemirror_mode": {
    "name": "ipython",
    "version": 3
   },
   "file_extension": ".py",
   "mimetype": "text/x-python",
   "name": "python",
   "nbconvert_exporter": "python",
   "pygments_lexer": "ipython3",
   "version": "3.6.9"
  }
 },
 "nbformat": 4,
 "nbformat_minor": 2
}
