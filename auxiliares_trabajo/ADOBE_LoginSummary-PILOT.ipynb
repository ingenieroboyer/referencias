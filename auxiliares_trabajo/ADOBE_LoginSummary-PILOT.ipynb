{
 "cells": [
  {
   "cell_type": "markdown",
   "metadata": {},
   "source": [
    "### PREPARACION PARA ADOBE"
   ]
  },
  {
   "cell_type": "markdown",
   "metadata": {},
   "source": [
    "Este documento busca la data , la relaciona y la sirve de acuerdo a las tablas y tipos de datos que solicitó el partner"
   ]
  },
  {
   "cell_type": "code",
   "execution_count": 1,
   "metadata": {},
   "outputs": [],
   "source": [
    "import pandas as pd\n",
    "from pymongo import MongoClient\n",
    "from datetime import timedelta  \n",
    "import csv\n"
   ]
  },
  {
   "cell_type": "code",
   "execution_count": 2,
   "metadata": {},
   "outputs": [],
   "source": [
    "import datetime \n",
    "import pymongo"
   ]
  },
  {
   "cell_type": "code",
   "execution_count": 3,
   "metadata": {},
   "outputs": [],
   "source": [
    "myclient = pymongo.MongoClient(\"mongodb://localhost:27017/\")\n",
    "mydb2 = myclient[\"ecdf\"]\n",
    "mycol_users = mydb2[\"users\"]\n"
   ]
  },
  {
   "cell_type": "code",
   "execution_count": 4,
   "metadata": {},
   "outputs": [],
   "source": [
    "mycol_clientes = mydb2[\"clientes\"]\n",
    "def users_to_dataframes(iterator, chunk_size: int):\n",
    "  \"\"\"Turn an iterator into multiple small pandas.DataFrame\n",
    "  This is a balance between memory and efficiency\n",
    "  \"\"\"\n",
    "  records = []\n",
    "  frames = []\n",
    "  for i, record in enumerate(iterator):\n",
    "    records.append(record)\n",
    "    if i % chunk_size == chunk_size - 1:\n",
    "      frames.append(pd.DataFrame(records))\n",
    "      records = []\n",
    "  if records:\n",
    "    frames.append(pd.DataFrame(records))\n",
    "  return pd.concat(frames) if frames else pd.DataFrame()\n",
    "  \n",
    "users = users_to_dataframes(mycol_users.find({},{'_id':1,'email':1,'cliente_id':1,'createdAt':1}), 10000)\n"
   ]
  },
  {
   "cell_type": "markdown",
   "metadata": {},
   "source": [
    "Excluir los usuarios anteriores al 2017 "
   ]
  },
  {
   "cell_type": "code",
   "execution_count": 5,
   "metadata": {},
   "outputs": [],
   "source": [
    "users['createdAt'] = pd.to_datetime(users['createdAt'])"
   ]
  },
  {
   "cell_type": "code",
   "execution_count": 6,
   "metadata": {},
   "outputs": [],
   "source": [
    "users=users.loc[users['createdAt'] > '2017-01-01 00:00:00.904716']"
   ]
  },
  {
   "cell_type": "markdown",
   "metadata": {},
   "source": [
    "#### LoginSummary TABLE"
   ]
  },
  {
   "cell_type": "code",
   "execution_count": 7,
   "metadata": {
    "scrolled": false
   },
   "outputs": [
    {
     "name": "stdout",
     "output_type": "stream",
     "text": [
      "<class 'pandas.core.frame.DataFrame'>\n",
      "Int64Index: 287395 entries, 7421 to 4818\n",
      "Data columns (total 4 columns):\n",
      " #   Column      Non-Null Count   Dtype         \n",
      "---  ------      --------------   -----         \n",
      " 0   _id         287395 non-null  object        \n",
      " 1   createdAt   287395 non-null  datetime64[ns]\n",
      " 2   cliente_id  287335 non-null  object        \n",
      " 3   email       287395 non-null  object        \n",
      "dtypes: datetime64[ns](1), object(3)\n",
      "memory usage: 11.0+ MB\n"
     ]
    }
   ],
   "source": [
    "users.info()"
   ]
  },
  {
   "cell_type": "code",
   "execution_count": 8,
   "metadata": {},
   "outputs": [],
   "source": [
    "users=users.rename(columns={ \"_id\": \"user_id\"})"
   ]
  },
  {
   "cell_type": "markdown",
   "metadata": {},
   "source": [
    "#### Eliminando los user_id nulos"
   ]
  },
  {
   "cell_type": "code",
   "execution_count": 9,
   "metadata": {},
   "outputs": [],
   "source": [
    "users.drop(users[users.email.isnull()].index, inplace = True)"
   ]
  },
  {
   "cell_type": "code",
   "execution_count": 10,
   "metadata": {
    "scrolled": true
   },
   "outputs": [
    {
     "name": "stdout",
     "output_type": "stream",
     "text": [
      "<class 'pandas.core.frame.DataFrame'>\n",
      "Int64Index: 287395 entries, 7421 to 4818\n",
      "Data columns (total 4 columns):\n",
      " #   Column      Non-Null Count   Dtype         \n",
      "---  ------      --------------   -----         \n",
      " 0   user_id     287395 non-null  object        \n",
      " 1   createdAt   287395 non-null  datetime64[ns]\n",
      " 2   cliente_id  287335 non-null  object        \n",
      " 3   email       287395 non-null  object        \n",
      "dtypes: datetime64[ns](1), object(3)\n",
      "memory usage: 11.0+ MB\n"
     ]
    }
   ],
   "source": [
    "users.info()"
   ]
  },
  {
   "cell_type": "markdown",
   "metadata": {},
   "source": [
    " AHORA BUSCAMOS LAS CONEXIONES"
   ]
  },
  {
   "cell_type": "code",
   "execution_count": 11,
   "metadata": {},
   "outputs": [],
   "source": [
    "mydb2 = myclient[\"ecdf\"]\n",
    "mycol_conexion = mydb2[\"Conexion\"]"
   ]
  },
  {
   "cell_type": "code",
   "execution_count": 12,
   "metadata": {},
   "outputs": [
    {
     "name": "stdout",
     "output_type": "stream",
     "text": [
      "_id          4107119\n",
      "_user        4107119\n",
      "createdAt    4107119\n",
      "email        2091686\n",
      "dtype: int64\n"
     ]
    }
   ],
   "source": [
    "def conexiones_to_dataframes(iterator, chunk_size: int):\n",
    "  \"\"\"Turn an iterator into multiple small pandas.DataFrame\n",
    "  This is a balance between memory and efficiency\n",
    "  \"\"\"\n",
    "  records = []\n",
    "  frames = []\n",
    "  for i, record in enumerate(iterator):\n",
    "    records.append(record)\n",
    "    if i % chunk_size == chunk_size - 1:\n",
    "      frames.append(pd.DataFrame(records))\n",
    "      records = []\n",
    "  if records:\n",
    "    frames.append(pd.DataFrame(records))\n",
    "  return pd.concat(frames) if frames else pd.DataFrame()\n",
    "  \n",
    "conexiones = conexiones_to_dataframes(mycol_conexion.find({},{'_user':1,'email':1,'createdAt':1}), 10000)\n",
    "\n",
    "print(conexiones.count())"
   ]
  },
  {
   "cell_type": "code",
   "execution_count": 13,
   "metadata": {
    "scrolled": false
   },
   "outputs": [
    {
     "name": "stdout",
     "output_type": "stream",
     "text": [
      "<class 'pandas.core.frame.DataFrame'>\n",
      "Int64Index: 4107119 entries, 0 to 7118\n",
      "Data columns (total 4 columns):\n",
      " #   Column     Dtype \n",
      "---  ------     ----- \n",
      " 0   _id        object\n",
      " 1   _user      object\n",
      " 2   createdAt  object\n",
      " 3   email      object\n",
      "dtypes: object(4)\n",
      "memory usage: 156.7+ MB\n"
     ]
    }
   ],
   "source": [
    "conexiones.info()"
   ]
  },
  {
   "cell_type": "code",
   "execution_count": 14,
   "metadata": {},
   "outputs": [],
   "source": [
    "conexiones=conexiones.rename(columns={'createdAt':'fecha_conexion','_user':'user_id'})"
   ]
  },
  {
   "cell_type": "code",
   "execution_count": 15,
   "metadata": {},
   "outputs": [],
   "source": [
    "mydb3 = myclient[\"apiUser\"]\n",
    "mycol_usersautomaticos = mydb3[\"usersautomaticos\"]"
   ]
  },
  {
   "cell_type": "code",
   "execution_count": 16,
   "metadata": {},
   "outputs": [],
   "source": [
    "def usersautomaticos_to_dataframes(iterator, chunk_size: int):\n",
    "  \"\"\"Turn an iterator into multiple small pandas.DataFrame\n",
    "  This is a balance between memory and efficiency\n",
    "  \"\"\"\n",
    "  records = []\n",
    "  frames = []\n",
    "  for i, record in enumerate(iterator):\n",
    "    records.append(record)\n",
    "    if i % chunk_size == chunk_size - 1:\n",
    "      frames.append(pd.DataFrame(records))\n",
    "      records = []\n",
    "  if records:\n",
    "    frames.append(pd.DataFrame(records))\n",
    "  return pd.concat(frames) if frames else pd.DataFrame()\n",
    "  \n",
    "usersautomaticos =usersautomaticos_to_dataframes(mycol_usersautomaticos.find({},{'_user':1,'createdAt':1}), 10000)\n"
   ]
  },
  {
   "cell_type": "code",
   "execution_count": 17,
   "metadata": {},
   "outputs": [],
   "source": [
    "usersautomaticos=usersautomaticos.rename(columns={'createdAt':'fecha_conexion','_user':'user_id'})"
   ]
  },
  {
   "cell_type": "code",
   "execution_count": null,
   "metadata": {},
   "outputs": [],
   "source": []
  },
  {
   "cell_type": "code",
   "execution_count": 18,
   "metadata": {},
   "outputs": [],
   "source": [
    "mydb3 = myclient[\"logins\"]\n",
    "mycol_conexLog = mydb3[\"conexiones\"]"
   ]
  },
  {
   "cell_type": "code",
   "execution_count": 19,
   "metadata": {},
   "outputs": [],
   "source": [
    "def mycol_conexLog_to_dataframes(iterator, chunk_size: int):\n",
    "  \"\"\"Turn an iterator into multiple small pandas.DataFrame\n",
    "  This is a balance between memory and efficiency\n",
    "  \"\"\"\n",
    "  records = []\n",
    "  frames = []\n",
    "  for i, record in enumerate(iterator):\n",
    "    records.append(record)\n",
    "    if i % chunk_size == chunk_size - 1:\n",
    "      frames.append(pd.DataFrame(records))\n",
    "      records = []\n",
    "  if records:\n",
    "    frames.append(pd.DataFrame(records))\n",
    "  return pd.concat(frames) if frames else pd.DataFrame()\n",
    "  \n",
    "conexLog =mycol_conexLog_to_dataframes(mycol_conexLog.find({},{'user_id':1,'fecha_conexion':1}), 10000)\n",
    "\n"
   ]
  },
  {
   "cell_type": "markdown",
   "metadata": {},
   "source": [
    "### Unifico los accesos"
   ]
  },
  {
   "cell_type": "code",
   "execution_count": 20,
   "metadata": {},
   "outputs": [],
   "source": [
    "accesos=pd.concat([conexLog, usersautomaticos,conexiones], axis=0)"
   ]
  },
  {
   "cell_type": "code",
   "execution_count": 21,
   "metadata": {},
   "outputs": [],
   "source": [
    "accesos=accesos.drop([ 'email'],axis=1)"
   ]
  },
  {
   "cell_type": "code",
   "execution_count": 22,
   "metadata": {
    "scrolled": false
   },
   "outputs": [
    {
     "name": "stdout",
     "output_type": "stream",
     "text": [
      "<class 'pandas.core.frame.DataFrame'>\n",
      "Int64Index: 287395 entries, 7421 to 4818\n",
      "Data columns (total 4 columns):\n",
      " #   Column      Non-Null Count   Dtype         \n",
      "---  ------      --------------   -----         \n",
      " 0   user_id     287395 non-null  object        \n",
      " 1   createdAt   287395 non-null  datetime64[ns]\n",
      " 2   cliente_id  287335 non-null  object        \n",
      " 3   email       287395 non-null  object        \n",
      "dtypes: datetime64[ns](1), object(3)\n",
      "memory usage: 11.0+ MB\n"
     ]
    }
   ],
   "source": [
    "users.info()"
   ]
  },
  {
   "cell_type": "code",
   "execution_count": 23,
   "metadata": {},
   "outputs": [],
   "source": [
    "users=users.drop([ 'email','cliente_id'],axis=1)"
   ]
  },
  {
   "cell_type": "code",
   "execution_count": 24,
   "metadata": {},
   "outputs": [],
   "source": [
    "user_conexiones= users.merge(accesos, on=['user_id'], how=\"outer\", indicator=True)"
   ]
  },
  {
   "cell_type": "markdown",
   "metadata": {},
   "source": [
    "### A PARTIR DE AQUÍ SE TIENE QUE IR HOMOLOGANDO EL CÓDIGO"
   ]
  },
  {
   "cell_type": "code",
   "execution_count": 25,
   "metadata": {},
   "outputs": [],
   "source": [
    "accesConsolidado=user_conexiones.drop([ 'createdAt','_id','_merge'],axis=1)"
   ]
  },
  {
   "cell_type": "code",
   "execution_count": 26,
   "metadata": {},
   "outputs": [],
   "source": [
    "accesConsolidado['fecha_conexion'] = pd.to_datetime(accesConsolidado['fecha_conexion'])"
   ]
  },
  {
   "cell_type": "code",
   "execution_count": 27,
   "metadata": {},
   "outputs": [],
   "source": [
    "accesConsolidadoLife=accesConsolidado.groupby('user_id').agg(conexioneslife=('fecha_conexion','count'))"
   ]
  },
  {
   "cell_type": "markdown",
   "metadata": {},
   "source": [
    "###  Ahora hay que segmentar por fecha para ir llenando la tabla"
   ]
  },
  {
   "cell_type": "code",
   "execution_count": 28,
   "metadata": {},
   "outputs": [],
   "source": [
    "ultimos30dias=pd.to_datetime((datetime.datetime.today() - timedelta(days=30)))"
   ]
  },
  {
   "cell_type": "code",
   "execution_count": 29,
   "metadata": {},
   "outputs": [],
   "source": [
    "ultimos30dias=ultimos30dias.tz_localize('UTC')"
   ]
  },
  {
   "cell_type": "code",
   "execution_count": 30,
   "metadata": {},
   "outputs": [],
   "source": [
    "mes_hoy=datetime.datetime.today().month"
   ]
  },
  {
   "cell_type": "code",
   "execution_count": 31,
   "metadata": {},
   "outputs": [],
   "source": [
    "mes_ant=mes_hoy-1"
   ]
  },
  {
   "cell_type": "code",
   "execution_count": 32,
   "metadata": {},
   "outputs": [],
   "source": [
    "primer_diamesAnterior=pd.to_datetime(datetime.datetime.today().replace(month=mes_ant,day=1,hour=00,minute=0,second=0,microsecond=0))"
   ]
  },
  {
   "cell_type": "code",
   "execution_count": 33,
   "metadata": {},
   "outputs": [],
   "source": [
    "primer_diamesAnterior=primer_diamesAnterior.tz_localize('UTC')"
   ]
  },
  {
   "cell_type": "code",
   "execution_count": 34,
   "metadata": {},
   "outputs": [],
   "source": [
    "ultimo_diamesAnterir=pd.to_datetime(datetime.datetime.today().replace(day=1,hour=00,minute=0,second=0,microsecond=0))"
   ]
  },
  {
   "cell_type": "code",
   "execution_count": 35,
   "metadata": {},
   "outputs": [],
   "source": [
    "ultimo_diamesAnterir=ultimo_diamesAnterir.tz_localize('UTC')"
   ]
  },
  {
   "cell_type": "code",
   "execution_count": 36,
   "metadata": {},
   "outputs": [],
   "source": [
    "user_conexionesLast30Days=accesConsolidado.loc[accesConsolidado['fecha_conexion'] > ultimos30dias]"
   ]
  },
  {
   "cell_type": "code",
   "execution_count": 37,
   "metadata": {},
   "outputs": [],
   "source": [
    "user_conexionesLast30Days=user_conexionesLast30Days.groupby('user_id').agg(conexionesLast30Days=('fecha_conexion','count'))"
   ]
  },
  {
   "cell_type": "markdown",
   "metadata": {},
   "source": [
    "#### Obtener el último login"
   ]
  },
  {
   "cell_type": "code",
   "execution_count": 38,
   "metadata": {
    "scrolled": true
   },
   "outputs": [],
   "source": [
    "cusLastLoginDate=accesConsolidado.groupby('user_id').agg(cusLastLoginDate=('fecha_conexion','last'))"
   ]
  },
  {
   "cell_type": "markdown",
   "metadata": {},
   "source": [
    "#### Obtener cusLoginsThisMonth"
   ]
  },
  {
   "cell_type": "code",
   "execution_count": 39,
   "metadata": {},
   "outputs": [],
   "source": [
    "hoy=datetime.datetime.today()"
   ]
  },
  {
   "cell_type": "code",
   "execution_count": 40,
   "metadata": {},
   "outputs": [],
   "source": [
    "primer_diames=pd.to_datetime(datetime.datetime.today().replace(day=1,hour=00,minute=0,second=0,microsecond=0))"
   ]
  },
  {
   "cell_type": "code",
   "execution_count": 41,
   "metadata": {},
   "outputs": [],
   "source": [
    "primer_diames=primer_diames.tz_localize('UTC')"
   ]
  },
  {
   "cell_type": "code",
   "execution_count": 42,
   "metadata": {},
   "outputs": [],
   "source": [
    "user_cusLoginsThisMonth=accesConsolidado.loc[accesConsolidado['fecha_conexion'] > primer_diames]"
   ]
  },
  {
   "cell_type": "code",
   "execution_count": 43,
   "metadata": {},
   "outputs": [],
   "source": [
    "user_cusLoginsThisMonth=user_cusLoginsThisMonth.groupby('user_id').agg(cusLoginsThisMonth=('fecha_conexion', 'count') )"
   ]
  },
  {
   "cell_type": "markdown",
   "metadata": {},
   "source": [
    "#### Obtener cusLoginsPreviousMonth"
   ]
  },
  {
   "cell_type": "code",
   "execution_count": 44,
   "metadata": {},
   "outputs": [],
   "source": [
    "user_conexiones_cusLoginsPreviousMonth=accesConsolidado.loc[(accesConsolidado['fecha_conexion'] > primer_diamesAnterior)&(accesConsolidado['fecha_conexion'] < ultimo_diamesAnterir)]"
   ]
  },
  {
   "cell_type": "code",
   "execution_count": 45,
   "metadata": {},
   "outputs": [],
   "source": [
    "user_conexiones_cusLoginsPreviousMonth=user_conexiones_cusLoginsPreviousMonth.groupby('user_id').agg(cusLoginsPreviousMonth=('fecha_conexion','count') )"
   ]
  },
  {
   "cell_type": "code",
   "execution_count": null,
   "metadata": {},
   "outputs": [],
   "source": []
  },
  {
   "cell_type": "markdown",
   "metadata": {},
   "source": [
    "#### Obtener cusLoginsLast3Months "
   ]
  },
  {
   "cell_type": "code",
   "execution_count": 46,
   "metadata": {},
   "outputs": [],
   "source": [
    "def periodo3():\n",
    "    hoy=datetime.datetime.today()\n",
    "    mes_hoy=hoy.month\n",
    "    mes_last3Month=mes_hoy-3\n",
    "    if (mes_last3Month == 0):\n",
    "        mes_last3Month=12\n",
    "        ano=hoy.year-1\n",
    "        limite_izq=pd.to_datetime(datetime.datetime.today().replace(year=ano,month=mes_last3Month,day=1,hour=00,minute=0,second=0,microsecond=0))\n",
    "        limite_izq=limite_izq.tz_localize('UTC')\n",
    "        print(limite_izq)\n",
    "    if (mes_last3Month == -1):\n",
    "        mes_last3Month=11\n",
    "        ano=hoy.year-1\n",
    "        limite_izq=pd.to_datetime(datetime.datetime.today().replace(year=ano,month=mes_last3Month,day=1,hour=00,minute=0,second=0,microsecond=0))\n",
    "    if (mes_last3Month == -2):\n",
    "        mes_last3Month=10\n",
    "        ano=hoy.year-1\n",
    "        limite_izq=pd.to_datetime(datetime.datetime.today().replace(year=ano,month=mes_last3Month,day=1,hour=00,minute=0,second=0,microsecond=0))\n",
    "    else:\n",
    "        ano=hoy.year\n",
    "        limite_izq=pd.to_datetime(datetime.datetime.today().replace(year=ano,month=mes_last3Month,day=1,hour=00,minute=0,second=0,microsecond=0))\n",
    "        limite_izq=limite_izq.tz_localize('UTC')\n",
    "        return limite_izq"
   ]
  },
  {
   "cell_type": "code",
   "execution_count": null,
   "metadata": {},
   "outputs": [],
   "source": []
  },
  {
   "cell_type": "code",
   "execution_count": 47,
   "metadata": {
    "scrolled": true
   },
   "outputs": [],
   "source": [
    "mes_inici3=periodo3()"
   ]
  },
  {
   "cell_type": "code",
   "execution_count": 48,
   "metadata": {},
   "outputs": [],
   "source": [
    "user_conexiones_cusLoginsLast3Months=accesConsolidado.loc[(accesConsolidado['fecha_conexion'] > mes_inici3)&(accesConsolidado['fecha_conexion'] < ultimo_diamesAnterir)]"
   ]
  },
  {
   "cell_type": "code",
   "execution_count": 49,
   "metadata": {},
   "outputs": [],
   "source": [
    "user_conexiones_cusLoginsLast3Months=user_conexiones_cusLoginsLast3Months.groupby('user_id').agg(cusLoginsLast3Months=('fecha_conexion', 'count') )"
   ]
  },
  {
   "cell_type": "code",
   "execution_count": null,
   "metadata": {},
   "outputs": [],
   "source": []
  },
  {
   "cell_type": "markdown",
   "metadata": {},
   "source": [
    "#### Obtener cusLoginsLast12Months"
   ]
  },
  {
   "cell_type": "code",
   "execution_count": 50,
   "metadata": {},
   "outputs": [],
   "source": [
    "def periodo12():\n",
    "    hoy=datetime.datetime.today()\n",
    "    month=hoy.month\n",
    "    ano=hoy.year-1\n",
    "    limite_izq=pd.to_datetime(datetime.datetime.today().replace(year=ano,month=month,day=1,hour=00,minute=0,second=0,microsecond=0))\n",
    "    limite_izq=limite_izq.tz_localize('UTC')\n",
    "\n",
    "    return limite_izq"
   ]
  },
  {
   "cell_type": "code",
   "execution_count": 51,
   "metadata": {},
   "outputs": [],
   "source": [
    "mes_inici12=periodo12()"
   ]
  },
  {
   "cell_type": "code",
   "execution_count": 52,
   "metadata": {},
   "outputs": [],
   "source": [
    "user_conexiones_cusLoginsLast12Months=accesConsolidado.loc[(accesConsolidado['fecha_conexion']>mes_inici12)&(accesConsolidado['fecha_conexion'] < ultimo_diamesAnterir)]"
   ]
  },
  {
   "cell_type": "code",
   "execution_count": 53,
   "metadata": {},
   "outputs": [],
   "source": [
    "user_conexiones_cusLoginsLast12Months=user_conexiones_cusLoginsLast12Months.groupby('user_id').agg(cusLoginsLast12Months=('fecha_conexion','count'))"
   ]
  },
  {
   "cell_type": "code",
   "execution_count": 54,
   "metadata": {},
   "outputs": [],
   "source": [
    "user_conexiones_cusLoginsBefore12Month=accesConsolidado.loc[(accesConsolidado['fecha_conexion']<mes_inici12)&(accesConsolidado['fecha_conexion'] < ultimo_diamesAnterir)]"
   ]
  },
  {
   "cell_type": "code",
   "execution_count": 55,
   "metadata": {},
   "outputs": [],
   "source": [
    "user_conexiones_cusLoginsBefore12Month=user_conexiones_cusLoginsBefore12Month.groupby('user_id').agg(LoginsBefore12Month=('fecha_conexion','count'))"
   ]
  },
  {
   "cell_type": "code",
   "execution_count": null,
   "metadata": {},
   "outputs": [],
   "source": []
  },
  {
   "cell_type": "markdown",
   "metadata": {},
   "source": [
    "## ARMANDO LA TABLA FINAL"
   ]
  },
  {
   "cell_type": "code",
   "execution_count": 56,
   "metadata": {},
   "outputs": [],
   "source": [
    "frames = [cusLastLoginDate, user_cusLoginsThisMonth, user_conexionesLast30Days,user_conexiones_cusLoginsPreviousMonth,user_conexiones_cusLoginsLast3Months,user_conexiones_cusLoginsLast12Months,accesConsolidadoLife]"
   ]
  },
  {
   "cell_type": "code",
   "execution_count": 57,
   "metadata": {},
   "outputs": [],
   "source": [
    "CDF_LoginSummary = pd.concat(frames)"
   ]
  },
  {
   "cell_type": "code",
   "execution_count": 58,
   "metadata": {},
   "outputs": [],
   "source": [
    "table=pd.concat([cusLastLoginDate,user_cusLoginsThisMonth, user_conexionesLast30Days,user_conexiones_cusLoginsPreviousMonth,user_conexiones_cusLoginsLast3Months,user_conexiones_cusLoginsLast12Months,accesConsolidadoLife], axis=1, sort=False)"
   ]
  },
  {
   "cell_type": "code",
   "execution_count": 59,
   "metadata": {},
   "outputs": [],
   "source": [
    "table=table.rename(columns={'cusLastLoginDate':'LAST_LOGIN_DATE','cusLastLoginDate':'LAST_LOGIN_DATE','cusLoginsLifetime':'LOGINS_LIFETIME','cusLoginsThisMonth':'LOGINS_THIS_MONTH','conexionesLast30Days':'LOGINS_LAST_30_DAYS','cusLoginsPreviousMonth':'LOGINS_PREVIOUS_MONTH','cusLoginsLast3Months':'LOGINS_LAST_3_MONTHS','cusLoginsLast12Months':'LOGINS_LAST_12_MONTHS','conexioneslife':'LOGINS_LIFETIME'})"
   ]
  },
  {
   "cell_type": "code",
   "execution_count": 60,
   "metadata": {},
   "outputs": [],
   "source": [
    "table['CUSTOMER_ID'] = table.index"
   ]
  },
  {
   "cell_type": "code",
   "execution_count": 61,
   "metadata": {},
   "outputs": [],
   "source": [
    "table = table[['CUSTOMER_ID','LAST_LOGIN_DATE','LOGINS_THIS_MONTH','LOGINS_LAST_30_DAYS','LOGINS_PREVIOUS_MONTH','LOGINS_LAST_3_MONTHS','LOGINS_LAST_12_MONTHS','LOGINS_LIFETIME']]"
   ]
  },
  {
   "cell_type": "markdown",
   "metadata": {},
   "source": [
    " #### Ahora vamos a determinar el nombre y el path"
   ]
  },
  {
   "cell_type": "code",
   "execution_count": 62,
   "metadata": {},
   "outputs": [],
   "source": [
    "name='cdf_loginSummary_'+datetime.datetime.today().strftime('%Y%m%d_%H%M%S')"
   ]
  },
  {
   "cell_type": "code",
   "execution_count": 63,
   "metadata": {},
   "outputs": [],
   "source": [
    "path='/home/tecnoboy/'+name+'.csv'"
   ]
  },
  {
   "cell_type": "code",
   "execution_count": 64,
   "metadata": {},
   "outputs": [],
   "source": [
    "table['CUSTOMER_ID']=table['CUSTOMER_ID'].apply(str)"
   ]
  },
  {
   "cell_type": "code",
   "execution_count": 65,
   "metadata": {},
   "outputs": [],
   "source": [
    "table['CUSTOMER_ID'] =table['CUSTOMER_ID']"
   ]
  },
  {
   "cell_type": "code",
   "execution_count": 66,
   "metadata": {},
   "outputs": [],
   "source": [
    "table['LAST_LOGIN_DATE']=table['LAST_LOGIN_DATE'].apply(str)"
   ]
  },
  {
   "cell_type": "code",
   "execution_count": 67,
   "metadata": {},
   "outputs": [],
   "source": [
    "table['LAST_LOGIN_DATE']=table['LAST_LOGIN_DATE'].apply(str)"
   ]
  },
  {
   "cell_type": "code",
   "execution_count": 68,
   "metadata": {},
   "outputs": [],
   "source": [
    "table['LAST_LOGIN_DATE']=table['LAST_LOGIN_DATE'].map(lambda x: str(x)[:19])"
   ]
  },
  {
   "cell_type": "code",
   "execution_count": 69,
   "metadata": {},
   "outputs": [],
   "source": [
    "table['LOGINS_THIS_MONTH']=table['LOGINS_THIS_MONTH'].fillna(0)"
   ]
  },
  {
   "cell_type": "code",
   "execution_count": 70,
   "metadata": {},
   "outputs": [],
   "source": [
    "table['LOGINS_LAST_3_MONTHS']=table['LOGINS_LAST_3_MONTHS'].fillna(0)"
   ]
  },
  {
   "cell_type": "code",
   "execution_count": 71,
   "metadata": {},
   "outputs": [],
   "source": [
    "table['LOGINS_LAST_30_DAYS']=table['LOGINS_LAST_30_DAYS'].fillna(0)"
   ]
  },
  {
   "cell_type": "code",
   "execution_count": 72,
   "metadata": {},
   "outputs": [],
   "source": [
    "table['LOGINS_PREVIOUS_MONTH']=table['LOGINS_PREVIOUS_MONTH'].fillna(0)"
   ]
  },
  {
   "cell_type": "code",
   "execution_count": 73,
   "metadata": {},
   "outputs": [],
   "source": [
    "table['LOGINS_LAST_3_MONTHS']=table['LOGINS_LAST_3_MONTHS'].fillna(0)"
   ]
  },
  {
   "cell_type": "code",
   "execution_count": 74,
   "metadata": {},
   "outputs": [],
   "source": [
    "table['LOGINS_LAST_12_MONTHS']=table['LOGINS_LAST_12_MONTHS'].fillna(0)"
   ]
  },
  {
   "cell_type": "code",
   "execution_count": 75,
   "metadata": {},
   "outputs": [],
   "source": [
    "table['LOGINS_LIFETIME']=table['LOGINS_LIFETIME'].fillna(0)"
   ]
  },
  {
   "cell_type": "code",
   "execution_count": 76,
   "metadata": {},
   "outputs": [],
   "source": [
    "table['LOGINS_THIS_MONTH']=table['LOGINS_THIS_MONTH'].astype(int)"
   ]
  },
  {
   "cell_type": "code",
   "execution_count": 77,
   "metadata": {},
   "outputs": [],
   "source": [
    "table['LOGINS_LAST_3_MONTHS']=table['LOGINS_LAST_3_MONTHS'].astype(int)"
   ]
  },
  {
   "cell_type": "code",
   "execution_count": 78,
   "metadata": {},
   "outputs": [],
   "source": [
    "table['LOGINS_LAST_30_DAYS']=table['LOGINS_LAST_30_DAYS'].astype(int)"
   ]
  },
  {
   "cell_type": "code",
   "execution_count": 79,
   "metadata": {},
   "outputs": [],
   "source": [
    "table['LOGINS_PREVIOUS_MONTH']=table['LOGINS_PREVIOUS_MONTH'].astype(int)"
   ]
  },
  {
   "cell_type": "code",
   "execution_count": 80,
   "metadata": {},
   "outputs": [],
   "source": [
    "table['LOGINS_LAST_3_MONTHS']=table['LOGINS_LAST_3_MONTHS'].astype(int)"
   ]
  },
  {
   "cell_type": "code",
   "execution_count": 81,
   "metadata": {},
   "outputs": [],
   "source": [
    "table['LOGINS_LAST_12_MONTHS']=table['LOGINS_LAST_12_MONTHS'].astype(int)"
   ]
  },
  {
   "cell_type": "code",
   "execution_count": 82,
   "metadata": {},
   "outputs": [],
   "source": [
    "table['LOGINS_LIFETIME']=table['LOGINS_LIFETIME'].astype(int)"
   ]
  },
  {
   "cell_type": "code",
   "execution_count": 83,
   "metadata": {},
   "outputs": [],
   "source": [
    "table['LOGINS_LIFETIME']=table['LOGINS_LIFETIME'].fillna('')"
   ]
  },
  {
   "cell_type": "code",
   "execution_count": 84,
   "metadata": {},
   "outputs": [],
   "source": [
    "table['LAST_LOGIN_DATE']=table['LAST_LOGIN_DATE'].replace({'NaT' : ''}, regex=True)"
   ]
  },
  {
   "cell_type": "code",
   "execution_count": 85,
   "metadata": {},
   "outputs": [],
   "source": [
    "table.to_csv(path, index=False, quoting=csv.QUOTE_NONNUMERIC)"
   ]
  }
 ],
 "metadata": {
  "kernelspec": {
   "display_name": "Python 3",
   "language": "python",
   "name": "python3"
  },
  "language_info": {
   "codemirror_mode": {
    "name": "ipython",
    "version": 3
   },
   "file_extension": ".py",
   "mimetype": "text/x-python",
   "name": "python",
   "nbconvert_exporter": "python",
   "pygments_lexer": "ipython3",
   "version": "3.6.9"
  }
 },
 "nbformat": 4,
 "nbformat_minor": 2
}
