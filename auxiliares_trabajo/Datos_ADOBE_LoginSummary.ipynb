{
 "cells": [
  {
   "cell_type": "markdown",
   "metadata": {},
   "source": [
    "### PREPARACION PARA ADOBE"
   ]
  },
  {
   "cell_type": "markdown",
   "metadata": {},
   "source": [
    "Este documento busca la data , la relaciona y la sirve de acuerdo a las tablas y tipos de datos que solicitó el partner"
   ]
  },
  {
   "cell_type": "code",
   "execution_count": 3,
   "metadata": {},
   "outputs": [
    {
     "ename": "InvalidBSON",
     "evalue": "year -121938 is out of range",
     "output_type": "error",
     "traceback": [
      "\u001b[0;31m---------------------------------------------------------------------------\u001b[0m",
      "\u001b[0;31mInvalidBSON\u001b[0m                               Traceback (most recent call last)",
      "\u001b[0;32m<ipython-input-3-0e004712f6ea>\u001b[0m in \u001b[0;36m<module>\u001b[0;34m\u001b[0m\n\u001b[1;32m      4\u001b[0m \u001b[0mdb\u001b[0m \u001b[0;34m=\u001b[0m \u001b[0mclient\u001b[0m\u001b[0;34m.\u001b[0m\u001b[0mecdf\u001b[0m\u001b[0;34m\u001b[0m\u001b[0;34m\u001b[0m\u001b[0m\n\u001b[1;32m      5\u001b[0m \u001b[0mcollection_user\u001b[0m \u001b[0;34m=\u001b[0m \u001b[0mdb\u001b[0m\u001b[0;34m.\u001b[0m\u001b[0musers\u001b[0m\u001b[0;34m\u001b[0m\u001b[0;34m\u001b[0m\u001b[0m\n\u001b[0;32m----> 6\u001b[0;31m \u001b[0mUSERS\u001b[0m \u001b[0;34m=\u001b[0m \u001b[0mpd\u001b[0m\u001b[0;34m.\u001b[0m\u001b[0mDataFrame\u001b[0m\u001b[0;34m(\u001b[0m\u001b[0mlist\u001b[0m\u001b[0;34m(\u001b[0m\u001b[0mcollection_user\u001b[0m\u001b[0;34m.\u001b[0m\u001b[0mfind\u001b[0m\u001b[0;34m(\u001b[0m\u001b[0;34m)\u001b[0m\u001b[0;34m)\u001b[0m\u001b[0;34m)\u001b[0m\u001b[0;34m\u001b[0m\u001b[0;34m\u001b[0m\u001b[0m\n\u001b[0m",
      "\u001b[0;32m~/HERRAMIENTAS/jupyterNotebook/datosSernac/lib/python3.6/site-packages/pymongo/cursor.py\u001b[0m in \u001b[0;36mnext\u001b[0;34m(self)\u001b[0m\n\u001b[1;32m   1154\u001b[0m         \u001b[0;32mif\u001b[0m \u001b[0mself\u001b[0m\u001b[0;34m.\u001b[0m\u001b[0m__empty\u001b[0m\u001b[0;34m:\u001b[0m\u001b[0;34m\u001b[0m\u001b[0;34m\u001b[0m\u001b[0m\n\u001b[1;32m   1155\u001b[0m             \u001b[0;32mraise\u001b[0m \u001b[0mStopIteration\u001b[0m\u001b[0;34m\u001b[0m\u001b[0;34m\u001b[0m\u001b[0m\n\u001b[0;32m-> 1156\u001b[0;31m         \u001b[0;32mif\u001b[0m \u001b[0mlen\u001b[0m\u001b[0;34m(\u001b[0m\u001b[0mself\u001b[0m\u001b[0;34m.\u001b[0m\u001b[0m__data\u001b[0m\u001b[0;34m)\u001b[0m \u001b[0;32mor\u001b[0m \u001b[0mself\u001b[0m\u001b[0;34m.\u001b[0m\u001b[0m_refresh\u001b[0m\u001b[0;34m(\u001b[0m\u001b[0;34m)\u001b[0m\u001b[0;34m:\u001b[0m\u001b[0;34m\u001b[0m\u001b[0;34m\u001b[0m\u001b[0m\n\u001b[0m\u001b[1;32m   1157\u001b[0m             \u001b[0;32mif\u001b[0m \u001b[0mself\u001b[0m\u001b[0;34m.\u001b[0m\u001b[0m__manipulate\u001b[0m\u001b[0;34m:\u001b[0m\u001b[0;34m\u001b[0m\u001b[0;34m\u001b[0m\u001b[0m\n\u001b[1;32m   1158\u001b[0m                 \u001b[0m_db\u001b[0m \u001b[0;34m=\u001b[0m \u001b[0mself\u001b[0m\u001b[0;34m.\u001b[0m\u001b[0m__collection\u001b[0m\u001b[0;34m.\u001b[0m\u001b[0mdatabase\u001b[0m\u001b[0;34m\u001b[0m\u001b[0;34m\u001b[0m\u001b[0m\n",
      "\u001b[0;32m~/HERRAMIENTAS/jupyterNotebook/datosSernac/lib/python3.6/site-packages/pymongo/cursor.py\u001b[0m in \u001b[0;36m_refresh\u001b[0;34m(self)\u001b[0m\n\u001b[1;32m   1091\u001b[0m                                     \u001b[0mself\u001b[0m\u001b[0;34m.\u001b[0m\u001b[0m__max_await_time_ms\u001b[0m\u001b[0;34m,\u001b[0m\u001b[0;34m\u001b[0m\u001b[0;34m\u001b[0m\u001b[0m\n\u001b[1;32m   1092\u001b[0m                                     self.__exhaust_mgr)\n\u001b[0;32m-> 1093\u001b[0;31m             \u001b[0mself\u001b[0m\u001b[0;34m.\u001b[0m\u001b[0m__send_message\u001b[0m\u001b[0;34m(\u001b[0m\u001b[0mg\u001b[0m\u001b[0;34m)\u001b[0m\u001b[0;34m\u001b[0m\u001b[0;34m\u001b[0m\u001b[0m\n\u001b[0m\u001b[1;32m   1094\u001b[0m \u001b[0;34m\u001b[0m\u001b[0m\n\u001b[1;32m   1095\u001b[0m         \u001b[0;32mreturn\u001b[0m \u001b[0mlen\u001b[0m\u001b[0;34m(\u001b[0m\u001b[0mself\u001b[0m\u001b[0;34m.\u001b[0m\u001b[0m__data\u001b[0m\u001b[0;34m)\u001b[0m\u001b[0;34m\u001b[0m\u001b[0;34m\u001b[0m\u001b[0m\n",
      "\u001b[0;32m~/HERRAMIENTAS/jupyterNotebook/datosSernac/lib/python3.6/site-packages/pymongo/cursor.py\u001b[0m in \u001b[0;36m__send_message\u001b[0;34m(self, operation)\u001b[0m\n\u001b[1;32m    953\u001b[0m             response = client._run_operation_with_response(\n\u001b[1;32m    954\u001b[0m                 \u001b[0moperation\u001b[0m\u001b[0;34m,\u001b[0m \u001b[0mself\u001b[0m\u001b[0;34m.\u001b[0m\u001b[0m_unpack_response\u001b[0m\u001b[0;34m,\u001b[0m \u001b[0mexhaust\u001b[0m\u001b[0;34m=\u001b[0m\u001b[0mself\u001b[0m\u001b[0;34m.\u001b[0m\u001b[0m__exhaust\u001b[0m\u001b[0;34m,\u001b[0m\u001b[0;34m\u001b[0m\u001b[0;34m\u001b[0m\u001b[0m\n\u001b[0;32m--> 955\u001b[0;31m                 address=self.__address)\n\u001b[0m\u001b[1;32m    956\u001b[0m         \u001b[0;32mexcept\u001b[0m \u001b[0mOperationFailure\u001b[0m\u001b[0;34m:\u001b[0m\u001b[0;34m\u001b[0m\u001b[0;34m\u001b[0m\u001b[0m\n\u001b[1;32m    957\u001b[0m             \u001b[0mself\u001b[0m\u001b[0;34m.\u001b[0m\u001b[0m__killed\u001b[0m \u001b[0;34m=\u001b[0m \u001b[0;32mTrue\u001b[0m\u001b[0;34m\u001b[0m\u001b[0;34m\u001b[0m\u001b[0m\n",
      "\u001b[0;32m~/HERRAMIENTAS/jupyterNotebook/datosSernac/lib/python3.6/site-packages/pymongo/mongo_client.py\u001b[0m in \u001b[0;36m_run_operation_with_response\u001b[0;34m(self, operation, unpack_res, exhaust, address)\u001b[0m\n\u001b[1;32m   1344\u001b[0m             \u001b[0maddress\u001b[0m\u001b[0;34m=\u001b[0m\u001b[0maddress\u001b[0m\u001b[0;34m,\u001b[0m\u001b[0;34m\u001b[0m\u001b[0;34m\u001b[0m\u001b[0m\n\u001b[1;32m   1345\u001b[0m             \u001b[0mretryable\u001b[0m\u001b[0;34m=\u001b[0m\u001b[0misinstance\u001b[0m\u001b[0;34m(\u001b[0m\u001b[0moperation\u001b[0m\u001b[0;34m,\u001b[0m \u001b[0mmessage\u001b[0m\u001b[0;34m.\u001b[0m\u001b[0m_Query\u001b[0m\u001b[0;34m)\u001b[0m\u001b[0;34m,\u001b[0m\u001b[0;34m\u001b[0m\u001b[0;34m\u001b[0m\u001b[0m\n\u001b[0;32m-> 1346\u001b[0;31m             exhaust=exhaust)\n\u001b[0m\u001b[1;32m   1347\u001b[0m \u001b[0;34m\u001b[0m\u001b[0m\n\u001b[1;32m   1348\u001b[0m     \u001b[0;32mdef\u001b[0m \u001b[0m_retry_with_session\u001b[0m\u001b[0;34m(\u001b[0m\u001b[0mself\u001b[0m\u001b[0;34m,\u001b[0m \u001b[0mretryable\u001b[0m\u001b[0;34m,\u001b[0m \u001b[0mfunc\u001b[0m\u001b[0;34m,\u001b[0m \u001b[0msession\u001b[0m\u001b[0;34m,\u001b[0m \u001b[0mbulk\u001b[0m\u001b[0;34m)\u001b[0m\u001b[0;34m:\u001b[0m\u001b[0;34m\u001b[0m\u001b[0;34m\u001b[0m\u001b[0m\n",
      "\u001b[0;32m~/HERRAMIENTAS/jupyterNotebook/datosSernac/lib/python3.6/site-packages/pymongo/mongo_client.py\u001b[0m in \u001b[0;36m_retryable_read\u001b[0;34m(self, func, read_pref, session, address, retryable, exhaust)\u001b[0m\n\u001b[1;32m   1462\u001b[0m                         \u001b[0;31m# not support retryable reads, raise the last error.\u001b[0m\u001b[0;34m\u001b[0m\u001b[0;34m\u001b[0m\u001b[0;34m\u001b[0m\u001b[0m\n\u001b[1;32m   1463\u001b[0m                         \u001b[0;32mraise\u001b[0m \u001b[0mlast_error\u001b[0m\u001b[0;34m\u001b[0m\u001b[0;34m\u001b[0m\u001b[0m\n\u001b[0;32m-> 1464\u001b[0;31m                     \u001b[0;32mreturn\u001b[0m \u001b[0mfunc\u001b[0m\u001b[0;34m(\u001b[0m\u001b[0msession\u001b[0m\u001b[0;34m,\u001b[0m \u001b[0mserver\u001b[0m\u001b[0;34m,\u001b[0m \u001b[0msock_info\u001b[0m\u001b[0;34m,\u001b[0m \u001b[0mslave_ok\u001b[0m\u001b[0;34m)\u001b[0m\u001b[0;34m\u001b[0m\u001b[0;34m\u001b[0m\u001b[0m\n\u001b[0m\u001b[1;32m   1465\u001b[0m             \u001b[0;32mexcept\u001b[0m \u001b[0mServerSelectionTimeoutError\u001b[0m\u001b[0;34m:\u001b[0m\u001b[0;34m\u001b[0m\u001b[0;34m\u001b[0m\u001b[0m\n\u001b[1;32m   1466\u001b[0m                 \u001b[0;32mif\u001b[0m \u001b[0mretrying\u001b[0m\u001b[0;34m:\u001b[0m\u001b[0;34m\u001b[0m\u001b[0;34m\u001b[0m\u001b[0m\n",
      "\u001b[0;32m~/HERRAMIENTAS/jupyterNotebook/datosSernac/lib/python3.6/site-packages/pymongo/mongo_client.py\u001b[0m in \u001b[0;36m_cmd\u001b[0;34m(session, server, sock_info, slave_ok)\u001b[0m\n\u001b[1;32m   1338\u001b[0m                 \u001b[0mself\u001b[0m\u001b[0;34m.\u001b[0m\u001b[0m_event_listeners\u001b[0m\u001b[0;34m,\u001b[0m\u001b[0;34m\u001b[0m\u001b[0;34m\u001b[0m\u001b[0m\n\u001b[1;32m   1339\u001b[0m                 \u001b[0mexhaust\u001b[0m\u001b[0;34m,\u001b[0m\u001b[0;34m\u001b[0m\u001b[0;34m\u001b[0m\u001b[0m\n\u001b[0;32m-> 1340\u001b[0;31m                 unpack_res)\n\u001b[0m\u001b[1;32m   1341\u001b[0m \u001b[0;34m\u001b[0m\u001b[0m\n\u001b[1;32m   1342\u001b[0m         return self._retryable_read(\n",
      "\u001b[0;32m~/HERRAMIENTAS/jupyterNotebook/datosSernac/lib/python3.6/site-packages/pymongo/server.py\u001b[0m in \u001b[0;36mrun_operation_with_response\u001b[0;34m(self, sock_info, operation, set_slave_okay, listeners, exhaust, unpack_res)\u001b[0m\n\u001b[1;32m    129\u001b[0m                               \u001b[0moperation\u001b[0m\u001b[0;34m.\u001b[0m\u001b[0mcodec_options\u001b[0m\u001b[0;34m,\u001b[0m\u001b[0;34m\u001b[0m\u001b[0;34m\u001b[0m\u001b[0m\n\u001b[1;32m    130\u001b[0m                               \u001b[0mlegacy_response\u001b[0m\u001b[0;34m=\u001b[0m\u001b[0mlegacy_response\u001b[0m\u001b[0;34m,\u001b[0m\u001b[0;34m\u001b[0m\u001b[0;34m\u001b[0m\u001b[0m\n\u001b[0;32m--> 131\u001b[0;31m                               user_fields=user_fields)\n\u001b[0m\u001b[1;32m    132\u001b[0m             \u001b[0;32mif\u001b[0m \u001b[0muse_cmd\u001b[0m\u001b[0;34m:\u001b[0m\u001b[0;34m\u001b[0m\u001b[0;34m\u001b[0m\u001b[0m\n\u001b[1;32m    133\u001b[0m                 \u001b[0mfirst\u001b[0m \u001b[0;34m=\u001b[0m \u001b[0mdocs\u001b[0m\u001b[0;34m[\u001b[0m\u001b[0;36m0\u001b[0m\u001b[0;34m]\u001b[0m\u001b[0;34m\u001b[0m\u001b[0;34m\u001b[0m\u001b[0m\n",
      "\u001b[0;32m~/HERRAMIENTAS/jupyterNotebook/datosSernac/lib/python3.6/site-packages/pymongo/cursor.py\u001b[0m in \u001b[0;36m_unpack_response\u001b[0;34m(self, response, cursor_id, codec_options, user_fields, legacy_response)\u001b[0m\n\u001b[1;32m   1028\u001b[0m                          user_fields=None, legacy_response=False):\n\u001b[1;32m   1029\u001b[0m         return response.unpack_response(cursor_id, codec_options, user_fields,\n\u001b[0;32m-> 1030\u001b[0;31m                                         legacy_response)\n\u001b[0m\u001b[1;32m   1031\u001b[0m \u001b[0;34m\u001b[0m\u001b[0m\n\u001b[1;32m   1032\u001b[0m     \u001b[0;32mdef\u001b[0m \u001b[0m_read_preference\u001b[0m\u001b[0;34m(\u001b[0m\u001b[0mself\u001b[0m\u001b[0;34m)\u001b[0m\u001b[0;34m:\u001b[0m\u001b[0;34m\u001b[0m\u001b[0;34m\u001b[0m\u001b[0m\n",
      "\u001b[0;32m~/HERRAMIENTAS/jupyterNotebook/datosSernac/lib/python3.6/site-packages/pymongo/message.py\u001b[0m in \u001b[0;36munpack_response\u001b[0;34m(self, cursor_id, codec_options, user_fields, legacy_response)\u001b[0m\n\u001b[1;32m   1589\u001b[0m         \u001b[0;32massert\u001b[0m \u001b[0;32mnot\u001b[0m \u001b[0mlegacy_response\u001b[0m\u001b[0;34m\u001b[0m\u001b[0;34m\u001b[0m\u001b[0m\n\u001b[1;32m   1590\u001b[0m         return bson._decode_all_selective(\n\u001b[0;32m-> 1591\u001b[0;31m             self.payload_document, codec_options, user_fields)\n\u001b[0m\u001b[1;32m   1592\u001b[0m \u001b[0;34m\u001b[0m\u001b[0m\n\u001b[1;32m   1593\u001b[0m     \u001b[0;32mdef\u001b[0m \u001b[0mcommand_response\u001b[0m\u001b[0;34m(\u001b[0m\u001b[0mself\u001b[0m\u001b[0;34m)\u001b[0m\u001b[0;34m:\u001b[0m\u001b[0;34m\u001b[0m\u001b[0;34m\u001b[0m\u001b[0m\n",
      "\u001b[0;32m~/HERRAMIENTAS/jupyterNotebook/datosSernac/lib/python3.6/site-packages/bson/__init__.py\u001b[0m in \u001b[0;36m_decode_all_selective\u001b[0;34m(data, codec_options, fields)\u001b[0m\n\u001b[1;32m   1096\u001b[0m     \"\"\"\n\u001b[1;32m   1097\u001b[0m     \u001b[0;32mif\u001b[0m \u001b[0;32mnot\u001b[0m \u001b[0mcodec_options\u001b[0m\u001b[0;34m.\u001b[0m\u001b[0mtype_registry\u001b[0m\u001b[0;34m.\u001b[0m\u001b[0m_decoder_map\u001b[0m\u001b[0;34m:\u001b[0m\u001b[0;34m\u001b[0m\u001b[0;34m\u001b[0m\u001b[0m\n\u001b[0;32m-> 1098\u001b[0;31m         \u001b[0;32mreturn\u001b[0m \u001b[0mdecode_all\u001b[0m\u001b[0;34m(\u001b[0m\u001b[0mdata\u001b[0m\u001b[0;34m,\u001b[0m \u001b[0mcodec_options\u001b[0m\u001b[0;34m)\u001b[0m\u001b[0;34m\u001b[0m\u001b[0;34m\u001b[0m\u001b[0m\n\u001b[0m\u001b[1;32m   1099\u001b[0m \u001b[0;34m\u001b[0m\u001b[0m\n\u001b[1;32m   1100\u001b[0m     \u001b[0;32mif\u001b[0m \u001b[0;32mnot\u001b[0m \u001b[0mfields\u001b[0m\u001b[0;34m:\u001b[0m\u001b[0;34m\u001b[0m\u001b[0;34m\u001b[0m\u001b[0m\n",
      "\u001b[0;31mInvalidBSON\u001b[0m: year -121938 is out of range"
     ]
    }
   ],
   "source": [
    "import pandas as pd\n",
    "from pymongo import MongoClient\n",
    "client = MongoClient()\n",
    "db = client.ecdf\n",
    "collection_user = db.users\n",
    "USERS = pd.DataFrame(list(collection_user.find()))"
   ]
  },
  {
   "cell_type": "code",
   "execution_count": null,
   "metadata": {},
   "outputs": [],
   "source": [
    "import datetime \n"
   ]
  },
  {
   "cell_type": "code",
   "execution_count": 2,
   "metadata": {},
   "outputs": [
    {
     "ename": "NameError",
     "evalue": "name 'datetime' is not defined",
     "output_type": "error",
     "traceback": [
      "\u001b[0;31m---------------------------------------------------------------------------\u001b[0m",
      "\u001b[0;31mNameError\u001b[0m                                 Traceback (most recent call last)",
      "\u001b[0;32m<ipython-input-2-f944e2f37099>\u001b[0m in \u001b[0;36m<module>\u001b[0;34m\u001b[0m\n\u001b[0;32m----> 1\u001b[0;31m \u001b[0mdatetime\u001b[0m\u001b[0;34m.\u001b[0m\u001b[0mdatetime\u001b[0m\u001b[0;34m.\u001b[0m\u001b[0mtoday\u001b[0m\u001b[0;34m(\u001b[0m\u001b[0;34m)\u001b[0m\u001b[0;34m\u001b[0m\u001b[0;34m\u001b[0m\u001b[0m\n\u001b[0m",
      "\u001b[0;31mNameError\u001b[0m: name 'datetime' is not defined"
     ]
    }
   ],
   "source": [
    "datetime.datetime.today()"
   ]
  },
  {
   "cell_type": "code",
   "execution_count": 227,
   "metadata": {},
   "outputs": [],
   "source": [
    "from datetime import timedelta  "
   ]
  },
  {
   "cell_type": "code",
   "execution_count": 228,
   "metadata": {
    "scrolled": false
   },
   "outputs": [
    {
     "name": "stderr",
     "output_type": "stream",
     "text": [
      "/home/tecnoboy/HERRAMIENTAS/jupyterNotebook/datosSernac/lib/python3.6/site-packages/IPython/core/interactiveshell.py:3063: DtypeWarning: Columns (11,12,13,15) have mixed types.Specify dtype option on import or set low_memory=False.\n",
      "  interactivity=interactivity, compiler=compiler, result=result)\n"
     ]
    }
   ],
   "source": [
    "USERS=pd.read_csv(\"/home/tecnoboy/ClusterMongo-produccion/cdfMaster/users.csv\")"
   ]
  },
  {
   "cell_type": "markdown",
   "metadata": {},
   "source": [
    "#### LoginSummary TABLE"
   ]
  },
  {
   "cell_type": "code",
   "execution_count": 229,
   "metadata": {
    "scrolled": true
   },
   "outputs": [
    {
     "data": {
      "text/plain": [
       "Index(['_id', 'updatedAt', 'createdAt', 'email', 'password', 'nombre',\n",
       "       'apellido', 'estado_token', 'pasarela', 'material', 'dispositivos',\n",
       "       'propiedades.0.beta', 'baneado', 'estado', 'tipo', 'verificado',\n",
       "       '_roles', '__v', '_cliente', 'cliente_id', 'fecha_nacimiento',\n",
       "       '_transaccion', '_acuerdo', '_producto', 'fecha_fin', 'fecha_pago',\n",
       "       'fecha_acuerdo', 'email_recuperacion', 'fecha_cancelacion', 'genero'],\n",
       "      dtype='object')"
      ]
     },
     "execution_count": 229,
     "metadata": {},
     "output_type": "execute_result"
    }
   ],
   "source": [
    "USERS.columns"
   ]
  },
  {
   "cell_type": "code",
   "execution_count": 230,
   "metadata": {},
   "outputs": [],
   "source": [
    "id_user=USERS.drop([\n",
    "    'updatedAt', 'createdAt', 'email', 'password', 'nombre',\n",
    "       'apellido', 'estado_token', 'pasarela', 'material', 'dispositivos',\n",
    "       'propiedades.0.beta', 'baneado', 'estado', 'tipo', 'verificado',\n",
    "       '_roles', '__v', '_cliente',  'fecha_nacimiento',\n",
    "       'email_recuperacion', 'genero', '_acuerdo', 'fecha_acuerdo',\n",
    "       'fecha_fin', 'fecha_pago', 'fecha_cancelacion', '_transaccion',\n",
    "       '_producto'],axis=1)"
   ]
  },
  {
   "cell_type": "code",
   "execution_count": 231,
   "metadata": {},
   "outputs": [
    {
     "data": {
      "text/plain": [
       "Index(['_id', 'cliente_id'], dtype='object')"
      ]
     },
     "execution_count": 231,
     "metadata": {},
     "output_type": "execute_result"
    }
   ],
   "source": [
    "id_user.columns"
   ]
  },
  {
   "cell_type": "code",
   "execution_count": 232,
   "metadata": {},
   "outputs": [],
   "source": [
    "id_user=id_user.rename(columns={ \"_id\": \"user_id\"})"
   ]
  },
  {
   "cell_type": "code",
   "execution_count": 233,
   "metadata": {
    "scrolled": true
   },
   "outputs": [
    {
     "name": "stderr",
     "output_type": "stream",
     "text": [
      "/home/tecnoboy/HERRAMIENTAS/jupyterNotebook/datosSernac/lib/python3.6/site-packages/IPython/core/interactiveshell.py:3063: DtypeWarning: Columns (6,12) have mixed types.Specify dtype option on import or set low_memory=False.\n",
      "  interactivity=interactivity, compiler=compiler, result=result)\n"
     ]
    }
   ],
   "source": [
    "CLIENTES=pd.read_csv(\"/home/tecnoboy/ClusterMongo-produccion/cdfMaster/clientes.csv\")"
   ]
  },
  {
   "cell_type": "markdown",
   "metadata": {},
   "source": [
    "Se le quiere añadir el id de usuario a la tabla de clientes"
   ]
  },
  {
   "cell_type": "code",
   "execution_count": 234,
   "metadata": {},
   "outputs": [],
   "source": [
    "CLIENTES['cliente_id']=CLIENTES['_id']"
   ]
  },
  {
   "cell_type": "code",
   "execution_count": 235,
   "metadata": {
    "scrolled": false
   },
   "outputs": [
    {
     "name": "stdout",
     "output_type": "stream",
     "text": [
      "<class 'pandas.core.frame.DataFrame'>\n",
      "RangeIndex: 432752 entries, 0 to 432751\n",
      "Data columns (total 17 columns):\n",
      " #   Column              Non-Null Count   Dtype  \n",
      "---  ------              --------------   -----  \n",
      " 0   _id                 432752 non-null  object \n",
      " 1   updatedAt           432751 non-null  object \n",
      " 2   createdAt           432751 non-null  object \n",
      " 3   nombre              432278 non-null  object \n",
      " 4   apellidoPaterno     432389 non-null  object \n",
      " 5   email               432752 non-null  object \n",
      " 6   codigoPais          144898 non-null  object \n",
      " 7   __v                 432751 non-null  float64\n",
      " 8   email_recuperacion  2445 non-null    object \n",
      " 9   equipo_favorito     211160 non-null  object \n",
      " 10  favorito            113670 non-null  float64\n",
      " 11  fecha_nacimiento    349170 non-null  object \n",
      " 12  telefono            2497 non-null    object \n",
      " 13  rut                 256637 non-null  object \n",
      " 14  pais                150107 non-null  object \n",
      " 15  genero              261295 non-null  object \n",
      " 16  cliente_id          432752 non-null  object \n",
      "dtypes: float64(2), object(15)\n",
      "memory usage: 56.1+ MB\n"
     ]
    }
   ],
   "source": [
    "CLIENTES.info()"
   ]
  },
  {
   "cell_type": "markdown",
   "metadata": {},
   "source": [
    "//CORTANDO EL DATASET PARA QUE PUEDA SER PROCESADO POR MI LAPTOP"
   ]
  },
  {
   "cell_type": "code",
   "execution_count": 236,
   "metadata": {},
   "outputs": [],
   "source": [
    "id_user=id_user"
   ]
  },
  {
   "cell_type": "code",
   "execution_count": 237,
   "metadata": {},
   "outputs": [],
   "source": [
    "user_email= CLIENTES.merge(id_user, on=['cliente_id'], how=\"left\", indicator=True)"
   ]
  },
  {
   "cell_type": "code",
   "execution_count": 238,
   "metadata": {
    "scrolled": true
   },
   "outputs": [
    {
     "data": {
      "text/plain": [
       "Index(['_id', 'updatedAt', 'createdAt', 'nombre', 'apellidoPaterno', 'email',\n",
       "       'codigoPais', '__v', 'email_recuperacion', 'equipo_favorito',\n",
       "       'favorito', 'fecha_nacimiento', 'telefono', 'rut', 'pais', 'genero',\n",
       "       'cliente_id', 'user_id', '_merge'],\n",
       "      dtype='object')"
      ]
     },
     "execution_count": 238,
     "metadata": {},
     "output_type": "execute_result"
    }
   ],
   "source": [
    "user_email.columns"
   ]
  },
  {
   "cell_type": "code",
   "execution_count": 239,
   "metadata": {},
   "outputs": [],
   "source": [
    "user_email=user_email.drop([ 'updatedAt', 'createdAt', 'nombre', 'apellidoPaterno', \n",
    "       'codigoPais', '__v', 'email_recuperacion', 'equipo_favorito',\n",
    "       'favorito', 'fecha_nacimiento', 'telefono', 'rut', 'pais', 'genero', '_merge'],axis=1)"
   ]
  },
  {
   "cell_type": "code",
   "execution_count": 240,
   "metadata": {},
   "outputs": [],
   "source": [
    "user_email['CUSTOMER_ID'] = user_email.index"
   ]
  },
  {
   "cell_type": "code",
   "execution_count": 241,
   "metadata": {},
   "outputs": [
    {
     "name": "stdout",
     "output_type": "stream",
     "text": [
      "<class 'pandas.core.frame.DataFrame'>\n",
      "Int64Index: 432755 entries, 0 to 432754\n",
      "Data columns (total 5 columns):\n",
      " #   Column       Non-Null Count   Dtype \n",
      "---  ------       --------------   ----- \n",
      " 0   _id          432755 non-null  object\n",
      " 1   email        432755 non-null  object\n",
      " 2   cliente_id   432755 non-null  object\n",
      " 3   user_id      432688 non-null  object\n",
      " 4   CUSTOMER_ID  432755 non-null  int64 \n",
      "dtypes: int64(1), object(4)\n",
      "memory usage: 19.8+ MB\n"
     ]
    }
   ],
   "source": [
    "user_email.info()"
   ]
  },
  {
   "cell_type": "code",
   "execution_count": 242,
   "metadata": {},
   "outputs": [],
   "source": [
    "user_email=user_email.head(150) #CORTANDO EL DATASET PARA QUE PUEDA SER PROCESADO POR MI LAPTOP"
   ]
  },
  {
   "cell_type": "code",
   "execution_count": 243,
   "metadata": {},
   "outputs": [
    {
     "data": {
      "text/plain": [
       "150"
      ]
     },
     "execution_count": 243,
     "metadata": {},
     "output_type": "execute_result"
    }
   ],
   "source": [
    "user_email._id.nunique()"
   ]
  },
  {
   "cell_type": "markdown",
   "metadata": {},
   "source": [
    "Eliminando los user_id nulos"
   ]
  },
  {
   "cell_type": "code",
   "execution_count": 244,
   "metadata": {},
   "outputs": [],
   "source": [
    "user_email.drop(user_email[user_email.user_id.isnull()].index, inplace = True)"
   ]
  },
  {
   "cell_type": "code",
   "execution_count": 245,
   "metadata": {
    "scrolled": true
   },
   "outputs": [
    {
     "name": "stdout",
     "output_type": "stream",
     "text": [
      "<class 'pandas.core.frame.DataFrame'>\n",
      "Int64Index: 150 entries, 0 to 149\n",
      "Data columns (total 5 columns):\n",
      " #   Column       Non-Null Count  Dtype \n",
      "---  ------       --------------  ----- \n",
      " 0   _id          150 non-null    object\n",
      " 1   email        150 non-null    object\n",
      " 2   cliente_id   150 non-null    object\n",
      " 3   user_id      150 non-null    object\n",
      " 4   CUSTOMER_ID  150 non-null    int64 \n",
      "dtypes: int64(1), object(4)\n",
      "memory usage: 7.0+ KB\n"
     ]
    }
   ],
   "source": [
    "user_email.info()"
   ]
  },
  {
   "cell_type": "markdown",
   "metadata": {},
   "source": [
    " AHORA BUSCAMOS LAS CONEXIONES"
   ]
  },
  {
   "cell_type": "code",
   "execution_count": 246,
   "metadata": {},
   "outputs": [],
   "source": [
    "conexiones=pd.read_csv(\"/home/tecnoboy/Cluster0-shard-0/apiUsers/Conexion/conexiones.csv\")"
   ]
  },
  {
   "cell_type": "code",
   "execution_count": 247,
   "metadata": {},
   "outputs": [
    {
     "name": "stdout",
     "output_type": "stream",
     "text": [
      "<class 'pandas.core.frame.DataFrame'>\n",
      "RangeIndex: 4299498 entries, 0 to 4299497\n",
      "Data columns (total 4 columns):\n",
      " #   Column     Dtype \n",
      "---  ------     ----- \n",
      " 0   _id        object\n",
      " 1   updatedAt  object\n",
      " 2   createdAt  object\n",
      " 3   _user      object\n",
      "dtypes: object(4)\n",
      "memory usage: 131.2+ MB\n"
     ]
    }
   ],
   "source": [
    "conexiones.info()"
   ]
  },
  {
   "cell_type": "markdown",
   "metadata": {},
   "source": [
    "automaticos=pd.read_csv(\"/home/tecnoboy/ClusterMongo-produccion/cdfMaster/usersautomaticos.csv\")"
   ]
  },
  {
   "cell_type": "markdown",
   "metadata": {},
   "source": [
    "automaticos.info()"
   ]
  },
  {
   "cell_type": "markdown",
   "metadata": {},
   "source": [
    "automaticos=automaticos.drop([  'createdAt',  'cabecera.connection',\n",
    "       'cabecera.content-length', 'cabecera.x-forwarded-proto',\n",
    "       'cabecera.x-forwarded-port', 'cabecera.x-forwarded-for',\n",
    "       'cabecera.user-agent', 'cabecera.origin', 'cabecera.content-type',\n",
    "       'cabecera.accept-language', 'cabecera.accept-encoding',\n",
    "       'cabecera.accept', 'cabecera.host', 'cabecera.referer', 'cabecera.dnt',\n",
    "       'cabecera.sec-fetch-site', 'cabecera.sec-fetch-mode',\n",
    "       'cabecera.sec-fetch-dest', 'cabecera.accept-charset',\n",
    "       'cabecera.cache-control', 'cabecera.save-data',\n",
    "       'cabecera.authorization', 'jwt', 'fecha', '__v'],axis=1)"
   ]
  },
  {
   "cell_type": "code",
   "execution_count": 248,
   "metadata": {
    "scrolled": true
   },
   "outputs": [],
   "source": [
    "accesos=conexiones"
   ]
  },
  {
   "cell_type": "markdown",
   "metadata": {},
   "source": [
    "accesos=pd.concat([automaticos, conexiones], axis=0)"
   ]
  },
  {
   "cell_type": "code",
   "execution_count": 249,
   "metadata": {},
   "outputs": [
    {
     "name": "stdout",
     "output_type": "stream",
     "text": [
      "<class 'pandas.core.frame.DataFrame'>\n",
      "RangeIndex: 4299498 entries, 0 to 4299497\n",
      "Data columns (total 4 columns):\n",
      " #   Column     Dtype \n",
      "---  ------     ----- \n",
      " 0   _id        object\n",
      " 1   updatedAt  object\n",
      " 2   createdAt  object\n",
      " 3   _user      object\n",
      "dtypes: object(4)\n",
      "memory usage: 131.2+ MB\n"
     ]
    }
   ],
   "source": [
    "accesos.info()"
   ]
  },
  {
   "cell_type": "code",
   "execution_count": 250,
   "metadata": {},
   "outputs": [],
   "source": [
    "accesos['updatedAt'] = pd.to_datetime(accesos['updatedAt'])"
   ]
  },
  {
   "cell_type": "markdown",
   "metadata": {},
   "source": [
    "accesosOrd=accesos.sort_values(by=['createdAt'],ascending=True).drop_duplicates(['_user'], keep='last')"
   ]
  },
  {
   "cell_type": "markdown",
   "metadata": {},
   "source": [
    "accesosOrd=accesos.sort_values(by=['updatedAt'],ascending=True)"
   ]
  },
  {
   "cell_type": "code",
   "execution_count": 251,
   "metadata": {
    "scrolled": true
   },
   "outputs": [
    {
     "name": "stdout",
     "output_type": "stream",
     "text": [
      "<class 'pandas.core.frame.DataFrame'>\n",
      "Int64Index: 150 entries, 0 to 149\n",
      "Data columns (total 5 columns):\n",
      " #   Column       Non-Null Count  Dtype \n",
      "---  ------       --------------  ----- \n",
      " 0   _id          150 non-null    object\n",
      " 1   email        150 non-null    object\n",
      " 2   cliente_id   150 non-null    object\n",
      " 3   user_id      150 non-null    object\n",
      " 4   CUSTOMER_ID  150 non-null    int64 \n",
      "dtypes: int64(1), object(4)\n",
      "memory usage: 7.0+ KB\n"
     ]
    }
   ],
   "source": [
    "user_email.info()"
   ]
  },
  {
   "cell_type": "code",
   "execution_count": 252,
   "metadata": {},
   "outputs": [],
   "source": [
    "user_conexiones= user_email.merge(conexiones, left_on=['user_id'],right_on=['_user'], how=\"left\", indicator=True)"
   ]
  },
  {
   "cell_type": "code",
   "execution_count": 253,
   "metadata": {},
   "outputs": [
    {
     "data": {
      "text/plain": [
       "150"
      ]
     },
     "execution_count": 253,
     "metadata": {},
     "output_type": "execute_result"
    }
   ],
   "source": [
    "user_conexiones.user_id.nunique()"
   ]
  },
  {
   "cell_type": "code",
   "execution_count": 254,
   "metadata": {},
   "outputs": [
    {
     "name": "stdout",
     "output_type": "stream",
     "text": [
      "<class 'pandas.core.frame.DataFrame'>\n",
      "Int64Index: 902 entries, 0 to 901\n",
      "Data columns (total 10 columns):\n",
      " #   Column       Non-Null Count  Dtype              \n",
      "---  ------       --------------  -----              \n",
      " 0   _id_x        902 non-null    object             \n",
      " 1   email        902 non-null    object             \n",
      " 2   cliente_id   902 non-null    object             \n",
      " 3   user_id      902 non-null    object             \n",
      " 4   CUSTOMER_ID  902 non-null    int64              \n",
      " 5   _id_y        765 non-null    object             \n",
      " 6   updatedAt    765 non-null    datetime64[ns, UTC]\n",
      " 7   createdAt    765 non-null    object             \n",
      " 8   _user        765 non-null    object             \n",
      " 9   _merge       902 non-null    category           \n",
      "dtypes: category(1), datetime64[ns, UTC](1), int64(1), object(7)\n",
      "memory usage: 71.5+ KB\n"
     ]
    }
   ],
   "source": [
    "user_conexiones.info()"
   ]
  },
  {
   "cell_type": "code",
   "execution_count": 255,
   "metadata": {},
   "outputs": [
    {
     "data": {
      "text/html": [
       "<div>\n",
       "<style scoped>\n",
       "    .dataframe tbody tr th:only-of-type {\n",
       "        vertical-align: middle;\n",
       "    }\n",
       "\n",
       "    .dataframe tbody tr th {\n",
       "        vertical-align: top;\n",
       "    }\n",
       "\n",
       "    .dataframe thead th {\n",
       "        text-align: right;\n",
       "    }\n",
       "</style>\n",
       "<table border=\"1\" class=\"dataframe\">\n",
       "  <thead>\n",
       "    <tr style=\"text-align: right;\">\n",
       "      <th></th>\n",
       "      <th>_id_x</th>\n",
       "      <th>email</th>\n",
       "      <th>cliente_id</th>\n",
       "      <th>user_id</th>\n",
       "      <th>CUSTOMER_ID</th>\n",
       "      <th>_id_y</th>\n",
       "      <th>updatedAt</th>\n",
       "      <th>createdAt</th>\n",
       "      <th>_user</th>\n",
       "      <th>_merge</th>\n",
       "    </tr>\n",
       "  </thead>\n",
       "  <tbody>\n",
       "    <tr>\n",
       "      <th>0</th>\n",
       "      <td>5860ff4104d5b52eef1e6216</td>\n",
       "      <td>rsmonteros@gmail.com</td>\n",
       "      <td>5860ff4104d5b52eef1e6216</td>\n",
       "      <td>563857913817661751603df2</td>\n",
       "      <td>0</td>\n",
       "      <td>NaN</td>\n",
       "      <td>NaT</td>\n",
       "      <td>NaN</td>\n",
       "      <td>NaN</td>\n",
       "      <td>left_only</td>\n",
       "    </tr>\n",
       "    <tr>\n",
       "      <th>1</th>\n",
       "      <td>5860ff4104d5b52eef1e6217</td>\n",
       "      <td>cg_criminalista@hotmail.com</td>\n",
       "      <td>5860ff4104d5b52eef1e6217</td>\n",
       "      <td>563857913817661751603df3</td>\n",
       "      <td>1</td>\n",
       "      <td>NaN</td>\n",
       "      <td>NaT</td>\n",
       "      <td>NaN</td>\n",
       "      <td>NaN</td>\n",
       "      <td>left_only</td>\n",
       "    </tr>\n",
       "    <tr>\n",
       "      <th>2</th>\n",
       "      <td>5860ff4104d5b52eef1e6218</td>\n",
       "      <td>alejandro.truan@gmail.com</td>\n",
       "      <td>5860ff4104d5b52eef1e6218</td>\n",
       "      <td>563857913817661751603df4</td>\n",
       "      <td>2</td>\n",
       "      <td>5c715a7a9d06d14ccfa1e9da</td>\n",
       "      <td>2019-02-23 14:36:42.888000+00:00</td>\n",
       "      <td>2019-02-23T14:36:42.888Z</td>\n",
       "      <td>563857913817661751603df4</td>\n",
       "      <td>both</td>\n",
       "    </tr>\n",
       "    <tr>\n",
       "      <th>3</th>\n",
       "      <td>5860ff4104d5b52eef1e6215</td>\n",
       "      <td>daver182@gmail.com</td>\n",
       "      <td>5860ff4104d5b52eef1e6215</td>\n",
       "      <td>563857913817661751603df1</td>\n",
       "      <td>3</td>\n",
       "      <td>NaN</td>\n",
       "      <td>NaT</td>\n",
       "      <td>NaN</td>\n",
       "      <td>NaN</td>\n",
       "      <td>left_only</td>\n",
       "    </tr>\n",
       "    <tr>\n",
       "      <th>4</th>\n",
       "      <td>5860ff4104d5b52eef1e6219</td>\n",
       "      <td>segundocabe@hotmail.com</td>\n",
       "      <td>5860ff4104d5b52eef1e6219</td>\n",
       "      <td>563857913817661751603df5</td>\n",
       "      <td>4</td>\n",
       "      <td>NaN</td>\n",
       "      <td>NaT</td>\n",
       "      <td>NaN</td>\n",
       "      <td>NaN</td>\n",
       "      <td>left_only</td>\n",
       "    </tr>\n",
       "    <tr>\n",
       "      <th>...</th>\n",
       "      <td>...</td>\n",
       "      <td>...</td>\n",
       "      <td>...</td>\n",
       "      <td>...</td>\n",
       "      <td>...</td>\n",
       "      <td>...</td>\n",
       "      <td>...</td>\n",
       "      <td>...</td>\n",
       "      <td>...</td>\n",
       "      <td>...</td>\n",
       "    </tr>\n",
       "    <tr>\n",
       "      <th>897</th>\n",
       "      <td>5860ff4104d5b52eef1e627e</td>\n",
       "      <td>aabavestrello@gmail.com</td>\n",
       "      <td>5860ff4104d5b52eef1e627e</td>\n",
       "      <td>563857923817661751603e61</td>\n",
       "      <td>145</td>\n",
       "      <td>NaN</td>\n",
       "      <td>NaT</td>\n",
       "      <td>NaN</td>\n",
       "      <td>NaN</td>\n",
       "      <td>left_only</td>\n",
       "    </tr>\n",
       "    <tr>\n",
       "      <th>898</th>\n",
       "      <td>5860ff4104d5b52eef1e6235</td>\n",
       "      <td>alexrivaldo@hotmail.cl</td>\n",
       "      <td>5860ff4104d5b52eef1e6235</td>\n",
       "      <td>563857913817661751603e13</td>\n",
       "      <td>146</td>\n",
       "      <td>NaN</td>\n",
       "      <td>NaT</td>\n",
       "      <td>NaN</td>\n",
       "      <td>NaN</td>\n",
       "      <td>left_only</td>\n",
       "    </tr>\n",
       "    <tr>\n",
       "      <th>899</th>\n",
       "      <td>5860ff4104d5b52eef1e6238</td>\n",
       "      <td>luis.castro77@live.com</td>\n",
       "      <td>5860ff4104d5b52eef1e6238</td>\n",
       "      <td>563857913817661751603e16</td>\n",
       "      <td>147</td>\n",
       "      <td>NaN</td>\n",
       "      <td>NaT</td>\n",
       "      <td>NaN</td>\n",
       "      <td>NaN</td>\n",
       "      <td>left_only</td>\n",
       "    </tr>\n",
       "    <tr>\n",
       "      <th>900</th>\n",
       "      <td>5860ff4104d5b52eef1e6282</td>\n",
       "      <td>drpalma8@hotmail.com</td>\n",
       "      <td>5860ff4104d5b52eef1e6282</td>\n",
       "      <td>563857923817661751603e65</td>\n",
       "      <td>148</td>\n",
       "      <td>NaN</td>\n",
       "      <td>NaT</td>\n",
       "      <td>NaN</td>\n",
       "      <td>NaN</td>\n",
       "      <td>left_only</td>\n",
       "    </tr>\n",
       "    <tr>\n",
       "      <th>901</th>\n",
       "      <td>5860ff4104d5b52eef1e6240</td>\n",
       "      <td>cocteleriaeden@hotmail.cl</td>\n",
       "      <td>5860ff4104d5b52eef1e6240</td>\n",
       "      <td>563857913817661751603e1f</td>\n",
       "      <td>149</td>\n",
       "      <td>NaN</td>\n",
       "      <td>NaT</td>\n",
       "      <td>NaN</td>\n",
       "      <td>NaN</td>\n",
       "      <td>left_only</td>\n",
       "    </tr>\n",
       "  </tbody>\n",
       "</table>\n",
       "<p>902 rows × 10 columns</p>\n",
       "</div>"
      ],
      "text/plain": [
       "                        _id_x                        email  \\\n",
       "0    5860ff4104d5b52eef1e6216         rsmonteros@gmail.com   \n",
       "1    5860ff4104d5b52eef1e6217  cg_criminalista@hotmail.com   \n",
       "2    5860ff4104d5b52eef1e6218    alejandro.truan@gmail.com   \n",
       "3    5860ff4104d5b52eef1e6215           daver182@gmail.com   \n",
       "4    5860ff4104d5b52eef1e6219      segundocabe@hotmail.com   \n",
       "..                        ...                          ...   \n",
       "897  5860ff4104d5b52eef1e627e      aabavestrello@gmail.com   \n",
       "898  5860ff4104d5b52eef1e6235       alexrivaldo@hotmail.cl   \n",
       "899  5860ff4104d5b52eef1e6238       luis.castro77@live.com   \n",
       "900  5860ff4104d5b52eef1e6282         drpalma8@hotmail.com   \n",
       "901  5860ff4104d5b52eef1e6240    cocteleriaeden@hotmail.cl   \n",
       "\n",
       "                   cliente_id                   user_id  CUSTOMER_ID  \\\n",
       "0    5860ff4104d5b52eef1e6216  563857913817661751603df2            0   \n",
       "1    5860ff4104d5b52eef1e6217  563857913817661751603df3            1   \n",
       "2    5860ff4104d5b52eef1e6218  563857913817661751603df4            2   \n",
       "3    5860ff4104d5b52eef1e6215  563857913817661751603df1            3   \n",
       "4    5860ff4104d5b52eef1e6219  563857913817661751603df5            4   \n",
       "..                        ...                       ...          ...   \n",
       "897  5860ff4104d5b52eef1e627e  563857923817661751603e61          145   \n",
       "898  5860ff4104d5b52eef1e6235  563857913817661751603e13          146   \n",
       "899  5860ff4104d5b52eef1e6238  563857913817661751603e16          147   \n",
       "900  5860ff4104d5b52eef1e6282  563857923817661751603e65          148   \n",
       "901  5860ff4104d5b52eef1e6240  563857913817661751603e1f          149   \n",
       "\n",
       "                        _id_y                        updatedAt  \\\n",
       "0                         NaN                              NaT   \n",
       "1                         NaN                              NaT   \n",
       "2    5c715a7a9d06d14ccfa1e9da 2019-02-23 14:36:42.888000+00:00   \n",
       "3                         NaN                              NaT   \n",
       "4                         NaN                              NaT   \n",
       "..                        ...                              ...   \n",
       "897                       NaN                              NaT   \n",
       "898                       NaN                              NaT   \n",
       "899                       NaN                              NaT   \n",
       "900                       NaN                              NaT   \n",
       "901                       NaN                              NaT   \n",
       "\n",
       "                    createdAt                     _user     _merge  \n",
       "0                         NaN                       NaN  left_only  \n",
       "1                         NaN                       NaN  left_only  \n",
       "2    2019-02-23T14:36:42.888Z  563857913817661751603df4       both  \n",
       "3                         NaN                       NaN  left_only  \n",
       "4                         NaN                       NaN  left_only  \n",
       "..                        ...                       ...        ...  \n",
       "897                       NaN                       NaN  left_only  \n",
       "898                       NaN                       NaN  left_only  \n",
       "899                       NaN                       NaN  left_only  \n",
       "900                       NaN                       NaN  left_only  \n",
       "901                       NaN                       NaN  left_only  \n",
       "\n",
       "[902 rows x 10 columns]"
      ]
     },
     "execution_count": 255,
     "metadata": {},
     "output_type": "execute_result"
    }
   ],
   "source": [
    "user_conexiones"
   ]
  },
  {
   "cell_type": "code",
   "execution_count": 279,
   "metadata": {},
   "outputs": [],
   "source": [
    "user_conexioneslife=user_conexiones.groupby('user_id').agg(conexioneslife=('updatedAt','count'))"
   ]
  },
  {
   "cell_type": "code",
   "execution_count": null,
   "metadata": {},
   "outputs": [],
   "source": []
  },
  {
   "cell_type": "code",
   "execution_count": 280,
   "metadata": {},
   "outputs": [
    {
     "data": {
      "text/html": [
       "<div>\n",
       "<style scoped>\n",
       "    .dataframe tbody tr th:only-of-type {\n",
       "        vertical-align: middle;\n",
       "    }\n",
       "\n",
       "    .dataframe tbody tr th {\n",
       "        vertical-align: top;\n",
       "    }\n",
       "\n",
       "    .dataframe thead th {\n",
       "        text-align: right;\n",
       "    }\n",
       "</style>\n",
       "<table border=\"1\" class=\"dataframe\">\n",
       "  <thead>\n",
       "    <tr style=\"text-align: right;\">\n",
       "      <th></th>\n",
       "      <th>conexioneslife</th>\n",
       "    </tr>\n",
       "    <tr>\n",
       "      <th>user_id</th>\n",
       "      <th></th>\n",
       "    </tr>\n",
       "  </thead>\n",
       "  <tbody>\n",
       "    <tr>\n",
       "      <th>563857913817661751603df1</th>\n",
       "      <td>0</td>\n",
       "    </tr>\n",
       "    <tr>\n",
       "      <th>563857913817661751603df2</th>\n",
       "      <td>0</td>\n",
       "    </tr>\n",
       "    <tr>\n",
       "      <th>563857913817661751603df3</th>\n",
       "      <td>0</td>\n",
       "    </tr>\n",
       "    <tr>\n",
       "      <th>563857913817661751603df4</th>\n",
       "      <td>1</td>\n",
       "    </tr>\n",
       "    <tr>\n",
       "      <th>563857913817661751603df5</th>\n",
       "      <td>0</td>\n",
       "    </tr>\n",
       "    <tr>\n",
       "      <th>...</th>\n",
       "      <td>...</td>\n",
       "    </tr>\n",
       "    <tr>\n",
       "      <th>56c48ab82c5ff4be08fd72ff</th>\n",
       "      <td>0</td>\n",
       "    </tr>\n",
       "    <tr>\n",
       "      <th>570ac990cfcfa7d108f97d6f</th>\n",
       "      <td>0</td>\n",
       "    </tr>\n",
       "    <tr>\n",
       "      <th>57ba10ed974df5e708185dc9</th>\n",
       "      <td>0</td>\n",
       "    </tr>\n",
       "    <tr>\n",
       "      <th>57e2d480bf95bde745402728</th>\n",
       "      <td>6</td>\n",
       "    </tr>\n",
       "    <tr>\n",
       "      <th>57e888c6a17c57de08b87ac4</th>\n",
       "      <td>0</td>\n",
       "    </tr>\n",
       "  </tbody>\n",
       "</table>\n",
       "<p>150 rows × 1 columns</p>\n",
       "</div>"
      ],
      "text/plain": [
       "                          conexioneslife\n",
       "user_id                                 \n",
       "563857913817661751603df1               0\n",
       "563857913817661751603df2               0\n",
       "563857913817661751603df3               0\n",
       "563857913817661751603df4               1\n",
       "563857913817661751603df5               0\n",
       "...                                  ...\n",
       "56c48ab82c5ff4be08fd72ff               0\n",
       "570ac990cfcfa7d108f97d6f               0\n",
       "57ba10ed974df5e708185dc9               0\n",
       "57e2d480bf95bde745402728               6\n",
       "57e888c6a17c57de08b87ac4               0\n",
       "\n",
       "[150 rows x 1 columns]"
      ]
     },
     "execution_count": 280,
     "metadata": {},
     "output_type": "execute_result"
    }
   ],
   "source": [
    "user_conexioneslife"
   ]
  },
  {
   "cell_type": "code",
   "execution_count": null,
   "metadata": {},
   "outputs": [],
   "source": []
  },
  {
   "cell_type": "code",
   "execution_count": null,
   "metadata": {},
   "outputs": [],
   "source": []
  },
  {
   "cell_type": "code",
   "execution_count": null,
   "metadata": {},
   "outputs": [],
   "source": []
  },
  {
   "cell_type": "markdown",
   "metadata": {},
   "source": [
    "###  Ahora hay que segmentar por fecha para ir llenando la tabla"
   ]
  },
  {
   "cell_type": "code",
   "execution_count": 281,
   "metadata": {},
   "outputs": [],
   "source": [
    "ultimos30dias=pd.to_datetime((datetime.datetime.today() - timedelta(days=30)))"
   ]
  },
  {
   "cell_type": "code",
   "execution_count": 282,
   "metadata": {
    "scrolled": true
   },
   "outputs": [
    {
     "data": {
      "text/plain": [
       "Timestamp('2020-02-26 12:17:59.904716')"
      ]
     },
     "execution_count": 282,
     "metadata": {},
     "output_type": "execute_result"
    }
   ],
   "source": [
    "ultimos30dias"
   ]
  },
  {
   "cell_type": "code",
   "execution_count": 283,
   "metadata": {},
   "outputs": [],
   "source": [
    "ultimos30dias=ultimos30dias.tz_localize('UTC')"
   ]
  },
  {
   "cell_type": "markdown",
   "metadata": {},
   "source": [
    "Con rebeca"
   ]
  },
  {
   "cell_type": "code",
   "execution_count": 284,
   "metadata": {},
   "outputs": [],
   "source": [
    "mes_hoy=datetime.datetime.today().month"
   ]
  },
  {
   "cell_type": "code",
   "execution_count": 285,
   "metadata": {},
   "outputs": [],
   "source": [
    "mes_ant=mes_hoy-1"
   ]
  },
  {
   "cell_type": "code",
   "execution_count": 286,
   "metadata": {},
   "outputs": [],
   "source": [
    "primer_diamesAnterior=pd.to_datetime(datetime.datetime.today().replace(month=mes_ant,day=1,hour=00,minute=0,second=0,microsecond=0))"
   ]
  },
  {
   "cell_type": "code",
   "execution_count": 287,
   "metadata": {},
   "outputs": [],
   "source": [
    "primer_diamesAnterior=primer_diamesAnterior.tz_localize('UTC')"
   ]
  },
  {
   "cell_type": "code",
   "execution_count": 288,
   "metadata": {},
   "outputs": [],
   "source": [
    "ultimo_diamesAnterir=pd.to_datetime(datetime.datetime.today().replace(day=1,hour=00,minute=0,second=0,microsecond=0))"
   ]
  },
  {
   "cell_type": "code",
   "execution_count": 289,
   "metadata": {},
   "outputs": [],
   "source": [
    "ultimo_diamesAnterir=ultimo_diamesAnterir.tz_localize('UTC')"
   ]
  },
  {
   "cell_type": "code",
   "execution_count": 290,
   "metadata": {},
   "outputs": [
    {
     "data": {
      "text/plain": [
       "Timestamp('2020-02-26 12:17:59.904716+0000', tz='UTC')"
      ]
     },
     "execution_count": 290,
     "metadata": {},
     "output_type": "execute_result"
    }
   ],
   "source": [
    "ultimos30dias"
   ]
  },
  {
   "cell_type": "code",
   "execution_count": 291,
   "metadata": {},
   "outputs": [],
   "source": [
    "user_conexionesLast30Days=user_conexiones.loc[user_conexiones['updatedAt'] > ultimos30dias]"
   ]
  },
  {
   "cell_type": "code",
   "execution_count": 292,
   "metadata": {
    "scrolled": false
   },
   "outputs": [
    {
     "name": "stdout",
     "output_type": "stream",
     "text": [
      "<class 'pandas.core.frame.DataFrame'>\n",
      "Int64Index: 12 entries, 516 to 527\n",
      "Data columns (total 10 columns):\n",
      " #   Column       Non-Null Count  Dtype              \n",
      "---  ------       --------------  -----              \n",
      " 0   _id_x        12 non-null     object             \n",
      " 1   email        12 non-null     object             \n",
      " 2   cliente_id   12 non-null     object             \n",
      " 3   user_id      12 non-null     object             \n",
      " 4   CUSTOMER_ID  12 non-null     int64              \n",
      " 5   _id_y        12 non-null     object             \n",
      " 6   updatedAt    12 non-null     datetime64[ns, UTC]\n",
      " 7   createdAt    12 non-null     object             \n",
      " 8   _user        12 non-null     object             \n",
      " 9   _merge       12 non-null     category           \n",
      "dtypes: category(1), datetime64[ns, UTC](1), int64(1), object(7)\n",
      "memory usage: 1.1+ KB\n"
     ]
    }
   ],
   "source": [
    "user_conexionesLast30Days.info()"
   ]
  },
  {
   "cell_type": "code",
   "execution_count": 293,
   "metadata": {},
   "outputs": [
    {
     "data": {
      "text/plain": [
       "1"
      ]
     },
     "execution_count": 293,
     "metadata": {},
     "output_type": "execute_result"
    }
   ],
   "source": [
    "user_conexionesLast30Days._user.nunique()"
   ]
  },
  {
   "cell_type": "code",
   "execution_count": 294,
   "metadata": {},
   "outputs": [],
   "source": [
    "user_conexionesLast30Days=user_conexionesLast30Days.groupby('user_id').agg(conexionesLast30Days=('updatedAt','count'))"
   ]
  },
  {
   "cell_type": "code",
   "execution_count": 295,
   "metadata": {},
   "outputs": [
    {
     "data": {
      "text/html": [
       "<div>\n",
       "<style scoped>\n",
       "    .dataframe tbody tr th:only-of-type {\n",
       "        vertical-align: middle;\n",
       "    }\n",
       "\n",
       "    .dataframe tbody tr th {\n",
       "        vertical-align: top;\n",
       "    }\n",
       "\n",
       "    .dataframe thead th {\n",
       "        text-align: right;\n",
       "    }\n",
       "</style>\n",
       "<table border=\"1\" class=\"dataframe\">\n",
       "  <thead>\n",
       "    <tr style=\"text-align: right;\">\n",
       "      <th></th>\n",
       "      <th>conexionesLast30Days</th>\n",
       "    </tr>\n",
       "    <tr>\n",
       "      <th>user_id</th>\n",
       "      <th></th>\n",
       "    </tr>\n",
       "  </thead>\n",
       "  <tbody>\n",
       "    <tr>\n",
       "      <th>563857913817661751603e01</th>\n",
       "      <td>12</td>\n",
       "    </tr>\n",
       "  </tbody>\n",
       "</table>\n",
       "</div>"
      ],
      "text/plain": [
       "                          conexionesLast30Days\n",
       "user_id                                       \n",
       "563857913817661751603e01                    12"
      ]
     },
     "execution_count": 295,
     "metadata": {},
     "output_type": "execute_result"
    }
   ],
   "source": [
    "user_conexionesLast30Days"
   ]
  },
  {
   "cell_type": "markdown",
   "metadata": {},
   "source": [
    "#### Obtener el último login"
   ]
  },
  {
   "cell_type": "code",
   "execution_count": 296,
   "metadata": {
    "scrolled": true
   },
   "outputs": [],
   "source": [
    "cusLastLoginDate=user_conexiones.groupby('user_id').agg(cusLastLoginDate=('updatedAt','last'),cusLoginsLifetime=('updatedAt','count'))"
   ]
  },
  {
   "cell_type": "code",
   "execution_count": null,
   "metadata": {},
   "outputs": [],
   "source": []
  },
  {
   "cell_type": "markdown",
   "metadata": {},
   "source": [
    "#### Obtener cusLoginsThisMonth"
   ]
  },
  {
   "cell_type": "code",
   "execution_count": 297,
   "metadata": {},
   "outputs": [],
   "source": [
    "hoy=datetime.datetime.today()"
   ]
  },
  {
   "cell_type": "code",
   "execution_count": 298,
   "metadata": {},
   "outputs": [],
   "source": [
    "primer_diames=pd.to_datetime(datetime.datetime.today().replace(day=1,hour=00,minute=0,second=0,microsecond=0))"
   ]
  },
  {
   "cell_type": "code",
   "execution_count": 299,
   "metadata": {},
   "outputs": [],
   "source": [
    "primer_diames=primer_diames.tz_localize('UTC')"
   ]
  },
  {
   "cell_type": "code",
   "execution_count": 300,
   "metadata": {},
   "outputs": [
    {
     "data": {
      "text/plain": [
       "Timestamp('2020-03-01 00:00:00+0000', tz='UTC')"
      ]
     },
     "execution_count": 300,
     "metadata": {},
     "output_type": "execute_result"
    }
   ],
   "source": [
    "primer_diames"
   ]
  },
  {
   "cell_type": "code",
   "execution_count": 301,
   "metadata": {},
   "outputs": [],
   "source": [
    "user_cusLoginsThisMonth=user_conexiones.loc[user_conexiones['updatedAt'] > primer_diames]"
   ]
  },
  {
   "cell_type": "code",
   "execution_count": 302,
   "metadata": {},
   "outputs": [],
   "source": [
    "user_cusLoginsThisMonth=user_cusLoginsThisMonth.groupby('user_id').agg(cusLoginsThisMonth=('updatedAt', 'count') )"
   ]
  },
  {
   "cell_type": "code",
   "execution_count": 303,
   "metadata": {},
   "outputs": [
    {
     "data": {
      "text/html": [
       "<div>\n",
       "<style scoped>\n",
       "    .dataframe tbody tr th:only-of-type {\n",
       "        vertical-align: middle;\n",
       "    }\n",
       "\n",
       "    .dataframe tbody tr th {\n",
       "        vertical-align: top;\n",
       "    }\n",
       "\n",
       "    .dataframe thead th {\n",
       "        text-align: right;\n",
       "    }\n",
       "</style>\n",
       "<table border=\"1\" class=\"dataframe\">\n",
       "  <thead>\n",
       "    <tr style=\"text-align: right;\">\n",
       "      <th></th>\n",
       "      <th>cusLoginsThisMonth</th>\n",
       "    </tr>\n",
       "    <tr>\n",
       "      <th>user_id</th>\n",
       "      <th></th>\n",
       "    </tr>\n",
       "  </thead>\n",
       "  <tbody>\n",
       "    <tr>\n",
       "      <th>563857913817661751603e01</th>\n",
       "      <td>10</td>\n",
       "    </tr>\n",
       "  </tbody>\n",
       "</table>\n",
       "</div>"
      ],
      "text/plain": [
       "                          cusLoginsThisMonth\n",
       "user_id                                     \n",
       "563857913817661751603e01                  10"
      ]
     },
     "execution_count": 303,
     "metadata": {},
     "output_type": "execute_result"
    }
   ],
   "source": [
    "user_cusLoginsThisMonth"
   ]
  },
  {
   "cell_type": "code",
   "execution_count": null,
   "metadata": {},
   "outputs": [],
   "source": []
  },
  {
   "cell_type": "markdown",
   "metadata": {},
   "source": [
    "#### Obtener cusLoginsPreviousMonth"
   ]
  },
  {
   "cell_type": "code",
   "execution_count": 304,
   "metadata": {},
   "outputs": [
    {
     "data": {
      "text/plain": [
       "Timestamp('2020-02-01 00:00:00+0000', tz='UTC')"
      ]
     },
     "execution_count": 304,
     "metadata": {},
     "output_type": "execute_result"
    }
   ],
   "source": [
    "primer_diamesAnterior"
   ]
  },
  {
   "cell_type": "code",
   "execution_count": 305,
   "metadata": {},
   "outputs": [
    {
     "data": {
      "text/plain": [
       "Timestamp('2020-03-01 00:00:00+0000', tz='UTC')"
      ]
     },
     "execution_count": 305,
     "metadata": {},
     "output_type": "execute_result"
    }
   ],
   "source": [
    "ultimo_diamesAnterir"
   ]
  },
  {
   "cell_type": "code",
   "execution_count": 306,
   "metadata": {},
   "outputs": [],
   "source": [
    "user_conexiones_cusLoginsPreviousMonth=user_conexiones.loc[(user_conexiones['updatedAt'] > primer_diamesAnterior)&(user_conexiones['updatedAt'] < ultimo_diamesAnterir)]"
   ]
  },
  {
   "cell_type": "code",
   "execution_count": 307,
   "metadata": {},
   "outputs": [
    {
     "name": "stdout",
     "output_type": "stream",
     "text": [
      "<class 'pandas.core.frame.DataFrame'>\n",
      "Int64Index: 2 entries, 516 to 517\n",
      "Data columns (total 10 columns):\n",
      " #   Column       Non-Null Count  Dtype              \n",
      "---  ------       --------------  -----              \n",
      " 0   _id_x        2 non-null      object             \n",
      " 1   email        2 non-null      object             \n",
      " 2   cliente_id   2 non-null      object             \n",
      " 3   user_id      2 non-null      object             \n",
      " 4   CUSTOMER_ID  2 non-null      int64              \n",
      " 5   _id_y        2 non-null      object             \n",
      " 6   updatedAt    2 non-null      datetime64[ns, UTC]\n",
      " 7   createdAt    2 non-null      object             \n",
      " 8   _user        2 non-null      object             \n",
      " 9   _merge       2 non-null      category           \n",
      "dtypes: category(1), datetime64[ns, UTC](1), int64(1), object(7)\n",
      "memory usage: 266.0+ bytes\n"
     ]
    }
   ],
   "source": [
    "user_conexiones_cusLoginsPreviousMonth.info()"
   ]
  },
  {
   "cell_type": "code",
   "execution_count": 308,
   "metadata": {},
   "outputs": [],
   "source": [
    "user_conexiones_cusLoginsPreviousMonth=user_conexiones_cusLoginsPreviousMonth.groupby('user_id').agg(cusLoginsPreviousMonth=('updatedAt','count') )"
   ]
  },
  {
   "cell_type": "code",
   "execution_count": 309,
   "metadata": {},
   "outputs": [
    {
     "data": {
      "text/html": [
       "<div>\n",
       "<style scoped>\n",
       "    .dataframe tbody tr th:only-of-type {\n",
       "        vertical-align: middle;\n",
       "    }\n",
       "\n",
       "    .dataframe tbody tr th {\n",
       "        vertical-align: top;\n",
       "    }\n",
       "\n",
       "    .dataframe thead th {\n",
       "        text-align: right;\n",
       "    }\n",
       "</style>\n",
       "<table border=\"1\" class=\"dataframe\">\n",
       "  <thead>\n",
       "    <tr style=\"text-align: right;\">\n",
       "      <th></th>\n",
       "      <th>cusLoginsPreviousMonth</th>\n",
       "    </tr>\n",
       "    <tr>\n",
       "      <th>user_id</th>\n",
       "      <th></th>\n",
       "    </tr>\n",
       "  </thead>\n",
       "  <tbody>\n",
       "    <tr>\n",
       "      <th>563857913817661751603e01</th>\n",
       "      <td>2</td>\n",
       "    </tr>\n",
       "  </tbody>\n",
       "</table>\n",
       "</div>"
      ],
      "text/plain": [
       "                          cusLoginsPreviousMonth\n",
       "user_id                                         \n",
       "563857913817661751603e01                       2"
      ]
     },
     "execution_count": 309,
     "metadata": {},
     "output_type": "execute_result"
    }
   ],
   "source": [
    "user_conexiones_cusLoginsPreviousMonth"
   ]
  },
  {
   "cell_type": "code",
   "execution_count": null,
   "metadata": {},
   "outputs": [],
   "source": []
  },
  {
   "cell_type": "markdown",
   "metadata": {},
   "source": [
    "#### Obtener cusLoginsLast3Months "
   ]
  },
  {
   "cell_type": "code",
   "execution_count": 310,
   "metadata": {},
   "outputs": [],
   "source": [
    "def periodo3():\n",
    "    hoy=datetime.datetime.today()\n",
    "    mes_hoy=hoy.month\n",
    "    mes_last3Month=mes_hoy-3\n",
    "    if (mes_last3Month == 0):\n",
    "        mes_last3Month=12\n",
    "        ano=hoy.year-1\n",
    "        limite_izq=pd.to_datetime(datetime.datetime.today().replace(year=ano,month=mes_last3Month,day=1,hour=00,minute=0,second=0,microsecond=0))\n",
    "        limite_izq=limite_izq.tz_localize('UTC')\n",
    "        print(limite_izq)\n",
    "    if (mes_last3Month == -1):\n",
    "        mes_last3Month=11\n",
    "        ano=hoy.year-1\n",
    "        limite_izq=pd.to_datetime(datetime.datetime.today().replace(year=ano,month=mes_last3Month,day=1,hour=00,minute=0,second=0,microsecond=0))\n",
    "    if (mes_last3Month == -2):\n",
    "        mes_last3Month=10\n",
    "        ano=hoy.year-1\n",
    "        limite_izq=pd.to_datetime(datetime.datetime.today().replace(year=ano,month=mes_last3Month,day=1,hour=00,minute=0,second=0,microsecond=0))\n",
    "     \n",
    "    return limite_izq"
   ]
  },
  {
   "cell_type": "code",
   "execution_count": 311,
   "metadata": {
    "scrolled": true
   },
   "outputs": [
    {
     "name": "stdout",
     "output_type": "stream",
     "text": [
      "2019-12-01 00:00:00+00:00\n"
     ]
    }
   ],
   "source": [
    "mes_inici3=periodo3()"
   ]
  },
  {
   "cell_type": "code",
   "execution_count": 312,
   "metadata": {},
   "outputs": [
    {
     "data": {
      "text/plain": [
       "Timestamp('2019-12-01 00:00:00+0000', tz='UTC')"
      ]
     },
     "execution_count": 312,
     "metadata": {},
     "output_type": "execute_result"
    }
   ],
   "source": [
    "mes_inici3"
   ]
  },
  {
   "cell_type": "code",
   "execution_count": 313,
   "metadata": {},
   "outputs": [],
   "source": [
    "user_conexiones_cusLoginsLast3Months=user_conexiones.loc[(user_conexiones['updatedAt'] > mes_inici3)&(user_conexiones['updatedAt'] < ultimo_diamesAnterir)]"
   ]
  },
  {
   "cell_type": "code",
   "execution_count": 314,
   "metadata": {},
   "outputs": [],
   "source": [
    "user_conexiones_cusLoginsLast3Months=user_conexiones_cusLoginsLast3Months.groupby('user_id').agg(cusLoginsLast3Months=('updatedAt', 'count') )"
   ]
  },
  {
   "cell_type": "code",
   "execution_count": 315,
   "metadata": {},
   "outputs": [
    {
     "data": {
      "text/html": [
       "<div>\n",
       "<style scoped>\n",
       "    .dataframe tbody tr th:only-of-type {\n",
       "        vertical-align: middle;\n",
       "    }\n",
       "\n",
       "    .dataframe tbody tr th {\n",
       "        vertical-align: top;\n",
       "    }\n",
       "\n",
       "    .dataframe thead th {\n",
       "        text-align: right;\n",
       "    }\n",
       "</style>\n",
       "<table border=\"1\" class=\"dataframe\">\n",
       "  <thead>\n",
       "    <tr style=\"text-align: right;\">\n",
       "      <th></th>\n",
       "      <th>cusLoginsLast3Months</th>\n",
       "    </tr>\n",
       "    <tr>\n",
       "      <th>user_id</th>\n",
       "      <th></th>\n",
       "    </tr>\n",
       "  </thead>\n",
       "  <tbody>\n",
       "    <tr>\n",
       "      <th>563857913817661751603e01</th>\n",
       "      <td>20</td>\n",
       "    </tr>\n",
       "    <tr>\n",
       "      <th>563857913817661751603e44</th>\n",
       "      <td>1</td>\n",
       "    </tr>\n",
       "  </tbody>\n",
       "</table>\n",
       "</div>"
      ],
      "text/plain": [
       "                          cusLoginsLast3Months\n",
       "user_id                                       \n",
       "563857913817661751603e01                    20\n",
       "563857913817661751603e44                     1"
      ]
     },
     "execution_count": 315,
     "metadata": {},
     "output_type": "execute_result"
    }
   ],
   "source": [
    "user_conexiones_cusLoginsLast3Months"
   ]
  },
  {
   "cell_type": "code",
   "execution_count": null,
   "metadata": {},
   "outputs": [],
   "source": []
  },
  {
   "cell_type": "markdown",
   "metadata": {},
   "source": [
    "#### Obtener cusLoginsLast12Months"
   ]
  },
  {
   "cell_type": "code",
   "execution_count": 316,
   "metadata": {},
   "outputs": [],
   "source": [
    "def periodo12():\n",
    "    hoy=datetime.datetime.today()\n",
    "    month=hoy.month\n",
    "    ano=hoy.year-1\n",
    "    limite_izq=pd.to_datetime(datetime.datetime.today().replace(year=ano,month=month,day=1,hour=00,minute=0,second=0,microsecond=0))\n",
    "    limite_izq=limite_izq.tz_localize('UTC')\n",
    "\n",
    "    return limite_izq"
   ]
  },
  {
   "cell_type": "code",
   "execution_count": 317,
   "metadata": {},
   "outputs": [],
   "source": [
    "mes_inici12=periodo12()"
   ]
  },
  {
   "cell_type": "code",
   "execution_count": 318,
   "metadata": {},
   "outputs": [
    {
     "data": {
      "text/plain": [
       "Timestamp('2019-03-01 00:00:00+0000', tz='UTC')"
      ]
     },
     "execution_count": 318,
     "metadata": {},
     "output_type": "execute_result"
    }
   ],
   "source": [
    "mes_inici12"
   ]
  },
  {
   "cell_type": "code",
   "execution_count": 319,
   "metadata": {},
   "outputs": [],
   "source": [
    "user_conexiones_cusLoginsLast12Months=user_conexiones.loc[(user_conexiones['updatedAt']>mes_inici12)&(user_conexiones['updatedAt'] < ultimo_diamesAnterir)]"
   ]
  },
  {
   "cell_type": "code",
   "execution_count": 320,
   "metadata": {},
   "outputs": [],
   "source": [
    "user_conexiones_cusLoginsLast12Months=user_conexiones_cusLoginsLast12Months.groupby('user_id').agg(cusLoginsLast12Months=('updatedAt','count'))"
   ]
  },
  {
   "cell_type": "code",
   "execution_count": 321,
   "metadata": {},
   "outputs": [
    {
     "data": {
      "text/html": [
       "<div>\n",
       "<style scoped>\n",
       "    .dataframe tbody tr th:only-of-type {\n",
       "        vertical-align: middle;\n",
       "    }\n",
       "\n",
       "    .dataframe tbody tr th {\n",
       "        vertical-align: top;\n",
       "    }\n",
       "\n",
       "    .dataframe thead th {\n",
       "        text-align: right;\n",
       "    }\n",
       "</style>\n",
       "<table border=\"1\" class=\"dataframe\">\n",
       "  <thead>\n",
       "    <tr style=\"text-align: right;\">\n",
       "      <th></th>\n",
       "      <th>cusLoginsLast12Months</th>\n",
       "    </tr>\n",
       "    <tr>\n",
       "      <th>user_id</th>\n",
       "      <th></th>\n",
       "    </tr>\n",
       "  </thead>\n",
       "  <tbody>\n",
       "    <tr>\n",
       "      <th>563857913817661751603e01</th>\n",
       "      <td>407</td>\n",
       "    </tr>\n",
       "    <tr>\n",
       "      <th>563857913817661751603e1e</th>\n",
       "      <td>1</td>\n",
       "    </tr>\n",
       "    <tr>\n",
       "      <th>563857913817661751603e44</th>\n",
       "      <td>72</td>\n",
       "    </tr>\n",
       "    <tr>\n",
       "      <th>563857923817661751603e74</th>\n",
       "      <td>46</td>\n",
       "    </tr>\n",
       "    <tr>\n",
       "      <th>563857923817661751603e7a</th>\n",
       "      <td>2</td>\n",
       "    </tr>\n",
       "    <tr>\n",
       "      <th>563857923817661751603e9b</th>\n",
       "      <td>63</td>\n",
       "    </tr>\n",
       "  </tbody>\n",
       "</table>\n",
       "</div>"
      ],
      "text/plain": [
       "                          cusLoginsLast12Months\n",
       "user_id                                        \n",
       "563857913817661751603e01                    407\n",
       "563857913817661751603e1e                      1\n",
       "563857913817661751603e44                     72\n",
       "563857923817661751603e74                     46\n",
       "563857923817661751603e7a                      2\n",
       "563857923817661751603e9b                     63"
      ]
     },
     "execution_count": 321,
     "metadata": {},
     "output_type": "execute_result"
    }
   ],
   "source": [
    "user_conexiones_cusLoginsLast12Months"
   ]
  },
  {
   "cell_type": "code",
   "execution_count": 322,
   "metadata": {
    "scrolled": true
   },
   "outputs": [
    {
     "data": {
      "text/plain": [
       "pandas.core.frame.DataFrame"
      ]
     },
     "execution_count": 322,
     "metadata": {},
     "output_type": "execute_result"
    }
   ],
   "source": [
    "type(user_conexiones_cusLoginsLast12Months)"
   ]
  },
  {
   "cell_type": "code",
   "execution_count": 323,
   "metadata": {},
   "outputs": [],
   "source": [
    "user_conexiones_cusLoginsBefore12Month=user_conexiones.loc[(user_conexiones['updatedAt']<mes_inici12)&(user_conexiones['updatedAt'] < ultimo_diamesAnterir)]"
   ]
  },
  {
   "cell_type": "code",
   "execution_count": 324,
   "metadata": {},
   "outputs": [],
   "source": [
    "user_conexiones_cusLoginsBefore12Month=user_conexiones_cusLoginsBefore12Month.groupby('user_id').agg(LoginsBefore12Month=('updatedAt','count'))"
   ]
  },
  {
   "cell_type": "code",
   "execution_count": null,
   "metadata": {},
   "outputs": [],
   "source": []
  },
  {
   "cell_type": "code",
   "execution_count": null,
   "metadata": {},
   "outputs": [],
   "source": []
  },
  {
   "cell_type": "markdown",
   "metadata": {},
   "source": [
    "## ARMANDO LA TABLA FINAL"
   ]
  },
  {
   "cell_type": "code",
   "execution_count": 325,
   "metadata": {},
   "outputs": [],
   "source": [
    "frames = [cusLastLoginDate,user_conexioneslife, user_cusLoginsThisMonth, user_conexionesLast30Days,user_conexiones_cusLoginsPreviousMonth,user_conexiones_cusLoginsLast3Months,user_conexiones_cusLoginsLast12Months,user_conexiones_cusLoginsBefore12Month]"
   ]
  },
  {
   "cell_type": "code",
   "execution_count": 326,
   "metadata": {},
   "outputs": [],
   "source": [
    "CDF_LoginSummary = pd.concat(frames)"
   ]
  },
  {
   "cell_type": "code",
   "execution_count": 327,
   "metadata": {},
   "outputs": [
    {
     "data": {
      "text/html": [
       "<div>\n",
       "<style scoped>\n",
       "    .dataframe tbody tr th:only-of-type {\n",
       "        vertical-align: middle;\n",
       "    }\n",
       "\n",
       "    .dataframe tbody tr th {\n",
       "        vertical-align: top;\n",
       "    }\n",
       "\n",
       "    .dataframe thead th {\n",
       "        text-align: right;\n",
       "    }\n",
       "</style>\n",
       "<table border=\"1\" class=\"dataframe\">\n",
       "  <thead>\n",
       "    <tr style=\"text-align: right;\">\n",
       "      <th></th>\n",
       "      <th>cusLastLoginDate</th>\n",
       "      <th>cusLoginsLifetime</th>\n",
       "      <th>conexioneslife</th>\n",
       "      <th>cusLoginsThisMonth</th>\n",
       "      <th>conexionesLast30Days</th>\n",
       "      <th>cusLoginsPreviousMonth</th>\n",
       "      <th>cusLoginsLast3Months</th>\n",
       "      <th>cusLoginsLast12Months</th>\n",
       "      <th>LoginsBefore12Month</th>\n",
       "    </tr>\n",
       "    <tr>\n",
       "      <th>user_id</th>\n",
       "      <th></th>\n",
       "      <th></th>\n",
       "      <th></th>\n",
       "      <th></th>\n",
       "      <th></th>\n",
       "      <th></th>\n",
       "      <th></th>\n",
       "      <th></th>\n",
       "      <th></th>\n",
       "    </tr>\n",
       "  </thead>\n",
       "  <tbody>\n",
       "    <tr>\n",
       "      <th>563857913817661751603df1</th>\n",
       "      <td>NaT</td>\n",
       "      <td>0.0</td>\n",
       "      <td>NaN</td>\n",
       "      <td>NaN</td>\n",
       "      <td>NaN</td>\n",
       "      <td>NaN</td>\n",
       "      <td>NaN</td>\n",
       "      <td>NaN</td>\n",
       "      <td>NaN</td>\n",
       "    </tr>\n",
       "    <tr>\n",
       "      <th>563857913817661751603df2</th>\n",
       "      <td>NaT</td>\n",
       "      <td>0.0</td>\n",
       "      <td>NaN</td>\n",
       "      <td>NaN</td>\n",
       "      <td>NaN</td>\n",
       "      <td>NaN</td>\n",
       "      <td>NaN</td>\n",
       "      <td>NaN</td>\n",
       "      <td>NaN</td>\n",
       "    </tr>\n",
       "    <tr>\n",
       "      <th>563857913817661751603df3</th>\n",
       "      <td>NaT</td>\n",
       "      <td>0.0</td>\n",
       "      <td>NaN</td>\n",
       "      <td>NaN</td>\n",
       "      <td>NaN</td>\n",
       "      <td>NaN</td>\n",
       "      <td>NaN</td>\n",
       "      <td>NaN</td>\n",
       "      <td>NaN</td>\n",
       "    </tr>\n",
       "    <tr>\n",
       "      <th>563857913817661751603df4</th>\n",
       "      <td>2019-02-23 14:36:42.888000+00:00</td>\n",
       "      <td>1.0</td>\n",
       "      <td>NaN</td>\n",
       "      <td>NaN</td>\n",
       "      <td>NaN</td>\n",
       "      <td>NaN</td>\n",
       "      <td>NaN</td>\n",
       "      <td>NaN</td>\n",
       "      <td>NaN</td>\n",
       "    </tr>\n",
       "    <tr>\n",
       "      <th>563857913817661751603df5</th>\n",
       "      <td>NaT</td>\n",
       "      <td>0.0</td>\n",
       "      <td>NaN</td>\n",
       "      <td>NaN</td>\n",
       "      <td>NaN</td>\n",
       "      <td>NaN</td>\n",
       "      <td>NaN</td>\n",
       "      <td>NaN</td>\n",
       "      <td>NaN</td>\n",
       "    </tr>\n",
       "    <tr>\n",
       "      <th>...</th>\n",
       "      <td>...</td>\n",
       "      <td>...</td>\n",
       "      <td>...</td>\n",
       "      <td>...</td>\n",
       "      <td>...</td>\n",
       "      <td>...</td>\n",
       "      <td>...</td>\n",
       "      <td>...</td>\n",
       "      <td>...</td>\n",
       "    </tr>\n",
       "    <tr>\n",
       "      <th>563857923817661751603e74</th>\n",
       "      <td>NaT</td>\n",
       "      <td>NaN</td>\n",
       "      <td>NaN</td>\n",
       "      <td>NaN</td>\n",
       "      <td>NaN</td>\n",
       "      <td>NaN</td>\n",
       "      <td>NaN</td>\n",
       "      <td>NaN</td>\n",
       "      <td>33.0</td>\n",
       "    </tr>\n",
       "    <tr>\n",
       "      <th>563857923817661751603e7b</th>\n",
       "      <td>NaT</td>\n",
       "      <td>NaN</td>\n",
       "      <td>NaN</td>\n",
       "      <td>NaN</td>\n",
       "      <td>NaN</td>\n",
       "      <td>NaN</td>\n",
       "      <td>NaN</td>\n",
       "      <td>NaN</td>\n",
       "      <td>1.0</td>\n",
       "    </tr>\n",
       "    <tr>\n",
       "      <th>563857923817661751603e95</th>\n",
       "      <td>NaT</td>\n",
       "      <td>NaN</td>\n",
       "      <td>NaN</td>\n",
       "      <td>NaN</td>\n",
       "      <td>NaN</td>\n",
       "      <td>NaN</td>\n",
       "      <td>NaN</td>\n",
       "      <td>NaN</td>\n",
       "      <td>1.0</td>\n",
       "    </tr>\n",
       "    <tr>\n",
       "      <th>563857923817661751603e9b</th>\n",
       "      <td>NaT</td>\n",
       "      <td>NaN</td>\n",
       "      <td>NaN</td>\n",
       "      <td>NaN</td>\n",
       "      <td>NaN</td>\n",
       "      <td>NaN</td>\n",
       "      <td>NaN</td>\n",
       "      <td>NaN</td>\n",
       "      <td>48.0</td>\n",
       "    </tr>\n",
       "    <tr>\n",
       "      <th>57e2d480bf95bde745402728</th>\n",
       "      <td>NaT</td>\n",
       "      <td>NaN</td>\n",
       "      <td>NaN</td>\n",
       "      <td>NaN</td>\n",
       "      <td>NaN</td>\n",
       "      <td>NaN</td>\n",
       "      <td>NaN</td>\n",
       "      <td>NaN</td>\n",
       "      <td>6.0</td>\n",
       "    </tr>\n",
       "  </tbody>\n",
       "</table>\n",
       "<p>322 rows × 9 columns</p>\n",
       "</div>"
      ],
      "text/plain": [
       "                                         cusLastLoginDate  cusLoginsLifetime  \\\n",
       "user_id                                                                        \n",
       "563857913817661751603df1                              NaT                0.0   \n",
       "563857913817661751603df2                              NaT                0.0   \n",
       "563857913817661751603df3                              NaT                0.0   \n",
       "563857913817661751603df4 2019-02-23 14:36:42.888000+00:00                1.0   \n",
       "563857913817661751603df5                              NaT                0.0   \n",
       "...                                                   ...                ...   \n",
       "563857923817661751603e74                              NaT                NaN   \n",
       "563857923817661751603e7b                              NaT                NaN   \n",
       "563857923817661751603e95                              NaT                NaN   \n",
       "563857923817661751603e9b                              NaT                NaN   \n",
       "57e2d480bf95bde745402728                              NaT                NaN   \n",
       "\n",
       "                          conexioneslife  cusLoginsThisMonth  \\\n",
       "user_id                                                        \n",
       "563857913817661751603df1             NaN                 NaN   \n",
       "563857913817661751603df2             NaN                 NaN   \n",
       "563857913817661751603df3             NaN                 NaN   \n",
       "563857913817661751603df4             NaN                 NaN   \n",
       "563857913817661751603df5             NaN                 NaN   \n",
       "...                                  ...                 ...   \n",
       "563857923817661751603e74             NaN                 NaN   \n",
       "563857923817661751603e7b             NaN                 NaN   \n",
       "563857923817661751603e95             NaN                 NaN   \n",
       "563857923817661751603e9b             NaN                 NaN   \n",
       "57e2d480bf95bde745402728             NaN                 NaN   \n",
       "\n",
       "                          conexionesLast30Days  cusLoginsPreviousMonth  \\\n",
       "user_id                                                                  \n",
       "563857913817661751603df1                   NaN                     NaN   \n",
       "563857913817661751603df2                   NaN                     NaN   \n",
       "563857913817661751603df3                   NaN                     NaN   \n",
       "563857913817661751603df4                   NaN                     NaN   \n",
       "563857913817661751603df5                   NaN                     NaN   \n",
       "...                                        ...                     ...   \n",
       "563857923817661751603e74                   NaN                     NaN   \n",
       "563857923817661751603e7b                   NaN                     NaN   \n",
       "563857923817661751603e95                   NaN                     NaN   \n",
       "563857923817661751603e9b                   NaN                     NaN   \n",
       "57e2d480bf95bde745402728                   NaN                     NaN   \n",
       "\n",
       "                          cusLoginsLast3Months  cusLoginsLast12Months  \\\n",
       "user_id                                                                 \n",
       "563857913817661751603df1                   NaN                    NaN   \n",
       "563857913817661751603df2                   NaN                    NaN   \n",
       "563857913817661751603df3                   NaN                    NaN   \n",
       "563857913817661751603df4                   NaN                    NaN   \n",
       "563857913817661751603df5                   NaN                    NaN   \n",
       "...                                        ...                    ...   \n",
       "563857923817661751603e74                   NaN                    NaN   \n",
       "563857923817661751603e7b                   NaN                    NaN   \n",
       "563857923817661751603e95                   NaN                    NaN   \n",
       "563857923817661751603e9b                   NaN                    NaN   \n",
       "57e2d480bf95bde745402728                   NaN                    NaN   \n",
       "\n",
       "                          LoginsBefore12Month  \n",
       "user_id                                        \n",
       "563857913817661751603df1                  NaN  \n",
       "563857913817661751603df2                  NaN  \n",
       "563857913817661751603df3                  NaN  \n",
       "563857913817661751603df4                  NaN  \n",
       "563857913817661751603df5                  NaN  \n",
       "...                                       ...  \n",
       "563857923817661751603e74                 33.0  \n",
       "563857923817661751603e7b                  1.0  \n",
       "563857923817661751603e95                  1.0  \n",
       "563857923817661751603e9b                 48.0  \n",
       "57e2d480bf95bde745402728                  6.0  \n",
       "\n",
       "[322 rows x 9 columns]"
      ]
     },
     "execution_count": 327,
     "metadata": {},
     "output_type": "execute_result"
    }
   ],
   "source": [
    "CDF_LoginSummary"
   ]
  },
  {
   "cell_type": "code",
   "execution_count": null,
   "metadata": {},
   "outputs": [],
   "source": []
  },
  {
   "cell_type": "code",
   "execution_count": 328,
   "metadata": {},
   "outputs": [],
   "source": [
    " result = pd.concat([user_conexioneslife, user_conexiones_cusLoginsLast12Months], axis=1).reindex(user_conexiones_cusLoginsLast12Months.index)"
   ]
  },
  {
   "cell_type": "code",
   "execution_count": 329,
   "metadata": {},
   "outputs": [
    {
     "data": {
      "text/html": [
       "<div>\n",
       "<style scoped>\n",
       "    .dataframe tbody tr th:only-of-type {\n",
       "        vertical-align: middle;\n",
       "    }\n",
       "\n",
       "    .dataframe tbody tr th {\n",
       "        vertical-align: top;\n",
       "    }\n",
       "\n",
       "    .dataframe thead th {\n",
       "        text-align: right;\n",
       "    }\n",
       "</style>\n",
       "<table border=\"1\" class=\"dataframe\">\n",
       "  <thead>\n",
       "    <tr style=\"text-align: right;\">\n",
       "      <th></th>\n",
       "      <th>conexioneslife</th>\n",
       "      <th>cusLoginsLast12Months</th>\n",
       "    </tr>\n",
       "    <tr>\n",
       "      <th>user_id</th>\n",
       "      <th></th>\n",
       "      <th></th>\n",
       "    </tr>\n",
       "  </thead>\n",
       "  <tbody>\n",
       "    <tr>\n",
       "      <th>563857913817661751603e01</th>\n",
       "      <td>448</td>\n",
       "      <td>407.0</td>\n",
       "    </tr>\n",
       "    <tr>\n",
       "      <th>563857913817661751603e1e</th>\n",
       "      <td>1</td>\n",
       "      <td>1.0</td>\n",
       "    </tr>\n",
       "    <tr>\n",
       "      <th>563857913817661751603e44</th>\n",
       "      <td>78</td>\n",
       "      <td>72.0</td>\n",
       "    </tr>\n",
       "    <tr>\n",
       "      <th>563857923817661751603e74</th>\n",
       "      <td>79</td>\n",
       "      <td>46.0</td>\n",
       "    </tr>\n",
       "    <tr>\n",
       "      <th>563857923817661751603e7a</th>\n",
       "      <td>2</td>\n",
       "      <td>2.0</td>\n",
       "    </tr>\n",
       "    <tr>\n",
       "      <th>563857923817661751603e9b</th>\n",
       "      <td>111</td>\n",
       "      <td>63.0</td>\n",
       "    </tr>\n",
       "  </tbody>\n",
       "</table>\n",
       "</div>"
      ],
      "text/plain": [
       "                          conexioneslife  cusLoginsLast12Months\n",
       "user_id                                                        \n",
       "563857913817661751603e01             448                  407.0\n",
       "563857913817661751603e1e               1                    1.0\n",
       "563857913817661751603e44              78                   72.0\n",
       "563857923817661751603e74              79                   46.0\n",
       "563857923817661751603e7a               2                    2.0\n",
       "563857923817661751603e9b             111                   63.0"
      ]
     },
     "execution_count": 329,
     "metadata": {},
     "output_type": "execute_result"
    }
   ],
   "source": [
    "result"
   ]
  },
  {
   "cell_type": "code",
   "execution_count": 330,
   "metadata": {},
   "outputs": [
    {
     "name": "stdout",
     "output_type": "stream",
     "text": [
      "<class 'pandas.core.frame.DataFrame'>\n",
      "Index: 6 entries, 563857913817661751603e01 to 563857923817661751603e9b\n",
      "Data columns (total 2 columns):\n",
      " #   Column                 Non-Null Count  Dtype  \n",
      "---  ------                 --------------  -----  \n",
      " 0   conexioneslife         6 non-null      int64  \n",
      " 1   cusLoginsLast12Months  6 non-null      float64\n",
      "dtypes: float64(1), int64(1)\n",
      "memory usage: 304.0+ bytes\n"
     ]
    }
   ],
   "source": [
    "result.info()"
   ]
  },
  {
   "cell_type": "code",
   "execution_count": null,
   "metadata": {},
   "outputs": [],
   "source": []
  },
  {
   "cell_type": "code",
   "execution_count": null,
   "metadata": {},
   "outputs": [],
   "source": []
  },
  {
   "cell_type": "code",
   "execution_count": 331,
   "metadata": {},
   "outputs": [],
   "source": [
    "table=pd.concat([cusLastLoginDate,user_cusLoginsThisMonth, user_conexionesLast30Days,user_conexiones_cusLoginsPreviousMonth,user_conexiones_cusLoginsLast3Months,user_conexiones_cusLoginsLast12Months], axis=1, sort=False)"
   ]
  },
  {
   "cell_type": "code",
   "execution_count": 332,
   "metadata": {
    "scrolled": false
   },
   "outputs": [
    {
     "name": "stdout",
     "output_type": "stream",
     "text": [
      "<class 'pandas.core.frame.DataFrame'>\n",
      "Index: 150 entries, 563857913817661751603df1 to 57e888c6a17c57de08b87ac4\n",
      "Data columns (total 7 columns):\n",
      " #   Column                  Non-Null Count  Dtype              \n",
      "---  ------                  --------------  -----              \n",
      " 0   cusLastLoginDate        13 non-null     datetime64[ns, UTC]\n",
      " 1   cusLoginsLifetime       150 non-null    int64              \n",
      " 2   cusLoginsThisMonth      1 non-null      float64            \n",
      " 3   conexionesLast30Days    1 non-null      float64            \n",
      " 4   cusLoginsPreviousMonth  1 non-null      float64            \n",
      " 5   cusLoginsLast3Months    2 non-null      float64            \n",
      " 6   cusLoginsLast12Months   6 non-null      float64            \n",
      "dtypes: datetime64[ns, UTC](1), float64(5), int64(1)\n",
      "memory usage: 9.4+ KB\n"
     ]
    }
   ],
   "source": [
    "table.info()"
   ]
  },
  {
   "cell_type": "code",
   "execution_count": null,
   "metadata": {},
   "outputs": [],
   "source": [
    "df['CUSTOMER_ID'] = df.index"
   ]
  },
  {
   "cell_type": "code",
   "execution_count": 339,
   "metadata": {},
   "outputs": [],
   "source": [
    "table=table.rename(columns={'cusLastLoginDate':'LAST_LOGIN_DATE','cusLastLoginDate':'LAST_LOGIN_DATE','cusLoginsLifetime':'LOGINS_LIFETIME','cusLoginsThisMonth':'LOGINS_THIS_MONTH','conexionesLast30Days':'LOGINS_LAST_30_DAYS','cusLoginsPreviousMonth':'LOGINS_PREVIOUS_MONTH','cusLoginsLast3Months':'LOGINS_LAST_3_MONTHS','cusLoginsLast12Months':'LOGINS_LAST_12_MONTHS'})"
   ]
  },
  {
   "cell_type": "code",
   "execution_count": 340,
   "metadata": {},
   "outputs": [
    {
     "data": {
      "text/html": [
       "<div>\n",
       "<style scoped>\n",
       "    .dataframe tbody tr th:only-of-type {\n",
       "        vertical-align: middle;\n",
       "    }\n",
       "\n",
       "    .dataframe tbody tr th {\n",
       "        vertical-align: top;\n",
       "    }\n",
       "\n",
       "    .dataframe thead th {\n",
       "        text-align: right;\n",
       "    }\n",
       "</style>\n",
       "<table border=\"1\" class=\"dataframe\">\n",
       "  <thead>\n",
       "    <tr style=\"text-align: right;\">\n",
       "      <th></th>\n",
       "      <th>LAST_LOGIN_DATE</th>\n",
       "      <th>LOGINS_LIFETIME</th>\n",
       "      <th>LOGINS_THIS_MONTH</th>\n",
       "      <th>LOGINS_LAST_30_DAYS</th>\n",
       "      <th>LOGINS_PREVIOUS_MONTH</th>\n",
       "      <th>LOGINS_LAST_3_MONTHS</th>\n",
       "      <th>LOGINS_LAST_12_MONTHS</th>\n",
       "    </tr>\n",
       "  </thead>\n",
       "  <tbody>\n",
       "    <tr>\n",
       "      <th>563857913817661751603df1</th>\n",
       "      <td>NaT</td>\n",
       "      <td>0</td>\n",
       "      <td>NaN</td>\n",
       "      <td>NaN</td>\n",
       "      <td>NaN</td>\n",
       "      <td>NaN</td>\n",
       "      <td>NaN</td>\n",
       "    </tr>\n",
       "    <tr>\n",
       "      <th>563857913817661751603df2</th>\n",
       "      <td>NaT</td>\n",
       "      <td>0</td>\n",
       "      <td>NaN</td>\n",
       "      <td>NaN</td>\n",
       "      <td>NaN</td>\n",
       "      <td>NaN</td>\n",
       "      <td>NaN</td>\n",
       "    </tr>\n",
       "    <tr>\n",
       "      <th>563857913817661751603df3</th>\n",
       "      <td>NaT</td>\n",
       "      <td>0</td>\n",
       "      <td>NaN</td>\n",
       "      <td>NaN</td>\n",
       "      <td>NaN</td>\n",
       "      <td>NaN</td>\n",
       "      <td>NaN</td>\n",
       "    </tr>\n",
       "    <tr>\n",
       "      <th>563857913817661751603df4</th>\n",
       "      <td>2019-02-23 14:36:42.888000+00:00</td>\n",
       "      <td>1</td>\n",
       "      <td>NaN</td>\n",
       "      <td>NaN</td>\n",
       "      <td>NaN</td>\n",
       "      <td>NaN</td>\n",
       "      <td>NaN</td>\n",
       "    </tr>\n",
       "    <tr>\n",
       "      <th>563857913817661751603df5</th>\n",
       "      <td>NaT</td>\n",
       "      <td>0</td>\n",
       "      <td>NaN</td>\n",
       "      <td>NaN</td>\n",
       "      <td>NaN</td>\n",
       "      <td>NaN</td>\n",
       "      <td>NaN</td>\n",
       "    </tr>\n",
       "    <tr>\n",
       "      <th>...</th>\n",
       "      <td>...</td>\n",
       "      <td>...</td>\n",
       "      <td>...</td>\n",
       "      <td>...</td>\n",
       "      <td>...</td>\n",
       "      <td>...</td>\n",
       "      <td>...</td>\n",
       "    </tr>\n",
       "    <tr>\n",
       "      <th>56c48ab82c5ff4be08fd72ff</th>\n",
       "      <td>NaT</td>\n",
       "      <td>0</td>\n",
       "      <td>NaN</td>\n",
       "      <td>NaN</td>\n",
       "      <td>NaN</td>\n",
       "      <td>NaN</td>\n",
       "      <td>NaN</td>\n",
       "    </tr>\n",
       "    <tr>\n",
       "      <th>570ac990cfcfa7d108f97d6f</th>\n",
       "      <td>NaT</td>\n",
       "      <td>0</td>\n",
       "      <td>NaN</td>\n",
       "      <td>NaN</td>\n",
       "      <td>NaN</td>\n",
       "      <td>NaN</td>\n",
       "      <td>NaN</td>\n",
       "    </tr>\n",
       "    <tr>\n",
       "      <th>57ba10ed974df5e708185dc9</th>\n",
       "      <td>NaT</td>\n",
       "      <td>0</td>\n",
       "      <td>NaN</td>\n",
       "      <td>NaN</td>\n",
       "      <td>NaN</td>\n",
       "      <td>NaN</td>\n",
       "      <td>NaN</td>\n",
       "    </tr>\n",
       "    <tr>\n",
       "      <th>57e2d480bf95bde745402728</th>\n",
       "      <td>2018-07-18 15:30:48.474000+00:00</td>\n",
       "      <td>6</td>\n",
       "      <td>NaN</td>\n",
       "      <td>NaN</td>\n",
       "      <td>NaN</td>\n",
       "      <td>NaN</td>\n",
       "      <td>NaN</td>\n",
       "    </tr>\n",
       "    <tr>\n",
       "      <th>57e888c6a17c57de08b87ac4</th>\n",
       "      <td>NaT</td>\n",
       "      <td>0</td>\n",
       "      <td>NaN</td>\n",
       "      <td>NaN</td>\n",
       "      <td>NaN</td>\n",
       "      <td>NaN</td>\n",
       "      <td>NaN</td>\n",
       "    </tr>\n",
       "  </tbody>\n",
       "</table>\n",
       "<p>150 rows × 7 columns</p>\n",
       "</div>"
      ],
      "text/plain": [
       "                                          LAST_LOGIN_DATE  LOGINS_LIFETIME  \\\n",
       "563857913817661751603df1                              NaT                0   \n",
       "563857913817661751603df2                              NaT                0   \n",
       "563857913817661751603df3                              NaT                0   \n",
       "563857913817661751603df4 2019-02-23 14:36:42.888000+00:00                1   \n",
       "563857913817661751603df5                              NaT                0   \n",
       "...                                                   ...              ...   \n",
       "56c48ab82c5ff4be08fd72ff                              NaT                0   \n",
       "570ac990cfcfa7d108f97d6f                              NaT                0   \n",
       "57ba10ed974df5e708185dc9                              NaT                0   \n",
       "57e2d480bf95bde745402728 2018-07-18 15:30:48.474000+00:00                6   \n",
       "57e888c6a17c57de08b87ac4                              NaT                0   \n",
       "\n",
       "                          LOGINS_THIS_MONTH  LOGINS_LAST_30_DAYS  \\\n",
       "563857913817661751603df1                NaN                  NaN   \n",
       "563857913817661751603df2                NaN                  NaN   \n",
       "563857913817661751603df3                NaN                  NaN   \n",
       "563857913817661751603df4                NaN                  NaN   \n",
       "563857913817661751603df5                NaN                  NaN   \n",
       "...                                     ...                  ...   \n",
       "56c48ab82c5ff4be08fd72ff                NaN                  NaN   \n",
       "570ac990cfcfa7d108f97d6f                NaN                  NaN   \n",
       "57ba10ed974df5e708185dc9                NaN                  NaN   \n",
       "57e2d480bf95bde745402728                NaN                  NaN   \n",
       "57e888c6a17c57de08b87ac4                NaN                  NaN   \n",
       "\n",
       "                          LOGINS_PREVIOUS_MONTH  LOGINS_LAST_3_MONTHS  \\\n",
       "563857913817661751603df1                    NaN                   NaN   \n",
       "563857913817661751603df2                    NaN                   NaN   \n",
       "563857913817661751603df3                    NaN                   NaN   \n",
       "563857913817661751603df4                    NaN                   NaN   \n",
       "563857913817661751603df5                    NaN                   NaN   \n",
       "...                                         ...                   ...   \n",
       "56c48ab82c5ff4be08fd72ff                    NaN                   NaN   \n",
       "570ac990cfcfa7d108f97d6f                    NaN                   NaN   \n",
       "57ba10ed974df5e708185dc9                    NaN                   NaN   \n",
       "57e2d480bf95bde745402728                    NaN                   NaN   \n",
       "57e888c6a17c57de08b87ac4                    NaN                   NaN   \n",
       "\n",
       "                          LOGINS_LAST_12_MONTHS  \n",
       "563857913817661751603df1                    NaN  \n",
       "563857913817661751603df2                    NaN  \n",
       "563857913817661751603df3                    NaN  \n",
       "563857913817661751603df4                    NaN  \n",
       "563857913817661751603df5                    NaN  \n",
       "...                                         ...  \n",
       "56c48ab82c5ff4be08fd72ff                    NaN  \n",
       "570ac990cfcfa7d108f97d6f                    NaN  \n",
       "57ba10ed974df5e708185dc9                    NaN  \n",
       "57e2d480bf95bde745402728                    NaN  \n",
       "57e888c6a17c57de08b87ac4                    NaN  \n",
       "\n",
       "[150 rows x 7 columns]"
      ]
     },
     "execution_count": 340,
     "metadata": {},
     "output_type": "execute_result"
    }
   ],
   "source": [
    "table"
   ]
  },
  {
   "cell_type": "code",
   "execution_count": 333,
   "metadata": {
    "scrolled": true
   },
   "outputs": [
    {
     "data": {
      "text/html": [
       "<div>\n",
       "<style scoped>\n",
       "    .dataframe tbody tr th:only-of-type {\n",
       "        vertical-align: middle;\n",
       "    }\n",
       "\n",
       "    .dataframe tbody tr th {\n",
       "        vertical-align: top;\n",
       "    }\n",
       "\n",
       "    .dataframe thead th {\n",
       "        text-align: right;\n",
       "    }\n",
       "</style>\n",
       "<table border=\"1\" class=\"dataframe\">\n",
       "  <thead>\n",
       "    <tr style=\"text-align: right;\">\n",
       "      <th></th>\n",
       "      <th>cusLastLoginDate</th>\n",
       "      <th>cusLoginsLifetime</th>\n",
       "      <th>cusLoginsThisMonth</th>\n",
       "      <th>conexionesLast30Days</th>\n",
       "      <th>cusLoginsPreviousMonth</th>\n",
       "      <th>cusLoginsLast3Months</th>\n",
       "      <th>cusLoginsLast12Months</th>\n",
       "    </tr>\n",
       "  </thead>\n",
       "  <tbody>\n",
       "    <tr>\n",
       "      <th>563857913817661751603e01</th>\n",
       "      <td>2020-03-05 22:25:13.579000+00:00</td>\n",
       "      <td>448</td>\n",
       "      <td>10.0</td>\n",
       "      <td>12.0</td>\n",
       "      <td>2.0</td>\n",
       "      <td>20.0</td>\n",
       "      <td>407.0</td>\n",
       "    </tr>\n",
       "    <tr>\n",
       "      <th>563857913817661751603e1e</th>\n",
       "      <td>2019-10-05 13:34:56.901000+00:00</td>\n",
       "      <td>1</td>\n",
       "      <td>NaN</td>\n",
       "      <td>NaN</td>\n",
       "      <td>NaN</td>\n",
       "      <td>NaN</td>\n",
       "      <td>1.0</td>\n",
       "    </tr>\n",
       "    <tr>\n",
       "      <th>563857913817661751603e44</th>\n",
       "      <td>2019-12-05 15:32:15.520000+00:00</td>\n",
       "      <td>78</td>\n",
       "      <td>NaN</td>\n",
       "      <td>NaN</td>\n",
       "      <td>NaN</td>\n",
       "      <td>1.0</td>\n",
       "      <td>72.0</td>\n",
       "    </tr>\n",
       "    <tr>\n",
       "      <th>563857923817661751603e74</th>\n",
       "      <td>2019-04-06 18:04:41.952000+00:00</td>\n",
       "      <td>79</td>\n",
       "      <td>NaN</td>\n",
       "      <td>NaN</td>\n",
       "      <td>NaN</td>\n",
       "      <td>NaN</td>\n",
       "      <td>46.0</td>\n",
       "    </tr>\n",
       "    <tr>\n",
       "      <th>563857923817661751603e7a</th>\n",
       "      <td>2019-08-18 13:34:58.587000+00:00</td>\n",
       "      <td>2</td>\n",
       "      <td>NaN</td>\n",
       "      <td>NaN</td>\n",
       "      <td>NaN</td>\n",
       "      <td>NaN</td>\n",
       "      <td>2.0</td>\n",
       "    </tr>\n",
       "    <tr>\n",
       "      <th>563857923817661751603e9b</th>\n",
       "      <td>2019-11-07 19:16:48.860000+00:00</td>\n",
       "      <td>111</td>\n",
       "      <td>NaN</td>\n",
       "      <td>NaN</td>\n",
       "      <td>NaN</td>\n",
       "      <td>NaN</td>\n",
       "      <td>63.0</td>\n",
       "    </tr>\n",
       "  </tbody>\n",
       "</table>\n",
       "</div>"
      ],
      "text/plain": [
       "                                         cusLastLoginDate  cusLoginsLifetime  \\\n",
       "563857913817661751603e01 2020-03-05 22:25:13.579000+00:00                448   \n",
       "563857913817661751603e1e 2019-10-05 13:34:56.901000+00:00                  1   \n",
       "563857913817661751603e44 2019-12-05 15:32:15.520000+00:00                 78   \n",
       "563857923817661751603e74 2019-04-06 18:04:41.952000+00:00                 79   \n",
       "563857923817661751603e7a 2019-08-18 13:34:58.587000+00:00                  2   \n",
       "563857923817661751603e9b 2019-11-07 19:16:48.860000+00:00                111   \n",
       "\n",
       "                          cusLoginsThisMonth  conexionesLast30Days  \\\n",
       "563857913817661751603e01                10.0                  12.0   \n",
       "563857913817661751603e1e                 NaN                   NaN   \n",
       "563857913817661751603e44                 NaN                   NaN   \n",
       "563857923817661751603e74                 NaN                   NaN   \n",
       "563857923817661751603e7a                 NaN                   NaN   \n",
       "563857923817661751603e9b                 NaN                   NaN   \n",
       "\n",
       "                          cusLoginsPreviousMonth  cusLoginsLast3Months  \\\n",
       "563857913817661751603e01                     2.0                  20.0   \n",
       "563857913817661751603e1e                     NaN                   NaN   \n",
       "563857913817661751603e44                     NaN                   1.0   \n",
       "563857923817661751603e74                     NaN                   NaN   \n",
       "563857923817661751603e7a                     NaN                   NaN   \n",
       "563857923817661751603e9b                     NaN                   NaN   \n",
       "\n",
       "                          cusLoginsLast12Months  \n",
       "563857913817661751603e01                  407.0  \n",
       "563857913817661751603e1e                    1.0  \n",
       "563857913817661751603e44                   72.0  \n",
       "563857923817661751603e74                   46.0  \n",
       "563857923817661751603e7a                    2.0  \n",
       "563857923817661751603e9b                   63.0  "
      ]
     },
     "execution_count": 333,
     "metadata": {},
     "output_type": "execute_result"
    }
   ],
   "source": [
    "table.loc[table.cusLoginsLast12Months.notnull()]"
   ]
  },
  {
   "cell_type": "code",
   "execution_count": 341,
   "metadata": {},
   "outputs": [],
   "source": [
    "table['CUSTOMER_ID'] = table.index"
   ]
  },
  {
   "cell_type": "code",
   "execution_count": 353,
   "metadata": {
    "scrolled": true
   },
   "outputs": [],
   "source": [
    "table=table.fillna(0)"
   ]
  },
  {
   "cell_type": "code",
   "execution_count": 345,
   "metadata": {},
   "outputs": [],
   "source": [
    "table = table[['CUSTOMER_ID','LAST_LOGIN_DATE','LOGINS_THIS_MONTH','LOGINS_LAST_30_DAYS','LOGINS_PREVIOUS_MONTH','LOGINS_LAST_3_MONTHS','LOGINS_LAST_12_MONTHS','LOGINS_LIFETIME']]"
   ]
  },
  {
   "cell_type": "code",
   "execution_count": 346,
   "metadata": {},
   "outputs": [
    {
     "data": {
      "text/html": [
       "<div>\n",
       "<style scoped>\n",
       "    .dataframe tbody tr th:only-of-type {\n",
       "        vertical-align: middle;\n",
       "    }\n",
       "\n",
       "    .dataframe tbody tr th {\n",
       "        vertical-align: top;\n",
       "    }\n",
       "\n",
       "    .dataframe thead th {\n",
       "        text-align: right;\n",
       "    }\n",
       "</style>\n",
       "<table border=\"1\" class=\"dataframe\">\n",
       "  <thead>\n",
       "    <tr style=\"text-align: right;\">\n",
       "      <th></th>\n",
       "      <th>CUSTOMER_ID</th>\n",
       "      <th>LAST_LOGIN_DATE</th>\n",
       "      <th>LOGINS_THIS_MONTH</th>\n",
       "      <th>LOGINS_LAST_30_DAYS</th>\n",
       "      <th>LOGINS_PREVIOUS_MONTH</th>\n",
       "      <th>LOGINS_LAST_3_MONTHS</th>\n",
       "      <th>LOGINS_LAST_12_MONTHS</th>\n",
       "      <th>LOGINS_LIFETIME</th>\n",
       "    </tr>\n",
       "  </thead>\n",
       "  <tbody>\n",
       "    <tr>\n",
       "      <th>563857913817661751603df1</th>\n",
       "      <td>563857913817661751603df1</td>\n",
       "      <td>NaT</td>\n",
       "      <td>NaN</td>\n",
       "      <td>NaN</td>\n",
       "      <td>NaN</td>\n",
       "      <td>NaN</td>\n",
       "      <td>NaN</td>\n",
       "      <td>0</td>\n",
       "    </tr>\n",
       "    <tr>\n",
       "      <th>563857913817661751603df2</th>\n",
       "      <td>563857913817661751603df2</td>\n",
       "      <td>NaT</td>\n",
       "      <td>NaN</td>\n",
       "      <td>NaN</td>\n",
       "      <td>NaN</td>\n",
       "      <td>NaN</td>\n",
       "      <td>NaN</td>\n",
       "      <td>0</td>\n",
       "    </tr>\n",
       "    <tr>\n",
       "      <th>563857913817661751603df3</th>\n",
       "      <td>563857913817661751603df3</td>\n",
       "      <td>NaT</td>\n",
       "      <td>NaN</td>\n",
       "      <td>NaN</td>\n",
       "      <td>NaN</td>\n",
       "      <td>NaN</td>\n",
       "      <td>NaN</td>\n",
       "      <td>0</td>\n",
       "    </tr>\n",
       "    <tr>\n",
       "      <th>563857913817661751603df4</th>\n",
       "      <td>563857913817661751603df4</td>\n",
       "      <td>2019-02-23 14:36:42.888000+00:00</td>\n",
       "      <td>NaN</td>\n",
       "      <td>NaN</td>\n",
       "      <td>NaN</td>\n",
       "      <td>NaN</td>\n",
       "      <td>NaN</td>\n",
       "      <td>1</td>\n",
       "    </tr>\n",
       "    <tr>\n",
       "      <th>563857913817661751603df5</th>\n",
       "      <td>563857913817661751603df5</td>\n",
       "      <td>NaT</td>\n",
       "      <td>NaN</td>\n",
       "      <td>NaN</td>\n",
       "      <td>NaN</td>\n",
       "      <td>NaN</td>\n",
       "      <td>NaN</td>\n",
       "      <td>0</td>\n",
       "    </tr>\n",
       "    <tr>\n",
       "      <th>...</th>\n",
       "      <td>...</td>\n",
       "      <td>...</td>\n",
       "      <td>...</td>\n",
       "      <td>...</td>\n",
       "      <td>...</td>\n",
       "      <td>...</td>\n",
       "      <td>...</td>\n",
       "      <td>...</td>\n",
       "    </tr>\n",
       "    <tr>\n",
       "      <th>56c48ab82c5ff4be08fd72ff</th>\n",
       "      <td>56c48ab82c5ff4be08fd72ff</td>\n",
       "      <td>NaT</td>\n",
       "      <td>NaN</td>\n",
       "      <td>NaN</td>\n",
       "      <td>NaN</td>\n",
       "      <td>NaN</td>\n",
       "      <td>NaN</td>\n",
       "      <td>0</td>\n",
       "    </tr>\n",
       "    <tr>\n",
       "      <th>570ac990cfcfa7d108f97d6f</th>\n",
       "      <td>570ac990cfcfa7d108f97d6f</td>\n",
       "      <td>NaT</td>\n",
       "      <td>NaN</td>\n",
       "      <td>NaN</td>\n",
       "      <td>NaN</td>\n",
       "      <td>NaN</td>\n",
       "      <td>NaN</td>\n",
       "      <td>0</td>\n",
       "    </tr>\n",
       "    <tr>\n",
       "      <th>57ba10ed974df5e708185dc9</th>\n",
       "      <td>57ba10ed974df5e708185dc9</td>\n",
       "      <td>NaT</td>\n",
       "      <td>NaN</td>\n",
       "      <td>NaN</td>\n",
       "      <td>NaN</td>\n",
       "      <td>NaN</td>\n",
       "      <td>NaN</td>\n",
       "      <td>0</td>\n",
       "    </tr>\n",
       "    <tr>\n",
       "      <th>57e2d480bf95bde745402728</th>\n",
       "      <td>57e2d480bf95bde745402728</td>\n",
       "      <td>2018-07-18 15:30:48.474000+00:00</td>\n",
       "      <td>NaN</td>\n",
       "      <td>NaN</td>\n",
       "      <td>NaN</td>\n",
       "      <td>NaN</td>\n",
       "      <td>NaN</td>\n",
       "      <td>6</td>\n",
       "    </tr>\n",
       "    <tr>\n",
       "      <th>57e888c6a17c57de08b87ac4</th>\n",
       "      <td>57e888c6a17c57de08b87ac4</td>\n",
       "      <td>NaT</td>\n",
       "      <td>NaN</td>\n",
       "      <td>NaN</td>\n",
       "      <td>NaN</td>\n",
       "      <td>NaN</td>\n",
       "      <td>NaN</td>\n",
       "      <td>0</td>\n",
       "    </tr>\n",
       "  </tbody>\n",
       "</table>\n",
       "<p>150 rows × 8 columns</p>\n",
       "</div>"
      ],
      "text/plain": [
       "                                       CUSTOMER_ID  \\\n",
       "563857913817661751603df1  563857913817661751603df1   \n",
       "563857913817661751603df2  563857913817661751603df2   \n",
       "563857913817661751603df3  563857913817661751603df3   \n",
       "563857913817661751603df4  563857913817661751603df4   \n",
       "563857913817661751603df5  563857913817661751603df5   \n",
       "...                                            ...   \n",
       "56c48ab82c5ff4be08fd72ff  56c48ab82c5ff4be08fd72ff   \n",
       "570ac990cfcfa7d108f97d6f  570ac990cfcfa7d108f97d6f   \n",
       "57ba10ed974df5e708185dc9  57ba10ed974df5e708185dc9   \n",
       "57e2d480bf95bde745402728  57e2d480bf95bde745402728   \n",
       "57e888c6a17c57de08b87ac4  57e888c6a17c57de08b87ac4   \n",
       "\n",
       "                                          LAST_LOGIN_DATE  LOGINS_THIS_MONTH  \\\n",
       "563857913817661751603df1                              NaT                NaN   \n",
       "563857913817661751603df2                              NaT                NaN   \n",
       "563857913817661751603df3                              NaT                NaN   \n",
       "563857913817661751603df4 2019-02-23 14:36:42.888000+00:00                NaN   \n",
       "563857913817661751603df5                              NaT                NaN   \n",
       "...                                                   ...                ...   \n",
       "56c48ab82c5ff4be08fd72ff                              NaT                NaN   \n",
       "570ac990cfcfa7d108f97d6f                              NaT                NaN   \n",
       "57ba10ed974df5e708185dc9                              NaT                NaN   \n",
       "57e2d480bf95bde745402728 2018-07-18 15:30:48.474000+00:00                NaN   \n",
       "57e888c6a17c57de08b87ac4                              NaT                NaN   \n",
       "\n",
       "                          LOGINS_LAST_30_DAYS  LOGINS_PREVIOUS_MONTH  \\\n",
       "563857913817661751603df1                  NaN                    NaN   \n",
       "563857913817661751603df2                  NaN                    NaN   \n",
       "563857913817661751603df3                  NaN                    NaN   \n",
       "563857913817661751603df4                  NaN                    NaN   \n",
       "563857913817661751603df5                  NaN                    NaN   \n",
       "...                                       ...                    ...   \n",
       "56c48ab82c5ff4be08fd72ff                  NaN                    NaN   \n",
       "570ac990cfcfa7d108f97d6f                  NaN                    NaN   \n",
       "57ba10ed974df5e708185dc9                  NaN                    NaN   \n",
       "57e2d480bf95bde745402728                  NaN                    NaN   \n",
       "57e888c6a17c57de08b87ac4                  NaN                    NaN   \n",
       "\n",
       "                          LOGINS_LAST_3_MONTHS  LOGINS_LAST_12_MONTHS  \\\n",
       "563857913817661751603df1                   NaN                    NaN   \n",
       "563857913817661751603df2                   NaN                    NaN   \n",
       "563857913817661751603df3                   NaN                    NaN   \n",
       "563857913817661751603df4                   NaN                    NaN   \n",
       "563857913817661751603df5                   NaN                    NaN   \n",
       "...                                        ...                    ...   \n",
       "56c48ab82c5ff4be08fd72ff                   NaN                    NaN   \n",
       "570ac990cfcfa7d108f97d6f                   NaN                    NaN   \n",
       "57ba10ed974df5e708185dc9                   NaN                    NaN   \n",
       "57e2d480bf95bde745402728                   NaN                    NaN   \n",
       "57e888c6a17c57de08b87ac4                   NaN                    NaN   \n",
       "\n",
       "                          LOGINS_LIFETIME  \n",
       "563857913817661751603df1                0  \n",
       "563857913817661751603df2                0  \n",
       "563857913817661751603df3                0  \n",
       "563857913817661751603df4                1  \n",
       "563857913817661751603df5                0  \n",
       "...                                   ...  \n",
       "56c48ab82c5ff4be08fd72ff                0  \n",
       "570ac990cfcfa7d108f97d6f                0  \n",
       "57ba10ed974df5e708185dc9                0  \n",
       "57e2d480bf95bde745402728                6  \n",
       "57e888c6a17c57de08b87ac4                0  \n",
       "\n",
       "[150 rows x 8 columns]"
      ]
     },
     "execution_count": 346,
     "metadata": {},
     "output_type": "execute_result"
    }
   ],
   "source": [
    "table"
   ]
  },
  {
   "cell_type": "markdown",
   "metadata": {},
   "source": [
    " #### Ahora vamos a determinar el nombre y el path"
   ]
  },
  {
   "cell_type": "code",
   "execution_count": 347,
   "metadata": {},
   "outputs": [],
   "source": [
    "name='cdf_loginSummary_'+datetime.datetime.today().strftime('%Y%m%d_%H%M%S')"
   ]
  },
  {
   "cell_type": "code",
   "execution_count": 349,
   "metadata": {},
   "outputs": [
    {
     "data": {
      "text/plain": [
       "'cdf_loginSummary_20200327_123806'"
      ]
     },
     "execution_count": 349,
     "metadata": {},
     "output_type": "execute_result"
    }
   ],
   "source": [
    "name"
   ]
  },
  {
   "cell_type": "code",
   "execution_count": 350,
   "metadata": {},
   "outputs": [],
   "source": [
    "path='/home/tecnoboy/'+name+'.csv'"
   ]
  },
  {
   "cell_type": "code",
   "execution_count": 351,
   "metadata": {
    "scrolled": true
   },
   "outputs": [
    {
     "data": {
      "text/plain": [
       "'/home/tecnoboy/cdf_loginSummary_20200327_123806.csv'"
      ]
     },
     "execution_count": 351,
     "metadata": {},
     "output_type": "execute_result"
    }
   ],
   "source": [
    "path"
   ]
  },
  {
   "cell_type": "code",
   "execution_count": 357,
   "metadata": {},
   "outputs": [
    {
     "ename": "NameError",
     "evalue": "name 'CUSTOMER_ID' is not defined",
     "output_type": "error",
     "traceback": [
      "\u001b[0;31m---------------------------------------------------------------------------\u001b[0m",
      "\u001b[0;31mNameError\u001b[0m                                 Traceback (most recent call last)",
      "\u001b[0;32m<ipython-input-357-6c9e64c6f284>\u001b[0m in \u001b[0;36m<module>\u001b[0;34m\u001b[0m\n\u001b[0;32m----> 1\u001b[0;31m \u001b[0mtable\u001b[0m\u001b[0;34m[\u001b[0m\u001b[0mCUSTOMER_ID\u001b[0m\u001b[0;34m]\u001b[0m\u001b[0;34m.\u001b[0m\u001b[0mto_string\u001b[0m\u001b[0;34m(\u001b[0m\u001b[0;34m)\u001b[0m\u001b[0;34m\u001b[0m\u001b[0;34m\u001b[0m\u001b[0m\n\u001b[0m",
      "\u001b[0;31mNameError\u001b[0m: name 'CUSTOMER_ID' is not defined"
     ]
    }
   ],
   "source": [
    "table[CUSTOMER_ID].to_string()"
   ]
  },
  {
   "cell_type": "code",
   "execution_count": 358,
   "metadata": {},
   "outputs": [],
   "source": [
    "table['CUSTOMER_ID']=table['CUSTOMER_ID'].apply(str)"
   ]
  },
  {
   "cell_type": "code",
   "execution_count": null,
   "metadata": {},
   "outputs": [],
   "source": []
  },
  {
   "cell_type": "code",
   "execution_count": 359,
   "metadata": {},
   "outputs": [],
   "source": [
    "table.to_csv(path, index=False)"
   ]
  },
  {
   "cell_type": "code",
   "execution_count": 360,
   "metadata": {},
   "outputs": [
    {
     "name": "stdout",
     "output_type": "stream",
     "text": [
      "<class 'pandas.core.frame.DataFrame'>\n",
      "Index: 150 entries, 563857913817661751603df1 to 57e888c6a17c57de08b87ac4\n",
      "Data columns (total 8 columns):\n",
      " #   Column                 Non-Null Count  Dtype  \n",
      "---  ------                 --------------  -----  \n",
      " 0   CUSTOMER_ID            150 non-null    object \n",
      " 1   LAST_LOGIN_DATE        150 non-null    object \n",
      " 2   LOGINS_THIS_MONTH      150 non-null    float64\n",
      " 3   LOGINS_LAST_30_DAYS    150 non-null    float64\n",
      " 4   LOGINS_PREVIOUS_MONTH  150 non-null    float64\n",
      " 5   LOGINS_LAST_3_MONTHS   150 non-null    float64\n",
      " 6   LOGINS_LAST_12_MONTHS  150 non-null    float64\n",
      " 7   LOGINS_LIFETIME        150 non-null    int64  \n",
      "dtypes: float64(5), int64(1), object(2)\n",
      "memory usage: 10.5+ KB\n"
     ]
    }
   ],
   "source": [
    "table.info()"
   ]
  },
  {
   "cell_type": "code",
   "execution_count": null,
   "metadata": {},
   "outputs": [],
   "source": []
  }
 ],
 "metadata": {
  "kernelspec": {
   "display_name": "Python 3",
   "language": "python",
   "name": "python3"
  },
  "language_info": {
   "codemirror_mode": {
    "name": "ipython",
    "version": 3
   },
   "file_extension": ".py",
   "mimetype": "text/x-python",
   "name": "python",
   "nbconvert_exporter": "python",
   "pygments_lexer": "ipython3",
   "version": "3.6.9"
  }
 },
 "nbformat": 4,
 "nbformat_minor": 2
}
