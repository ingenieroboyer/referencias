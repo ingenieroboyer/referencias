{
 "cells": [
  {
   "cell_type": "markdown",
   "metadata": {},
   "source": [
    "# PREPARACION PARA ADOBE"
   ]
  },
  {
   "cell_type": "markdown",
   "metadata": {},
   "source": [
    "### Este documento busca la data , la relaciona y la sirve de acuerdo a las tablas y tipos de datos que solicitó el partner"
   ]
  },
  {
   "cell_type": "code",
   "execution_count": 1,
   "metadata": {},
   "outputs": [],
   "source": [
    "import pandas as pd\n",
    "from pymongo import MongoClient\n",
    "import pymongo\n",
    "from datetime import datetime, timedelta\n",
    "import numpy as np\n",
    "\n",
    "import csv\n"
   ]
  },
  {
   "cell_type": "code",
   "execution_count": 2,
   "metadata": {},
   "outputs": [],
   "source": [
    "myclient = pymongo.MongoClient(\"mongodb://localhost:27017/\")\n",
    "mydb = myclient[\"ecdf\"]\n",
    "mycol_users = mydb[\"users\"]"
   ]
  },
  {
   "cell_type": "code",
   "execution_count": 3,
   "metadata": {},
   "outputs": [],
   "source": [
    "feh=datetime(2017,1,1,0,0,0)"
   ]
  },
  {
   "cell_type": "code",
   "execution_count": 4,
   "metadata": {},
   "outputs": [],
   "source": [
    "def userframes(iterator, chunk_size: int):\n",
    "  \"\"\"Turn an iterator into multiple small pandas.DataFrame\n",
    "  This is a balance between memory and efficiency\n",
    "  \"\"\"\n",
    "  records = []\n",
    "  frames = []\n",
    "  for i, record in enumerate(iterator):\n",
    "    records.append(record)\n",
    "    if i % chunk_size == chunk_size - 1:\n",
    "      frames.append(pd.DataFrame(records))\n",
    "      records = []\n",
    "  if records:\n",
    "    frames.append(pd.DataFrame(records))\n",
    "  return pd.concat(frames) if frames else pd.DataFrame()\n",
    "  \n",
    "userData = userframes(mycol_users.find({'createdAt': {'$gte':feh}},{'_id':1,'createdAt':1,'cliente_id':1 ,'email':1,'verificado': 1 }), 10000)\n"
   ]
  },
  {
   "cell_type": "markdown",
   "metadata": {},
   "source": [
    "#### PROFILE TABLE"
   ]
  },
  {
   "cell_type": "code",
   "execution_count": 5,
   "metadata": {},
   "outputs": [],
   "source": [
    "id_user=userData"
   ]
  },
  {
   "cell_type": "code",
   "execution_count": 6,
   "metadata": {},
   "outputs": [],
   "source": [
    "id_user=id_user.rename(columns={ \"createdAt\": \"REGISTRATION_DATE\",\"verificado\": \"HAS_EMAIL_VERIFY\",'email':'EMAIL'})"
   ]
  },
  {
   "cell_type": "code",
   "execution_count": 7,
   "metadata": {},
   "outputs": [],
   "source": [
    "mydb = myclient[\"cdfMaster\"]\n",
    "\n",
    "feh=datetime(2017,1,1,0,0,0)"
   ]
  },
  {
   "cell_type": "code",
   "execution_count": 8,
   "metadata": {},
   "outputs": [],
   "source": [
    "mycol_clientes = mydb[\"otroClientes\"]\n",
    "def clientesframes(iterator, chunk_size: int):\n",
    "  \"\"\"Turn an iterator into multiple small pandas.DataFrame\n",
    "  This is a balance between memory and efficiency\n",
    "  \"\"\"\n",
    "  records = []\n",
    "  frames = []\n",
    "  for i, record in enumerate(iterator):\n",
    "    records.append(record)\n",
    "    if i % chunk_size == chunk_size - 1:\n",
    "      frames.append(pd.DataFrame(records))\n",
    "      records = []\n",
    "  if records:\n",
    "    frames.append(pd.DataFrame(records))\n",
    "  return pd.concat(frames) if frames else pd.DataFrame()\n",
    "  \n",
    "CLIENTES = clientesframes(mycol_clientes.find({\n",
    "},{'fecha_nacimiento':1,'pais':1,'equipo_favorito':1 ,'nombre':1,'apellidoPaterno': 1,'telefono':1,'genero': 1  }), 10000)\n"
   ]
  },
  {
   "cell_type": "code",
   "execution_count": 9,
   "metadata": {},
   "outputs": [
    {
     "name": "stdout",
     "output_type": "stream",
     "text": [
      "<class 'pandas.core.frame.DataFrame'>\n",
      "Int64Index: 434256 entries, 0 to 4255\n",
      "Data columns (total 8 columns):\n",
      " #   Column            Non-Null Count   Dtype \n",
      "---  ------            --------------   ----- \n",
      " 0   _id               434256 non-null  object\n",
      " 1   nombre            433777 non-null  object\n",
      " 2   apellidoPaterno   433885 non-null  object\n",
      " 3   pais              150140 non-null  object\n",
      " 4   fecha_nacimiento  350036 non-null  object\n",
      " 5   genero            261321 non-null  object\n",
      " 6   equipo_favorito   211979 non-null  object\n",
      " 7   telefono          2535 non-null    object\n",
      "dtypes: object(8)\n",
      "memory usage: 29.8+ MB\n"
     ]
    }
   ],
   "source": [
    "CLIENTES.info()"
   ]
  },
  {
   "cell_type": "code",
   "execution_count": null,
   "metadata": {},
   "outputs": [],
   "source": []
  },
  {
   "cell_type": "markdown",
   "metadata": {},
   "source": [
    "#### Se le quiere añadir el id de usuario a la tabla de clientes"
   ]
  },
  {
   "cell_type": "code",
   "execution_count": 10,
   "metadata": {},
   "outputs": [],
   "source": [
    "CLIENTES['cliente_id']=CLIENTES['_id']"
   ]
  },
  {
   "cell_type": "code",
   "execution_count": 11,
   "metadata": {
    "scrolled": false
   },
   "outputs": [
    {
     "name": "stdout",
     "output_type": "stream",
     "text": [
      "<class 'pandas.core.frame.DataFrame'>\n",
      "Int64Index: 434256 entries, 0 to 4255\n",
      "Data columns (total 9 columns):\n",
      " #   Column            Non-Null Count   Dtype \n",
      "---  ------            --------------   ----- \n",
      " 0   _id               434256 non-null  object\n",
      " 1   nombre            433777 non-null  object\n",
      " 2   apellidoPaterno   433885 non-null  object\n",
      " 3   pais              150140 non-null  object\n",
      " 4   fecha_nacimiento  350036 non-null  object\n",
      " 5   genero            261321 non-null  object\n",
      " 6   equipo_favorito   211979 non-null  object\n",
      " 7   telefono          2535 non-null    object\n",
      " 8   cliente_id        434256 non-null  object\n",
      "dtypes: object(9)\n",
      "memory usage: 33.1+ MB\n"
     ]
    }
   ],
   "source": [
    "CLIENTES.info()"
   ]
  },
  {
   "cell_type": "code",
   "execution_count": 12,
   "metadata": {},
   "outputs": [],
   "source": [
    "consolidados2 = CLIENTES.merge(id_user, on='cliente_id', how='right', indicator=True)"
   ]
  },
  {
   "cell_type": "code",
   "execution_count": 13,
   "metadata": {
    "scrolled": false
   },
   "outputs": [
    {
     "name": "stdout",
     "output_type": "stream",
     "text": [
      "<class 'pandas.core.frame.DataFrame'>\n",
      "Int64Index: 287395 entries, 0 to 287394\n",
      "Data columns (total 14 columns):\n",
      " #   Column             Non-Null Count   Dtype         \n",
      "---  ------             --------------   -----         \n",
      " 0   _id_x              286767 non-null  object        \n",
      " 1   nombre             286288 non-null  object        \n",
      " 2   apellidoPaterno    286396 non-null  object        \n",
      " 3   pais               2999 non-null    object        \n",
      " 4   fecha_nacimiento   203019 non-null  object        \n",
      " 5   genero             113949 non-null  object        \n",
      " 6   equipo_favorito    193647 non-null  object        \n",
      " 7   telefono           1803 non-null    object        \n",
      " 8   cliente_id         287335 non-null  object        \n",
      " 9   _id_y              287395 non-null  object        \n",
      " 10  REGISTRATION_DATE  287395 non-null  datetime64[ns]\n",
      " 11  EMAIL              287395 non-null  object        \n",
      " 12  HAS_EMAIL_VERIFY   287394 non-null  object        \n",
      " 13  _merge             287395 non-null  category      \n",
      "dtypes: category(1), datetime64[ns](1), object(12)\n",
      "memory usage: 31.0+ MB\n"
     ]
    }
   ],
   "source": [
    "consolidados2.info()"
   ]
  },
  {
   "cell_type": "code",
   "execution_count": 14,
   "metadata": {},
   "outputs": [],
   "source": [
    "consolidados2['REGISTRATION_DATE'] = pd.to_datetime(consolidados2['REGISTRATION_DATE'])"
   ]
  },
  {
   "cell_type": "code",
   "execution_count": 15,
   "metadata": {},
   "outputs": [
    {
     "data": {
      "text/plain": [
       "0        2017-01-01 01:32:15.159\n",
       "1        2017-01-01 13:43:58.600\n",
       "2        2017-01-01 15:30:53.612\n",
       "3        2017-01-01 16:35:54.370\n",
       "4        2017-01-01 16:45:30.095\n",
       "                   ...          \n",
       "287390   2020-04-25 14:49:56.616\n",
       "287391   2020-04-25 15:02:47.214\n",
       "287392   2020-04-25 15:03:26.562\n",
       "287393   2020-04-25 15:03:45.277\n",
       "287394   2020-04-25 17:00:20.071\n",
       "Name: REGISTRATION_DATE, Length: 287395, dtype: datetime64[ns]"
      ]
     },
     "execution_count": 15,
     "metadata": {},
     "output_type": "execute_result"
    }
   ],
   "source": [
    "consolidados2['REGISTRATION_DATE'] "
   ]
  },
  {
   "cell_type": "code",
   "execution_count": 16,
   "metadata": {},
   "outputs": [],
   "source": [
    "\n",
    "profile=consolidados2"
   ]
  },
  {
   "cell_type": "markdown",
   "metadata": {},
   "source": [
    "TRABAJAR LAS FECHAS DE NACIMIENTO"
   ]
  },
  {
   "cell_type": "code",
   "execution_count": 17,
   "metadata": {
    "scrolled": true
   },
   "outputs": [
    {
     "name": "stdout",
     "output_type": "stream",
     "text": [
      "<class 'pandas.core.frame.DataFrame'>\n",
      "Int64Index: 287395 entries, 0 to 287394\n",
      "Data columns (total 14 columns):\n",
      " #   Column             Non-Null Count   Dtype         \n",
      "---  ------             --------------   -----         \n",
      " 0   _id_x              286767 non-null  object        \n",
      " 1   nombre             286288 non-null  object        \n",
      " 2   apellidoPaterno    286396 non-null  object        \n",
      " 3   pais               2999 non-null    object        \n",
      " 4   fecha_nacimiento   203019 non-null  object        \n",
      " 5   genero             113949 non-null  object        \n",
      " 6   equipo_favorito    193647 non-null  object        \n",
      " 7   telefono           1803 non-null    object        \n",
      " 8   cliente_id         287335 non-null  object        \n",
      " 9   _id_y              287395 non-null  object        \n",
      " 10  REGISTRATION_DATE  287395 non-null  datetime64[ns]\n",
      " 11  EMAIL              287395 non-null  object        \n",
      " 12  HAS_EMAIL_VERIFY   287394 non-null  object        \n",
      " 13  _merge             287395 non-null  category      \n",
      "dtypes: category(1), datetime64[ns](1), object(12)\n",
      "memory usage: 31.0+ MB\n"
     ]
    }
   ],
   "source": [
    "profile.info()"
   ]
  },
  {
   "cell_type": "code",
   "execution_count": 18,
   "metadata": {
    "scrolled": true
   },
   "outputs": [],
   "source": [
    "profile.loc[(profile['fecha_nacimiento'].str.contains(\"sin informacion|1900-01-01T04:42:46.000Z\", na=False)),['fecha_nacimiento']]= np.NaN"
   ]
  },
  {
   "cell_type": "code",
   "execution_count": 19,
   "metadata": {
    "scrolled": true
   },
   "outputs": [],
   "source": [
    "profile['fecha_nacimiento']= pd.to_datetime(profile.fecha_nacimiento, utc=True)"
   ]
  },
  {
   "cell_type": "code",
   "execution_count": 20,
   "metadata": {},
   "outputs": [],
   "source": [
    "profile.loc[(profile['fecha_nacimiento']<'1910-01-01T04:42:46.000Z'),['fecha_nacimiento']]= np.NaN"
   ]
  },
  {
   "cell_type": "code",
   "execution_count": 21,
   "metadata": {},
   "outputs": [],
   "source": [
    "profile['fecha_nacimiento'] = pd.to_datetime(profile['fecha_nacimiento'], format='%d/%m/%y %H:%M:%S').dt.strftime('%Y/%m/%d')"
   ]
  },
  {
   "cell_type": "code",
   "execution_count": 22,
   "metadata": {},
   "outputs": [],
   "source": [
    "profile=profile.rename(columns={ \"cliente_id\": \"CUSTOMER_ID\",\"fecha_nacimiento\": \"DATE_OF_BIRTH\",\"pais\": \"COUNTRY\",\"equipo_favorito\": \"FAVORITE_TEAM\",\"nombre\": \"FIRST_NAME\",\"apellidoPaterno\":\"LAST_NAME\",\"telefono\":\"PHONE\"})"
   ]
  },
  {
   "cell_type": "code",
   "execution_count": 23,
   "metadata": {},
   "outputs": [],
   "source": [
    "profile=profile.drop(['_id_x', '_id_y','_merge'],axis=1)"
   ]
  },
  {
   "cell_type": "code",
   "execution_count": 24,
   "metadata": {},
   "outputs": [],
   "source": [
    "profile['cusGenderNonBinary']=profile['genero']"
   ]
  },
  {
   "cell_type": "markdown",
   "metadata": {},
   "source": [
    "#### Hay que transformar el sexo  para llenar el campo cusGenderNonBinary que debe ser numérico"
   ]
  },
  {
   "cell_type": "code",
   "execution_count": 25,
   "metadata": {},
   "outputs": [],
   "source": [
    "profile.loc[(profile['cusGenderNonBinary'].str.contains(\"m|M|male\", na=False)),['cusGenderNonBinary']]='male'"
   ]
  },
  {
   "cell_type": "code",
   "execution_count": 26,
   "metadata": {},
   "outputs": [],
   "source": [
    "profile.loc[(profile['cusGenderNonBinary'].str.contains(\"f|F|female\", na=False)),['cusGenderNonBinary']]='female'"
   ]
  },
  {
   "cell_type": "markdown",
   "metadata": {},
   "source": [
    "#### Hay que transformar el sexo para llenar el campo cusGenderNonBinary que debe ser numérico"
   ]
  },
  {
   "cell_type": "code",
   "execution_count": 27,
   "metadata": {},
   "outputs": [],
   "source": [
    "profile.loc[(profile['genero'].str.contains(\"m|M|male\", na=False)),['genero']]='M'"
   ]
  },
  {
   "cell_type": "code",
   "execution_count": 28,
   "metadata": {},
   "outputs": [],
   "source": [
    "profile.loc[(profile['genero'].str.contains(\"f|F|female\", na=False)),['genero']]='F'"
   ]
  },
  {
   "cell_type": "code",
   "execution_count": 29,
   "metadata": {},
   "outputs": [],
   "source": [
    "profile.loc[(profile['genero'].str.contains(\"None|nan\", na=False)),['genero']]=''"
   ]
  },
  {
   "cell_type": "code",
   "execution_count": 30,
   "metadata": {},
   "outputs": [],
   "source": [
    "profile=profile.rename(columns={ 'genero':'GENDER','cusGenderNonBinary':'GENDER_NB'})"
   ]
  },
  {
   "cell_type": "code",
   "execution_count": 31,
   "metadata": {},
   "outputs": [],
   "source": [
    "profile = profile[['CUSTOMER_ID','COUNTRY','DATE_OF_BIRTH','EMAIL','FAVORITE_TEAM','FIRST_NAME','LAST_NAME','GENDER','GENDER_NB','PHONE','REGISTRATION_DATE','HAS_EMAIL_VERIFY']]"
   ]
  },
  {
   "cell_type": "code",
   "execution_count": 32,
   "metadata": {},
   "outputs": [],
   "source": [
    "profile['CUSTOMER_ID'] = profile['CUSTOMER_ID']"
   ]
  },
  {
   "cell_type": "code",
   "execution_count": 33,
   "metadata": {},
   "outputs": [],
   "source": [
    "profile['COUNTRY'] =profile['COUNTRY'] "
   ]
  },
  {
   "cell_type": "code",
   "execution_count": 34,
   "metadata": {},
   "outputs": [],
   "source": [
    "profile['FAVORITE_TEAM'] = profile['FAVORITE_TEAM']"
   ]
  },
  {
   "cell_type": "code",
   "execution_count": 35,
   "metadata": {},
   "outputs": [],
   "source": [
    "profile['FIRST_NAME'] =profile['FIRST_NAME'] "
   ]
  },
  {
   "cell_type": "code",
   "execution_count": 36,
   "metadata": {},
   "outputs": [],
   "source": [
    "profile['LAST_NAME'] = profile['LAST_NAME']"
   ]
  },
  {
   "cell_type": "code",
   "execution_count": 37,
   "metadata": {},
   "outputs": [],
   "source": [
    "profile['GENDER'] = profile['GENDER'] "
   ]
  },
  {
   "cell_type": "code",
   "execution_count": 38,
   "metadata": {},
   "outputs": [],
   "source": [
    "profile['GENDER_NB'] = profile['GENDER_NB']"
   ]
  },
  {
   "cell_type": "code",
   "execution_count": 39,
   "metadata": {},
   "outputs": [],
   "source": [
    "profile['EMAIL'] = profile['EMAIL']"
   ]
  },
  {
   "cell_type": "code",
   "execution_count": 40,
   "metadata": {},
   "outputs": [],
   "source": [
    "profile['REGISTRATION_DATE']=pd.to_datetime(profile['REGISTRATION_DATE'], format='%d/%m/%y %H:%M:%S').dt.strftime('%Y/%m/%d %H:%M:%S')"
   ]
  },
  {
   "cell_type": "code",
   "execution_count": 41,
   "metadata": {},
   "outputs": [
    {
     "name": "stdout",
     "output_type": "stream",
     "text": [
      "<class 'pandas.core.frame.DataFrame'>\n",
      "Int64Index: 287395 entries, 0 to 287394\n",
      "Data columns (total 12 columns):\n",
      " #   Column             Non-Null Count   Dtype \n",
      "---  ------             --------------   ----- \n",
      " 0   CUSTOMER_ID        287335 non-null  object\n",
      " 1   COUNTRY            2999 non-null    object\n",
      " 2   DATE_OF_BIRTH      113308 non-null  object\n",
      " 3   EMAIL              287395 non-null  object\n",
      " 4   FAVORITE_TEAM      193647 non-null  object\n",
      " 5   FIRST_NAME         286288 non-null  object\n",
      " 6   LAST_NAME          286396 non-null  object\n",
      " 7   GENDER             113949 non-null  object\n",
      " 8   GENDER_NB          113949 non-null  object\n",
      " 9   PHONE              1803 non-null    object\n",
      " 10  REGISTRATION_DATE  287395 non-null  object\n",
      " 11  HAS_EMAIL_VERIFY   287394 non-null  object\n",
      "dtypes: object(12)\n",
      "memory usage: 28.5+ MB\n"
     ]
    }
   ],
   "source": [
    "profile.info()"
   ]
  },
  {
   "cell_type": "code",
   "execution_count": 42,
   "metadata": {},
   "outputs": [],
   "source": [
    "import datetime"
   ]
  },
  {
   "cell_type": "markdown",
   "metadata": {},
   "source": [
    " #### Ahora vamos a determinar el nombre y el path"
   ]
  },
  {
   "cell_type": "code",
   "execution_count": 43,
   "metadata": {},
   "outputs": [],
   "source": [
    "name='cdf_profile_'+datetime.datetime.today().strftime('%Y%m%d_%H%M%S')"
   ]
  },
  {
   "cell_type": "code",
   "execution_count": 44,
   "metadata": {},
   "outputs": [],
   "source": [
    "path='/home/tecnoboy/'+name+'.csv'"
   ]
  },
  {
   "cell_type": "code",
   "execution_count": 45,
   "metadata": {},
   "outputs": [],
   "source": [
    "profile.to_csv(path, index=False, quoting=csv.QUOTE_NONNUMERIC)"
   ]
  },
  {
   "cell_type": "code",
   "execution_count": null,
   "metadata": {},
   "outputs": [],
   "source": []
  }
 ],
 "metadata": {
  "kernelspec": {
   "display_name": "Python 3",
   "language": "python",
   "name": "python3"
  },
  "language_info": {
   "codemirror_mode": {
    "name": "ipython",
    "version": 3
   },
   "file_extension": ".py",
   "mimetype": "text/x-python",
   "name": "python",
   "nbconvert_exporter": "python",
   "pygments_lexer": "ipython3",
   "version": "3.6.9"
  }
 },
 "nbformat": 4,
 "nbformat_minor": 2
}
