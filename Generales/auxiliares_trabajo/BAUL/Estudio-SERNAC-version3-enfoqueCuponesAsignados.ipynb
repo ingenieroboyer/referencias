{
 "cells": [
  {
   "cell_type": "markdown",
   "metadata": {},
   "source": [
    "## ESTUDIO PARA EL SERNAC"
   ]
  },
  {
   "cell_type": "markdown",
   "metadata": {},
   "source": [
    "###  CUPONES - ENFOQUE DE CUPONES ASIGNADOS"
   ]
  },
  {
   "cell_type": "code",
   "execution_count": 1,
   "metadata": {},
   "outputs": [],
   "source": [
    "import pandas as pd"
   ]
  },
  {
   "cell_type": "code",
   "execution_count": 2,
   "metadata": {},
   "outputs": [],
   "source": [
    "cupones_asignados=pd.read_csv(\"/home/tecnoboy/ClusterMongo-produccion/cdfMaster/cuponesasignados.csv\")"
   ]
  },
  {
   "cell_type": "code",
   "execution_count": 3,
   "metadata": {
    "scrolled": true
   },
   "outputs": [
    {
     "name": "stderr",
     "output_type": "stream",
     "text": [
      "/home/tecnoboy/HERRAMIENTAS/jupyterNotebook/datosSernac/lib/python3.6/site-packages/IPython/core/interactiveshell.py:3063: DtypeWarning: Columns (11,12,13,15) have mixed types.Specify dtype option on import or set low_memory=False.\n",
      "  interactivity=interactivity, compiler=compiler, result=result)\n"
     ]
    }
   ],
   "source": [
    "users=pd.read_csv(\"/home/tecnoboy/ClusterMongo-produccion/cdfMaster/users.csv\")"
   ]
  },
  {
   "cell_type": "code",
   "execution_count": 4,
   "metadata": {},
   "outputs": [],
   "source": [
    "mails=users.drop({ 'updatedAt', 'createdAt',  'password', 'nombre',\n",
    "       'apellido', 'estado_token', 'pasarela', 'material', 'dispositivos',\n",
    "       'propiedades.0.beta', 'baneado', 'estado', 'tipo', 'verificado',\n",
    "       '_roles', '__v', '_cliente',  'fecha_nacimiento',\n",
    "       '_transaccion', '_acuerdo', '_producto', 'fecha_fin', 'fecha_pago',\n",
    "       'fecha_acuerdo', 'email_recuperacion', 'fecha_cancelacion', 'genero'},axis=1)"
   ]
  },
  {
   "cell_type": "code",
   "execution_count": 5,
   "metadata": {},
   "outputs": [],
   "source": [
    "mails=mails.rename(columns={'_id':'user_id'})"
   ]
  },
  {
   "cell_type": "code",
   "execution_count": 6,
   "metadata": {},
   "outputs": [
    {
     "data": {
      "text/plain": [
       "Index(['_id', 'updatedAt', 'createdAt', 'user_id_asignado', 'cupon_id',\n",
       "       'producto_id', 'codigo', 'fecha_activacion', 'fecha_fin', 'material',\n",
       "       'user_id_asignado_por', 'estado', '__v', 'pago_id', 'acuerdo_id'],\n",
       "      dtype='object')"
      ]
     },
     "execution_count": 6,
     "metadata": {},
     "output_type": "execute_result"
    }
   ],
   "source": [
    "cupones_asignados.columns"
   ]
  },
  {
   "cell_type": "code",
   "execution_count": 7,
   "metadata": {},
   "outputs": [],
   "source": [
    "cupones_email=cupones_asignados.merge(mails, left_on='user_id_asignado', right_on='user_id')"
   ]
  },
  {
   "cell_type": "code",
   "execution_count": 8,
   "metadata": {},
   "outputs": [],
   "source": [
    "cupones_email=cupones_email.rename(columns={'fecha_activacion':'celebracion_contr','user_id_asignado':'id_Sernac'})## Revisarlo porque es mejor la fecha del pago"
   ]
  },
  {
   "cell_type": "markdown",
   "metadata": {},
   "source": [
    "Buscamos tanto el precio_mensual_suscripcion del producto['ValorNacional']"
   ]
  },
  {
   "cell_type": "code",
   "execution_count": 9,
   "metadata": {},
   "outputs": [],
   "source": [
    "productos=pd.read_csv(\"/home/tecnoboy/ClusterMongo-produccion/cdfMaster/productos.csv\")"
   ]
  },
  {
   "cell_type": "code",
   "execution_count": 10,
   "metadata": {},
   "outputs": [
    {
     "data": {
      "text/plain": [
       "Index(['_id', 'updatedAt', 'createdAt', 'userId', 'fechaInicio', 'fechaFin',\n",
       "       'producto', 'valorNacional', 'material', 'ciclos', 'intervalo',\n",
       "       'descripcion', 'tipo', 'estado', 'pasarela.0.value', 'pasarela.0.code',\n",
       "       'region.name', 'region.code', 'dispositivos', '__v', 'recurrente',\n",
       "       'valorInternacional'],\n",
       "      dtype='object')"
      ]
     },
     "execution_count": 10,
     "metadata": {},
     "output_type": "execute_result"
    }
   ],
   "source": [
    "productos.columns"
   ]
  },
  {
   "cell_type": "code",
   "execution_count": 11,
   "metadata": {},
   "outputs": [],
   "source": [
    "cupones_ValorReal=cupones_email.merge(productos, left_on='producto_id', right_on='_id')"
   ]
  },
  {
   "cell_type": "code",
   "execution_count": 12,
   "metadata": {},
   "outputs": [],
   "source": [
    "cupones_ValorReal=cupones_ValorReal.rename(columns={'valorNacional':'precio_mensual_suscripcion'})"
   ]
  },
  {
   "cell_type": "code",
   "execution_count": 13,
   "metadata": {},
   "outputs": [
    {
     "data": {
      "text/plain": [
       "Index(['_id_x', 'updatedAt_x', 'createdAt_x', 'id_Sernac', 'cupon_id',\n",
       "       'producto_id', 'codigo', 'celebracion_contr', 'fecha_fin', 'material_x',\n",
       "       'user_id_asignado_por', 'estado_x', '__v_x', 'pago_id', 'acuerdo_id',\n",
       "       'user_id', 'email', 'cliente_id', '_id_y', 'updatedAt_y', 'createdAt_y',\n",
       "       'userId', 'fechaInicio', 'fechaFin', 'producto',\n",
       "       'precio_mensual_suscripcion', 'material_y', 'ciclos', 'intervalo',\n",
       "       'descripcion', 'tipo', 'estado_y', 'pasarela.0.value',\n",
       "       'pasarela.0.code', 'region.name', 'region.code', 'dispositivos',\n",
       "       '__v_y', 'recurrente', 'valorInternacional'],\n",
       "      dtype='object')"
      ]
     },
     "execution_count": 13,
     "metadata": {},
     "output_type": "execute_result"
    }
   ],
   "source": [
    "cupones_ValorReal.columns"
   ]
  },
  {
   "cell_type": "code",
   "execution_count": 14,
   "metadata": {},
   "outputs": [],
   "source": [
    "cupones_ValorReal=cupones_ValorReal.drop({ '_id_x', 'updatedAt_x', 'createdAt_x', 'codigo', 'material_x',\n",
    "       'user_id_asignado_por', 'estado_x', '__v_x', 'pago_id', 'acuerdo_id', 'cliente_id', '_id_y', 'updatedAt_y', 'createdAt_y',\n",
    "       'userId', 'fechaInicio', 'fechaFin', 'producto', 'material_y', 'ciclos', 'intervalo',\n",
    "       'descripcion', 'tipo', 'estado_y', 'pasarela.0.value',\n",
    "       'pasarela.0.code', 'region.name', 'region.code', 'dispositivos',\n",
    "       '__v_y'},axis=1)"
   ]
  },
  {
   "cell_type": "code",
   "execution_count": 15,
   "metadata": {
    "scrolled": true
   },
   "outputs": [
    {
     "data": {
      "text/html": [
       "<div>\n",
       "<style scoped>\n",
       "    .dataframe tbody tr th:only-of-type {\n",
       "        vertical-align: middle;\n",
       "    }\n",
       "\n",
       "    .dataframe tbody tr th {\n",
       "        vertical-align: top;\n",
       "    }\n",
       "\n",
       "    .dataframe thead th {\n",
       "        text-align: right;\n",
       "    }\n",
       "</style>\n",
       "<table border=\"1\" class=\"dataframe\">\n",
       "  <thead>\n",
       "    <tr style=\"text-align: right;\">\n",
       "      <th></th>\n",
       "      <th>id_Sernac</th>\n",
       "      <th>cupon_id</th>\n",
       "      <th>producto_id</th>\n",
       "      <th>celebracion_contr</th>\n",
       "      <th>fecha_fin</th>\n",
       "      <th>user_id</th>\n",
       "      <th>email</th>\n",
       "      <th>precio_mensual_suscripcion</th>\n",
       "      <th>recurrente</th>\n",
       "      <th>valorInternacional</th>\n",
       "    </tr>\n",
       "  </thead>\n",
       "  <tbody>\n",
       "    <tr>\n",
       "      <th>0</th>\n",
       "      <td>5861903a33795733d89a6f56</td>\n",
       "      <td>58530d611652e44220a586d2</td>\n",
       "      <td>58530cb71652e44220a586d1</td>\n",
       "      <td>2016-12-27T15:14:10.947Z</td>\n",
       "      <td>2017-12-26T00:00:00.000Z</td>\n",
       "      <td>5861903a33795733d89a6f56</td>\n",
       "      <td>fbaez@ned.cl</td>\n",
       "      <td>0.0</td>\n",
       "      <td>NaN</td>\n",
       "      <td>NaN</td>\n",
       "    </tr>\n",
       "    <tr>\n",
       "      <th>1</th>\n",
       "      <td>5861903a33795733d89a6f56</td>\n",
       "      <td>5956854929646a190d715198</td>\n",
       "      <td>58530cb71652e44220a586d1</td>\n",
       "      <td>2018-03-06T21:24:38.404Z</td>\n",
       "      <td>2019-01-01T02:59:59.999Z</td>\n",
       "      <td>5861903a33795733d89a6f56</td>\n",
       "      <td>fbaez@ned.cl</td>\n",
       "      <td>0.0</td>\n",
       "      <td>NaN</td>\n",
       "      <td>NaN</td>\n",
       "    </tr>\n",
       "    <tr>\n",
       "      <th>2</th>\n",
       "      <td>5861903a33795733d89a6f56</td>\n",
       "      <td>5c2d0b5500f6190edc2bc9ea</td>\n",
       "      <td>58530cb71652e44220a586d1</td>\n",
       "      <td>2019-01-02T19:06:07.719Z</td>\n",
       "      <td>2020-02-01T02:59:59.999Z</td>\n",
       "      <td>5861903a33795733d89a6f56</td>\n",
       "      <td>fbaez@ned.cl</td>\n",
       "      <td>0.0</td>\n",
       "      <td>NaN</td>\n",
       "      <td>NaN</td>\n",
       "    </tr>\n",
       "    <tr>\n",
       "      <th>3</th>\n",
       "      <td>5863db88986c554aebb4b278</td>\n",
       "      <td>58530d611652e44220a586d2</td>\n",
       "      <td>58530cb71652e44220a586d1</td>\n",
       "      <td>2016-12-28T15:42:11.377Z</td>\n",
       "      <td>2017-01-27T00:00:00.000Z</td>\n",
       "      <td>5863db88986c554aebb4b278</td>\n",
       "      <td>ricardo@ned.cl</td>\n",
       "      <td>0.0</td>\n",
       "      <td>NaN</td>\n",
       "      <td>NaN</td>\n",
       "    </tr>\n",
       "    <tr>\n",
       "      <th>4</th>\n",
       "      <td>5863fde9986c554aebb4b27e</td>\n",
       "      <td>58530d611652e44220a586d2</td>\n",
       "      <td>58530cb71652e44220a586d1</td>\n",
       "      <td>2016-12-28T18:14:41.783Z</td>\n",
       "      <td>2017-01-27T00:00:00.000Z</td>\n",
       "      <td>5863fde9986c554aebb4b27e</td>\n",
       "      <td>epalominos@ned.cl</td>\n",
       "      <td>0.0</td>\n",
       "      <td>NaN</td>\n",
       "      <td>NaN</td>\n",
       "    </tr>\n",
       "    <tr>\n",
       "      <th>...</th>\n",
       "      <td>...</td>\n",
       "      <td>...</td>\n",
       "      <td>...</td>\n",
       "      <td>...</td>\n",
       "      <td>...</td>\n",
       "      <td>...</td>\n",
       "      <td>...</td>\n",
       "      <td>...</td>\n",
       "      <td>...</td>\n",
       "      <td>...</td>\n",
       "    </tr>\n",
       "    <tr>\n",
       "      <th>13117</th>\n",
       "      <td>56ffc8527ed629d7085b4a62</td>\n",
       "      <td>589c7095549cf21eedf7d234</td>\n",
       "      <td>5864280873981c4e423c0cb1</td>\n",
       "      <td>2017-04-01T03:31:09.962Z</td>\n",
       "      <td>2017-05-31T03:31:09.962Z</td>\n",
       "      <td>56ffc8527ed629d7085b4a62</td>\n",
       "      <td>hesalgad@gmail.com</td>\n",
       "      <td>7390.0</td>\n",
       "      <td>True</td>\n",
       "      <td>NaN</td>\n",
       "    </tr>\n",
       "    <tr>\n",
       "      <th>13118</th>\n",
       "      <td>58dfbfe2965ca60b03b9efc8</td>\n",
       "      <td>589c7095549cf21eedf7d234</td>\n",
       "      <td>5864280873981c4e423c0cb1</td>\n",
       "      <td>2017-04-01T15:03:03.905Z</td>\n",
       "      <td>2017-05-27T02:54:24.956Z</td>\n",
       "      <td>58dfbfe2965ca60b03b9efc8</td>\n",
       "      <td>carloosfiguero@gmail.com</td>\n",
       "      <td>7390.0</td>\n",
       "      <td>True</td>\n",
       "      <td>NaN</td>\n",
       "    </tr>\n",
       "    <tr>\n",
       "      <th>13119</th>\n",
       "      <td>581e5bbcc651fdd1084116e2</td>\n",
       "      <td>589c7095549cf21eedf7d234</td>\n",
       "      <td>5864280873981c4e423c0cb1</td>\n",
       "      <td>2017-04-28T20:00:25.249Z</td>\n",
       "      <td>2017-06-27T20:00:25.249Z</td>\n",
       "      <td>581e5bbcc651fdd1084116e2</td>\n",
       "      <td>irenearinka@hotmail.com</td>\n",
       "      <td>7390.0</td>\n",
       "      <td>True</td>\n",
       "      <td>NaN</td>\n",
       "    </tr>\n",
       "    <tr>\n",
       "      <th>13120</th>\n",
       "      <td>5ab3c66cbf23d851c4c4fa8f</td>\n",
       "      <td>5ab3be4778990157b4dfab21</td>\n",
       "      <td>5864280873981c4e423c0cb1</td>\n",
       "      <td>2018-03-22T15:15:02.971Z</td>\n",
       "      <td>2018-03-28T21:50:57.505Z</td>\n",
       "      <td>5ab3c66cbf23d851c4c4fa8f</td>\n",
       "      <td>lcorrea+1@cdf.cl</td>\n",
       "      <td>7390.0</td>\n",
       "      <td>True</td>\n",
       "      <td>NaN</td>\n",
       "    </tr>\n",
       "    <tr>\n",
       "      <th>13121</th>\n",
       "      <td>5ab3ca3533e28c747a751db8</td>\n",
       "      <td>5ab3be4778990157b4dfab21</td>\n",
       "      <td>5864280873981c4e423c0cb1</td>\n",
       "      <td>2018-03-22T15:30:53.098Z</td>\n",
       "      <td>2018-03-28T21:48:24.688Z</td>\n",
       "      <td>5ab3ca3533e28c747a751db8</td>\n",
       "      <td>hector.guldenaar@turner.com</td>\n",
       "      <td>7390.0</td>\n",
       "      <td>True</td>\n",
       "      <td>NaN</td>\n",
       "    </tr>\n",
       "  </tbody>\n",
       "</table>\n",
       "<p>13122 rows × 10 columns</p>\n",
       "</div>"
      ],
      "text/plain": [
       "                      id_Sernac                  cupon_id  \\\n",
       "0      5861903a33795733d89a6f56  58530d611652e44220a586d2   \n",
       "1      5861903a33795733d89a6f56  5956854929646a190d715198   \n",
       "2      5861903a33795733d89a6f56  5c2d0b5500f6190edc2bc9ea   \n",
       "3      5863db88986c554aebb4b278  58530d611652e44220a586d2   \n",
       "4      5863fde9986c554aebb4b27e  58530d611652e44220a586d2   \n",
       "...                         ...                       ...   \n",
       "13117  56ffc8527ed629d7085b4a62  589c7095549cf21eedf7d234   \n",
       "13118  58dfbfe2965ca60b03b9efc8  589c7095549cf21eedf7d234   \n",
       "13119  581e5bbcc651fdd1084116e2  589c7095549cf21eedf7d234   \n",
       "13120  5ab3c66cbf23d851c4c4fa8f  5ab3be4778990157b4dfab21   \n",
       "13121  5ab3ca3533e28c747a751db8  5ab3be4778990157b4dfab21   \n",
       "\n",
       "                    producto_id         celebracion_contr  \\\n",
       "0      58530cb71652e44220a586d1  2016-12-27T15:14:10.947Z   \n",
       "1      58530cb71652e44220a586d1  2018-03-06T21:24:38.404Z   \n",
       "2      58530cb71652e44220a586d1  2019-01-02T19:06:07.719Z   \n",
       "3      58530cb71652e44220a586d1  2016-12-28T15:42:11.377Z   \n",
       "4      58530cb71652e44220a586d1  2016-12-28T18:14:41.783Z   \n",
       "...                         ...                       ...   \n",
       "13117  5864280873981c4e423c0cb1  2017-04-01T03:31:09.962Z   \n",
       "13118  5864280873981c4e423c0cb1  2017-04-01T15:03:03.905Z   \n",
       "13119  5864280873981c4e423c0cb1  2017-04-28T20:00:25.249Z   \n",
       "13120  5864280873981c4e423c0cb1  2018-03-22T15:15:02.971Z   \n",
       "13121  5864280873981c4e423c0cb1  2018-03-22T15:30:53.098Z   \n",
       "\n",
       "                      fecha_fin                   user_id  \\\n",
       "0      2017-12-26T00:00:00.000Z  5861903a33795733d89a6f56   \n",
       "1      2019-01-01T02:59:59.999Z  5861903a33795733d89a6f56   \n",
       "2      2020-02-01T02:59:59.999Z  5861903a33795733d89a6f56   \n",
       "3      2017-01-27T00:00:00.000Z  5863db88986c554aebb4b278   \n",
       "4      2017-01-27T00:00:00.000Z  5863fde9986c554aebb4b27e   \n",
       "...                         ...                       ...   \n",
       "13117  2017-05-31T03:31:09.962Z  56ffc8527ed629d7085b4a62   \n",
       "13118  2017-05-27T02:54:24.956Z  58dfbfe2965ca60b03b9efc8   \n",
       "13119  2017-06-27T20:00:25.249Z  581e5bbcc651fdd1084116e2   \n",
       "13120  2018-03-28T21:50:57.505Z  5ab3c66cbf23d851c4c4fa8f   \n",
       "13121  2018-03-28T21:48:24.688Z  5ab3ca3533e28c747a751db8   \n",
       "\n",
       "                             email  precio_mensual_suscripcion recurrente  \\\n",
       "0                     fbaez@ned.cl                         0.0        NaN   \n",
       "1                     fbaez@ned.cl                         0.0        NaN   \n",
       "2                     fbaez@ned.cl                         0.0        NaN   \n",
       "3                   ricardo@ned.cl                         0.0        NaN   \n",
       "4                epalominos@ned.cl                         0.0        NaN   \n",
       "...                            ...                         ...        ...   \n",
       "13117           hesalgad@gmail.com                      7390.0       True   \n",
       "13118     carloosfiguero@gmail.com                      7390.0       True   \n",
       "13119      irenearinka@hotmail.com                      7390.0       True   \n",
       "13120             lcorrea+1@cdf.cl                      7390.0       True   \n",
       "13121  hector.guldenaar@turner.com                      7390.0       True   \n",
       "\n",
       "       valorInternacional  \n",
       "0                     NaN  \n",
       "1                     NaN  \n",
       "2                     NaN  \n",
       "3                     NaN  \n",
       "4                     NaN  \n",
       "...                   ...  \n",
       "13117                 NaN  \n",
       "13118                 NaN  \n",
       "13119                 NaN  \n",
       "13120                 NaN  \n",
       "13121                 NaN  \n",
       "\n",
       "[13122 rows x 10 columns]"
      ]
     },
     "execution_count": 15,
     "metadata": {},
     "output_type": "execute_result"
    }
   ],
   "source": [
    "cupones_ValorReal"
   ]
  },
  {
   "cell_type": "code",
   "execution_count": 16,
   "metadata": {},
   "outputs": [],
   "source": [
    "cupones_ValorReal=cupones_ValorReal.rename(columns={'cupon_id':'acuerdo_id'})"
   ]
  },
  {
   "cell_type": "code",
   "execution_count": null,
   "metadata": {},
   "outputs": [],
   "source": []
  },
  {
   "cell_type": "markdown",
   "metadata": {},
   "source": [
    "AHORA BUSCAR PAGOS MENSUALES Y FECHA DEL PAGO"
   ]
  },
  {
   "cell_type": "code",
   "execution_count": 17,
   "metadata": {},
   "outputs": [],
   "source": [
    "pagos=pd.read_csv(\"/home/tecnoboy/ClusterMongo-produccion/cdfMaster/pagos.csv\")"
   ]
  },
  {
   "cell_type": "code",
   "execution_count": 18,
   "metadata": {},
   "outputs": [],
   "source": [
    "cupones_total=cupones_ValorReal.merge(pagos, on=['user_id','acuerdo_id'],how='left')"
   ]
  },
  {
   "cell_type": "code",
   "execution_count": 19,
   "metadata": {},
   "outputs": [
    {
     "data": {
      "text/plain": [
       "Index(['id_Sernac', 'acuerdo_id', 'producto_id_x', 'celebracion_contr',\n",
       "       'fecha_fin_x', 'user_id', 'email', 'precio_mensual_suscripcion',\n",
       "       'recurrente', 'valorInternacional', '_id', 'updatedAt', 'createdAt',\n",
       "       '__v', 'pasarela', 'monto', 'moneda', 'estado', 'fecha_pago',\n",
       "       'producto_id_y', 'transaccion_id', 'material', 'fecha_fin_y',\n",
       "       'folio_boleta', '_user'],\n",
       "      dtype='object')"
      ]
     },
     "execution_count": 19,
     "metadata": {},
     "output_type": "execute_result"
    }
   ],
   "source": [
    "cupones_total.columns"
   ]
  },
  {
   "cell_type": "code",
   "execution_count": 20,
   "metadata": {},
   "outputs": [],
   "source": [
    "cupones_total=cupones_total.drop({  'acuerdo_id', 'producto_id_x', 'user_id','valorInternacional', '_id', 'updatedAt', 'createdAt',\n",
    "       'pasarela',  'moneda', 'estado', 'producto_id_y',\n",
    "       'transaccion_id', 'material', 'fecha_fin_y', '_user'},axis=1)"
   ]
  },
  {
   "cell_type": "code",
   "execution_count": 21,
   "metadata": {},
   "outputs": [],
   "source": [
    "cupones_total['monto']=cupones_total.monto.fillna(0)"
   ]
  },
  {
   "cell_type": "code",
   "execution_count": 22,
   "metadata": {},
   "outputs": [],
   "source": [
    "cupones_total['fecha_pago']=cupones_total.fecha_pago.fillna('NA')"
   ]
  },
  {
   "cell_type": "code",
   "execution_count": 23,
   "metadata": {},
   "outputs": [],
   "source": [
    "cupones_total['fecha_fin_x']=pd.to_datetime(cupones_total.fecha_fin_x)"
   ]
  },
  {
   "cell_type": "code",
   "execution_count": 24,
   "metadata": {},
   "outputs": [],
   "source": [
    "cupones_total['celebracion_contr']=pd.to_datetime(cupones_total.celebracion_contr)"
   ]
  },
  {
   "cell_type": "code",
   "execution_count": 25,
   "metadata": {},
   "outputs": [
    {
     "data": {
      "text/html": [
       "<div>\n",
       "<style scoped>\n",
       "    .dataframe tbody tr th:only-of-type {\n",
       "        vertical-align: middle;\n",
       "    }\n",
       "\n",
       "    .dataframe tbody tr th {\n",
       "        vertical-align: top;\n",
       "    }\n",
       "\n",
       "    .dataframe thead th {\n",
       "        text-align: right;\n",
       "    }\n",
       "</style>\n",
       "<table border=\"1\" class=\"dataframe\">\n",
       "  <thead>\n",
       "    <tr style=\"text-align: right;\">\n",
       "      <th></th>\n",
       "      <th>id_Sernac</th>\n",
       "      <th>celebracion_contr</th>\n",
       "      <th>fecha_fin_x</th>\n",
       "      <th>email</th>\n",
       "      <th>precio_mensual_suscripcion</th>\n",
       "      <th>recurrente</th>\n",
       "      <th>__v</th>\n",
       "      <th>monto</th>\n",
       "      <th>fecha_pago</th>\n",
       "      <th>folio_boleta</th>\n",
       "    </tr>\n",
       "  </thead>\n",
       "  <tbody>\n",
       "    <tr>\n",
       "      <th>0</th>\n",
       "      <td>5861903a33795733d89a6f56</td>\n",
       "      <td>2016-12-27 15:14:10.947000+00:00</td>\n",
       "      <td>2017-12-26 00:00:00+00:00</td>\n",
       "      <td>fbaez@ned.cl</td>\n",
       "      <td>0.0</td>\n",
       "      <td>NaN</td>\n",
       "      <td>0.0</td>\n",
       "      <td>0.0</td>\n",
       "      <td>2016-12-27T15:14:10.947Z</td>\n",
       "      <td>NaN</td>\n",
       "    </tr>\n",
       "    <tr>\n",
       "      <th>1</th>\n",
       "      <td>5861903a33795733d89a6f56</td>\n",
       "      <td>2018-03-06 21:24:38.404000+00:00</td>\n",
       "      <td>2019-01-01 02:59:59.999000+00:00</td>\n",
       "      <td>fbaez@ned.cl</td>\n",
       "      <td>0.0</td>\n",
       "      <td>NaN</td>\n",
       "      <td>0.0</td>\n",
       "      <td>10990.0</td>\n",
       "      <td>2018-03-06T21:30:01.000Z</td>\n",
       "      <td>NaN</td>\n",
       "    </tr>\n",
       "    <tr>\n",
       "      <th>2</th>\n",
       "      <td>5861903a33795733d89a6f56</td>\n",
       "      <td>2019-01-02 19:06:07.719000+00:00</td>\n",
       "      <td>2020-02-01 02:59:59.999000+00:00</td>\n",
       "      <td>fbaez@ned.cl</td>\n",
       "      <td>0.0</td>\n",
       "      <td>NaN</td>\n",
       "      <td>0.0</td>\n",
       "      <td>10990.0</td>\n",
       "      <td>2019-01-02T19:06:07.719Z</td>\n",
       "      <td>NaN</td>\n",
       "    </tr>\n",
       "    <tr>\n",
       "      <th>3</th>\n",
       "      <td>5863db88986c554aebb4b278</td>\n",
       "      <td>2016-12-28 15:42:11.377000+00:00</td>\n",
       "      <td>2017-01-27 00:00:00+00:00</td>\n",
       "      <td>ricardo@ned.cl</td>\n",
       "      <td>0.0</td>\n",
       "      <td>NaN</td>\n",
       "      <td>0.0</td>\n",
       "      <td>0.0</td>\n",
       "      <td>2016-12-28T15:42:11.377Z</td>\n",
       "      <td>NaN</td>\n",
       "    </tr>\n",
       "    <tr>\n",
       "      <th>4</th>\n",
       "      <td>5863fde9986c554aebb4b27e</td>\n",
       "      <td>2016-12-28 18:14:41.783000+00:00</td>\n",
       "      <td>2017-01-27 00:00:00+00:00</td>\n",
       "      <td>epalominos@ned.cl</td>\n",
       "      <td>0.0</td>\n",
       "      <td>NaN</td>\n",
       "      <td>0.0</td>\n",
       "      <td>0.0</td>\n",
       "      <td>2016-12-28T18:14:41.783Z</td>\n",
       "      <td>NaN</td>\n",
       "    </tr>\n",
       "    <tr>\n",
       "      <th>...</th>\n",
       "      <td>...</td>\n",
       "      <td>...</td>\n",
       "      <td>...</td>\n",
       "      <td>...</td>\n",
       "      <td>...</td>\n",
       "      <td>...</td>\n",
       "      <td>...</td>\n",
       "      <td>...</td>\n",
       "      <td>...</td>\n",
       "      <td>...</td>\n",
       "    </tr>\n",
       "    <tr>\n",
       "      <th>14464</th>\n",
       "      <td>56ffc8527ed629d7085b4a62</td>\n",
       "      <td>2017-04-01 03:31:09.962000+00:00</td>\n",
       "      <td>2017-05-31 03:31:09.962000+00:00</td>\n",
       "      <td>hesalgad@gmail.com</td>\n",
       "      <td>7390.0</td>\n",
       "      <td>True</td>\n",
       "      <td>NaN</td>\n",
       "      <td>0.0</td>\n",
       "      <td>NA</td>\n",
       "      <td>NaN</td>\n",
       "    </tr>\n",
       "    <tr>\n",
       "      <th>14465</th>\n",
       "      <td>58dfbfe2965ca60b03b9efc8</td>\n",
       "      <td>2017-04-01 15:03:03.905000+00:00</td>\n",
       "      <td>2017-05-27 02:54:24.956000+00:00</td>\n",
       "      <td>carloosfiguero@gmail.com</td>\n",
       "      <td>7390.0</td>\n",
       "      <td>True</td>\n",
       "      <td>NaN</td>\n",
       "      <td>0.0</td>\n",
       "      <td>NA</td>\n",
       "      <td>NaN</td>\n",
       "    </tr>\n",
       "    <tr>\n",
       "      <th>14466</th>\n",
       "      <td>581e5bbcc651fdd1084116e2</td>\n",
       "      <td>2017-04-28 20:00:25.249000+00:00</td>\n",
       "      <td>2017-06-27 20:00:25.249000+00:00</td>\n",
       "      <td>irenearinka@hotmail.com</td>\n",
       "      <td>7390.0</td>\n",
       "      <td>True</td>\n",
       "      <td>NaN</td>\n",
       "      <td>0.0</td>\n",
       "      <td>NA</td>\n",
       "      <td>NaN</td>\n",
       "    </tr>\n",
       "    <tr>\n",
       "      <th>14467</th>\n",
       "      <td>5ab3c66cbf23d851c4c4fa8f</td>\n",
       "      <td>2018-03-22 15:15:02.971000+00:00</td>\n",
       "      <td>2018-03-28 21:50:57.505000+00:00</td>\n",
       "      <td>lcorrea+1@cdf.cl</td>\n",
       "      <td>7390.0</td>\n",
       "      <td>True</td>\n",
       "      <td>NaN</td>\n",
       "      <td>0.0</td>\n",
       "      <td>NA</td>\n",
       "      <td>NaN</td>\n",
       "    </tr>\n",
       "    <tr>\n",
       "      <th>14468</th>\n",
       "      <td>5ab3ca3533e28c747a751db8</td>\n",
       "      <td>2018-03-22 15:30:53.098000+00:00</td>\n",
       "      <td>2018-03-28 21:48:24.688000+00:00</td>\n",
       "      <td>hector.guldenaar@turner.com</td>\n",
       "      <td>7390.0</td>\n",
       "      <td>True</td>\n",
       "      <td>NaN</td>\n",
       "      <td>0.0</td>\n",
       "      <td>NA</td>\n",
       "      <td>NaN</td>\n",
       "    </tr>\n",
       "  </tbody>\n",
       "</table>\n",
       "<p>14469 rows × 10 columns</p>\n",
       "</div>"
      ],
      "text/plain": [
       "                      id_Sernac                celebracion_contr  \\\n",
       "0      5861903a33795733d89a6f56 2016-12-27 15:14:10.947000+00:00   \n",
       "1      5861903a33795733d89a6f56 2018-03-06 21:24:38.404000+00:00   \n",
       "2      5861903a33795733d89a6f56 2019-01-02 19:06:07.719000+00:00   \n",
       "3      5863db88986c554aebb4b278 2016-12-28 15:42:11.377000+00:00   \n",
       "4      5863fde9986c554aebb4b27e 2016-12-28 18:14:41.783000+00:00   \n",
       "...                         ...                              ...   \n",
       "14464  56ffc8527ed629d7085b4a62 2017-04-01 03:31:09.962000+00:00   \n",
       "14465  58dfbfe2965ca60b03b9efc8 2017-04-01 15:03:03.905000+00:00   \n",
       "14466  581e5bbcc651fdd1084116e2 2017-04-28 20:00:25.249000+00:00   \n",
       "14467  5ab3c66cbf23d851c4c4fa8f 2018-03-22 15:15:02.971000+00:00   \n",
       "14468  5ab3ca3533e28c747a751db8 2018-03-22 15:30:53.098000+00:00   \n",
       "\n",
       "                           fecha_fin_x                        email  \\\n",
       "0            2017-12-26 00:00:00+00:00                 fbaez@ned.cl   \n",
       "1     2019-01-01 02:59:59.999000+00:00                 fbaez@ned.cl   \n",
       "2     2020-02-01 02:59:59.999000+00:00                 fbaez@ned.cl   \n",
       "3            2017-01-27 00:00:00+00:00               ricardo@ned.cl   \n",
       "4            2017-01-27 00:00:00+00:00            epalominos@ned.cl   \n",
       "...                                ...                          ...   \n",
       "14464 2017-05-31 03:31:09.962000+00:00           hesalgad@gmail.com   \n",
       "14465 2017-05-27 02:54:24.956000+00:00     carloosfiguero@gmail.com   \n",
       "14466 2017-06-27 20:00:25.249000+00:00      irenearinka@hotmail.com   \n",
       "14467 2018-03-28 21:50:57.505000+00:00             lcorrea+1@cdf.cl   \n",
       "14468 2018-03-28 21:48:24.688000+00:00  hector.guldenaar@turner.com   \n",
       "\n",
       "       precio_mensual_suscripcion recurrente  __v    monto  \\\n",
       "0                             0.0        NaN  0.0      0.0   \n",
       "1                             0.0        NaN  0.0  10990.0   \n",
       "2                             0.0        NaN  0.0  10990.0   \n",
       "3                             0.0        NaN  0.0      0.0   \n",
       "4                             0.0        NaN  0.0      0.0   \n",
       "...                           ...        ...  ...      ...   \n",
       "14464                      7390.0       True  NaN      0.0   \n",
       "14465                      7390.0       True  NaN      0.0   \n",
       "14466                      7390.0       True  NaN      0.0   \n",
       "14467                      7390.0       True  NaN      0.0   \n",
       "14468                      7390.0       True  NaN      0.0   \n",
       "\n",
       "                     fecha_pago  folio_boleta  \n",
       "0      2016-12-27T15:14:10.947Z           NaN  \n",
       "1      2018-03-06T21:30:01.000Z           NaN  \n",
       "2      2019-01-02T19:06:07.719Z           NaN  \n",
       "3      2016-12-28T15:42:11.377Z           NaN  \n",
       "4      2016-12-28T18:14:41.783Z           NaN  \n",
       "...                         ...           ...  \n",
       "14464                        NA           NaN  \n",
       "14465                        NA           NaN  \n",
       "14466                        NA           NaN  \n",
       "14467                        NA           NaN  \n",
       "14468                        NA           NaN  \n",
       "\n",
       "[14469 rows x 10 columns]"
      ]
     },
     "execution_count": 25,
     "metadata": {},
     "output_type": "execute_result"
    }
   ],
   "source": [
    "cupones_total"
   ]
  },
  {
   "cell_type": "code",
   "execution_count": null,
   "metadata": {},
   "outputs": [],
   "source": []
  },
  {
   "cell_type": "markdown",
   "metadata": {},
   "source": [
    "## FILTRADO MES SEPTIEMBRE 2019"
   ]
  },
  {
   "cell_type": "code",
   "execution_count": 26,
   "metadata": {},
   "outputs": [],
   "source": [
    "sep_2019_Acu_Vig=cupones_total.loc[(cupones_total['celebracion_contr']<'2019-10-01 00:00:00')&((cupones_total['fecha_fin_x']>'2019-09-30 23:59:59'))]"
   ]
  },
  {
   "cell_type": "code",
   "execution_count": 27,
   "metadata": {},
   "outputs": [
    {
     "name": "stdout",
     "output_type": "stream",
     "text": [
      "<class 'pandas.core.frame.DataFrame'>\n",
      "Int64Index: 1113 entries, 2 to 12921\n",
      "Data columns (total 10 columns):\n",
      " #   Column                      Non-Null Count  Dtype              \n",
      "---  ------                      --------------  -----              \n",
      " 0   id_Sernac                   1113 non-null   object             \n",
      " 1   celebracion_contr           1113 non-null   datetime64[ns, UTC]\n",
      " 2   fecha_fin_x                 1113 non-null   datetime64[ns, UTC]\n",
      " 3   email                       1113 non-null   object             \n",
      " 4   precio_mensual_suscripcion  1113 non-null   float64            \n",
      " 5   recurrente                  11 non-null     object             \n",
      " 6   __v                         962 non-null    float64            \n",
      " 7   monto                       1113 non-null   float64            \n",
      " 8   fecha_pago                  1113 non-null   object             \n",
      " 9   folio_boleta                0 non-null      float64            \n",
      "dtypes: datetime64[ns, UTC](2), float64(4), object(4)\n",
      "memory usage: 95.6+ KB\n"
     ]
    }
   ],
   "source": [
    "sep_2019_Acu_Vig.info()"
   ]
  },
  {
   "cell_type": "code",
   "execution_count": 28,
   "metadata": {},
   "outputs": [],
   "source": [
    "sep_2019_Acu_Vig_no_Aplica=sep_2019_Acu_Vig.loc[sep_2019_Acu_Vig.fecha_pago=='NA']"
   ]
  },
  {
   "cell_type": "code",
   "execution_count": 29,
   "metadata": {
    "scrolled": true
   },
   "outputs": [
    {
     "name": "stdout",
     "output_type": "stream",
     "text": [
      "<class 'pandas.core.frame.DataFrame'>\n",
      "Int64Index: 151 entries, 11 to 12900\n",
      "Data columns (total 10 columns):\n",
      " #   Column                      Non-Null Count  Dtype              \n",
      "---  ------                      --------------  -----              \n",
      " 0   id_Sernac                   151 non-null    object             \n",
      " 1   celebracion_contr           151 non-null    datetime64[ns, UTC]\n",
      " 2   fecha_fin_x                 151 non-null    datetime64[ns, UTC]\n",
      " 3   email                       151 non-null    object             \n",
      " 4   precio_mensual_suscripcion  151 non-null    float64            \n",
      " 5   recurrente                  3 non-null      object             \n",
      " 6   __v                         0 non-null      float64            \n",
      " 7   monto                       151 non-null    float64            \n",
      " 8   fecha_pago                  151 non-null    object             \n",
      " 9   folio_boleta                0 non-null      float64            \n",
      "dtypes: datetime64[ns, UTC](2), float64(4), object(4)\n",
      "memory usage: 13.0+ KB\n"
     ]
    }
   ],
   "source": [
    "sep_2019_Acu_Vig_no_Aplica.info()"
   ]
  },
  {
   "cell_type": "code",
   "execution_count": 30,
   "metadata": {},
   "outputs": [],
   "source": [
    "sep_2019_Acu_Vig_no_Aplica=sep_2019_Acu_Vig_no_Aplica.drop({'recurrente'},axis=1)"
   ]
  },
  {
   "cell_type": "code",
   "execution_count": 31,
   "metadata": {},
   "outputs": [],
   "source": [
    "sep_2019_Acu_Vig_no_Aplica=sep_2019_Acu_Vig_no_Aplica.rename(columns={'fecha_fin_x':'fecha_fin','monto':'cant_pagada_ese_mes','fecha_pago':'Fecha_fac_mes'})"
   ]
  },
  {
   "cell_type": "code",
   "execution_count": 32,
   "metadata": {},
   "outputs": [
    {
     "data": {
      "text/plain": [
       "Index(['id_Sernac', 'celebracion_contr', 'fecha_fin', 'email',\n",
       "       'precio_mensual_suscripcion', '__v', 'cant_pagada_ese_mes',\n",
       "       'Fecha_fac_mes', 'folio_boleta'],\n",
       "      dtype='object')"
      ]
     },
     "execution_count": 32,
     "metadata": {},
     "output_type": "execute_result"
    }
   ],
   "source": [
    "sep_2019_Acu_Vig_no_Aplica.columns"
   ]
  },
  {
   "cell_type": "code",
   "execution_count": 33,
   "metadata": {},
   "outputs": [],
   "source": [
    "sep_2019_Acu_Vig_no_Aplica=sep_2019_Acu_Vig_no_Aplica.drop({ \n",
    "       'folio_boleta' },axis=1)"
   ]
  },
  {
   "cell_type": "code",
   "execution_count": null,
   "metadata": {},
   "outputs": [],
   "source": []
  },
  {
   "cell_type": "code",
   "execution_count": 34,
   "metadata": {},
   "outputs": [],
   "source": [
    "cupones_sep_2019=pd.read_csv(\"/home/tecnoboy/HERRAMIENTAS/jupyterNotebook/datosSernac/parcial_sep_2019_cupones.csv\")"
   ]
  },
  {
   "cell_type": "code",
   "execution_count": 35,
   "metadata": {},
   "outputs": [
    {
     "name": "stdout",
     "output_type": "stream",
     "text": [
      "<class 'pandas.core.frame.DataFrame'>\n",
      "RangeIndex: 202 entries, 0 to 201\n",
      "Data columns (total 9 columns):\n",
      " #   Column                      Non-Null Count  Dtype  \n",
      "---  ------                      --------------  -----  \n",
      " 0   cant_pagada_ese_mes         202 non-null    float64\n",
      " 1   Fecha_fac_mes               202 non-null    object \n",
      " 2   fecha_fin                   202 non-null    object \n",
      " 3   email                       202 non-null    object \n",
      " 4   id_Sernac                   202 non-null    object \n",
      " 5   celebracion_contr           202 non-null    object \n",
      " 6   valorRealProducto           202 non-null    int64  \n",
      " 7   precio_mensual_suscripcion  202 non-null    float64\n",
      " 8   valorInternacional          0 non-null      float64\n",
      "dtypes: float64(3), int64(1), object(5)\n",
      "memory usage: 14.3+ KB\n"
     ]
    }
   ],
   "source": [
    "cupones_sep_2019.info()"
   ]
  },
  {
   "cell_type": "code",
   "execution_count": 36,
   "metadata": {},
   "outputs": [
    {
     "data": {
      "text/plain": [
       "Index(['cant_pagada_ese_mes', 'Fecha_fac_mes', 'fecha_fin', 'email',\n",
       "       'id_Sernac', 'celebracion_contr', 'valorRealProducto',\n",
       "       'precio_mensual_suscripcion', 'valorInternacional'],\n",
       "      dtype='object')"
      ]
     },
     "execution_count": 36,
     "metadata": {},
     "output_type": "execute_result"
    }
   ],
   "source": [
    "cupones_sep_2019.columns"
   ]
  },
  {
   "cell_type": "code",
   "execution_count": 37,
   "metadata": {},
   "outputs": [
    {
     "data": {
      "text/plain": [
       "Index(['id_Sernac', 'celebracion_contr', 'fecha_fin', 'email',\n",
       "       'precio_mensual_suscripcion', '__v', 'cant_pagada_ese_mes',\n",
       "       'Fecha_fac_mes'],\n",
       "      dtype='object')"
      ]
     },
     "execution_count": 37,
     "metadata": {},
     "output_type": "execute_result"
    }
   ],
   "source": [
    "sep_2019_Acu_Vig_no_Aplica.columns"
   ]
  },
  {
   "cell_type": "code",
   "execution_count": 38,
   "metadata": {},
   "outputs": [],
   "source": [
    "sep_2019_cupones_total=pd.concat([sep_2019_Acu_Vig_no_Aplica,cupones_sep_2019],axis=0)"
   ]
  },
  {
   "cell_type": "code",
   "execution_count": 39,
   "metadata": {},
   "outputs": [
    {
     "data": {
      "text/html": [
       "<div>\n",
       "<style scoped>\n",
       "    .dataframe tbody tr th:only-of-type {\n",
       "        vertical-align: middle;\n",
       "    }\n",
       "\n",
       "    .dataframe tbody tr th {\n",
       "        vertical-align: top;\n",
       "    }\n",
       "\n",
       "    .dataframe thead th {\n",
       "        text-align: right;\n",
       "    }\n",
       "</style>\n",
       "<table border=\"1\" class=\"dataframe\">\n",
       "  <thead>\n",
       "    <tr style=\"text-align: right;\">\n",
       "      <th></th>\n",
       "      <th>id_Sernac</th>\n",
       "      <th>celebracion_contr</th>\n",
       "      <th>fecha_fin</th>\n",
       "      <th>email</th>\n",
       "      <th>precio_mensual_suscripcion</th>\n",
       "      <th>__v</th>\n",
       "      <th>cant_pagada_ese_mes</th>\n",
       "      <th>Fecha_fac_mes</th>\n",
       "      <th>valorRealProducto</th>\n",
       "      <th>valorInternacional</th>\n",
       "    </tr>\n",
       "  </thead>\n",
       "  <tbody>\n",
       "    <tr>\n",
       "      <th>11</th>\n",
       "      <td>563854d038176617515f3399</td>\n",
       "      <td>2016-12-29 00:12:13.699000+00:00</td>\n",
       "      <td>2020-12-31 00:00:00+00:00</td>\n",
       "      <td>azenobi@cdf.cl</td>\n",
       "      <td>0.0</td>\n",
       "      <td>NaN</td>\n",
       "      <td>0.0</td>\n",
       "      <td>NA</td>\n",
       "      <td>NaN</td>\n",
       "      <td>NaN</td>\n",
       "    </tr>\n",
       "    <tr>\n",
       "      <th>16</th>\n",
       "      <td>563854d538176617515f357d</td>\n",
       "      <td>2016-12-29 00:12:13.716000+00:00</td>\n",
       "      <td>2020-12-31 00:00:00+00:00</td>\n",
       "      <td>apalma@cdf.cl</td>\n",
       "      <td>0.0</td>\n",
       "      <td>NaN</td>\n",
       "      <td>0.0</td>\n",
       "      <td>NA</td>\n",
       "      <td>NaN</td>\n",
       "      <td>NaN</td>\n",
       "    </tr>\n",
       "    <tr>\n",
       "      <th>26</th>\n",
       "      <td>563854fe38176617515f452e</td>\n",
       "      <td>2016-12-29 00:12:13.786000+00:00</td>\n",
       "      <td>2020-12-31 00:00:00+00:00</td>\n",
       "      <td>pcortes@cdf.cl</td>\n",
       "      <td>0.0</td>\n",
       "      <td>NaN</td>\n",
       "      <td>0.0</td>\n",
       "      <td>NA</td>\n",
       "      <td>NaN</td>\n",
       "      <td>NaN</td>\n",
       "    </tr>\n",
       "    <tr>\n",
       "      <th>29</th>\n",
       "      <td>5638552338176617515f53af</td>\n",
       "      <td>2016-12-29 00:12:13.809000+00:00</td>\n",
       "      <td>2020-12-31 00:00:00+00:00</td>\n",
       "      <td>rpezoa@cdf.cl</td>\n",
       "      <td>0.0</td>\n",
       "      <td>NaN</td>\n",
       "      <td>0.0</td>\n",
       "      <td>NA</td>\n",
       "      <td>NaN</td>\n",
       "      <td>NaN</td>\n",
       "    </tr>\n",
       "    <tr>\n",
       "      <th>39</th>\n",
       "      <td>5638556738176617515f6dde</td>\n",
       "      <td>2016-12-29 00:12:13.886000+00:00</td>\n",
       "      <td>2020-12-31 00:00:00+00:00</td>\n",
       "      <td>jalcalde@jmtrust.cl</td>\n",
       "      <td>0.0</td>\n",
       "      <td>NaN</td>\n",
       "      <td>0.0</td>\n",
       "      <td>NA</td>\n",
       "      <td>NaN</td>\n",
       "      <td>NaN</td>\n",
       "    </tr>\n",
       "    <tr>\n",
       "      <th>...</th>\n",
       "      <td>...</td>\n",
       "      <td>...</td>\n",
       "      <td>...</td>\n",
       "      <td>...</td>\n",
       "      <td>...</td>\n",
       "      <td>...</td>\n",
       "      <td>...</td>\n",
       "      <td>...</td>\n",
       "      <td>...</td>\n",
       "      <td>...</td>\n",
       "    </tr>\n",
       "    <tr>\n",
       "      <th>197</th>\n",
       "      <td>5d9211a38b9da60c5c261747</td>\n",
       "      <td>2019-08-01T20:53:56.678Z</td>\n",
       "      <td>2020-03-28T23:59:59.999Z</td>\n",
       "      <td>ana.pasten@hotmail.com</td>\n",
       "      <td>0.0</td>\n",
       "      <td>NaN</td>\n",
       "      <td>65940.0</td>\n",
       "      <td>2019-09-30 15:19:02.162000+00:00</td>\n",
       "      <td>10990.0</td>\n",
       "      <td>NaN</td>\n",
       "    </tr>\n",
       "    <tr>\n",
       "      <th>198</th>\n",
       "      <td>5d6fea75147fab0a2d81c443</td>\n",
       "      <td>2018-04-19T15:14:35.874Z</td>\n",
       "      <td>2019-12-03T23:59:59.999Z</td>\n",
       "      <td>ropalem@gmail.com</td>\n",
       "      <td>0.0</td>\n",
       "      <td>NaN</td>\n",
       "      <td>32970.0</td>\n",
       "      <td>2019-09-04 20:25:45.184000+00:00</td>\n",
       "      <td>10990.0</td>\n",
       "      <td>NaN</td>\n",
       "    </tr>\n",
       "    <tr>\n",
       "      <th>199</th>\n",
       "      <td>5d794bf4abfd2a4390cc1824</td>\n",
       "      <td>2019-09-11T19:35:12.501Z</td>\n",
       "      <td>2020-01-09T23:59:59.999Z</td>\n",
       "      <td>hola@agenciavaliente.cl</td>\n",
       "      <td>0.0</td>\n",
       "      <td>NaN</td>\n",
       "      <td>43960.0</td>\n",
       "      <td>2019-09-11 19:35:45.667000+00:00</td>\n",
       "      <td>10990.0</td>\n",
       "      <td>NaN</td>\n",
       "    </tr>\n",
       "    <tr>\n",
       "      <th>200</th>\n",
       "      <td>5d7db522abe76f0a35fa464a</td>\n",
       "      <td>2019-05-16T20:26:54.022Z</td>\n",
       "      <td>2020-03-13T23:59:59.999Z</td>\n",
       "      <td>pataneitor@yahoo.com</td>\n",
       "      <td>0.0</td>\n",
       "      <td>NaN</td>\n",
       "      <td>65940.0</td>\n",
       "      <td>2019-09-15 03:52:31.541000+00:00</td>\n",
       "      <td>10990.0</td>\n",
       "      <td>NaN</td>\n",
       "    </tr>\n",
       "    <tr>\n",
       "      <th>201</th>\n",
       "      <td>5d8d419c6dac4f0c6412493c</td>\n",
       "      <td>2019-06-17T21:24:26.919Z</td>\n",
       "      <td>2020-06-22T23:59:59.999Z</td>\n",
       "      <td>whernner.51@gmail.com</td>\n",
       "      <td>0.0</td>\n",
       "      <td>NaN</td>\n",
       "      <td>98910.0</td>\n",
       "      <td>2019-09-26 23:01:46.849000+00:00</td>\n",
       "      <td>10990.0</td>\n",
       "      <td>NaN</td>\n",
       "    </tr>\n",
       "  </tbody>\n",
       "</table>\n",
       "<p>353 rows × 10 columns</p>\n",
       "</div>"
      ],
      "text/plain": [
       "                    id_Sernac                 celebracion_contr  \\\n",
       "11   563854d038176617515f3399  2016-12-29 00:12:13.699000+00:00   \n",
       "16   563854d538176617515f357d  2016-12-29 00:12:13.716000+00:00   \n",
       "26   563854fe38176617515f452e  2016-12-29 00:12:13.786000+00:00   \n",
       "29   5638552338176617515f53af  2016-12-29 00:12:13.809000+00:00   \n",
       "39   5638556738176617515f6dde  2016-12-29 00:12:13.886000+00:00   \n",
       "..                        ...                               ...   \n",
       "197  5d9211a38b9da60c5c261747          2019-08-01T20:53:56.678Z   \n",
       "198  5d6fea75147fab0a2d81c443          2018-04-19T15:14:35.874Z   \n",
       "199  5d794bf4abfd2a4390cc1824          2019-09-11T19:35:12.501Z   \n",
       "200  5d7db522abe76f0a35fa464a          2019-05-16T20:26:54.022Z   \n",
       "201  5d8d419c6dac4f0c6412493c          2019-06-17T21:24:26.919Z   \n",
       "\n",
       "                     fecha_fin                    email  \\\n",
       "11   2020-12-31 00:00:00+00:00           azenobi@cdf.cl   \n",
       "16   2020-12-31 00:00:00+00:00            apalma@cdf.cl   \n",
       "26   2020-12-31 00:00:00+00:00           pcortes@cdf.cl   \n",
       "29   2020-12-31 00:00:00+00:00            rpezoa@cdf.cl   \n",
       "39   2020-12-31 00:00:00+00:00      jalcalde@jmtrust.cl   \n",
       "..                         ...                      ...   \n",
       "197   2020-03-28T23:59:59.999Z   ana.pasten@hotmail.com   \n",
       "198   2019-12-03T23:59:59.999Z        ropalem@gmail.com   \n",
       "199   2020-01-09T23:59:59.999Z  hola@agenciavaliente.cl   \n",
       "200   2020-03-13T23:59:59.999Z     pataneitor@yahoo.com   \n",
       "201   2020-06-22T23:59:59.999Z    whernner.51@gmail.com   \n",
       "\n",
       "     precio_mensual_suscripcion  __v  cant_pagada_ese_mes  \\\n",
       "11                          0.0  NaN                  0.0   \n",
       "16                          0.0  NaN                  0.0   \n",
       "26                          0.0  NaN                  0.0   \n",
       "29                          0.0  NaN                  0.0   \n",
       "39                          0.0  NaN                  0.0   \n",
       "..                          ...  ...                  ...   \n",
       "197                         0.0  NaN              65940.0   \n",
       "198                         0.0  NaN              32970.0   \n",
       "199                         0.0  NaN              43960.0   \n",
       "200                         0.0  NaN              65940.0   \n",
       "201                         0.0  NaN              98910.0   \n",
       "\n",
       "                        Fecha_fac_mes  valorRealProducto  valorInternacional  \n",
       "11                                 NA                NaN                 NaN  \n",
       "16                                 NA                NaN                 NaN  \n",
       "26                                 NA                NaN                 NaN  \n",
       "29                                 NA                NaN                 NaN  \n",
       "39                                 NA                NaN                 NaN  \n",
       "..                                ...                ...                 ...  \n",
       "197  2019-09-30 15:19:02.162000+00:00            10990.0                 NaN  \n",
       "198  2019-09-04 20:25:45.184000+00:00            10990.0                 NaN  \n",
       "199  2019-09-11 19:35:45.667000+00:00            10990.0                 NaN  \n",
       "200  2019-09-15 03:52:31.541000+00:00            10990.0                 NaN  \n",
       "201  2019-09-26 23:01:46.849000+00:00            10990.0                 NaN  \n",
       "\n",
       "[353 rows x 10 columns]"
      ]
     },
     "execution_count": 39,
     "metadata": {},
     "output_type": "execute_result"
    }
   ],
   "source": [
    "sep_2019_cupones_total"
   ]
  },
  {
   "cell_type": "code",
   "execution_count": 40,
   "metadata": {},
   "outputs": [],
   "source": [
    "sep_2019_cupones_total=sep_2019_cupones_total.drop_duplicates(['email'], keep='last')"
   ]
  },
  {
   "cell_type": "code",
   "execution_count": 41,
   "metadata": {},
   "outputs": [],
   "source": [
    "sep_2019_cupones_total.to_csv('cupones_totales/sep_2019_cupones_total.csv', index=False)"
   ]
  },
  {
   "cell_type": "code",
   "execution_count": null,
   "metadata": {},
   "outputs": [],
   "source": []
  },
  {
   "cell_type": "markdown",
   "metadata": {},
   "source": [
    "## FILTRADO MES OCTUBRE 2019"
   ]
  },
  {
   "cell_type": "code",
   "execution_count": 42,
   "metadata": {},
   "outputs": [],
   "source": [
    "oct_2019_Acu_Vig=cupones_total.loc[(cupones_total['celebracion_contr']<'2019-11-01 00:00:00')&((cupones_total['fecha_fin_x']>'2019-11-01 00:00:00'))]\n",
    "\n",
    "oct_2019_Acu_Vig_no_Aplica=oct_2019_Acu_Vig.loc[oct_2019_Acu_Vig.fecha_pago=='NA']\n",
    "\n",
    "oct_2019_Acu_Vig_no_Aplica=oct_2019_Acu_Vig_no_Aplica.drop({'recurrente'},axis=1)\n",
    "oct_2019_Acu_Vig_no_Aplica=oct_2019_Acu_Vig_no_Aplica.rename(columns={'fecha_fin_x':'fecha_fin','monto':'cant_pagada_ese_mes','fecha_pago':'Fecha_fac_mes'})\n",
    "\n",
    "oct_2019_Acu_Vig_no_Aplica=oct_2019_Acu_Vig_no_Aplica.rename(columns={'monto':'cant_pagada_ese_mes','fecha_pago':'Fecha_fac_mes'})\n",
    "oct_2019_Acu_Vig_no_Aplica=oct_2019_Acu_Vig_no_Aplica.drop({ \n",
    "       'folio_boleta' },axis=1)\n",
    "\n",
    "cupones_oct_2019=pd.read_csv(\"/home/tecnoboy/HERRAMIENTAS/jupyterNotebook/datosSernac/parcial_oct_2019_cupones.csv\")\n",
    "\n",
    "oct_2019_cupones_total=pd.concat([oct_2019_Acu_Vig_no_Aplica,cupones_oct_2019],axis=0)\n",
    "\n",
    "oct_2019_cupones_total=oct_2019_cupones_total.drop_duplicates(['email'], keep='last')\n",
    "\n",
    "oct_2019_cupones_total.to_csv('cupones_totales/oct_2019_cupones_total.csv', index=False)"
   ]
  },
  {
   "cell_type": "code",
   "execution_count": null,
   "metadata": {},
   "outputs": [],
   "source": []
  },
  {
   "cell_type": "markdown",
   "metadata": {},
   "source": [
    "## FILTRADO MES NOVIEMBRE 2019"
   ]
  },
  {
   "cell_type": "code",
   "execution_count": 43,
   "metadata": {},
   "outputs": [],
   "source": [
    "nov_2019_Acu_Vig=cupones_total.loc[(cupones_total['celebracion_contr']<'2019-12-01 00:00:00')&((cupones_total['fecha_fin_x']>'2019-12-01 00:00:00'))]\n",
    "\n",
    "nov_2019_Acu_Vig_no_Aplica=nov_2019_Acu_Vig.loc[nov_2019_Acu_Vig.fecha_pago=='NA']\n",
    "nov_2019_Acu_Vig_no_Aplica=nov_2019_Acu_Vig_no_Aplica.drop({'recurrente'},axis=1)\n",
    "nov_2019_Acu_Vig_no_Aplica=nov_2019_Acu_Vig_no_Aplica.rename(columns={'fecha_fin_x':'fecha_fin','monto':'cant_pagada_ese_mes','fecha_pago':'Fecha_fac_mes'})\n",
    "\n",
    "\n",
    "nov_2019_Acu_Vig_no_Aplica=nov_2019_Acu_Vig_no_Aplica.rename(columns={'monto':'cant_pagada_ese_mes','fecha_pago':'Fecha_fac_mes'})\n",
    "nov_2019_Acu_Vig_no_Aplica=nov_2019_Acu_Vig_no_Aplica.drop({  \n",
    "       'folio_boleta' },axis=1)\n",
    "cupones_nov_2019=pd.read_csv(\"/home/tecnoboy/HERRAMIENTAS/jupyterNotebook/datosSernac/parcial_nov_2019_cupones.csv\")\n",
    "\n",
    "nov_2019_cupones_total=pd.concat([nov_2019_Acu_Vig_no_Aplica,cupones_nov_2019],axis=0)\n",
    "\n",
    "nov_2019_cupones_total=nov_2019_cupones_total.drop_duplicates(['email'], keep='last')\n",
    "\n",
    "nov_2019_cupones_total.to_csv('cupones_totales/nov_2019_cupones_total.csv', index=False)"
   ]
  },
  {
   "cell_type": "code",
   "execution_count": null,
   "metadata": {},
   "outputs": [],
   "source": []
  },
  {
   "cell_type": "markdown",
   "metadata": {},
   "source": [
    "## FILTRADO MES DICIEMBRE 2019"
   ]
  },
  {
   "cell_type": "code",
   "execution_count": 44,
   "metadata": {},
   "outputs": [],
   "source": [
    "dic_2019_Acu_Vig=cupones_total.loc[(cupones_total['celebracion_contr']<'2020-01-01 00:00:00')&((cupones_total['fecha_fin_x']>'2020-01-01 00:00:00'))]\n",
    "\n",
    "dic_2019_Acu_Vig_no_Aplica=dic_2019_Acu_Vig.loc[dic_2019_Acu_Vig.fecha_pago=='NA']\n",
    "\n",
    "dic_2019_Acu_Vig_no_Aplica=dic_2019_Acu_Vig_no_Aplica.drop({'recurrente'},axis=1)\n",
    "dic_2019_Acu_Vig_no_Aplica=dic_2019_Acu_Vig_no_Aplica.rename(columns={'fecha_fin_x':'fecha_fin','monto':'cant_pagada_ese_mes','fecha_pago':'Fecha_fac_mes'})\n",
    "\n",
    "\n",
    "dic_2019_Acu_Vig_no_Aplica=dic_2019_Acu_Vig_no_Aplica.rename(columns={'monto':'cant_pagada_ese_mes','fecha_pago':'Fecha_fac_mes'})\n",
    "dic_2019_Acu_Vig_no_Aplica=dic_2019_Acu_Vig_no_Aplica.drop({  \n",
    "       'folio_boleta' },axis=1)\n",
    "cupones_dic_2019=pd.read_csv(\"/home/tecnoboy/HERRAMIENTAS/jupyterNotebook/datosSernac/parcial_dic_2019_cupones.csv\")\n",
    "\n",
    "dic_2019_cupones_total=pd.concat([dic_2019_Acu_Vig_no_Aplica,cupones_dic_2019],axis=0)\n",
    "\n",
    "dic_2019_cupones_total=dic_2019_cupones_total.drop_duplicates(['email'], keep='last')\n",
    "\n",
    "dic_2019_cupones_total.to_csv('cupones_totales/dic_2019_cupones_total.csv', index=False)"
   ]
  },
  {
   "cell_type": "code",
   "execution_count": null,
   "metadata": {},
   "outputs": [],
   "source": []
  },
  {
   "cell_type": "markdown",
   "metadata": {},
   "source": [
    "## FILTRADO MES ENERO 2020"
   ]
  },
  {
   "cell_type": "code",
   "execution_count": 45,
   "metadata": {},
   "outputs": [],
   "source": [
    "ene_2020_Acu_Vig=cupones_total.loc[(cupones_total['celebracion_contr']<'2020-02-01 00:00:00')&((cupones_total['fecha_fin_x']>'2020-02-01 00:00:00'))]\n",
    "\n",
    "ene_2020_Acu_Vig_no_Aplica=ene_2020_Acu_Vig.loc[ene_2020_Acu_Vig.fecha_pago=='NA']\n",
    "\n",
    "ene_2020_Acu_Vig_no_Aplica=ene_2020_Acu_Vig_no_Aplica.drop({'recurrente'},axis=1)\n",
    "ene_2020_Acu_Vig_no_Aplica=ene_2020_Acu_Vig_no_Aplica.rename(columns={'fecha_fin_x':'fecha_fin','monto':'cant_pagada_ese_mes','fecha_pago':'Fecha_fac_mes'})\n",
    "\n",
    "\n",
    "ene_2020_Acu_Vig_no_Aplica=ene_2020_Acu_Vig_no_Aplica.rename(columns={'monto':'cant_pagada_ese_mes','fecha_pago':'Fecha_fac_mes'})\n",
    "ene_2020_Acu_Vig_no_Aplica=ene_2020_Acu_Vig_no_Aplica.drop({  \n",
    "       'folio_boleta' },axis=1)\n",
    "cupones_ene_2020=pd.read_csv(\"/home/tecnoboy/HERRAMIENTAS/jupyterNotebook/datosSernac/parcial_ene_2020_cupones.csv\")\n",
    "\n",
    "ene_2020_cupones_total=pd.concat([ene_2020_Acu_Vig_no_Aplica,cupones_ene_2020],axis=0)\n",
    "\n",
    "ene_2020_cupones_total=ene_2020_cupones_total.drop_duplicates(['email'], keep='last')\n",
    "\n",
    "ene_2020_cupones_total.to_csv('cupones_totales/ene_2020_cupones_total.csv', index=False)"
   ]
  },
  {
   "cell_type": "code",
   "execution_count": null,
   "metadata": {},
   "outputs": [],
   "source": []
  },
  {
   "cell_type": "markdown",
   "metadata": {},
   "source": [
    "## FILTRADO MES FEBRERO 2020"
   ]
  },
  {
   "cell_type": "code",
   "execution_count": 46,
   "metadata": {},
   "outputs": [],
   "source": [
    "feb_2020_Acu_Vig=cupones_total.loc[(cupones_total['celebracion_contr']<'2020-03-01 00:00:00')&((cupones_total['fecha_fin_x']>'2020-03-01 00:00:00'))]\n",
    "\n",
    "feb_2020_Acu_Vig_no_Aplica=feb_2020_Acu_Vig.loc[feb_2020_Acu_Vig.fecha_pago=='NA']\n",
    "\n",
    "feb_2020_Acu_Vig_no_Aplica=feb_2020_Acu_Vig_no_Aplica.drop({'recurrente'},axis=1)\n",
    "feb_2020_Acu_Vig_no_Aplica=feb_2020_Acu_Vig_no_Aplica.rename(columns={'fecha_fin_x':'fecha_fin','monto':'cant_pagada_ese_mes','fecha_pago':'Fecha_fac_mes'})\n",
    "\n",
    "\n",
    "\n",
    "feb_2020_Acu_Vig_no_Aplica=feb_2020_Acu_Vig_no_Aplica.rename(columns={'monto':'cant_pagada_ese_mes','fecha_pago':'Fecha_fac_mes'})\n",
    "feb_2020_Acu_Vig_no_Aplica=feb_2020_Acu_Vig_no_Aplica.drop({  \n",
    "       'folio_boleta' },axis=1)\n",
    "cupones_feb_2020=pd.read_csv(\"/home/tecnoboy/HERRAMIENTAS/jupyterNotebook/datosSernac/parcial_feb_2020_cupones.csv\")\n",
    "\n",
    "feb_2020_cupones_total=pd.concat([feb_2020_Acu_Vig_no_Aplica,cupones_feb_2020],axis=0)\n",
    "\n",
    "feb_2020_cupones_total=feb_2020_cupones_total.drop_duplicates(['email'], keep='last')\n",
    "\n",
    "feb_2020_cupones_total.to_csv('cupones_totales/feb_2020_cupones_total.csv', index=False)"
   ]
  },
  {
   "cell_type": "code",
   "execution_count": null,
   "metadata": {},
   "outputs": [],
   "source": []
  },
  {
   "cell_type": "code",
   "execution_count": null,
   "metadata": {},
   "outputs": [],
   "source": []
  },
  {
   "cell_type": "code",
   "execution_count": null,
   "metadata": {},
   "outputs": [],
   "source": []
  },
  {
   "cell_type": "code",
   "execution_count": null,
   "metadata": {},
   "outputs": [],
   "source": []
  }
 ],
 "metadata": {
  "kernelspec": {
   "display_name": "Python 3",
   "language": "python",
   "name": "python3"
  },
  "language_info": {
   "codemirror_mode": {
    "name": "ipython",
    "version": 3
   },
   "file_extension": ".py",
   "mimetype": "text/x-python",
   "name": "python",
   "nbconvert_exporter": "python",
   "pygments_lexer": "ipython3",
   "version": "3.6.9"
  }
 },
 "nbformat": 4,
 "nbformat_minor": 4
}
