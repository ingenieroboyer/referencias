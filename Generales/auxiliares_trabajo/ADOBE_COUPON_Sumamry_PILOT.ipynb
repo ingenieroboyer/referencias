{
 "cells": [
  {
   "cell_type": "markdown",
   "metadata": {},
   "source": [
    "## Data Driver ADOBE"
   ]
  },
  {
   "cell_type": "markdown",
   "metadata": {},
   "source": [
    "## Summary-subscription"
   ]
  },
  {
   "cell_type": "code",
   "execution_count": 1,
   "metadata": {},
   "outputs": [],
   "source": [
    "import pandas as pd\n",
    "from pymongo import MongoClient\n",
    "import pymongo\n",
    "from datetime import datetime, timedelta\n",
    "import numpy as np\n",
    "\n",
    "import csv"
   ]
  },
  {
   "cell_type": "code",
   "execution_count": null,
   "metadata": {},
   "outputs": [],
   "source": [
    "\n"
   ]
  },
  {
   "cell_type": "code",
   "execution_count": 2,
   "metadata": {
    "scrolled": true
   },
   "outputs": [],
   "source": [
    "feh=datetime(2017,1,1,0,0,0)"
   ]
  },
  {
   "cell_type": "code",
   "execution_count": 3,
   "metadata": {},
   "outputs": [],
   "source": [
    "myclient = pymongo.MongoClient(\"mongodb://localhost:27017/\")\n",
    "mydb = myclient[\"ecdf\"]"
   ]
  },
  {
   "cell_type": "code",
   "execution_count": 4,
   "metadata": {},
   "outputs": [],
   "source": [
    "mycol_cupAsig = mydb[\"cuponesasignados\"]\n",
    "def cuponesAsignadosdataframes(iterator, chunk_size: int):\n",
    "  \"\"\"Turn an iterator into multiple small pandas.DataFrame\n",
    "  This is a balance between memory and efficiency\n",
    "  \"\"\"\n",
    "  records = []\n",
    "  frames = []\n",
    "  for i, record in enumerate(iterator):\n",
    "    records.append(record)\n",
    "    if i % chunk_size == chunk_size - 1:\n",
    "      frames.append(pd.DataFrame(records))\n",
    "      records = []\n",
    "  if records:\n",
    "    frames.append(pd.DataFrame(records))\n",
    "  return pd.concat(frames) if frames else pd.DataFrame()\n",
    "  \n",
    "cuponesAsignados = cuponesAsignadosdataframes(mycol_cupAsig.find({'createdAt': {'$gte':feh}},{'_id':1,'fecha_fin':1,'cupon_id':1,'fecha_activacion':1,'user_id_asignado':1,'createdAt':1 ,'producto_id':1,}), 10000)\n"
   ]
  },
  {
   "cell_type": "code",
   "execution_count": 5,
   "metadata": {},
   "outputs": [
    {
     "name": "stdout",
     "output_type": "stream",
     "text": [
      "<class 'pandas.core.frame.DataFrame'>\n",
      "Int64Index: 11359 entries, 0 to 1358\n",
      "Data columns (total 7 columns):\n",
      " #   Column            Non-Null Count  Dtype         \n",
      "---  ------            --------------  -----         \n",
      " 0   _id               11359 non-null  object        \n",
      " 1   createdAt         11359 non-null  datetime64[ns]\n",
      " 2   user_id_asignado  11359 non-null  object        \n",
      " 3   cupon_id          11359 non-null  object        \n",
      " 4   producto_id       11359 non-null  object        \n",
      " 5   fecha_activacion  11359 non-null  datetime64[ns]\n",
      " 6   fecha_fin         11359 non-null  datetime64[ns]\n",
      "dtypes: datetime64[ns](3), object(4)\n",
      "memory usage: 709.9+ KB\n"
     ]
    }
   ],
   "source": [
    "cuponesAsignados.info()\n"
   ]
  },
  {
   "cell_type": "code",
   "execution_count": null,
   "metadata": {},
   "outputs": [],
   "source": []
  },
  {
   "cell_type": "code",
   "execution_count": null,
   "metadata": {},
   "outputs": [],
   "source": []
  },
  {
   "cell_type": "markdown",
   "metadata": {},
   "source": [
    "## Crucemos con pagos"
   ]
  },
  {
   "cell_type": "code",
   "execution_count": null,
   "metadata": {},
   "outputs": [],
   "source": []
  },
  {
   "cell_type": "code",
   "execution_count": 6,
   "metadata": {},
   "outputs": [],
   "source": [
    "mycol_pagos = mydb[\"pagos\"]\n",
    "def Pagosdataframes(iterator, chunk_size: int):\n",
    "  \"\"\"Turn an iterator into multiple small pandas.DataFrame\n",
    "  This is a balance between memory and efficiency\n",
    "  \"\"\"\n",
    "  records = []\n",
    "  frames = []\n",
    "  for i, record in enumerate(iterator):\n",
    "    records.append(record)\n",
    "    if i % chunk_size == chunk_size - 1:\n",
    "      frames.append(pd.DataFrame(records))\n",
    "      records = []\n",
    "  if records:\n",
    "    frames.append(pd.DataFrame(records))\n",
    "  return pd.concat(frames) if frames else pd.DataFrame()\n",
    "  \n",
    "pagos = Pagosdataframes(mycol_pagos.find({'createdAt': {'$gte':feh}},{'_id':1,'monto':1,'acuerdo_cupon':1,'acuerdo_id':1,'moneda':1,'fecha_fin':1,'fecha_pago':1,'pasarela':1,'user_id':1,'createdAt':1 ,'boleta_id':1,'updatedAt':1 }), 10000)\n"
   ]
  },
  {
   "cell_type": "code",
   "execution_count": 7,
   "metadata": {},
   "outputs": [],
   "source": [
    "pagos['mark']=pagos['_id']"
   ]
  },
  {
   "cell_type": "code",
   "execution_count": 8,
   "metadata": {},
   "outputs": [
    {
     "data": {
      "text/plain": [
       "494646"
      ]
     },
     "execution_count": 8,
     "metadata": {},
     "output_type": "execute_result"
    }
   ],
   "source": [
    "pagos['mark'].nunique()"
   ]
  },
  {
   "cell_type": "markdown",
   "metadata": {
    "scrolled": false
   },
   "source": [
    "pagos.info()"
   ]
  },
  {
   "cell_type": "code",
   "execution_count": 9,
   "metadata": {},
   "outputs": [],
   "source": [
    "pagos['monto']=pagos['monto'].astype(float)"
   ]
  },
  {
   "cell_type": "code",
   "execution_count": 10,
   "metadata": {},
   "outputs": [],
   "source": [
    "def dmitrypolo(row):\n",
    "    if row[\"moneda\"] == 'USD':\n",
    "        return row['monto']*685\n",
    "    else:\n",
    "        return row['monto']\n",
    "\n",
    "pagos[\"CLP_PRICE\"] = pagos.apply(dmitrypolo, axis=1)"
   ]
  },
  {
   "cell_type": "markdown",
   "metadata": {},
   "source": [
    "pagos"
   ]
  },
  {
   "cell_type": "code",
   "execution_count": 11,
   "metadata": {},
   "outputs": [],
   "source": [
    "pagos['acuerdo_cupon']=pagos.acuerdo_cupon.astype(str)"
   ]
  },
  {
   "cell_type": "code",
   "execution_count": 12,
   "metadata": {},
   "outputs": [],
   "source": [
    "cuponesAsignados['id']=cuponesAsignados._id.astype(str)"
   ]
  },
  {
   "cell_type": "code",
   "execution_count": 13,
   "metadata": {},
   "outputs": [],
   "source": [
    "base_gateway=pagos.merge(cuponesAsignados, right_on='id',left_on='acuerdo_cupon',how='inner', validate='many_to_many')"
   ]
  },
  {
   "cell_type": "code",
   "execution_count": 14,
   "metadata": {},
   "outputs": [
    {
     "name": "stdout",
     "output_type": "stream",
     "text": [
      "<class 'pandas.core.frame.DataFrame'>\n",
      "Int64Index: 714 entries, 0 to 713\n",
      "Data columns (total 22 columns):\n",
      " #   Column            Non-Null Count  Dtype         \n",
      "---  ------            --------------  -----         \n",
      " 0   _id_x             714 non-null    object        \n",
      " 1   updatedAt         714 non-null    datetime64[ns]\n",
      " 2   createdAt_x       714 non-null    datetime64[ns]\n",
      " 3   user_id           714 non-null    object        \n",
      " 4   pasarela          714 non-null    object        \n",
      " 5   monto             714 non-null    float64       \n",
      " 6   moneda            714 non-null    object        \n",
      " 7   fecha_pago        714 non-null    datetime64[ns]\n",
      " 8   acuerdo_id        714 non-null    object        \n",
      " 9   fecha_fin_x       714 non-null    datetime64[ns]\n",
      " 10  boleta_id         638 non-null    object        \n",
      " 11  acuerdo_cupon     714 non-null    object        \n",
      " 12  mark              714 non-null    object        \n",
      " 13  CLP_PRICE         714 non-null    float64       \n",
      " 14  _id_y             714 non-null    object        \n",
      " 15  createdAt_y       714 non-null    datetime64[ns]\n",
      " 16  user_id_asignado  714 non-null    object        \n",
      " 17  cupon_id          714 non-null    object        \n",
      " 18  producto_id       714 non-null    object        \n",
      " 19  fecha_activacion  714 non-null    datetime64[ns]\n",
      " 20  fecha_fin_y       714 non-null    datetime64[ns]\n",
      " 21  id                714 non-null    object        \n",
      "dtypes: datetime64[ns](7), float64(2), object(13)\n",
      "memory usage: 128.3+ KB\n"
     ]
    }
   ],
   "source": [
    "base_gateway.info()"
   ]
  },
  {
   "cell_type": "code",
   "execution_count": 15,
   "metadata": {},
   "outputs": [
    {
     "data": {
      "text/html": [
       "<div>\n",
       "<style scoped>\n",
       "    .dataframe tbody tr th:only-of-type {\n",
       "        vertical-align: middle;\n",
       "    }\n",
       "\n",
       "    .dataframe tbody tr th {\n",
       "        vertical-align: top;\n",
       "    }\n",
       "\n",
       "    .dataframe thead th {\n",
       "        text-align: right;\n",
       "    }\n",
       "</style>\n",
       "<table border=\"1\" class=\"dataframe\">\n",
       "  <thead>\n",
       "    <tr style=\"text-align: right;\">\n",
       "      <th></th>\n",
       "      <th>_id_x</th>\n",
       "      <th>updatedAt</th>\n",
       "      <th>createdAt_x</th>\n",
       "      <th>user_id</th>\n",
       "      <th>pasarela</th>\n",
       "      <th>monto</th>\n",
       "      <th>moneda</th>\n",
       "      <th>fecha_pago</th>\n",
       "      <th>acuerdo_id</th>\n",
       "      <th>fecha_fin_x</th>\n",
       "      <th>...</th>\n",
       "      <th>mark</th>\n",
       "      <th>CLP_PRICE</th>\n",
       "      <th>_id_y</th>\n",
       "      <th>createdAt_y</th>\n",
       "      <th>user_id_asignado</th>\n",
       "      <th>cupon_id</th>\n",
       "      <th>producto_id</th>\n",
       "      <th>fecha_activacion</th>\n",
       "      <th>fecha_fin_y</th>\n",
       "      <th>id</th>\n",
       "    </tr>\n",
       "  </thead>\n",
       "  <tbody>\n",
       "    <tr>\n",
       "      <th>0</th>\n",
       "      <td>5875788bbe13350cdd10fad7</td>\n",
       "      <td>2017-02-10 19:47:01.725</td>\n",
       "      <td>2017-01-11 00:12:59.286</td>\n",
       "      <td>563856cf38176617515ff5f3</td>\n",
       "      <td>transbank</td>\n",
       "      <td>7390.0</td>\n",
       "      <td>CLP</td>\n",
       "      <td>2017-01-11 00:12:59.282</td>\n",
       "      <td>5861ca9a0ee08c3630d82a9f</td>\n",
       "      <td>2017-02-23 00:12:59.282</td>\n",
       "      <td>...</td>\n",
       "      <td>5875788bbe13350cdd10fad7</td>\n",
       "      <td>7390.0</td>\n",
       "      <td>589e18b54320da55a2d1afbb</td>\n",
       "      <td>2017-02-10 19:47:01.723</td>\n",
       "      <td>563856cf38176617515ff5f3</td>\n",
       "      <td>589cd385cb67eb0a8e5630f0</td>\n",
       "      <td>5888c1b6f0d69c3b6b3c3c0c</td>\n",
       "      <td>2017-02-10 19:47:01.723</td>\n",
       "      <td>2017-02-23 00:12:59.282</td>\n",
       "      <td>589e18b54320da55a2d1afbb</td>\n",
       "    </tr>\n",
       "    <tr>\n",
       "      <th>1</th>\n",
       "      <td>5876f1642651911791c67232</td>\n",
       "      <td>2017-02-11 20:29:12.326</td>\n",
       "      <td>2017-01-12 03:00:52.509</td>\n",
       "      <td>563854d538176617515f358d</td>\n",
       "      <td>transbank</td>\n",
       "      <td>7390.0</td>\n",
       "      <td>CLP</td>\n",
       "      <td>2017-01-12 03:00:52.506</td>\n",
       "      <td>5861cf650ee08c3630da3d77</td>\n",
       "      <td>2017-02-24 03:00:52.506</td>\n",
       "      <td>...</td>\n",
       "      <td>5876f1642651911791c67232</td>\n",
       "      <td>7390.0</td>\n",
       "      <td>589f74184320da55a2d1c0a7</td>\n",
       "      <td>2017-02-11 20:29:12.325</td>\n",
       "      <td>563854d538176617515f358d</td>\n",
       "      <td>589cd385cb67eb0a8e5630f0</td>\n",
       "      <td>5888c1b6f0d69c3b6b3c3c0c</td>\n",
       "      <td>2017-02-11 20:29:12.324</td>\n",
       "      <td>2017-02-24 03:00:52.506</td>\n",
       "      <td>589f74184320da55a2d1c0a7</td>\n",
       "    </tr>\n",
       "    <tr>\n",
       "      <th>2</th>\n",
       "      <td>5876f1862651911791c6724c</td>\n",
       "      <td>2017-02-11 15:45:53.926</td>\n",
       "      <td>2017-01-12 03:01:26.550</td>\n",
       "      <td>5638570f3817661751600e9a</td>\n",
       "      <td>transbank</td>\n",
       "      <td>7390.0</td>\n",
       "      <td>CLP</td>\n",
       "      <td>2017-01-12 03:01:26.546</td>\n",
       "      <td>5861c6030ee08c3630d24a7c</td>\n",
       "      <td>2017-02-24 03:01:26.546</td>\n",
       "      <td>...</td>\n",
       "      <td>5876f1862651911791c6724c</td>\n",
       "      <td>7390.0</td>\n",
       "      <td>589f31b14320da55a2d1ba67</td>\n",
       "      <td>2017-02-11 15:45:53.925</td>\n",
       "      <td>5638570f3817661751600e9a</td>\n",
       "      <td>589cd385cb67eb0a8e5630f0</td>\n",
       "      <td>5888c1b6f0d69c3b6b3c3c0c</td>\n",
       "      <td>2017-02-11 15:45:53.923</td>\n",
       "      <td>2017-02-24 03:01:26.546</td>\n",
       "      <td>589f31b14320da55a2d1ba67</td>\n",
       "    </tr>\n",
       "    <tr>\n",
       "      <th>3</th>\n",
       "      <td>5876f18b2651911791c67250</td>\n",
       "      <td>2017-02-11 15:10:31.809</td>\n",
       "      <td>2017-01-12 03:01:31.757</td>\n",
       "      <td>563854e838176617515f3c9f</td>\n",
       "      <td>transbank</td>\n",
       "      <td>7390.0</td>\n",
       "      <td>CLP</td>\n",
       "      <td>2017-01-12 03:01:31.753</td>\n",
       "      <td>5861c4d70ee08c3630cecc3c</td>\n",
       "      <td>2017-02-24 03:01:31.753</td>\n",
       "      <td>...</td>\n",
       "      <td>5876f18b2651911791c67250</td>\n",
       "      <td>7390.0</td>\n",
       "      <td>589f29674320da55a2d1b9c9</td>\n",
       "      <td>2017-02-11 15:10:31.807</td>\n",
       "      <td>563854e838176617515f3c9f</td>\n",
       "      <td>589cd385cb67eb0a8e5630f0</td>\n",
       "      <td>5888c1b6f0d69c3b6b3c3c0c</td>\n",
       "      <td>2017-02-11 15:10:31.806</td>\n",
       "      <td>2017-02-24 03:01:31.753</td>\n",
       "      <td>589f29674320da55a2d1b9c9</td>\n",
       "    </tr>\n",
       "    <tr>\n",
       "      <th>4</th>\n",
       "      <td>5876f4f92651911791c672fc</td>\n",
       "      <td>2017-02-10 19:41:45.321</td>\n",
       "      <td>2017-01-12 03:16:09.858</td>\n",
       "      <td>5638559338176617515f7f17</td>\n",
       "      <td>transbank</td>\n",
       "      <td>7390.0</td>\n",
       "      <td>CLP</td>\n",
       "      <td>2017-01-12 03:16:09.854</td>\n",
       "      <td>5861c5330ee08c3630cfe1bd</td>\n",
       "      <td>2017-02-24 03:16:09.854</td>\n",
       "      <td>...</td>\n",
       "      <td>5876f4f92651911791c672fc</td>\n",
       "      <td>7390.0</td>\n",
       "      <td>589e17794320da55a2d1afb3</td>\n",
       "      <td>2017-02-10 19:41:45.319</td>\n",
       "      <td>5638559338176617515f7f17</td>\n",
       "      <td>589cd385cb67eb0a8e5630f0</td>\n",
       "      <td>5888c1b6f0d69c3b6b3c3c0c</td>\n",
       "      <td>2017-02-10 19:41:45.318</td>\n",
       "      <td>2017-02-24 03:16:09.854</td>\n",
       "      <td>589e17794320da55a2d1afb3</td>\n",
       "    </tr>\n",
       "    <tr>\n",
       "      <th>...</th>\n",
       "      <td>...</td>\n",
       "      <td>...</td>\n",
       "      <td>...</td>\n",
       "      <td>...</td>\n",
       "      <td>...</td>\n",
       "      <td>...</td>\n",
       "      <td>...</td>\n",
       "      <td>...</td>\n",
       "      <td>...</td>\n",
       "      <td>...</td>\n",
       "      <td>...</td>\n",
       "      <td>...</td>\n",
       "      <td>...</td>\n",
       "      <td>...</td>\n",
       "      <td>...</td>\n",
       "      <td>...</td>\n",
       "      <td>...</td>\n",
       "      <td>...</td>\n",
       "      <td>...</td>\n",
       "      <td>...</td>\n",
       "      <td>...</td>\n",
       "    </tr>\n",
       "    <tr>\n",
       "      <th>709</th>\n",
       "      <td>5e4f4999edf4857ca98cb828</td>\n",
       "      <td>2020-04-10 11:54:21.081</td>\n",
       "      <td>2020-02-21 03:08:09.402</td>\n",
       "      <td>5b79870b9d27b50c17bef01f</td>\n",
       "      <td>transbank</td>\n",
       "      <td>10990.0</td>\n",
       "      <td>CLP</td>\n",
       "      <td>2020-02-21 03:08:09.398</td>\n",
       "      <td>5dfe5e6353b2ec0eea07e2a6</td>\n",
       "      <td>2020-10-16 23:59:59.999</td>\n",
       "      <td>...</td>\n",
       "      <td>5e4f4999edf4857ca98cb828</td>\n",
       "      <td>10990.0</td>\n",
       "      <td>5e67c3fef2bf150de08c6065</td>\n",
       "      <td>2020-03-10 16:44:46.221</td>\n",
       "      <td>5b79870b9d27b50c17bef01f</td>\n",
       "      <td>5e21c4d0d664b5687a8d8f7c</td>\n",
       "      <td>58530cb71652e44220a586d1</td>\n",
       "      <td>2020-03-10 16:44:46.221</td>\n",
       "      <td>2020-09-16 23:59:59.999</td>\n",
       "      <td>5e67c3fef2bf150de08c6065</td>\n",
       "    </tr>\n",
       "    <tr>\n",
       "      <th>710</th>\n",
       "      <td>5e5406cdd8e8fa176d15bbdb</td>\n",
       "      <td>2020-04-10 12:17:02.177</td>\n",
       "      <td>2020-02-24 17:24:29.334</td>\n",
       "      <td>5e5406bbd8e8fa176d15bbd8</td>\n",
       "      <td>cupon</td>\n",
       "      <td>131880.0</td>\n",
       "      <td>CLP</td>\n",
       "      <td>2020-02-24 17:24:29.330</td>\n",
       "      <td>5e2a0e8000da6a68745367b7</td>\n",
       "      <td>2022-03-15 23:59:59.999</td>\n",
       "      <td>...</td>\n",
       "      <td>5e5406cdd8e8fa176d15bbdb</td>\n",
       "      <td>131880.0</td>\n",
       "      <td>5e5d353dff4c640d9321fe8f</td>\n",
       "      <td>2020-03-02 16:33:01.099</td>\n",
       "      <td>5e5406bbd8e8fa176d15bbd8</td>\n",
       "      <td>5e2a0e8000da6a68745367b7</td>\n",
       "      <td>58530cb71652e44220a586d1</td>\n",
       "      <td>2020-03-02 16:33:01.097</td>\n",
       "      <td>2022-02-13 23:59:59.999</td>\n",
       "      <td>5e5d353dff4c640d9321fe8f</td>\n",
       "    </tr>\n",
       "    <tr>\n",
       "      <th>711</th>\n",
       "      <td>5e7ad7dfdae8ed1cbae78f90</td>\n",
       "      <td>2020-04-10 12:03:01.291</td>\n",
       "      <td>2020-03-25 04:02:39.675</td>\n",
       "      <td>5c8183eb1356387412cd46aa</td>\n",
       "      <td>transbank</td>\n",
       "      <td>10990.0</td>\n",
       "      <td>CLP</td>\n",
       "      <td>2020-03-25 04:02:39.672</td>\n",
       "      <td>5e51c719d8eff80dc944c27f</td>\n",
       "      <td>2021-05-19 23:59:59.999</td>\n",
       "      <td>...</td>\n",
       "      <td>5e7ad7dfdae8ed1cbae78f90</td>\n",
       "      <td>10990.0</td>\n",
       "      <td>5e836c63a7730b169fe6eeb6</td>\n",
       "      <td>2020-03-31 16:14:27.109</td>\n",
       "      <td>5c8183eb1356387412cd46aa</td>\n",
       "      <td>5e1f4807d664b5687a8d8f67</td>\n",
       "      <td>58530cb71652e44220a586d1</td>\n",
       "      <td>2020-03-31 16:14:27.108</td>\n",
       "      <td>2021-04-19 23:59:59.999</td>\n",
       "      <td>5e836c63a7730b169fe6eeb6</td>\n",
       "    </tr>\n",
       "    <tr>\n",
       "      <th>712</th>\n",
       "      <td>5e7c2a7d5bf37f0d8adf1661</td>\n",
       "      <td>2020-04-10 12:16:11.665</td>\n",
       "      <td>2020-03-26 04:07:25.900</td>\n",
       "      <td>581f3268e94abede08c265d3</td>\n",
       "      <td>cupon</td>\n",
       "      <td>10990.0</td>\n",
       "      <td>CLP</td>\n",
       "      <td>2020-03-26 04:07:25.897</td>\n",
       "      <td>5e600624d8e8fa176d15bbf4</td>\n",
       "      <td>2020-06-24 23:59:59.999</td>\n",
       "      <td>...</td>\n",
       "      <td>5e7c2a7d5bf37f0d8adf1661</td>\n",
       "      <td>10990.0</td>\n",
       "      <td>5e7c2aa65bf37f0d8adf1662</td>\n",
       "      <td>2020-03-26 04:08:06.702</td>\n",
       "      <td>581f3268e94abede08c265d3</td>\n",
       "      <td>5e600624d8e8fa176d15bbf4</td>\n",
       "      <td>58530cb71652e44220a586d1</td>\n",
       "      <td>2020-03-26 04:08:06.701</td>\n",
       "      <td>2020-05-25 23:59:59.999</td>\n",
       "      <td>5e7c2aa65bf37f0d8adf1662</td>\n",
       "    </tr>\n",
       "    <tr>\n",
       "      <th>713</th>\n",
       "      <td>5e8faabd1f3fe30d8490a228</td>\n",
       "      <td>2020-04-13 20:56:04.631</td>\n",
       "      <td>2020-04-09 23:07:41.983</td>\n",
       "      <td>5e3d637a9ba6a70dc01175da</td>\n",
       "      <td>transbank</td>\n",
       "      <td>10990.0</td>\n",
       "      <td>CLP</td>\n",
       "      <td>2020-04-09 23:07:41.979</td>\n",
       "      <td>5e8faaba1f3fe30d8490a226</td>\n",
       "      <td>2021-06-03 23:59:59.999</td>\n",
       "      <td>...</td>\n",
       "      <td>5e8faabd1f3fe30d8490a228</td>\n",
       "      <td>10990.0</td>\n",
       "      <td>5e94d1e449fa5c1699ca9b6c</td>\n",
       "      <td>2020-04-13 20:56:04.629</td>\n",
       "      <td>5e3d637a9ba6a70dc01175da</td>\n",
       "      <td>5e2a0e8000da6a68745367b7</td>\n",
       "      <td>58530cb71652e44220a586d1</td>\n",
       "      <td>2020-04-13 20:56:04.628</td>\n",
       "      <td>2021-06-03 23:59:59.999</td>\n",
       "      <td>5e94d1e449fa5c1699ca9b6c</td>\n",
       "    </tr>\n",
       "  </tbody>\n",
       "</table>\n",
       "<p>714 rows × 22 columns</p>\n",
       "</div>"
      ],
      "text/plain": [
       "                        _id_x               updatedAt             createdAt_x  \\\n",
       "0    5875788bbe13350cdd10fad7 2017-02-10 19:47:01.725 2017-01-11 00:12:59.286   \n",
       "1    5876f1642651911791c67232 2017-02-11 20:29:12.326 2017-01-12 03:00:52.509   \n",
       "2    5876f1862651911791c6724c 2017-02-11 15:45:53.926 2017-01-12 03:01:26.550   \n",
       "3    5876f18b2651911791c67250 2017-02-11 15:10:31.809 2017-01-12 03:01:31.757   \n",
       "4    5876f4f92651911791c672fc 2017-02-10 19:41:45.321 2017-01-12 03:16:09.858   \n",
       "..                        ...                     ...                     ...   \n",
       "709  5e4f4999edf4857ca98cb828 2020-04-10 11:54:21.081 2020-02-21 03:08:09.402   \n",
       "710  5e5406cdd8e8fa176d15bbdb 2020-04-10 12:17:02.177 2020-02-24 17:24:29.334   \n",
       "711  5e7ad7dfdae8ed1cbae78f90 2020-04-10 12:03:01.291 2020-03-25 04:02:39.675   \n",
       "712  5e7c2a7d5bf37f0d8adf1661 2020-04-10 12:16:11.665 2020-03-26 04:07:25.900   \n",
       "713  5e8faabd1f3fe30d8490a228 2020-04-13 20:56:04.631 2020-04-09 23:07:41.983   \n",
       "\n",
       "                      user_id   pasarela     monto moneda  \\\n",
       "0    563856cf38176617515ff5f3  transbank    7390.0    CLP   \n",
       "1    563854d538176617515f358d  transbank    7390.0    CLP   \n",
       "2    5638570f3817661751600e9a  transbank    7390.0    CLP   \n",
       "3    563854e838176617515f3c9f  transbank    7390.0    CLP   \n",
       "4    5638559338176617515f7f17  transbank    7390.0    CLP   \n",
       "..                        ...        ...       ...    ...   \n",
       "709  5b79870b9d27b50c17bef01f  transbank   10990.0    CLP   \n",
       "710  5e5406bbd8e8fa176d15bbd8      cupon  131880.0    CLP   \n",
       "711  5c8183eb1356387412cd46aa  transbank   10990.0    CLP   \n",
       "712  581f3268e94abede08c265d3      cupon   10990.0    CLP   \n",
       "713  5e3d637a9ba6a70dc01175da  transbank   10990.0    CLP   \n",
       "\n",
       "                 fecha_pago                acuerdo_id             fecha_fin_x  \\\n",
       "0   2017-01-11 00:12:59.282  5861ca9a0ee08c3630d82a9f 2017-02-23 00:12:59.282   \n",
       "1   2017-01-12 03:00:52.506  5861cf650ee08c3630da3d77 2017-02-24 03:00:52.506   \n",
       "2   2017-01-12 03:01:26.546  5861c6030ee08c3630d24a7c 2017-02-24 03:01:26.546   \n",
       "3   2017-01-12 03:01:31.753  5861c4d70ee08c3630cecc3c 2017-02-24 03:01:31.753   \n",
       "4   2017-01-12 03:16:09.854  5861c5330ee08c3630cfe1bd 2017-02-24 03:16:09.854   \n",
       "..                      ...                       ...                     ...   \n",
       "709 2020-02-21 03:08:09.398  5dfe5e6353b2ec0eea07e2a6 2020-10-16 23:59:59.999   \n",
       "710 2020-02-24 17:24:29.330  5e2a0e8000da6a68745367b7 2022-03-15 23:59:59.999   \n",
       "711 2020-03-25 04:02:39.672  5e51c719d8eff80dc944c27f 2021-05-19 23:59:59.999   \n",
       "712 2020-03-26 04:07:25.897  5e600624d8e8fa176d15bbf4 2020-06-24 23:59:59.999   \n",
       "713 2020-04-09 23:07:41.979  5e8faaba1f3fe30d8490a226 2021-06-03 23:59:59.999   \n",
       "\n",
       "     ...                      mark CLP_PRICE                     _id_y  \\\n",
       "0    ...  5875788bbe13350cdd10fad7    7390.0  589e18b54320da55a2d1afbb   \n",
       "1    ...  5876f1642651911791c67232    7390.0  589f74184320da55a2d1c0a7   \n",
       "2    ...  5876f1862651911791c6724c    7390.0  589f31b14320da55a2d1ba67   \n",
       "3    ...  5876f18b2651911791c67250    7390.0  589f29674320da55a2d1b9c9   \n",
       "4    ...  5876f4f92651911791c672fc    7390.0  589e17794320da55a2d1afb3   \n",
       "..   ...                       ...       ...                       ...   \n",
       "709  ...  5e4f4999edf4857ca98cb828   10990.0  5e67c3fef2bf150de08c6065   \n",
       "710  ...  5e5406cdd8e8fa176d15bbdb  131880.0  5e5d353dff4c640d9321fe8f   \n",
       "711  ...  5e7ad7dfdae8ed1cbae78f90   10990.0  5e836c63a7730b169fe6eeb6   \n",
       "712  ...  5e7c2a7d5bf37f0d8adf1661   10990.0  5e7c2aa65bf37f0d8adf1662   \n",
       "713  ...  5e8faabd1f3fe30d8490a228   10990.0  5e94d1e449fa5c1699ca9b6c   \n",
       "\n",
       "                createdAt_y          user_id_asignado  \\\n",
       "0   2017-02-10 19:47:01.723  563856cf38176617515ff5f3   \n",
       "1   2017-02-11 20:29:12.325  563854d538176617515f358d   \n",
       "2   2017-02-11 15:45:53.925  5638570f3817661751600e9a   \n",
       "3   2017-02-11 15:10:31.807  563854e838176617515f3c9f   \n",
       "4   2017-02-10 19:41:45.319  5638559338176617515f7f17   \n",
       "..                      ...                       ...   \n",
       "709 2020-03-10 16:44:46.221  5b79870b9d27b50c17bef01f   \n",
       "710 2020-03-02 16:33:01.099  5e5406bbd8e8fa176d15bbd8   \n",
       "711 2020-03-31 16:14:27.109  5c8183eb1356387412cd46aa   \n",
       "712 2020-03-26 04:08:06.702  581f3268e94abede08c265d3   \n",
       "713 2020-04-13 20:56:04.629  5e3d637a9ba6a70dc01175da   \n",
       "\n",
       "                     cupon_id               producto_id  \\\n",
       "0    589cd385cb67eb0a8e5630f0  5888c1b6f0d69c3b6b3c3c0c   \n",
       "1    589cd385cb67eb0a8e5630f0  5888c1b6f0d69c3b6b3c3c0c   \n",
       "2    589cd385cb67eb0a8e5630f0  5888c1b6f0d69c3b6b3c3c0c   \n",
       "3    589cd385cb67eb0a8e5630f0  5888c1b6f0d69c3b6b3c3c0c   \n",
       "4    589cd385cb67eb0a8e5630f0  5888c1b6f0d69c3b6b3c3c0c   \n",
       "..                        ...                       ...   \n",
       "709  5e21c4d0d664b5687a8d8f7c  58530cb71652e44220a586d1   \n",
       "710  5e2a0e8000da6a68745367b7  58530cb71652e44220a586d1   \n",
       "711  5e1f4807d664b5687a8d8f67  58530cb71652e44220a586d1   \n",
       "712  5e600624d8e8fa176d15bbf4  58530cb71652e44220a586d1   \n",
       "713  5e2a0e8000da6a68745367b7  58530cb71652e44220a586d1   \n",
       "\n",
       "           fecha_activacion             fecha_fin_y                        id  \n",
       "0   2017-02-10 19:47:01.723 2017-02-23 00:12:59.282  589e18b54320da55a2d1afbb  \n",
       "1   2017-02-11 20:29:12.324 2017-02-24 03:00:52.506  589f74184320da55a2d1c0a7  \n",
       "2   2017-02-11 15:45:53.923 2017-02-24 03:01:26.546  589f31b14320da55a2d1ba67  \n",
       "3   2017-02-11 15:10:31.806 2017-02-24 03:01:31.753  589f29674320da55a2d1b9c9  \n",
       "4   2017-02-10 19:41:45.318 2017-02-24 03:16:09.854  589e17794320da55a2d1afb3  \n",
       "..                      ...                     ...                       ...  \n",
       "709 2020-03-10 16:44:46.221 2020-09-16 23:59:59.999  5e67c3fef2bf150de08c6065  \n",
       "710 2020-03-02 16:33:01.097 2022-02-13 23:59:59.999  5e5d353dff4c640d9321fe8f  \n",
       "711 2020-03-31 16:14:27.108 2021-04-19 23:59:59.999  5e836c63a7730b169fe6eeb6  \n",
       "712 2020-03-26 04:08:06.701 2020-05-25 23:59:59.999  5e7c2aa65bf37f0d8adf1662  \n",
       "713 2020-04-13 20:56:04.628 2021-06-03 23:59:59.999  5e94d1e449fa5c1699ca9b6c  \n",
       "\n",
       "[714 rows x 22 columns]"
      ]
     },
     "execution_count": 15,
     "metadata": {},
     "output_type": "execute_result"
    }
   ],
   "source": [
    "base_gateway"
   ]
  },
  {
   "cell_type": "code",
   "execution_count": 16,
   "metadata": {},
   "outputs": [],
   "source": [
    "base_gateway['SUBSCRIPTION_CODE']=base_gateway['acuerdo_id']"
   ]
  },
  {
   "cell_type": "markdown",
   "metadata": {},
   "source": [
    "Ahora encontramos los pagos de los cupones de cortesía"
   ]
  },
  {
   "cell_type": "code",
   "execution_count": null,
   "metadata": {},
   "outputs": [],
   "source": []
  },
  {
   "cell_type": "code",
   "execution_count": 17,
   "metadata": {},
   "outputs": [],
   "source": [
    "pagos['acuerdo_id']=pagos.acuerdo_id.astype(str)"
   ]
  },
  {
   "cell_type": "code",
   "execution_count": 18,
   "metadata": {},
   "outputs": [],
   "source": [
    "cuponesAsignados['cupon_id']=cuponesAsignados.cupon_id.astype(str)"
   ]
  },
  {
   "cell_type": "code",
   "execution_count": 19,
   "metadata": {},
   "outputs": [],
   "source": [
    "base_cupon=pagos.merge(cuponesAsignados, right_on='cupon_id',left_on='acuerdo_id',how='inner', validate='many_to_many')"
   ]
  },
  {
   "cell_type": "code",
   "execution_count": 20,
   "metadata": {},
   "outputs": [
    {
     "data": {
      "text/plain": [
       "_id_x               3657756\n",
       "updatedAt           3657756\n",
       "createdAt_x         3657756\n",
       "user_id             3657756\n",
       "pasarela            3657756\n",
       "monto               3657756\n",
       "moneda              3657756\n",
       "fecha_pago          3657756\n",
       "acuerdo_id          3657756\n",
       "fecha_fin_x         3657756\n",
       "boleta_id            109737\n",
       "acuerdo_cupon       3657756\n",
       "mark                3657756\n",
       "CLP_PRICE           3657756\n",
       "_id_y               3657756\n",
       "createdAt_y         3657756\n",
       "user_id_asignado    3657756\n",
       "cupon_id            3657756\n",
       "producto_id         3657756\n",
       "fecha_activacion    3657756\n",
       "fecha_fin_y         3657756\n",
       "id                  3657756\n",
       "dtype: int64"
      ]
     },
     "execution_count": 20,
     "metadata": {},
     "output_type": "execute_result"
    }
   ],
   "source": [
    "base_cupon.count()"
   ]
  },
  {
   "cell_type": "code",
   "execution_count": 21,
   "metadata": {},
   "outputs": [],
   "source": [
    "base_cupon['SUBSCRIPTION_CODE']=base_cupon['acuerdo_id']"
   ]
  },
  {
   "cell_type": "code",
   "execution_count": 22,
   "metadata": {},
   "outputs": [],
   "source": [
    "consolida = [base_cupon, base_gateway]"
   ]
  },
  {
   "cell_type": "code",
   "execution_count": 23,
   "metadata": {},
   "outputs": [],
   "source": [
    "cupones_totales=pd.concat(consolida)"
   ]
  },
  {
   "cell_type": "markdown",
   "metadata": {},
   "source": [
    "cupones_totales.info()"
   ]
  },
  {
   "cell_type": "markdown",
   "metadata": {},
   "source": [
    "cupones_totales.count()"
   ]
  },
  {
   "cell_type": "code",
   "execution_count": 24,
   "metadata": {},
   "outputs": [],
   "source": [
    "cupones_totales['ACTIVE_SUB_END_DATE']=cupones_totales['fecha_fin_x']"
   ]
  },
  {
   "cell_type": "code",
   "execution_count": 25,
   "metadata": {},
   "outputs": [],
   "source": [
    "cupones_totales['ACTIVE_SUB_START_DATE']=cupones_totales['fecha_activacion']"
   ]
  },
  {
   "cell_type": "code",
   "execution_count": 26,
   "metadata": {},
   "outputs": [],
   "source": [
    "cupones_totales['ACTIVE_SUB_LAST_PAYMENT_DATE']=cupones_totales['fecha_pago']"
   ]
  },
  {
   "cell_type": "code",
   "execution_count": 27,
   "metadata": {},
   "outputs": [
    {
     "data": {
      "text/plain": [
       "Index(['_id_x', 'updatedAt', 'createdAt_x', 'user_id', 'pasarela', 'monto',\n",
       "       'moneda', 'fecha_pago', 'acuerdo_id', 'fecha_fin_x', 'boleta_id',\n",
       "       'acuerdo_cupon', 'mark', 'CLP_PRICE', '_id_y', 'createdAt_y',\n",
       "       'user_id_asignado', 'cupon_id', 'producto_id', 'fecha_activacion',\n",
       "       'fecha_fin_y', 'id', 'SUBSCRIPTION_CODE', 'ACTIVE_SUB_END_DATE',\n",
       "       'ACTIVE_SUB_START_DATE', 'ACTIVE_SUB_LAST_PAYMENT_DATE'],\n",
       "      dtype='object')"
      ]
     },
     "execution_count": 27,
     "metadata": {},
     "output_type": "execute_result"
    }
   ],
   "source": [
    "cupones_totales.columns"
   ]
  },
  {
   "cell_type": "code",
   "execution_count": null,
   "metadata": {},
   "outputs": [],
   "source": []
  },
  {
   "cell_type": "markdown",
   "metadata": {},
   "source": [
    "cupones_totales.columns"
   ]
  },
  {
   "cell_type": "code",
   "execution_count": 28,
   "metadata": {},
   "outputs": [],
   "source": [
    "cupones_totales=cupones_totales.drop([ '_id_x', 'updatedAt', 'createdAt_x', 'pasarela', 'monto',\n",
    "       'moneda', 'fecha_pago', 'acuerdo_id', 'fecha_fin_x', 'boleta_id',\n",
    "       'acuerdo_cupon',  '_id_y', 'createdAt_y',\n",
    "       'user_id_asignado', 'cupon_id', 'producto_id', 'fecha_activacion',\n",
    "       'fecha_fin_y', 'id'],axis=1)"
   ]
  },
  {
   "cell_type": "code",
   "execution_count": 29,
   "metadata": {},
   "outputs": [
    {
     "data": {
      "text/plain": [
       "user_id                         3658470\n",
       "mark                            3658470\n",
       "CLP_PRICE                       3658470\n",
       "SUBSCRIPTION_CODE               3658470\n",
       "ACTIVE_SUB_END_DATE             3658470\n",
       "ACTIVE_SUB_START_DATE           3658470\n",
       "ACTIVE_SUB_LAST_PAYMENT_DATE    3658470\n",
       "dtype: int64"
      ]
     },
     "execution_count": 29,
     "metadata": {},
     "output_type": "execute_result"
    }
   ],
   "source": [
    "cupones_totales.count()"
   ]
  },
  {
   "cell_type": "markdown",
   "metadata": {},
   "source": [
    "from operator import attrgetter \n",
    "cupones_totales['DURATION']=(cupones_totales.START_DATE.dt.to_period('D') - cupones_totales.END_DATE.dt.to_period('D')).apply(attrgetter('n')).abs()"
   ]
  },
  {
   "cell_type": "markdown",
   "metadata": {},
   "source": [
    "cupones_totales['START_DATE']=cupones_totales['START_DATE'] .map(lambda x: str(x)[:10])"
   ]
  },
  {
   "cell_type": "code",
   "execution_count": 30,
   "metadata": {},
   "outputs": [],
   "source": [
    "mycol_users = mydb[\"users\"]\n",
    "def usersdataframes(iterator, chunk_size: int):\n",
    "  \"\"\"Turn an iterator into multiple small pandas.DataFrame\n",
    "  This is a balance between memory and efficiency\n",
    "  \"\"\"\n",
    "  records = []\n",
    "  frames = []\n",
    "  for i, record in enumerate(iterator):\n",
    "    records.append(record)\n",
    "    if i % chunk_size == chunk_size - 1:\n",
    "      frames.append(pd.DataFrame(records))\n",
    "      records = []\n",
    "  if records:\n",
    "    frames.append(pd.DataFrame(records))\n",
    "  return pd.concat(frames) if frames else pd.DataFrame()\n",
    "  \n",
    "users = usersdataframes(mycol_users.find({},{'_id':1,'_cliente':1}), 10000)\n"
   ]
  },
  {
   "cell_type": "code",
   "execution_count": 31,
   "metadata": {},
   "outputs": [],
   "source": [
    "users['user_id']=users._id.astype(str)"
   ]
  },
  {
   "cell_type": "code",
   "execution_count": null,
   "metadata": {},
   "outputs": [],
   "source": []
  },
  {
   "cell_type": "code",
   "execution_count": 32,
   "metadata": {},
   "outputs": [
    {
     "data": {
      "text/html": [
       "<div>\n",
       "<style scoped>\n",
       "    .dataframe tbody tr th:only-of-type {\n",
       "        vertical-align: middle;\n",
       "    }\n",
       "\n",
       "    .dataframe tbody tr th {\n",
       "        vertical-align: top;\n",
       "    }\n",
       "\n",
       "    .dataframe thead th {\n",
       "        text-align: right;\n",
       "    }\n",
       "</style>\n",
       "<table border=\"1\" class=\"dataframe\">\n",
       "  <thead>\n",
       "    <tr style=\"text-align: right;\">\n",
       "      <th></th>\n",
       "      <th>user_id</th>\n",
       "      <th>mark</th>\n",
       "      <th>CLP_PRICE</th>\n",
       "      <th>SUBSCRIPTION_CODE</th>\n",
       "      <th>ACTIVE_SUB_END_DATE</th>\n",
       "      <th>ACTIVE_SUB_START_DATE</th>\n",
       "      <th>ACTIVE_SUB_LAST_PAYMENT_DATE</th>\n",
       "    </tr>\n",
       "  </thead>\n",
       "  <tbody>\n",
       "    <tr>\n",
       "      <th>0</th>\n",
       "      <td>56385830381766175160756f</td>\n",
       "      <td>586d53e86bf40d2fd7c89e87</td>\n",
       "      <td>0.0</td>\n",
       "      <td>5865287270b7325b5207da59</td>\n",
       "      <td>2017-02-03 00:00:00.000</td>\n",
       "      <td>2017-01-04 19:58:32.374</td>\n",
       "      <td>2017-01-04 19:58:32.374</td>\n",
       "    </tr>\n",
       "    <tr>\n",
       "      <th>1</th>\n",
       "      <td>56385830381766175160756f</td>\n",
       "      <td>586d53e86bf40d2fd7c89e87</td>\n",
       "      <td>0.0</td>\n",
       "      <td>5865287270b7325b5207da59</td>\n",
       "      <td>2017-02-03 00:00:00.000</td>\n",
       "      <td>2017-01-09 15:52:09.683</td>\n",
       "      <td>2017-01-04 19:58:32.374</td>\n",
       "    </tr>\n",
       "    <tr>\n",
       "      <th>2</th>\n",
       "      <td>56385830381766175160756f</td>\n",
       "      <td>586d53e86bf40d2fd7c89e87</td>\n",
       "      <td>0.0</td>\n",
       "      <td>5865287270b7325b5207da59</td>\n",
       "      <td>2017-02-03 00:00:00.000</td>\n",
       "      <td>2017-01-11 18:15:28.156</td>\n",
       "      <td>2017-01-04 19:58:32.374</td>\n",
       "    </tr>\n",
       "    <tr>\n",
       "      <th>3</th>\n",
       "      <td>56385830381766175160756f</td>\n",
       "      <td>586d53e86bf40d2fd7c89e87</td>\n",
       "      <td>0.0</td>\n",
       "      <td>5865287270b7325b5207da59</td>\n",
       "      <td>2017-02-03 00:00:00.000</td>\n",
       "      <td>2017-01-11 22:21:48.015</td>\n",
       "      <td>2017-01-04 19:58:32.374</td>\n",
       "    </tr>\n",
       "    <tr>\n",
       "      <th>4</th>\n",
       "      <td>56385830381766175160756f</td>\n",
       "      <td>586d53e86bf40d2fd7c89e87</td>\n",
       "      <td>0.0</td>\n",
       "      <td>5865287270b7325b5207da59</td>\n",
       "      <td>2017-02-03 00:00:00.000</td>\n",
       "      <td>2017-02-17 15:01:40.978</td>\n",
       "      <td>2017-01-04 19:58:32.374</td>\n",
       "    </tr>\n",
       "    <tr>\n",
       "      <th>...</th>\n",
       "      <td>...</td>\n",
       "      <td>...</td>\n",
       "      <td>...</td>\n",
       "      <td>...</td>\n",
       "      <td>...</td>\n",
       "      <td>...</td>\n",
       "      <td>...</td>\n",
       "    </tr>\n",
       "    <tr>\n",
       "      <th>709</th>\n",
       "      <td>5b79870b9d27b50c17bef01f</td>\n",
       "      <td>5e4f4999edf4857ca98cb828</td>\n",
       "      <td>10990.0</td>\n",
       "      <td>5dfe5e6353b2ec0eea07e2a6</td>\n",
       "      <td>2020-10-16 23:59:59.999</td>\n",
       "      <td>2020-03-10 16:44:46.221</td>\n",
       "      <td>2020-02-21 03:08:09.398</td>\n",
       "    </tr>\n",
       "    <tr>\n",
       "      <th>710</th>\n",
       "      <td>5e5406bbd8e8fa176d15bbd8</td>\n",
       "      <td>5e5406cdd8e8fa176d15bbdb</td>\n",
       "      <td>131880.0</td>\n",
       "      <td>5e2a0e8000da6a68745367b7</td>\n",
       "      <td>2022-03-15 23:59:59.999</td>\n",
       "      <td>2020-03-02 16:33:01.097</td>\n",
       "      <td>2020-02-24 17:24:29.330</td>\n",
       "    </tr>\n",
       "    <tr>\n",
       "      <th>711</th>\n",
       "      <td>5c8183eb1356387412cd46aa</td>\n",
       "      <td>5e7ad7dfdae8ed1cbae78f90</td>\n",
       "      <td>10990.0</td>\n",
       "      <td>5e51c719d8eff80dc944c27f</td>\n",
       "      <td>2021-05-19 23:59:59.999</td>\n",
       "      <td>2020-03-31 16:14:27.108</td>\n",
       "      <td>2020-03-25 04:02:39.672</td>\n",
       "    </tr>\n",
       "    <tr>\n",
       "      <th>712</th>\n",
       "      <td>581f3268e94abede08c265d3</td>\n",
       "      <td>5e7c2a7d5bf37f0d8adf1661</td>\n",
       "      <td>10990.0</td>\n",
       "      <td>5e600624d8e8fa176d15bbf4</td>\n",
       "      <td>2020-06-24 23:59:59.999</td>\n",
       "      <td>2020-03-26 04:08:06.701</td>\n",
       "      <td>2020-03-26 04:07:25.897</td>\n",
       "    </tr>\n",
       "    <tr>\n",
       "      <th>713</th>\n",
       "      <td>5e3d637a9ba6a70dc01175da</td>\n",
       "      <td>5e8faabd1f3fe30d8490a228</td>\n",
       "      <td>10990.0</td>\n",
       "      <td>5e8faaba1f3fe30d8490a226</td>\n",
       "      <td>2021-06-03 23:59:59.999</td>\n",
       "      <td>2020-04-13 20:56:04.628</td>\n",
       "      <td>2020-04-09 23:07:41.979</td>\n",
       "    </tr>\n",
       "  </tbody>\n",
       "</table>\n",
       "<p>3658470 rows × 7 columns</p>\n",
       "</div>"
      ],
      "text/plain": [
       "                      user_id                      mark  CLP_PRICE  \\\n",
       "0    56385830381766175160756f  586d53e86bf40d2fd7c89e87        0.0   \n",
       "1    56385830381766175160756f  586d53e86bf40d2fd7c89e87        0.0   \n",
       "2    56385830381766175160756f  586d53e86bf40d2fd7c89e87        0.0   \n",
       "3    56385830381766175160756f  586d53e86bf40d2fd7c89e87        0.0   \n",
       "4    56385830381766175160756f  586d53e86bf40d2fd7c89e87        0.0   \n",
       "..                        ...                       ...        ...   \n",
       "709  5b79870b9d27b50c17bef01f  5e4f4999edf4857ca98cb828    10990.0   \n",
       "710  5e5406bbd8e8fa176d15bbd8  5e5406cdd8e8fa176d15bbdb   131880.0   \n",
       "711  5c8183eb1356387412cd46aa  5e7ad7dfdae8ed1cbae78f90    10990.0   \n",
       "712  581f3268e94abede08c265d3  5e7c2a7d5bf37f0d8adf1661    10990.0   \n",
       "713  5e3d637a9ba6a70dc01175da  5e8faabd1f3fe30d8490a228    10990.0   \n",
       "\n",
       "            SUBSCRIPTION_CODE     ACTIVE_SUB_END_DATE   ACTIVE_SUB_START_DATE  \\\n",
       "0    5865287270b7325b5207da59 2017-02-03 00:00:00.000 2017-01-04 19:58:32.374   \n",
       "1    5865287270b7325b5207da59 2017-02-03 00:00:00.000 2017-01-09 15:52:09.683   \n",
       "2    5865287270b7325b5207da59 2017-02-03 00:00:00.000 2017-01-11 18:15:28.156   \n",
       "3    5865287270b7325b5207da59 2017-02-03 00:00:00.000 2017-01-11 22:21:48.015   \n",
       "4    5865287270b7325b5207da59 2017-02-03 00:00:00.000 2017-02-17 15:01:40.978   \n",
       "..                        ...                     ...                     ...   \n",
       "709  5dfe5e6353b2ec0eea07e2a6 2020-10-16 23:59:59.999 2020-03-10 16:44:46.221   \n",
       "710  5e2a0e8000da6a68745367b7 2022-03-15 23:59:59.999 2020-03-02 16:33:01.097   \n",
       "711  5e51c719d8eff80dc944c27f 2021-05-19 23:59:59.999 2020-03-31 16:14:27.108   \n",
       "712  5e600624d8e8fa176d15bbf4 2020-06-24 23:59:59.999 2020-03-26 04:08:06.701   \n",
       "713  5e8faaba1f3fe30d8490a226 2021-06-03 23:59:59.999 2020-04-13 20:56:04.628   \n",
       "\n",
       "    ACTIVE_SUB_LAST_PAYMENT_DATE  \n",
       "0        2017-01-04 19:58:32.374  \n",
       "1        2017-01-04 19:58:32.374  \n",
       "2        2017-01-04 19:58:32.374  \n",
       "3        2017-01-04 19:58:32.374  \n",
       "4        2017-01-04 19:58:32.374  \n",
       "..                           ...  \n",
       "709      2020-02-21 03:08:09.398  \n",
       "710      2020-02-24 17:24:29.330  \n",
       "711      2020-03-25 04:02:39.672  \n",
       "712      2020-03-26 04:07:25.897  \n",
       "713      2020-04-09 23:07:41.979  \n",
       "\n",
       "[3658470 rows x 7 columns]"
      ]
     },
     "execution_count": 32,
     "metadata": {},
     "output_type": "execute_result"
    }
   ],
   "source": [
    "cupones_totales"
   ]
  },
  {
   "cell_type": "code",
   "execution_count": 33,
   "metadata": {},
   "outputs": [],
   "source": [
    "cupones_totales=cupones_totales.merge(users, on='user_id',how='left')"
   ]
  },
  {
   "cell_type": "code",
   "execution_count": 34,
   "metadata": {
    "scrolled": true
   },
   "outputs": [
    {
     "data": {
      "text/plain": [
       "user_id                         3658470\n",
       "mark                            3658470\n",
       "CLP_PRICE                       3658470\n",
       "SUBSCRIPTION_CODE               3658470\n",
       "ACTIVE_SUB_END_DATE             3658470\n",
       "ACTIVE_SUB_START_DATE           3658470\n",
       "ACTIVE_SUB_LAST_PAYMENT_DATE    3658470\n",
       "_id                             3658445\n",
       "_cliente                        3658445\n",
       "dtype: int64"
      ]
     },
     "execution_count": 34,
     "metadata": {},
     "output_type": "execute_result"
    }
   ],
   "source": [
    "cupones_totales.count()"
   ]
  },
  {
   "cell_type": "code",
   "execution_count": 35,
   "metadata": {},
   "outputs": [],
   "source": [
    "cupones_totales=cupones_totales.rename(columns={ \"_cliente\":\"CUSTOMER_ID\"})"
   ]
  },
  {
   "cell_type": "code",
   "execution_count": 36,
   "metadata": {},
   "outputs": [],
   "source": [
    "cupones_totales = cupones_totales.dropna(axis=0, subset=['user_id','_id'])"
   ]
  },
  {
   "cell_type": "code",
   "execution_count": null,
   "metadata": {},
   "outputs": [],
   "source": []
  },
  {
   "cell_type": "markdown",
   "metadata": {},
   "source": [
    "## Añadir transbank y paypal"
   ]
  },
  {
   "cell_type": "code",
   "execution_count": 37,
   "metadata": {},
   "outputs": [],
   "source": [
    "mycol_paypalAsig= mydb[\"acuerdospaypals\"]\n",
    "def paypalAsigframes(iterator, chunk_size: int):\n",
    "  \"\"\"Turn an iterator into multiple small pandas.DataFrame\n",
    "  This is a balance between memory and efficiency\n",
    "  \"\"\"\n",
    "  records = []\n",
    "  frames = []\n",
    "  for i, record in enumerate(iterator):\n",
    "    records.append(record)\n",
    "    if i % chunk_size == chunk_size - 1:\n",
    "      frames.append(pd.DataFrame(records))\n",
    "      records = []\n",
    "  if records:\n",
    "    frames.append(pd.DataFrame(records))\n",
    "  return pd.concat(frames) if frames else pd.DataFrame()\n",
    "  \n",
    "paypal = paypalAsigframes(mycol_paypalAsig.find({'createdAt': {'$gte':feh}},{'_id':1,'createdAt':1,'user_id':1}), 10000)"
   ]
  },
  {
   "cell_type": "code",
   "execution_count": 38,
   "metadata": {
    "scrolled": true
   },
   "outputs": [
    {
     "name": "stdout",
     "output_type": "stream",
     "text": [
      "<class 'pandas.core.frame.DataFrame'>\n",
      "Int64Index: 31695 entries, 0 to 1694\n",
      "Data columns (total 3 columns):\n",
      " #   Column     Non-Null Count  Dtype         \n",
      "---  ------     --------------  -----         \n",
      " 0   _id        31695 non-null  object        \n",
      " 1   createdAt  31695 non-null  datetime64[ns]\n",
      " 2   user_id    31695 non-null  object        \n",
      "dtypes: datetime64[ns](1), object(2)\n",
      "memory usage: 990.5+ KB\n"
     ]
    }
   ],
   "source": [
    "paypal.info()"
   ]
  },
  {
   "cell_type": "code",
   "execution_count": 39,
   "metadata": {},
   "outputs": [],
   "source": [
    "paypal['user_id']=paypal.user_id.astype(str)"
   ]
  },
  {
   "cell_type": "code",
   "execution_count": 40,
   "metadata": {
    "scrolled": true
   },
   "outputs": [
    {
     "name": "stdout",
     "output_type": "stream",
     "text": [
      "<class 'pandas.core.frame.DataFrame'>\n",
      "Int64Index: 434819 entries, 0 to 4818\n",
      "Data columns (total 3 columns):\n",
      " #   Column    Non-Null Count   Dtype \n",
      "---  ------    --------------   ----- \n",
      " 0   _id       434819 non-null  object\n",
      " 1   _cliente  434759 non-null  object\n",
      " 2   user_id   434819 non-null  object\n",
      "dtypes: object(3)\n",
      "memory usage: 13.3+ MB\n"
     ]
    }
   ],
   "source": [
    "users.info()"
   ]
  },
  {
   "cell_type": "code",
   "execution_count": 41,
   "metadata": {},
   "outputs": [],
   "source": [
    "users['id']=users._id.astype(str)"
   ]
  },
  {
   "cell_type": "code",
   "execution_count": 42,
   "metadata": {},
   "outputs": [],
   "source": [
    "user_Paypal=users.merge(paypal, right_on='user_id',left_on='id',how='right')"
   ]
  },
  {
   "cell_type": "code",
   "execution_count": 43,
   "metadata": {},
   "outputs": [],
   "source": [
    "user_Paypal = user_Paypal.dropna(axis=0, subset=['_id_x'])"
   ]
  },
  {
   "cell_type": "code",
   "execution_count": 44,
   "metadata": {},
   "outputs": [
    {
     "name": "stdout",
     "output_type": "stream",
     "text": [
      "<class 'pandas.core.frame.DataFrame'>\n",
      "Int64Index: 31690 entries, 0 to 31689\n",
      "Data columns (total 7 columns):\n",
      " #   Column     Non-Null Count  Dtype         \n",
      "---  ------     --------------  -----         \n",
      " 0   _id_x      31690 non-null  object        \n",
      " 1   _cliente   31690 non-null  object        \n",
      " 2   user_id_x  31690 non-null  object        \n",
      " 3   id         31690 non-null  object        \n",
      " 4   _id_y      31690 non-null  object        \n",
      " 5   createdAt  31690 non-null  datetime64[ns]\n",
      " 6   user_id_y  31690 non-null  object        \n",
      "dtypes: datetime64[ns](1), object(6)\n",
      "memory usage: 1.9+ MB\n"
     ]
    }
   ],
   "source": [
    "user_Paypal.info()"
   ]
  },
  {
   "cell_type": "code",
   "execution_count": 45,
   "metadata": {},
   "outputs": [],
   "source": [
    "user_Paypal=user_Paypal.rename(columns={ \"_cliente\":\"CUSTOMER_ID\",\"_id_y\":\"SUBSCRIPTION_CODE\"})"
   ]
  },
  {
   "cell_type": "code",
   "execution_count": 46,
   "metadata": {},
   "outputs": [
    {
     "data": {
      "text/plain": [
       "Index(['_id', 'updatedAt', 'createdAt', 'user_id', 'pasarela', 'monto',\n",
       "       'moneda', 'fecha_pago', 'acuerdo_id', 'fecha_fin', 'boleta_id',\n",
       "       'acuerdo_cupon', 'mark', 'CLP_PRICE'],\n",
       "      dtype='object')"
      ]
     },
     "execution_count": 46,
     "metadata": {},
     "output_type": "execute_result"
    }
   ],
   "source": [
    "pagos.columns"
   ]
  },
  {
   "cell_type": "code",
   "execution_count": 47,
   "metadata": {},
   "outputs": [],
   "source": [
    "user_Paypal['SUBSCRIPTION_CODE']=user_Paypal.SUBSCRIPTION_CODE.astype(str)"
   ]
  },
  {
   "cell_type": "code",
   "execution_count": 48,
   "metadata": {},
   "outputs": [],
   "source": [
    "userPag_Paypal=user_Paypal.merge(pagos, right_on='acuerdo_id',left_on='SUBSCRIPTION_CODE',how='left')"
   ]
  },
  {
   "cell_type": "code",
   "execution_count": 49,
   "metadata": {},
   "outputs": [],
   "source": [
    "userPag_Paypal = userPag_Paypal.dropna(axis=0, subset=['_id'])"
   ]
  },
  {
   "cell_type": "code",
   "execution_count": 50,
   "metadata": {
    "scrolled": true
   },
   "outputs": [
    {
     "name": "stdout",
     "output_type": "stream",
     "text": [
      "<class 'pandas.core.frame.DataFrame'>\n",
      "Int64Index: 39949 entries, 0 to 63199\n",
      "Data columns (total 21 columns):\n",
      " #   Column             Non-Null Count  Dtype         \n",
      "---  ------             --------------  -----         \n",
      " 0   _id_x              39949 non-null  object        \n",
      " 1   CUSTOMER_ID        39949 non-null  object        \n",
      " 2   user_id_x          39949 non-null  object        \n",
      " 3   id                 39949 non-null  object        \n",
      " 4   SUBSCRIPTION_CODE  39949 non-null  object        \n",
      " 5   createdAt_x        39949 non-null  datetime64[ns]\n",
      " 6   user_id_y          39949 non-null  object        \n",
      " 7   _id                39949 non-null  object        \n",
      " 8   updatedAt          39949 non-null  datetime64[ns]\n",
      " 9   createdAt_y        39949 non-null  datetime64[ns]\n",
      " 10  user_id            39949 non-null  object        \n",
      " 11  pasarela           39949 non-null  object        \n",
      " 12  monto              39949 non-null  float64       \n",
      " 13  moneda             39949 non-null  object        \n",
      " 14  fecha_pago         39949 non-null  datetime64[ns]\n",
      " 15  acuerdo_id         39949 non-null  object        \n",
      " 16  fecha_fin          39949 non-null  datetime64[ns]\n",
      " 17  boleta_id          39930 non-null  object        \n",
      " 18  acuerdo_cupon      39949 non-null  object        \n",
      " 19  mark               39949 non-null  object        \n",
      " 20  CLP_PRICE          39949 non-null  float64       \n",
      "dtypes: datetime64[ns](5), float64(2), object(14)\n",
      "memory usage: 6.7+ MB\n"
     ]
    }
   ],
   "source": [
    "userPag_Paypal.info()"
   ]
  },
  {
   "cell_type": "code",
   "execution_count": 51,
   "metadata": {},
   "outputs": [],
   "source": [
    "userPag_Paypal['ACTIVE_SUB_LAST_PAYMENT_DATE'] = pd.to_datetime(userPag_Paypal['fecha_pago'])"
   ]
  },
  {
   "cell_type": "code",
   "execution_count": 52,
   "metadata": {},
   "outputs": [],
   "source": [
    "userPag_Paypal['ACTIVE_SUB_END_DATE'] = pd.to_datetime(userPag_Paypal['fecha_fin'])"
   ]
  },
  {
   "cell_type": "code",
   "execution_count": 53,
   "metadata": {},
   "outputs": [],
   "source": [
    "userPag_Paypal['ACTIVE_SUB_START_DATE'] = pd.to_datetime(userPag_Paypal['createdAt_x'])"
   ]
  },
  {
   "cell_type": "code",
   "execution_count": 54,
   "metadata": {},
   "outputs": [],
   "source": [
    "userPag_Paypal['SUBSCRIPTION_CODE']=userPag_Paypal['acuerdo_id']"
   ]
  },
  {
   "cell_type": "code",
   "execution_count": 55,
   "metadata": {
    "scrolled": true
   },
   "outputs": [
    {
     "name": "stdout",
     "output_type": "stream",
     "text": [
      "<class 'pandas.core.frame.DataFrame'>\n",
      "Int64Index: 39949 entries, 0 to 63199\n",
      "Data columns (total 24 columns):\n",
      " #   Column                        Non-Null Count  Dtype         \n",
      "---  ------                        --------------  -----         \n",
      " 0   _id_x                         39949 non-null  object        \n",
      " 1   CUSTOMER_ID                   39949 non-null  object        \n",
      " 2   user_id_x                     39949 non-null  object        \n",
      " 3   id                            39949 non-null  object        \n",
      " 4   SUBSCRIPTION_CODE             39949 non-null  object        \n",
      " 5   createdAt_x                   39949 non-null  datetime64[ns]\n",
      " 6   user_id_y                     39949 non-null  object        \n",
      " 7   _id                           39949 non-null  object        \n",
      " 8   updatedAt                     39949 non-null  datetime64[ns]\n",
      " 9   createdAt_y                   39949 non-null  datetime64[ns]\n",
      " 10  user_id                       39949 non-null  object        \n",
      " 11  pasarela                      39949 non-null  object        \n",
      " 12  monto                         39949 non-null  float64       \n",
      " 13  moneda                        39949 non-null  object        \n",
      " 14  fecha_pago                    39949 non-null  datetime64[ns]\n",
      " 15  acuerdo_id                    39949 non-null  object        \n",
      " 16  fecha_fin                     39949 non-null  datetime64[ns]\n",
      " 17  boleta_id                     39930 non-null  object        \n",
      " 18  acuerdo_cupon                 39949 non-null  object        \n",
      " 19  mark                          39949 non-null  object        \n",
      " 20  CLP_PRICE                     39949 non-null  float64       \n",
      " 21  ACTIVE_SUB_LAST_PAYMENT_DATE  39949 non-null  datetime64[ns]\n",
      " 22  ACTIVE_SUB_END_DATE           39949 non-null  datetime64[ns]\n",
      " 23  ACTIVE_SUB_START_DATE         39949 non-null  datetime64[ns]\n",
      "dtypes: datetime64[ns](8), float64(2), object(14)\n",
      "memory usage: 7.6+ MB\n"
     ]
    }
   ],
   "source": [
    "userPag_Paypal.info()"
   ]
  },
  {
   "cell_type": "code",
   "execution_count": 56,
   "metadata": {
    "scrolled": false
   },
   "outputs": [
    {
     "data": {
      "text/plain": [
       "Index(['_id_x', 'CUSTOMER_ID', 'user_id_x', 'id', 'SUBSCRIPTION_CODE',\n",
       "       'createdAt_x', 'user_id_y', '_id', 'updatedAt', 'createdAt_y',\n",
       "       'user_id', 'pasarela', 'monto', 'moneda', 'fecha_pago', 'acuerdo_id',\n",
       "       'fecha_fin', 'boleta_id', 'acuerdo_cupon', 'mark', 'CLP_PRICE',\n",
       "       'ACTIVE_SUB_LAST_PAYMENT_DATE', 'ACTIVE_SUB_END_DATE',\n",
       "       'ACTIVE_SUB_START_DATE'],\n",
       "      dtype='object')"
      ]
     },
     "execution_count": 56,
     "metadata": {},
     "output_type": "execute_result"
    }
   ],
   "source": [
    "userPag_Paypal.columns"
   ]
  },
  {
   "cell_type": "code",
   "execution_count": 57,
   "metadata": {},
   "outputs": [],
   "source": [
    "userPag_Paypal=userPag_Paypal.drop(['_id_x','user_id_x', 'id', \n",
    "       'createdAt_x', 'user_id_y', '_id', 'updatedAt',\n",
    "       'createdAt_y', 'user_id', 'pasarela', 'monto', 'moneda', 'fecha_pago',\n",
    "       'acuerdo_id', 'fecha_fin', 'boleta_id', 'acuerdo_cupon'],axis=1)"
   ]
  },
  {
   "cell_type": "code",
   "execution_count": 58,
   "metadata": {},
   "outputs": [
    {
     "data": {
      "text/plain": [
       "Index(['CUSTOMER_ID', 'SUBSCRIPTION_CODE', 'mark', 'CLP_PRICE',\n",
       "       'ACTIVE_SUB_LAST_PAYMENT_DATE', 'ACTIVE_SUB_END_DATE',\n",
       "       'ACTIVE_SUB_START_DATE'],\n",
       "      dtype='object')"
      ]
     },
     "execution_count": 58,
     "metadata": {},
     "output_type": "execute_result"
    }
   ],
   "source": [
    "userPag_Paypal.columns"
   ]
  },
  {
   "cell_type": "markdown",
   "metadata": {},
   "source": [
    "from operator import attrgetter \n",
    "userPag_Paypal['DURATION']=(userPag_Paypal.START_DATE.dt.to_period('D') - userPag_Paypal.END_DATE.dt.to_period('D')).apply(attrgetter('n')).abs()"
   ]
  },
  {
   "cell_type": "code",
   "execution_count": 59,
   "metadata": {},
   "outputs": [],
   "source": [
    "consol=[userPag_Paypal,cupones_totales]"
   ]
  },
  {
   "cell_type": "code",
   "execution_count": 60,
   "metadata": {},
   "outputs": [],
   "source": [
    "historyParcial=pd.concat(consol)"
   ]
  },
  {
   "cell_type": "code",
   "execution_count": 61,
   "metadata": {},
   "outputs": [
    {
     "data": {
      "text/plain": [
       "CUSTOMER_ID                     3698394\n",
       "SUBSCRIPTION_CODE               3698394\n",
       "mark                            3698394\n",
       "CLP_PRICE                       3698394\n",
       "ACTIVE_SUB_LAST_PAYMENT_DATE    3698394\n",
       "ACTIVE_SUB_END_DATE             3698394\n",
       "ACTIVE_SUB_START_DATE           3698394\n",
       "user_id                         3658445\n",
       "_id                             3658445\n",
       "dtype: int64"
      ]
     },
     "execution_count": 61,
     "metadata": {},
     "output_type": "execute_result"
    }
   ],
   "source": [
    "historyParcial.count()"
   ]
  },
  {
   "cell_type": "code",
   "execution_count": null,
   "metadata": {},
   "outputs": [],
   "source": []
  },
  {
   "cell_type": "code",
   "execution_count": 62,
   "metadata": {},
   "outputs": [],
   "source": [
    "mycol_transAsig = mydb[\"transbankfinalizaregistros\"]\n",
    "def transAsigframes(iterator, chunk_size: int):\n",
    "  \"\"\"Turn an iterator into multiple small pandas.DataFrame\n",
    "  This is a balance between memory and efficiency\n",
    "  \"\"\"\n",
    "  records = []\n",
    "  frames = []\n",
    "  for i, record in enumerate(iterator):\n",
    "    records.append(record)\n",
    "    if i % chunk_size == chunk_size - 1:\n",
    "      frames.append(pd.DataFrame(records))\n",
    "      records = []\n",
    "  if records:\n",
    "    frames.append(pd.DataFrame(records))\n",
    "  return pd.concat(frames) if frames else pd.DataFrame()\n",
    "  \n",
    "transbank = transAsigframes(mycol_transAsig.find({},{'_id':1,'createdAt':1,'user_id':1}), 10000)"
   ]
  },
  {
   "cell_type": "code",
   "execution_count": 63,
   "metadata": {},
   "outputs": [],
   "source": [
    "transbank=transbank.rename(columns={\"_id\":\"SUBSCRIPTION_CODE\"})"
   ]
  },
  {
   "cell_type": "code",
   "execution_count": 64,
   "metadata": {},
   "outputs": [],
   "source": [
    "transbank['user_id']=transbank.user_id.astype(str)"
   ]
  },
  {
   "cell_type": "code",
   "execution_count": 65,
   "metadata": {},
   "outputs": [],
   "source": [
    "transbank['SUBSCRIPTION_CODE']=transbank.SUBSCRIPTION_CODE.astype(str)"
   ]
  },
  {
   "cell_type": "code",
   "execution_count": 66,
   "metadata": {},
   "outputs": [
    {
     "data": {
      "text/plain": [
       "Index(['_id', '_cliente', 'user_id', 'id'], dtype='object')"
      ]
     },
     "execution_count": 66,
     "metadata": {},
     "output_type": "execute_result"
    }
   ],
   "source": [
    "users.columns"
   ]
  },
  {
   "cell_type": "code",
   "execution_count": 67,
   "metadata": {},
   "outputs": [],
   "source": [
    "user_transbank=users.merge(transbank, right_on='user_id',left_on='id',how='right')"
   ]
  },
  {
   "cell_type": "code",
   "execution_count": 68,
   "metadata": {
    "scrolled": false
   },
   "outputs": [
    {
     "name": "stdout",
     "output_type": "stream",
     "text": [
      "<class 'pandas.core.frame.DataFrame'>\n",
      "Int64Index: 135371 entries, 0 to 135370\n",
      "Data columns (total 7 columns):\n",
      " #   Column             Non-Null Count   Dtype         \n",
      "---  ------             --------------   -----         \n",
      " 0   _id                135367 non-null  object        \n",
      " 1   _cliente           135367 non-null  object        \n",
      " 2   user_id_x          135367 non-null  object        \n",
      " 3   id                 135367 non-null  object        \n",
      " 4   SUBSCRIPTION_CODE  135371 non-null  object        \n",
      " 5   createdAt          135371 non-null  datetime64[ns]\n",
      " 6   user_id_y          135371 non-null  object        \n",
      "dtypes: datetime64[ns](1), object(6)\n",
      "memory usage: 8.3+ MB\n"
     ]
    }
   ],
   "source": [
    "user_transbank.info()"
   ]
  },
  {
   "cell_type": "code",
   "execution_count": 69,
   "metadata": {},
   "outputs": [],
   "source": [
    "user_transbank = user_transbank.dropna(axis=0, subset=['_id'])"
   ]
  },
  {
   "cell_type": "code",
   "execution_count": 70,
   "metadata": {},
   "outputs": [],
   "source": [
    "user_transbank=user_transbank.rename(columns={ \"_cliente\":\"CUSTOMER_ID\"})"
   ]
  },
  {
   "cell_type": "code",
   "execution_count": 71,
   "metadata": {},
   "outputs": [],
   "source": [
    "user_transbank['START_DATE']=user_transbank['createdAt']"
   ]
  },
  {
   "cell_type": "code",
   "execution_count": 72,
   "metadata": {
    "scrolled": true
   },
   "outputs": [
    {
     "data": {
      "text/plain": [
       "Index(['_id', 'updatedAt', 'createdAt', 'user_id', 'pasarela', 'monto',\n",
       "       'moneda', 'fecha_pago', 'acuerdo_id', 'fecha_fin', 'boleta_id',\n",
       "       'acuerdo_cupon', 'mark', 'CLP_PRICE'],\n",
       "      dtype='object')"
      ]
     },
     "execution_count": 72,
     "metadata": {},
     "output_type": "execute_result"
    }
   ],
   "source": [
    "pagos.columns"
   ]
  },
  {
   "cell_type": "code",
   "execution_count": 73,
   "metadata": {},
   "outputs": [],
   "source": [
    "user_Pagtransbank=user_transbank.merge(pagos, right_on='acuerdo_id',left_on='SUBSCRIPTION_CODE',how='left')"
   ]
  },
  {
   "cell_type": "code",
   "execution_count": 74,
   "metadata": {},
   "outputs": [
    {
     "name": "stdout",
     "output_type": "stream",
     "text": [
      "<class 'pandas.core.frame.DataFrame'>\n",
      "Int64Index: 486513 entries, 0 to 486512\n",
      "Data columns (total 22 columns):\n",
      " #   Column             Non-Null Count   Dtype         \n",
      "---  ------             --------------   -----         \n",
      " 0   _id_x              486513 non-null  object        \n",
      " 1   CUSTOMER_ID        486513 non-null  object        \n",
      " 2   user_id_x          486513 non-null  object        \n",
      " 3   id                 486513 non-null  object        \n",
      " 4   SUBSCRIPTION_CODE  486513 non-null  object        \n",
      " 5   createdAt_x        486513 non-null  datetime64[ns]\n",
      " 6   user_id_y          486513 non-null  object        \n",
      " 7   START_DATE         486513 non-null  datetime64[ns]\n",
      " 8   _id_y              445696 non-null  object        \n",
      " 9   updatedAt          445696 non-null  datetime64[ns]\n",
      " 10  createdAt_y        445696 non-null  datetime64[ns]\n",
      " 11  user_id            445696 non-null  object        \n",
      " 12  pasarela           445696 non-null  object        \n",
      " 13  monto              445696 non-null  float64       \n",
      " 14  moneda             445696 non-null  object        \n",
      " 15  fecha_pago         445696 non-null  datetime64[ns]\n",
      " 16  acuerdo_id         445696 non-null  object        \n",
      " 17  fecha_fin          445696 non-null  datetime64[ns]\n",
      " 18  boleta_id          445377 non-null  object        \n",
      " 19  acuerdo_cupon      445696 non-null  object        \n",
      " 20  mark               445696 non-null  object        \n",
      " 21  CLP_PRICE          445696 non-null  float64       \n",
      "dtypes: datetime64[ns](6), float64(2), object(14)\n",
      "memory usage: 85.4+ MB\n"
     ]
    }
   ],
   "source": [
    "user_Pagtransbank.info()"
   ]
  },
  {
   "cell_type": "code",
   "execution_count": 75,
   "metadata": {},
   "outputs": [],
   "source": [
    "user_Pagtransbank = user_Pagtransbank.dropna(axis=0, subset=['CLP_PRICE'])"
   ]
  },
  {
   "cell_type": "code",
   "execution_count": 76,
   "metadata": {},
   "outputs": [],
   "source": [
    "user_Pagtransbank['ACTIVE_SUB_LAST_PAYMENT_DATE'] = pd.to_datetime(user_Pagtransbank['fecha_pago'])"
   ]
  },
  {
   "cell_type": "code",
   "execution_count": 77,
   "metadata": {},
   "outputs": [],
   "source": [
    "user_Pagtransbank['ACTIVE_SUB_END_DATE'] = pd.to_datetime(user_Pagtransbank['fecha_fin'])"
   ]
  },
  {
   "cell_type": "markdown",
   "metadata": {},
   "source": [
    "from operator import attrgetter \n",
    "user_Pagtransbank['DURATION']=(user_Pagtransbank.START_DATE.dt.to_period('D') - user_Pagtransbank.END_DATE.dt.to_period('D')).apply(attrgetter('n')).abs()"
   ]
  },
  {
   "cell_type": "code",
   "execution_count": 78,
   "metadata": {},
   "outputs": [],
   "source": [
    "user_Pagtransbank['ACTIVE_SUB_START_DATE']=user_Pagtransbank['START_DATE'] "
   ]
  },
  {
   "cell_type": "code",
   "execution_count": 79,
   "metadata": {},
   "outputs": [
    {
     "name": "stdout",
     "output_type": "stream",
     "text": [
      "<class 'pandas.core.frame.DataFrame'>\n",
      "Int64Index: 445696 entries, 3 to 486512\n",
      "Data columns (total 25 columns):\n",
      " #   Column                        Non-Null Count   Dtype         \n",
      "---  ------                        --------------   -----         \n",
      " 0   _id_x                         445696 non-null  object        \n",
      " 1   CUSTOMER_ID                   445696 non-null  object        \n",
      " 2   user_id_x                     445696 non-null  object        \n",
      " 3   id                            445696 non-null  object        \n",
      " 4   SUBSCRIPTION_CODE             445696 non-null  object        \n",
      " 5   createdAt_x                   445696 non-null  datetime64[ns]\n",
      " 6   user_id_y                     445696 non-null  object        \n",
      " 7   START_DATE                    445696 non-null  datetime64[ns]\n",
      " 8   _id_y                         445696 non-null  object        \n",
      " 9   updatedAt                     445696 non-null  datetime64[ns]\n",
      " 10  createdAt_y                   445696 non-null  datetime64[ns]\n",
      " 11  user_id                       445696 non-null  object        \n",
      " 12  pasarela                      445696 non-null  object        \n",
      " 13  monto                         445696 non-null  float64       \n",
      " 14  moneda                        445696 non-null  object        \n",
      " 15  fecha_pago                    445696 non-null  datetime64[ns]\n",
      " 16  acuerdo_id                    445696 non-null  object        \n",
      " 17  fecha_fin                     445696 non-null  datetime64[ns]\n",
      " 18  boleta_id                     445377 non-null  object        \n",
      " 19  acuerdo_cupon                 445696 non-null  object        \n",
      " 20  mark                          445696 non-null  object        \n",
      " 21  CLP_PRICE                     445696 non-null  float64       \n",
      " 22  ACTIVE_SUB_LAST_PAYMENT_DATE  445696 non-null  datetime64[ns]\n",
      " 23  ACTIVE_SUB_END_DATE           445696 non-null  datetime64[ns]\n",
      " 24  ACTIVE_SUB_START_DATE         445696 non-null  datetime64[ns]\n",
      "dtypes: datetime64[ns](9), float64(2), object(14)\n",
      "memory usage: 88.4+ MB\n"
     ]
    }
   ],
   "source": [
    "user_Pagtransbank.info()"
   ]
  },
  {
   "cell_type": "code",
   "execution_count": 80,
   "metadata": {
    "scrolled": true
   },
   "outputs": [
    {
     "data": {
      "text/plain": [
       "Index(['_id_x', 'CUSTOMER_ID', 'user_id_x', 'id', 'SUBSCRIPTION_CODE',\n",
       "       'createdAt_x', 'user_id_y', 'START_DATE', '_id_y', 'updatedAt',\n",
       "       'createdAt_y', 'user_id', 'pasarela', 'monto', 'moneda', 'fecha_pago',\n",
       "       'acuerdo_id', 'fecha_fin', 'boleta_id', 'acuerdo_cupon', 'mark',\n",
       "       'CLP_PRICE', 'ACTIVE_SUB_LAST_PAYMENT_DATE', 'ACTIVE_SUB_END_DATE',\n",
       "       'ACTIVE_SUB_START_DATE'],\n",
       "      dtype='object')"
      ]
     },
     "execution_count": 80,
     "metadata": {},
     "output_type": "execute_result"
    }
   ],
   "source": [
    "user_Pagtransbank.columns"
   ]
  },
  {
   "cell_type": "code",
   "execution_count": 81,
   "metadata": {},
   "outputs": [],
   "source": [
    "user_Pagtransbank=user_Pagtransbank.drop(['_id_x', 'id', 'createdAt_x',\n",
    "       'user_id_x', '_id_y', 'updatedAt', 'user_id', 'createdAt_y',\n",
    "       'user_id_y', 'pasarela', 'monto', 'moneda', 'fecha_pago', 'acuerdo_id',\n",
    "       'fecha_fin', 'boleta_id', 'acuerdo_cupon'],axis=1)"
   ]
  },
  {
   "cell_type": "code",
   "execution_count": 82,
   "metadata": {},
   "outputs": [
    {
     "name": "stdout",
     "output_type": "stream",
     "text": [
      "<class 'pandas.core.frame.DataFrame'>\n",
      "Int64Index: 445696 entries, 3 to 486512\n",
      "Data columns (total 8 columns):\n",
      " #   Column                        Non-Null Count   Dtype         \n",
      "---  ------                        --------------   -----         \n",
      " 0   CUSTOMER_ID                   445696 non-null  object        \n",
      " 1   SUBSCRIPTION_CODE             445696 non-null  object        \n",
      " 2   START_DATE                    445696 non-null  datetime64[ns]\n",
      " 3   mark                          445696 non-null  object        \n",
      " 4   CLP_PRICE                     445696 non-null  float64       \n",
      " 5   ACTIVE_SUB_LAST_PAYMENT_DATE  445696 non-null  datetime64[ns]\n",
      " 6   ACTIVE_SUB_END_DATE           445696 non-null  datetime64[ns]\n",
      " 7   ACTIVE_SUB_START_DATE         445696 non-null  datetime64[ns]\n",
      "dtypes: datetime64[ns](4), float64(1), object(3)\n",
      "memory usage: 30.6+ MB\n"
     ]
    }
   ],
   "source": [
    "user_Pagtransbank.info()"
   ]
  },
  {
   "cell_type": "code",
   "execution_count": 83,
   "metadata": {},
   "outputs": [],
   "source": [
    "consolidado=[historyParcial,user_Pagtransbank]"
   ]
  },
  {
   "cell_type": "code",
   "execution_count": 84,
   "metadata": {},
   "outputs": [],
   "source": [
    "history=pd.concat(consolidado)\n"
   ]
  },
  {
   "cell_type": "code",
   "execution_count": 85,
   "metadata": {},
   "outputs": [
    {
     "data": {
      "text/plain": [
       "CUSTOMER_ID                     4144090\n",
       "SUBSCRIPTION_CODE               4144090\n",
       "mark                            4144090\n",
       "CLP_PRICE                       4144090\n",
       "ACTIVE_SUB_LAST_PAYMENT_DATE    4144090\n",
       "ACTIVE_SUB_END_DATE             4144090\n",
       "ACTIVE_SUB_START_DATE           4144090\n",
       "user_id                         3658445\n",
       "_id                             3658445\n",
       "START_DATE                       445696\n",
       "dtype: int64"
      ]
     },
     "execution_count": 85,
     "metadata": {},
     "output_type": "execute_result"
    }
   ],
   "source": [
    "history.count()"
   ]
  },
  {
   "cell_type": "markdown",
   "metadata": {},
   "source": [
    "Muy bien, con este resultado:\n",
    "    1. Obtener SUBSCRIPTIONS_LIFETIME y REVENUE_LIFETIME\n",
    "\n",
    "Entonces se tienen que sacar las cuentas:\n",
    "    Para extraer el data set de los acuerdos activos ( por last_pyment)\n",
    "    Luego obtener ACTIVE_SUB_DURATION  y HAS_ACTIVE_SUBSCRIPTION\n",
    "\n",
    "Seguido se debe consultar:\n",
    "    Acuerdos cancelados para obtener CANCELLATIONS_LIFETIME\n",
    "Aquí podemos verificar que SUBSCRIPTIONS_LIFETIME - CANCELLATIONS_LIFETIME sea positivo\n",
    "\n",
    "    "
   ]
  },
  {
   "cell_type": "code",
   "execution_count": 86,
   "metadata": {},
   "outputs": [],
   "source": [
    "history['ACTIVE_SUB_LAST_PAYMENT_DATE'] = pd.to_datetime(history['ACTIVE_SUB_LAST_PAYMENT_DATE'])"
   ]
  },
  {
   "cell_type": "code",
   "execution_count": 87,
   "metadata": {},
   "outputs": [],
   "source": [
    "import datetime"
   ]
  },
  {
   "cell_type": "code",
   "execution_count": 88,
   "metadata": {},
   "outputs": [],
   "source": [
    "Time_Line=datetime.datetime.today()"
   ]
  },
  {
   "cell_type": "code",
   "execution_count": 89,
   "metadata": {},
   "outputs": [],
   "source": [
    "history_SubsActives=history.loc[history['ACTIVE_SUB_END_DATE'] > Time_Line]"
   ]
  },
  {
   "cell_type": "code",
   "execution_count": null,
   "metadata": {},
   "outputs": [],
   "source": []
  },
  {
   "cell_type": "code",
   "execution_count": null,
   "metadata": {},
   "outputs": [],
   "source": []
  },
  {
   "cell_type": "code",
   "execution_count": 90,
   "metadata": {
    "scrolled": false
   },
   "outputs": [
    {
     "name": "stdout",
     "output_type": "stream",
     "text": [
      "<class 'pandas.core.frame.DataFrame'>\n",
      "Int64Index: 35134 entries, 20 to 486512\n",
      "Data columns (total 10 columns):\n",
      " #   Column                        Non-Null Count  Dtype         \n",
      "---  ------                        --------------  -----         \n",
      " 0   CUSTOMER_ID                   35134 non-null  object        \n",
      " 1   SUBSCRIPTION_CODE             35134 non-null  object        \n",
      " 2   mark                          35134 non-null  object        \n",
      " 3   CLP_PRICE                     35134 non-null  float64       \n",
      " 4   ACTIVE_SUB_LAST_PAYMENT_DATE  35134 non-null  datetime64[ns]\n",
      " 5   ACTIVE_SUB_END_DATE           35134 non-null  datetime64[ns]\n",
      " 6   ACTIVE_SUB_START_DATE         35134 non-null  datetime64[ns]\n",
      " 7   user_id                       26933 non-null  object        \n",
      " 8   _id                           26933 non-null  object        \n",
      " 9   START_DATE                    7484 non-null   datetime64[ns]\n",
      "dtypes: datetime64[ns](4), float64(1), object(5)\n",
      "memory usage: 2.9+ MB\n"
     ]
    }
   ],
   "source": [
    "history_SubsActives.info()"
   ]
  },
  {
   "cell_type": "code",
   "execution_count": 91,
   "metadata": {
    "scrolled": true
   },
   "outputs": [],
   "source": [
    "subscriptions_actives=history_SubsActives.sort_values('ACTIVE_SUB_LAST_PAYMENT_DATE', ascending=False).groupby('CUSTOMER_ID').tail(1)"
   ]
  },
  {
   "cell_type": "code",
   "execution_count": 92,
   "metadata": {
    "scrolled": true
   },
   "outputs": [
    {
     "name": "stdout",
     "output_type": "stream",
     "text": [
      "<class 'pandas.core.frame.DataFrame'>\n",
      "Int64Index: 8664 entries, 26465 to 629\n",
      "Data columns (total 10 columns):\n",
      " #   Column                        Non-Null Count  Dtype         \n",
      "---  ------                        --------------  -----         \n",
      " 0   CUSTOMER_ID                   8664 non-null   object        \n",
      " 1   SUBSCRIPTION_CODE             8664 non-null   object        \n",
      " 2   mark                          8664 non-null   object        \n",
      " 3   CLP_PRICE                     8664 non-null   float64       \n",
      " 4   ACTIVE_SUB_LAST_PAYMENT_DATE  8664 non-null   datetime64[ns]\n",
      " 5   ACTIVE_SUB_END_DATE           8664 non-null   datetime64[ns]\n",
      " 6   ACTIVE_SUB_START_DATE         8664 non-null   datetime64[ns]\n",
      " 7   user_id                       472 non-null    object        \n",
      " 8   _id                           472 non-null    object        \n",
      " 9   START_DATE                    7481 non-null   datetime64[ns]\n",
      "dtypes: datetime64[ns](4), float64(1), object(5)\n",
      "memory usage: 744.6+ KB\n"
     ]
    }
   ],
   "source": [
    "subscriptions_actives.info()"
   ]
  },
  {
   "cell_type": "code",
   "execution_count": 93,
   "metadata": {},
   "outputs": [],
   "source": [
    "subscriptions_actives=subscriptions_actives.drop([ 'mark','user_id','_id','START_DATE'],axis=1)"
   ]
  },
  {
   "cell_type": "code",
   "execution_count": 94,
   "metadata": {},
   "outputs": [],
   "source": [
    "subscriptions_actives['HAS_ACTIVE_SUBSCRIPTION']=1"
   ]
  },
  {
   "cell_type": "code",
   "execution_count": 95,
   "metadata": {},
   "outputs": [],
   "source": [
    "diff=(subscriptions_actives['ACTIVE_SUB_END_DATE']- subscriptions_actives['ACTIVE_SUB_START_DATE'])\n",
    "subscriptions_actives['ACTIVE_SUB_DURATION']=(diff.astype('timedelta64[D]')).astype(int)\n"
   ]
  },
  {
   "cell_type": "code",
   "execution_count": 96,
   "metadata": {},
   "outputs": [
    {
     "data": {
      "text/html": [
       "<div>\n",
       "<style scoped>\n",
       "    .dataframe tbody tr th:only-of-type {\n",
       "        vertical-align: middle;\n",
       "    }\n",
       "\n",
       "    .dataframe tbody tr th {\n",
       "        vertical-align: top;\n",
       "    }\n",
       "\n",
       "    .dataframe thead th {\n",
       "        text-align: right;\n",
       "    }\n",
       "</style>\n",
       "<table border=\"1\" class=\"dataframe\">\n",
       "  <thead>\n",
       "    <tr style=\"text-align: right;\">\n",
       "      <th></th>\n",
       "      <th>CUSTOMER_ID</th>\n",
       "      <th>SUBSCRIPTION_CODE</th>\n",
       "      <th>CLP_PRICE</th>\n",
       "      <th>ACTIVE_SUB_LAST_PAYMENT_DATE</th>\n",
       "      <th>ACTIVE_SUB_END_DATE</th>\n",
       "      <th>ACTIVE_SUB_START_DATE</th>\n",
       "      <th>HAS_ACTIVE_SUBSCRIPTION</th>\n",
       "      <th>ACTIVE_SUB_DURATION</th>\n",
       "    </tr>\n",
       "  </thead>\n",
       "  <tbody>\n",
       "    <tr>\n",
       "      <th>26465</th>\n",
       "      <td>586101b804d5b52eef205079</td>\n",
       "      <td>5e30ae485f2f260deee70dff</td>\n",
       "      <td>11645.00</td>\n",
       "      <td>2020-04-27 14:43:05.000</td>\n",
       "      <td>2020-05-27 23:59:59.999</td>\n",
       "      <td>2020-01-28 21:57:28.073</td>\n",
       "      <td>1</td>\n",
       "      <td>120</td>\n",
       "    </tr>\n",
       "    <tr>\n",
       "      <th>11471</th>\n",
       "      <td>5861007204d5b52eef1f519f</td>\n",
       "      <td>5bdf2c2539d6040b065590f0</td>\n",
       "      <td>11645.00</td>\n",
       "      <td>2020-04-27 13:12:33.000</td>\n",
       "      <td>2020-05-28 23:59:59.999</td>\n",
       "      <td>2018-11-04 17:28:05.302</td>\n",
       "      <td>1</td>\n",
       "      <td>571</td>\n",
       "    </tr>\n",
       "    <tr>\n",
       "      <th>30573</th>\n",
       "      <td>58a07cac4320da55a2d1d90c</td>\n",
       "      <td>58a07d334320da55a2d1d942</td>\n",
       "      <td>10610.65</td>\n",
       "      <td>2020-04-27 12:42:02.000</td>\n",
       "      <td>2020-05-27 23:59:59.999</td>\n",
       "      <td>2017-02-12 15:20:19.707</td>\n",
       "      <td>1</td>\n",
       "      <td>1200</td>\n",
       "    </tr>\n",
       "    <tr>\n",
       "      <th>62989</th>\n",
       "      <td>5e5835dc7629f813181aed11</td>\n",
       "      <td>5e5837577629f813181aed21</td>\n",
       "      <td>11645.00</td>\n",
       "      <td>2020-04-27 12:27:22.000</td>\n",
       "      <td>2020-05-27 23:59:59.999</td>\n",
       "      <td>2020-02-27 21:40:39.034</td>\n",
       "      <td>1</td>\n",
       "      <td>90</td>\n",
       "    </tr>\n",
       "    <tr>\n",
       "      <th>28373</th>\n",
       "      <td>5861020304d5b52eef208b20</td>\n",
       "      <td>5ac9d21837b6490ad3bbcd46</td>\n",
       "      <td>10610.65</td>\n",
       "      <td>2020-04-27 11:46:04.000</td>\n",
       "      <td>2020-05-27 23:59:59.999</td>\n",
       "      <td>2018-04-08 08:26:00.020</td>\n",
       "      <td>1</td>\n",
       "      <td>780</td>\n",
       "    </tr>\n",
       "    <tr>\n",
       "      <th>...</th>\n",
       "      <td>...</td>\n",
       "      <td>...</td>\n",
       "      <td>...</td>\n",
       "      <td>...</td>\n",
       "      <td>...</td>\n",
       "      <td>...</td>\n",
       "      <td>...</td>\n",
       "      <td>...</td>\n",
       "    </tr>\n",
       "    <tr>\n",
       "      <th>976</th>\n",
       "      <td>5910a3b1048691707c146fc6</td>\n",
       "      <td>58644bbc7064005a9124ca62</td>\n",
       "      <td>0.00</td>\n",
       "      <td>2017-05-08 19:27:42.396</td>\n",
       "      <td>2021-01-30 23:59:59.999</td>\n",
       "      <td>2018-06-11 20:45:20.182</td>\n",
       "      <td>1</td>\n",
       "      <td>964</td>\n",
       "    </tr>\n",
       "    <tr>\n",
       "      <th>23825</th>\n",
       "      <td>5861015e04d5b52eef200b4e</td>\n",
       "      <td>5866a8eb3c27ec7219b7aab5</td>\n",
       "      <td>0.00</td>\n",
       "      <td>2017-02-16 18:53:57.489</td>\n",
       "      <td>2020-12-31 00:00:00.000</td>\n",
       "      <td>2017-02-22 19:33:10.209</td>\n",
       "      <td>1</td>\n",
       "      <td>1407</td>\n",
       "    </tr>\n",
       "    <tr>\n",
       "      <th>861</th>\n",
       "      <td>587f8855c3fc85671876d63a</td>\n",
       "      <td>58644bbc7064005a9124ca62</td>\n",
       "      <td>0.00</td>\n",
       "      <td>2017-01-24 17:58:24.757</td>\n",
       "      <td>2021-01-30 23:59:59.999</td>\n",
       "      <td>2018-08-22 20:14:55.695</td>\n",
       "      <td>1</td>\n",
       "      <td>892</td>\n",
       "    </tr>\n",
       "    <tr>\n",
       "      <th>739</th>\n",
       "      <td>586101b304d5b52eef204c33</td>\n",
       "      <td>58644bbc7064005a9124ca62</td>\n",
       "      <td>0.00</td>\n",
       "      <td>2017-01-17 17:08:38.574</td>\n",
       "      <td>2021-01-30 23:59:59.999</td>\n",
       "      <td>2018-08-24 14:17:44.402</td>\n",
       "      <td>1</td>\n",
       "      <td>890</td>\n",
       "    </tr>\n",
       "    <tr>\n",
       "      <th>629</th>\n",
       "      <td>5878405a4f44d71d41257890</td>\n",
       "      <td>58644bbc7064005a9124ca62</td>\n",
       "      <td>0.00</td>\n",
       "      <td>2017-01-16 18:42:41.387</td>\n",
       "      <td>2021-01-30 23:59:59.999</td>\n",
       "      <td>2018-10-10 17:41:54.507</td>\n",
       "      <td>1</td>\n",
       "      <td>843</td>\n",
       "    </tr>\n",
       "  </tbody>\n",
       "</table>\n",
       "<p>8664 rows × 8 columns</p>\n",
       "</div>"
      ],
      "text/plain": [
       "                    CUSTOMER_ID         SUBSCRIPTION_CODE  CLP_PRICE  \\\n",
       "26465  586101b804d5b52eef205079  5e30ae485f2f260deee70dff   11645.00   \n",
       "11471  5861007204d5b52eef1f519f  5bdf2c2539d6040b065590f0   11645.00   \n",
       "30573  58a07cac4320da55a2d1d90c  58a07d334320da55a2d1d942   10610.65   \n",
       "62989  5e5835dc7629f813181aed11  5e5837577629f813181aed21   11645.00   \n",
       "28373  5861020304d5b52eef208b20  5ac9d21837b6490ad3bbcd46   10610.65   \n",
       "...                         ...                       ...        ...   \n",
       "976    5910a3b1048691707c146fc6  58644bbc7064005a9124ca62       0.00   \n",
       "23825  5861015e04d5b52eef200b4e  5866a8eb3c27ec7219b7aab5       0.00   \n",
       "861    587f8855c3fc85671876d63a  58644bbc7064005a9124ca62       0.00   \n",
       "739    586101b304d5b52eef204c33  58644bbc7064005a9124ca62       0.00   \n",
       "629    5878405a4f44d71d41257890  58644bbc7064005a9124ca62       0.00   \n",
       "\n",
       "      ACTIVE_SUB_LAST_PAYMENT_DATE     ACTIVE_SUB_END_DATE  \\\n",
       "26465      2020-04-27 14:43:05.000 2020-05-27 23:59:59.999   \n",
       "11471      2020-04-27 13:12:33.000 2020-05-28 23:59:59.999   \n",
       "30573      2020-04-27 12:42:02.000 2020-05-27 23:59:59.999   \n",
       "62989      2020-04-27 12:27:22.000 2020-05-27 23:59:59.999   \n",
       "28373      2020-04-27 11:46:04.000 2020-05-27 23:59:59.999   \n",
       "...                            ...                     ...   \n",
       "976        2017-05-08 19:27:42.396 2021-01-30 23:59:59.999   \n",
       "23825      2017-02-16 18:53:57.489 2020-12-31 00:00:00.000   \n",
       "861        2017-01-24 17:58:24.757 2021-01-30 23:59:59.999   \n",
       "739        2017-01-17 17:08:38.574 2021-01-30 23:59:59.999   \n",
       "629        2017-01-16 18:42:41.387 2021-01-30 23:59:59.999   \n",
       "\n",
       "        ACTIVE_SUB_START_DATE  HAS_ACTIVE_SUBSCRIPTION  ACTIVE_SUB_DURATION  \n",
       "26465 2020-01-28 21:57:28.073                        1                  120  \n",
       "11471 2018-11-04 17:28:05.302                        1                  571  \n",
       "30573 2017-02-12 15:20:19.707                        1                 1200  \n",
       "62989 2020-02-27 21:40:39.034                        1                   90  \n",
       "28373 2018-04-08 08:26:00.020                        1                  780  \n",
       "...                       ...                      ...                  ...  \n",
       "976   2018-06-11 20:45:20.182                        1                  964  \n",
       "23825 2017-02-22 19:33:10.209                        1                 1407  \n",
       "861   2018-08-22 20:14:55.695                        1                  892  \n",
       "739   2018-08-24 14:17:44.402                        1                  890  \n",
       "629   2018-10-10 17:41:54.507                        1                  843  \n",
       "\n",
       "[8664 rows x 8 columns]"
      ]
     },
     "execution_count": 96,
     "metadata": {},
     "output_type": "execute_result"
    }
   ],
   "source": [
    "subscriptions_actives"
   ]
  },
  {
   "cell_type": "code",
   "execution_count": null,
   "metadata": {},
   "outputs": [],
   "source": []
  },
  {
   "cell_type": "code",
   "execution_count": 97,
   "metadata": {},
   "outputs": [
    {
     "name": "stdout",
     "output_type": "stream",
     "text": [
      "<class 'pandas.core.frame.DataFrame'>\n",
      "Int64Index: 4144090 entries, 0 to 486512\n",
      "Data columns (total 10 columns):\n",
      " #   Column                        Dtype         \n",
      "---  ------                        -----         \n",
      " 0   CUSTOMER_ID                   object        \n",
      " 1   SUBSCRIPTION_CODE             object        \n",
      " 2   mark                          object        \n",
      " 3   CLP_PRICE                     float64       \n",
      " 4   ACTIVE_SUB_LAST_PAYMENT_DATE  datetime64[ns]\n",
      " 5   ACTIVE_SUB_END_DATE           datetime64[ns]\n",
      " 6   ACTIVE_SUB_START_DATE         datetime64[ns]\n",
      " 7   user_id                       object        \n",
      " 8   _id                           object        \n",
      " 9   START_DATE                    datetime64[ns]\n",
      "dtypes: datetime64[ns](4), float64(1), object(5)\n",
      "memory usage: 347.8+ MB\n"
     ]
    }
   ],
   "source": [
    "history.info()"
   ]
  },
  {
   "cell_type": "code",
   "execution_count": 98,
   "metadata": {},
   "outputs": [],
   "source": [
    "paysLong=history.groupby('CUSTOMER_ID').agg(REVENUE_LIFETIME=('CLP_PRICE','sum'))"
   ]
  },
  {
   "cell_type": "code",
   "execution_count": 99,
   "metadata": {
    "scrolled": true
   },
   "outputs": [
    {
     "data": {
      "text/plain": [
       "REVENUE_LIFETIME    66416\n",
       "dtype: int64"
      ]
     },
     "execution_count": 99,
     "metadata": {},
     "output_type": "execute_result"
    }
   ],
   "source": [
    "paysLong.count()"
   ]
  },
  {
   "cell_type": "code",
   "execution_count": 100,
   "metadata": {},
   "outputs": [],
   "source": [
    "paysLong['CUSTOMER_ID']=paysLong.index"
   ]
  },
  {
   "cell_type": "code",
   "execution_count": 101,
   "metadata": {},
   "outputs": [],
   "source": [
    "paysLong=paysLong.reset_index(drop=True)"
   ]
  },
  {
   "cell_type": "code",
   "execution_count": 102,
   "metadata": {},
   "outputs": [
    {
     "name": "stdout",
     "output_type": "stream",
     "text": [
      "<class 'pandas.core.frame.DataFrame'>\n",
      "RangeIndex: 66416 entries, 0 to 66415\n",
      "Data columns (total 2 columns):\n",
      " #   Column            Non-Null Count  Dtype  \n",
      "---  ------            --------------  -----  \n",
      " 0   REVENUE_LIFETIME  66416 non-null  float64\n",
      " 1   CUSTOMER_ID       66416 non-null  object \n",
      "dtypes: float64(1), object(1)\n",
      "memory usage: 1.0+ MB\n"
     ]
    }
   ],
   "source": [
    "paysLong.info()"
   ]
  },
  {
   "cell_type": "code",
   "execution_count": 103,
   "metadata": {},
   "outputs": [
    {
     "data": {
      "text/html": [
       "<div>\n",
       "<style scoped>\n",
       "    .dataframe tbody tr th:only-of-type {\n",
       "        vertical-align: middle;\n",
       "    }\n",
       "\n",
       "    .dataframe tbody tr th {\n",
       "        vertical-align: top;\n",
       "    }\n",
       "\n",
       "    .dataframe thead th {\n",
       "        text-align: right;\n",
       "    }\n",
       "</style>\n",
       "<table border=\"1\" class=\"dataframe\">\n",
       "  <thead>\n",
       "    <tr style=\"text-align: right;\">\n",
       "      <th></th>\n",
       "      <th>REVENUE_LIFETIME</th>\n",
       "      <th>CUSTOMER_ID</th>\n",
       "    </tr>\n",
       "  </thead>\n",
       "  <tbody>\n",
       "    <tr>\n",
       "      <th>0</th>\n",
       "      <td>131880.0</td>\n",
       "      <td>5860ff4104d5b52eef1e6224</td>\n",
       "    </tr>\n",
       "    <tr>\n",
       "      <th>1</th>\n",
       "      <td>29560.0</td>\n",
       "      <td>5860ff4104d5b52eef1e622f</td>\n",
       "    </tr>\n",
       "    <tr>\n",
       "      <th>2</th>\n",
       "      <td>98910.0</td>\n",
       "      <td>5860ff4104d5b52eef1e6243</td>\n",
       "    </tr>\n",
       "    <tr>\n",
       "      <th>3</th>\n",
       "      <td>30772.0</td>\n",
       "      <td>5860ff4104d5b52eef1e6250</td>\n",
       "    </tr>\n",
       "    <tr>\n",
       "      <th>4</th>\n",
       "      <td>109900.0</td>\n",
       "      <td>5860ff4104d5b52eef1e6264</td>\n",
       "    </tr>\n",
       "    <tr>\n",
       "      <th>...</th>\n",
       "      <td>...</td>\n",
       "      <td>...</td>\n",
       "    </tr>\n",
       "    <tr>\n",
       "      <th>66411</th>\n",
       "      <td>10990.0</td>\n",
       "      <td>5e9df0188a922b726c7b6752</td>\n",
       "    </tr>\n",
       "    <tr>\n",
       "      <th>66412</th>\n",
       "      <td>10990.0</td>\n",
       "      <td>5e9e3e5a4099310f332f1411</td>\n",
       "    </tr>\n",
       "    <tr>\n",
       "      <th>66413</th>\n",
       "      <td>10990.0</td>\n",
       "      <td>5e9e47fbf1106b0f0744fbda</td>\n",
       "    </tr>\n",
       "    <tr>\n",
       "      <th>66414</th>\n",
       "      <td>11645.0</td>\n",
       "      <td>5ea0b295a796be1213975b04</td>\n",
       "    </tr>\n",
       "    <tr>\n",
       "      <th>66415</th>\n",
       "      <td>5802720.0</td>\n",
       "      <td>5ea44a2949fa5c1699ca9b6e</td>\n",
       "    </tr>\n",
       "  </tbody>\n",
       "</table>\n",
       "<p>66416 rows × 2 columns</p>\n",
       "</div>"
      ],
      "text/plain": [
       "       REVENUE_LIFETIME               CUSTOMER_ID\n",
       "0              131880.0  5860ff4104d5b52eef1e6224\n",
       "1               29560.0  5860ff4104d5b52eef1e622f\n",
       "2               98910.0  5860ff4104d5b52eef1e6243\n",
       "3               30772.0  5860ff4104d5b52eef1e6250\n",
       "4              109900.0  5860ff4104d5b52eef1e6264\n",
       "...                 ...                       ...\n",
       "66411           10990.0  5e9df0188a922b726c7b6752\n",
       "66412           10990.0  5e9e3e5a4099310f332f1411\n",
       "66413           10990.0  5e9e47fbf1106b0f0744fbda\n",
       "66414           11645.0  5ea0b295a796be1213975b04\n",
       "66415         5802720.0  5ea44a2949fa5c1699ca9b6e\n",
       "\n",
       "[66416 rows x 2 columns]"
      ]
     },
     "execution_count": 103,
     "metadata": {},
     "output_type": "execute_result"
    }
   ],
   "source": [
    "paysLong"
   ]
  },
  {
   "cell_type": "code",
   "execution_count": 104,
   "metadata": {},
   "outputs": [],
   "source": [
    "preresultado=subscriptions_actives.merge(paysLong, on='CUSTOMER_ID',how='outer')"
   ]
  },
  {
   "cell_type": "code",
   "execution_count": 105,
   "metadata": {},
   "outputs": [],
   "source": [
    "preresultado[\"HAS_ACTIVE_SUBSCRIPTION\"] = preresultado[\"HAS_ACTIVE_SUBSCRIPTION\"].fillna(0).astype(int)"
   ]
  },
  {
   "cell_type": "code",
   "execution_count": 106,
   "metadata": {},
   "outputs": [
    {
     "data": {
      "text/html": [
       "<div>\n",
       "<style scoped>\n",
       "    .dataframe tbody tr th:only-of-type {\n",
       "        vertical-align: middle;\n",
       "    }\n",
       "\n",
       "    .dataframe tbody tr th {\n",
       "        vertical-align: top;\n",
       "    }\n",
       "\n",
       "    .dataframe thead th {\n",
       "        text-align: right;\n",
       "    }\n",
       "</style>\n",
       "<table border=\"1\" class=\"dataframe\">\n",
       "  <thead>\n",
       "    <tr style=\"text-align: right;\">\n",
       "      <th></th>\n",
       "      <th>CUSTOMER_ID</th>\n",
       "      <th>SUBSCRIPTION_CODE</th>\n",
       "      <th>CLP_PRICE</th>\n",
       "      <th>ACTIVE_SUB_LAST_PAYMENT_DATE</th>\n",
       "      <th>ACTIVE_SUB_END_DATE</th>\n",
       "      <th>ACTIVE_SUB_START_DATE</th>\n",
       "      <th>HAS_ACTIVE_SUBSCRIPTION</th>\n",
       "      <th>ACTIVE_SUB_DURATION</th>\n",
       "      <th>REVENUE_LIFETIME</th>\n",
       "    </tr>\n",
       "  </thead>\n",
       "  <tbody>\n",
       "    <tr>\n",
       "      <th>0</th>\n",
       "      <td>586101b804d5b52eef205079</td>\n",
       "      <td>5e30ae485f2f260deee70dff</td>\n",
       "      <td>11645.00</td>\n",
       "      <td>2020-04-27 14:43:05</td>\n",
       "      <td>2020-05-27 23:59:59.999</td>\n",
       "      <td>2020-01-28 21:57:28.073</td>\n",
       "      <td>1</td>\n",
       "      <td>120.0</td>\n",
       "      <td>285885.0</td>\n",
       "    </tr>\n",
       "    <tr>\n",
       "      <th>1</th>\n",
       "      <td>5861007204d5b52eef1f519f</td>\n",
       "      <td>5bdf2c2539d6040b065590f0</td>\n",
       "      <td>11645.00</td>\n",
       "      <td>2020-04-27 13:12:33</td>\n",
       "      <td>2020-05-28 23:59:59.999</td>\n",
       "      <td>2018-11-04 17:28:05.302</td>\n",
       "      <td>1</td>\n",
       "      <td>571.0</td>\n",
       "      <td>395930.0</td>\n",
       "    </tr>\n",
       "    <tr>\n",
       "      <th>2</th>\n",
       "      <td>58a07cac4320da55a2d1d90c</td>\n",
       "      <td>58a07d334320da55a2d1d942</td>\n",
       "      <td>10610.65</td>\n",
       "      <td>2020-04-27 12:42:02</td>\n",
       "      <td>2020-05-27 23:59:59.999</td>\n",
       "      <td>2017-02-12 15:20:19.707</td>\n",
       "      <td>1</td>\n",
       "      <td>1200.0</td>\n",
       "      <td>424426.0</td>\n",
       "    </tr>\n",
       "    <tr>\n",
       "      <th>3</th>\n",
       "      <td>5e5835dc7629f813181aed11</td>\n",
       "      <td>5e5837577629f813181aed21</td>\n",
       "      <td>11645.00</td>\n",
       "      <td>2020-04-27 12:27:22</td>\n",
       "      <td>2020-05-27 23:59:59.999</td>\n",
       "      <td>2020-02-27 21:40:39.034</td>\n",
       "      <td>1</td>\n",
       "      <td>90.0</td>\n",
       "      <td>34935.0</td>\n",
       "    </tr>\n",
       "    <tr>\n",
       "      <th>4</th>\n",
       "      <td>5861020304d5b52eef208b20</td>\n",
       "      <td>5ac9d21837b6490ad3bbcd46</td>\n",
       "      <td>10610.65</td>\n",
       "      <td>2020-04-27 11:46:04</td>\n",
       "      <td>2020-05-27 23:59:59.999</td>\n",
       "      <td>2018-04-08 08:26:00.020</td>\n",
       "      <td>1</td>\n",
       "      <td>780.0</td>\n",
       "      <td>424426.0</td>\n",
       "    </tr>\n",
       "    <tr>\n",
       "      <th>...</th>\n",
       "      <td>...</td>\n",
       "      <td>...</td>\n",
       "      <td>...</td>\n",
       "      <td>...</td>\n",
       "      <td>...</td>\n",
       "      <td>...</td>\n",
       "      <td>...</td>\n",
       "      <td>...</td>\n",
       "      <td>...</td>\n",
       "    </tr>\n",
       "    <tr>\n",
       "      <th>66411</th>\n",
       "      <td>5e6ebac1faadb50d9386c4d8</td>\n",
       "      <td>NaN</td>\n",
       "      <td>NaN</td>\n",
       "      <td>NaT</td>\n",
       "      <td>NaT</td>\n",
       "      <td>NaT</td>\n",
       "      <td>0</td>\n",
       "      <td>NaN</td>\n",
       "      <td>11645.0</td>\n",
       "    </tr>\n",
       "    <tr>\n",
       "      <th>66412</th>\n",
       "      <td>5e6ebb3b7629f813181b8d9c</td>\n",
       "      <td>NaN</td>\n",
       "      <td>NaN</td>\n",
       "      <td>NaT</td>\n",
       "      <td>NaT</td>\n",
       "      <td>NaT</td>\n",
       "      <td>0</td>\n",
       "      <td>NaN</td>\n",
       "      <td>10990.0</td>\n",
       "    </tr>\n",
       "    <tr>\n",
       "      <th>66413</th>\n",
       "      <td>5e6eee52ad807c1304b5c100</td>\n",
       "      <td>NaN</td>\n",
       "      <td>NaN</td>\n",
       "      <td>NaT</td>\n",
       "      <td>NaT</td>\n",
       "      <td>NaT</td>\n",
       "      <td>0</td>\n",
       "      <td>NaN</td>\n",
       "      <td>10990.0</td>\n",
       "    </tr>\n",
       "    <tr>\n",
       "      <th>66414</th>\n",
       "      <td>5e713a5b3687525ad4328dbe</td>\n",
       "      <td>NaN</td>\n",
       "      <td>NaN</td>\n",
       "      <td>NaT</td>\n",
       "      <td>NaT</td>\n",
       "      <td>NaT</td>\n",
       "      <td>0</td>\n",
       "      <td>NaN</td>\n",
       "      <td>10990.0</td>\n",
       "    </tr>\n",
       "    <tr>\n",
       "      <th>66415</th>\n",
       "      <td>5e713ea4f2f7c20d78d19cc5</td>\n",
       "      <td>NaN</td>\n",
       "      <td>NaN</td>\n",
       "      <td>NaT</td>\n",
       "      <td>NaT</td>\n",
       "      <td>NaT</td>\n",
       "      <td>0</td>\n",
       "      <td>NaN</td>\n",
       "      <td>11645.0</td>\n",
       "    </tr>\n",
       "  </tbody>\n",
       "</table>\n",
       "<p>66416 rows × 9 columns</p>\n",
       "</div>"
      ],
      "text/plain": [
       "                    CUSTOMER_ID         SUBSCRIPTION_CODE  CLP_PRICE  \\\n",
       "0      586101b804d5b52eef205079  5e30ae485f2f260deee70dff   11645.00   \n",
       "1      5861007204d5b52eef1f519f  5bdf2c2539d6040b065590f0   11645.00   \n",
       "2      58a07cac4320da55a2d1d90c  58a07d334320da55a2d1d942   10610.65   \n",
       "3      5e5835dc7629f813181aed11  5e5837577629f813181aed21   11645.00   \n",
       "4      5861020304d5b52eef208b20  5ac9d21837b6490ad3bbcd46   10610.65   \n",
       "...                         ...                       ...        ...   \n",
       "66411  5e6ebac1faadb50d9386c4d8                       NaN        NaN   \n",
       "66412  5e6ebb3b7629f813181b8d9c                       NaN        NaN   \n",
       "66413  5e6eee52ad807c1304b5c100                       NaN        NaN   \n",
       "66414  5e713a5b3687525ad4328dbe                       NaN        NaN   \n",
       "66415  5e713ea4f2f7c20d78d19cc5                       NaN        NaN   \n",
       "\n",
       "      ACTIVE_SUB_LAST_PAYMENT_DATE     ACTIVE_SUB_END_DATE  \\\n",
       "0              2020-04-27 14:43:05 2020-05-27 23:59:59.999   \n",
       "1              2020-04-27 13:12:33 2020-05-28 23:59:59.999   \n",
       "2              2020-04-27 12:42:02 2020-05-27 23:59:59.999   \n",
       "3              2020-04-27 12:27:22 2020-05-27 23:59:59.999   \n",
       "4              2020-04-27 11:46:04 2020-05-27 23:59:59.999   \n",
       "...                            ...                     ...   \n",
       "66411                          NaT                     NaT   \n",
       "66412                          NaT                     NaT   \n",
       "66413                          NaT                     NaT   \n",
       "66414                          NaT                     NaT   \n",
       "66415                          NaT                     NaT   \n",
       "\n",
       "        ACTIVE_SUB_START_DATE  HAS_ACTIVE_SUBSCRIPTION  ACTIVE_SUB_DURATION  \\\n",
       "0     2020-01-28 21:57:28.073                        1                120.0   \n",
       "1     2018-11-04 17:28:05.302                        1                571.0   \n",
       "2     2017-02-12 15:20:19.707                        1               1200.0   \n",
       "3     2020-02-27 21:40:39.034                        1                 90.0   \n",
       "4     2018-04-08 08:26:00.020                        1                780.0   \n",
       "...                       ...                      ...                  ...   \n",
       "66411                     NaT                        0                  NaN   \n",
       "66412                     NaT                        0                  NaN   \n",
       "66413                     NaT                        0                  NaN   \n",
       "66414                     NaT                        0                  NaN   \n",
       "66415                     NaT                        0                  NaN   \n",
       "\n",
       "       REVENUE_LIFETIME  \n",
       "0              285885.0  \n",
       "1              395930.0  \n",
       "2              424426.0  \n",
       "3               34935.0  \n",
       "4              424426.0  \n",
       "...                 ...  \n",
       "66411           11645.0  \n",
       "66412           10990.0  \n",
       "66413           10990.0  \n",
       "66414           10990.0  \n",
       "66415           11645.0  \n",
       "\n",
       "[66416 rows x 9 columns]"
      ]
     },
     "execution_count": 106,
     "metadata": {},
     "output_type": "execute_result"
    }
   ],
   "source": [
    "preresultado"
   ]
  },
  {
   "cell_type": "markdown",
   "metadata": {},
   "source": [
    "Ahora buscar las subscriptions lifetime"
   ]
  },
  {
   "cell_type": "code",
   "execution_count": 107,
   "metadata": {
    "scrolled": false
   },
   "outputs": [
    {
     "name": "stdout",
     "output_type": "stream",
     "text": [
      "<class 'pandas.core.frame.DataFrame'>\n",
      "Int64Index: 3658445 entries, 0 to 3658469\n",
      "Data columns (total 9 columns):\n",
      " #   Column                        Dtype         \n",
      "---  ------                        -----         \n",
      " 0   user_id                       object        \n",
      " 1   mark                          object        \n",
      " 2   CLP_PRICE                     float64       \n",
      " 3   SUBSCRIPTION_CODE             object        \n",
      " 4   ACTIVE_SUB_END_DATE           datetime64[ns]\n",
      " 5   ACTIVE_SUB_START_DATE         datetime64[ns]\n",
      " 6   ACTIVE_SUB_LAST_PAYMENT_DATE  datetime64[ns]\n",
      " 7   _id                           object        \n",
      " 8   CUSTOMER_ID                   object        \n",
      "dtypes: datetime64[ns](3), float64(1), object(5)\n",
      "memory usage: 279.1+ MB\n"
     ]
    }
   ],
   "source": [
    "cupones_totales.info()"
   ]
  },
  {
   "cell_type": "code",
   "execution_count": 108,
   "metadata": {},
   "outputs": [],
   "source": [
    "sub_cupones_totales=cupones_totales.drop_duplicates(['SUBSCRIPTION_CODE'], keep='last')"
   ]
  },
  {
   "cell_type": "code",
   "execution_count": 109,
   "metadata": {
    "scrolled": false
   },
   "outputs": [
    {
     "name": "stdout",
     "output_type": "stream",
     "text": [
      "<class 'pandas.core.frame.DataFrame'>\n",
      "Int64Index: 840 entries, 41 to 3658469\n",
      "Data columns (total 9 columns):\n",
      " #   Column                        Non-Null Count  Dtype         \n",
      "---  ------                        --------------  -----         \n",
      " 0   user_id                       840 non-null    object        \n",
      " 1   mark                          840 non-null    object        \n",
      " 2   CLP_PRICE                     840 non-null    float64       \n",
      " 3   SUBSCRIPTION_CODE             840 non-null    object        \n",
      " 4   ACTIVE_SUB_END_DATE           840 non-null    datetime64[ns]\n",
      " 5   ACTIVE_SUB_START_DATE         840 non-null    datetime64[ns]\n",
      " 6   ACTIVE_SUB_LAST_PAYMENT_DATE  840 non-null    datetime64[ns]\n",
      " 7   _id                           840 non-null    object        \n",
      " 8   CUSTOMER_ID                   840 non-null    object        \n",
      "dtypes: datetime64[ns](3), float64(1), object(5)\n",
      "memory usage: 65.6+ KB\n"
     ]
    }
   ],
   "source": [
    "sub_cupones_totales.info()"
   ]
  },
  {
   "cell_type": "code",
   "execution_count": 110,
   "metadata": {},
   "outputs": [],
   "source": [
    "sub_user_Paypal=user_Paypal.drop_duplicates(['SUBSCRIPTION_CODE'], keep='last')"
   ]
  },
  {
   "cell_type": "code",
   "execution_count": 111,
   "metadata": {
    "scrolled": true
   },
   "outputs": [
    {
     "name": "stdout",
     "output_type": "stream",
     "text": [
      "<class 'pandas.core.frame.DataFrame'>\n",
      "Int64Index: 31690 entries, 0 to 31689\n",
      "Data columns (total 7 columns):\n",
      " #   Column             Non-Null Count  Dtype         \n",
      "---  ------             --------------  -----         \n",
      " 0   _id_x              31690 non-null  object        \n",
      " 1   CUSTOMER_ID        31690 non-null  object        \n",
      " 2   user_id_x          31690 non-null  object        \n",
      " 3   id                 31690 non-null  object        \n",
      " 4   SUBSCRIPTION_CODE  31690 non-null  object        \n",
      " 5   createdAt          31690 non-null  datetime64[ns]\n",
      " 6   user_id_y          31690 non-null  object        \n",
      "dtypes: datetime64[ns](1), object(6)\n",
      "memory usage: 1.9+ MB\n"
     ]
    }
   ],
   "source": [
    "sub_user_Paypal.info()"
   ]
  },
  {
   "cell_type": "code",
   "execution_count": 112,
   "metadata": {},
   "outputs": [],
   "source": [
    "sub_user_transbank=user_transbank.drop_duplicates(['SUBSCRIPTION_CODE'], keep='last')"
   ]
  },
  {
   "cell_type": "code",
   "execution_count": 113,
   "metadata": {},
   "outputs": [
    {
     "name": "stdout",
     "output_type": "stream",
     "text": [
      "<class 'pandas.core.frame.DataFrame'>\n",
      "Int64Index: 135367 entries, 0 to 135366\n",
      "Data columns (total 8 columns):\n",
      " #   Column             Non-Null Count   Dtype         \n",
      "---  ------             --------------   -----         \n",
      " 0   _id                135367 non-null  object        \n",
      " 1   CUSTOMER_ID        135367 non-null  object        \n",
      " 2   user_id_x          135367 non-null  object        \n",
      " 3   id                 135367 non-null  object        \n",
      " 4   SUBSCRIPTION_CODE  135367 non-null  object        \n",
      " 5   createdAt          135367 non-null  datetime64[ns]\n",
      " 6   user_id_y          135367 non-null  object        \n",
      " 7   START_DATE         135367 non-null  datetime64[ns]\n",
      "dtypes: datetime64[ns](2), object(6)\n",
      "memory usage: 9.3+ MB\n"
     ]
    }
   ],
   "source": [
    "sub_user_transbank.info()"
   ]
  },
  {
   "cell_type": "code",
   "execution_count": null,
   "metadata": {},
   "outputs": [],
   "source": []
  },
  {
   "cell_type": "code",
   "execution_count": 114,
   "metadata": {},
   "outputs": [],
   "source": [
    "compendio=[sub_cupones_totales,sub_user_Paypal,sub_user_transbank]"
   ]
  },
  {
   "cell_type": "code",
   "execution_count": 115,
   "metadata": {},
   "outputs": [],
   "source": [
    "universo=pd.concat(compendio)"
   ]
  },
  {
   "cell_type": "code",
   "execution_count": 116,
   "metadata": {},
   "outputs": [],
   "source": [
    "SUBSCRIPTIONS_LIFETIME=universo.groupby(['CUSTOMER_ID']).agg(SUBSCRIPTIONS_LIFETIME=('SUBSCRIPTION_CODE','count'))"
   ]
  },
  {
   "cell_type": "code",
   "execution_count": 117,
   "metadata": {},
   "outputs": [],
   "source": [
    "SUBSCRIPTIONS_LIFETIME['CUSTOMER_ID']=SUBSCRIPTIONS_LIFETIME.index"
   ]
  },
  {
   "cell_type": "code",
   "execution_count": 118,
   "metadata": {},
   "outputs": [],
   "source": [
    "SUBSCRIPTIONS_LIFETIME=SUBSCRIPTIONS_LIFETIME.reset_index(drop=True)"
   ]
  },
  {
   "cell_type": "code",
   "execution_count": 119,
   "metadata": {},
   "outputs": [],
   "source": [
    "conLifeTime=preresultado.merge(SUBSCRIPTIONS_LIFETIME, on='CUSTOMER_ID',how='outer')"
   ]
  },
  {
   "cell_type": "code",
   "execution_count": 120,
   "metadata": {},
   "outputs": [
    {
     "name": "stdout",
     "output_type": "stream",
     "text": [
      "<class 'pandas.core.frame.DataFrame'>\n",
      "Int64Index: 86586 entries, 0 to 86585\n",
      "Data columns (total 10 columns):\n",
      " #   Column                        Non-Null Count  Dtype         \n",
      "---  ------                        --------------  -----         \n",
      " 0   CUSTOMER_ID                   86586 non-null  object        \n",
      " 1   SUBSCRIPTION_CODE             8664 non-null   object        \n",
      " 2   CLP_PRICE                     8664 non-null   float64       \n",
      " 3   ACTIVE_SUB_LAST_PAYMENT_DATE  8664 non-null   datetime64[ns]\n",
      " 4   ACTIVE_SUB_END_DATE           8664 non-null   datetime64[ns]\n",
      " 5   ACTIVE_SUB_START_DATE         8664 non-null   datetime64[ns]\n",
      " 6   HAS_ACTIVE_SUBSCRIPTION       66416 non-null  float64       \n",
      " 7   ACTIVE_SUB_DURATION           8664 non-null   float64       \n",
      " 8   REVENUE_LIFETIME              66416 non-null  float64       \n",
      " 9   SUBSCRIPTIONS_LIFETIME        80645 non-null  float64       \n",
      "dtypes: datetime64[ns](3), float64(5), object(2)\n",
      "memory usage: 7.3+ MB\n"
     ]
    }
   ],
   "source": [
    "conLifeTime.info()"
   ]
  },
  {
   "cell_type": "markdown",
   "metadata": {},
   "source": [
    "### Ahora vamos por los acuerdos cancelados"
   ]
  },
  {
   "cell_type": "code",
   "execution_count": 121,
   "metadata": {},
   "outputs": [
    {
     "data": {
      "text/plain": [
       "datetime.datetime(2017, 1, 1, 0, 0)"
      ]
     },
     "execution_count": 121,
     "metadata": {},
     "output_type": "execute_result"
    }
   ],
   "source": [
    "feh"
   ]
  },
  {
   "cell_type": "code",
   "execution_count": 122,
   "metadata": {},
   "outputs": [],
   "source": [
    "mycol_acuCancelados = mydb[\"acuerdoscancelados\"]\n",
    "def acuerdosCanceladosdataframes(iterator, chunk_size: int):\n",
    "  \"\"\"Turn an iterator into multiple small pandas.DataFrame\n",
    "  This is a balance between memory and efficiency\n",
    "  \"\"\"\n",
    "  records = []\n",
    "  frames = []\n",
    "  for i, record in enumerate(iterator):\n",
    "    records.append(record)\n",
    "    if i % chunk_size == chunk_size - 1:\n",
    "      frames.append(pd.DataFrame(records))\n",
    "      records = []\n",
    "  if records:\n",
    "    frames.append(pd.DataFrame(records))\n",
    "  return pd.concat(frames) if frames else pd.DataFrame()\n",
    "  \n",
    "acuCancelados = acuerdosCanceladosdataframes(mycol_acuCancelados.find({'createdAt': {'$gte':feh}},{'acuerdo_id':1,'createdAt':1}), 10000)\n"
   ]
  },
  {
   "cell_type": "code",
   "execution_count": 123,
   "metadata": {},
   "outputs": [
    {
     "name": "stdout",
     "output_type": "stream",
     "text": [
      "<class 'pandas.core.frame.DataFrame'>\n",
      "Int64Index: 104875 entries, 0 to 4874\n",
      "Data columns (total 3 columns):\n",
      " #   Column      Non-Null Count   Dtype         \n",
      "---  ------      --------------   -----         \n",
      " 0   _id         104875 non-null  object        \n",
      " 1   createdAt   104875 non-null  datetime64[ns]\n",
      " 2   acuerdo_id  104875 non-null  object        \n",
      "dtypes: datetime64[ns](1), object(2)\n",
      "memory usage: 3.2+ MB\n"
     ]
    }
   ],
   "source": [
    "acuCancelados.info()"
   ]
  },
  {
   "cell_type": "code",
   "execution_count": 124,
   "metadata": {},
   "outputs": [],
   "source": [
    "acuCancelados['acuerdo_id']=acuCancelados.acuerdo_id.astype(str)"
   ]
  },
  {
   "cell_type": "code",
   "execution_count": 125,
   "metadata": {},
   "outputs": [
    {
     "name": "stdout",
     "output_type": "stream",
     "text": [
      "<class 'pandas.core.frame.DataFrame'>\n",
      "Int64Index: 167897 entries, 41 to 135366\n",
      "Data columns (total 15 columns):\n",
      " #   Column                        Non-Null Count   Dtype         \n",
      "---  ------                        --------------   -----         \n",
      " 0   user_id                       840 non-null     object        \n",
      " 1   mark                          840 non-null     object        \n",
      " 2   CLP_PRICE                     840 non-null     float64       \n",
      " 3   SUBSCRIPTION_CODE             167897 non-null  object        \n",
      " 4   ACTIVE_SUB_END_DATE           840 non-null     datetime64[ns]\n",
      " 5   ACTIVE_SUB_START_DATE         840 non-null     datetime64[ns]\n",
      " 6   ACTIVE_SUB_LAST_PAYMENT_DATE  840 non-null     datetime64[ns]\n",
      " 7   _id                           136207 non-null  object        \n",
      " 8   CUSTOMER_ID                   167897 non-null  object        \n",
      " 9   _id_x                         31690 non-null   object        \n",
      " 10  user_id_x                     167057 non-null  object        \n",
      " 11  id                            167057 non-null  object        \n",
      " 12  createdAt                     167057 non-null  datetime64[ns]\n",
      " 13  user_id_y                     167057 non-null  object        \n",
      " 14  START_DATE                    135367 non-null  datetime64[ns]\n",
      "dtypes: datetime64[ns](5), float64(1), object(9)\n",
      "memory usage: 25.5+ MB\n"
     ]
    }
   ],
   "source": [
    "universo.info()"
   ]
  },
  {
   "cell_type": "code",
   "execution_count": 126,
   "metadata": {},
   "outputs": [
    {
     "data": {
      "text/plain": [
       "Index(['user_id', 'mark', 'CLP_PRICE', 'SUBSCRIPTION_CODE',\n",
       "       'ACTIVE_SUB_END_DATE', 'ACTIVE_SUB_START_DATE',\n",
       "       'ACTIVE_SUB_LAST_PAYMENT_DATE', '_id', 'CUSTOMER_ID', '_id_x',\n",
       "       'user_id_x', 'id', 'createdAt', 'user_id_y', 'START_DATE'],\n",
       "      dtype='object')"
      ]
     },
     "execution_count": 126,
     "metadata": {},
     "output_type": "execute_result"
    }
   ],
   "source": [
    "universo.columns"
   ]
  },
  {
   "cell_type": "code",
   "execution_count": 127,
   "metadata": {},
   "outputs": [],
   "source": [
    "universo=universo.drop(['user_id', 'mark', 'CLP_PRICE', \n",
    "       'ACTIVE_SUB_END_DATE', 'ACTIVE_SUB_START_DATE',\n",
    "       'ACTIVE_SUB_LAST_PAYMENT_DATE', '_id',  '_id_x',\n",
    "       'user_id_x', 'id', 'createdAt', 'user_id_y', 'START_DATE'],axis=1)"
   ]
  },
  {
   "cell_type": "code",
   "execution_count": 128,
   "metadata": {},
   "outputs": [],
   "source": [
    "CANCELLATIONS_LIFETIME= acuCancelados.merge(universo, right_on='SUBSCRIPTION_CODE',left_on='acuerdo_id', how=\"inner\", indicator=True)"
   ]
  },
  {
   "cell_type": "code",
   "execution_count": 129,
   "metadata": {},
   "outputs": [
    {
     "name": "stdout",
     "output_type": "stream",
     "text": [
      "<class 'pandas.core.frame.DataFrame'>\n",
      "Int64Index: 105473 entries, 0 to 105472\n",
      "Data columns (total 6 columns):\n",
      " #   Column             Non-Null Count   Dtype         \n",
      "---  ------             --------------   -----         \n",
      " 0   _id                105473 non-null  object        \n",
      " 1   createdAt          105473 non-null  datetime64[ns]\n",
      " 2   acuerdo_id         105473 non-null  object        \n",
      " 3   SUBSCRIPTION_CODE  105473 non-null  object        \n",
      " 4   CUSTOMER_ID        105473 non-null  object        \n",
      " 5   _merge             105473 non-null  category      \n",
      "dtypes: category(1), datetime64[ns](1), object(4)\n",
      "memory usage: 4.9+ MB\n"
     ]
    }
   ],
   "source": [
    "CANCELLATIONS_LIFETIME.info()"
   ]
  },
  {
   "cell_type": "code",
   "execution_count": 131,
   "metadata": {},
   "outputs": [],
   "source": [
    "CANCELLATIONS_LIFETIME = CANCELLATIONS_LIFETIME.dropna(axis=0, subset=['acuerdo_id'])"
   ]
  },
  {
   "cell_type": "code",
   "execution_count": 132,
   "metadata": {},
   "outputs": [
    {
     "name": "stdout",
     "output_type": "stream",
     "text": [
      "<class 'pandas.core.frame.DataFrame'>\n",
      "Int64Index: 105473 entries, 0 to 105472\n",
      "Data columns (total 6 columns):\n",
      " #   Column             Non-Null Count   Dtype         \n",
      "---  ------             --------------   -----         \n",
      " 0   _id                105473 non-null  object        \n",
      " 1   createdAt          105473 non-null  datetime64[ns]\n",
      " 2   acuerdo_id         105473 non-null  object        \n",
      " 3   SUBSCRIPTION_CODE  105473 non-null  object        \n",
      " 4   CUSTOMER_ID        105473 non-null  object        \n",
      " 5   _merge             105473 non-null  category      \n",
      "dtypes: category(1), datetime64[ns](1), object(4)\n",
      "memory usage: 4.9+ MB\n"
     ]
    }
   ],
   "source": [
    "CANCELLATIONS_LIFETIME.info()"
   ]
  },
  {
   "cell_type": "code",
   "execution_count": null,
   "metadata": {},
   "outputs": [],
   "source": []
  },
  {
   "cell_type": "code",
   "execution_count": 133,
   "metadata": {},
   "outputs": [],
   "source": [
    "CANCELLATIONS=CANCELLATIONS_LIFETIME.groupby(['CUSTOMER_ID']).agg(CANCELLATIONS_LIFETIME=('acuerdo_id','count'))\n"
   ]
  },
  {
   "cell_type": "code",
   "execution_count": 134,
   "metadata": {},
   "outputs": [],
   "source": [
    "CANCELLATIONS['CUSTOMER_ID']=CANCELLATIONS.index"
   ]
  },
  {
   "cell_type": "code",
   "execution_count": 135,
   "metadata": {},
   "outputs": [],
   "source": [
    "CANCELLATIONS=CANCELLATIONS.reset_index(drop=True)\n"
   ]
  },
  {
   "cell_type": "code",
   "execution_count": 136,
   "metadata": {},
   "outputs": [
    {
     "name": "stdout",
     "output_type": "stream",
     "text": [
      "<class 'pandas.core.frame.DataFrame'>\n",
      "RangeIndex: 57644 entries, 0 to 57643\n",
      "Data columns (total 2 columns):\n",
      " #   Column                  Non-Null Count  Dtype \n",
      "---  ------                  --------------  ----- \n",
      " 0   CANCELLATIONS_LIFETIME  57644 non-null  int64 \n",
      " 1   CUSTOMER_ID             57644 non-null  object\n",
      "dtypes: int64(1), object(1)\n",
      "memory usage: 900.8+ KB\n"
     ]
    }
   ],
   "source": [
    "CANCELLATIONS.info()"
   ]
  },
  {
   "cell_type": "code",
   "execution_count": 137,
   "metadata": {},
   "outputs": [],
   "source": [
    "conCancellations=conLifeTime.merge(CANCELLATIONS, on='CUSTOMER_ID',how='outer')"
   ]
  },
  {
   "cell_type": "code",
   "execution_count": 138,
   "metadata": {},
   "outputs": [],
   "source": [
    "conCancellations[\"CANCELLATIONS_LIFETIME\"] = conCancellations[\"CANCELLATIONS_LIFETIME\"].fillna(0).astype(int)"
   ]
  },
  {
   "cell_type": "code",
   "execution_count": 139,
   "metadata": {},
   "outputs": [],
   "source": [
    "conCancellations[\"HAS_ACTIVE_SUBSCRIPTION\"] = conCancellations[\"HAS_ACTIVE_SUBSCRIPTION\"].fillna(0).astype(int)"
   ]
  },
  {
   "cell_type": "code",
   "execution_count": 140,
   "metadata": {
    "scrolled": true
   },
   "outputs": [],
   "source": [
    "conCancellations[\"ACTIVE_SUB_DURATION\"]=conCancellations[\"ACTIVE_SUB_DURATION\"].fillna(0).astype(int)"
   ]
  },
  {
   "cell_type": "code",
   "execution_count": 141,
   "metadata": {},
   "outputs": [],
   "source": [
    "conCancellations[\"SUBSCRIPTIONS_LIFETIME\"]=conCancellations[\"SUBSCRIPTIONS_LIFETIME\"].fillna(0).astype(int)"
   ]
  },
  {
   "cell_type": "code",
   "execution_count": 142,
   "metadata": {},
   "outputs": [],
   "source": [
    "conCancellations[\"SUBSCRIPTIONS_LIFETIME\"]=conCancellations[\"SUBSCRIPTIONS_LIFETIME\"].fillna(0).astype(int)"
   ]
  },
  {
   "cell_type": "code",
   "execution_count": 143,
   "metadata": {},
   "outputs": [],
   "source": [
    "conCancellations = conCancellations[['CUSTOMER_ID','ACTIVE_SUB_DURATION','ACTIVE_SUB_START_DATE','ACTIVE_SUB_LAST_PAYMENT_DATE','ACTIVE_SUB_END_DATE','HAS_ACTIVE_SUBSCRIPTION','CANCELLATIONS_LIFETIME','SUBSCRIPTIONS_LIFETIME','REVENUE_LIFETIME']]"
   ]
  },
  {
   "cell_type": "code",
   "execution_count": 144,
   "metadata": {},
   "outputs": [],
   "source": [
    "import datetime\n",
    "name='cdf_SubSummary'+datetime.datetime.today().strftime('%Y%m%d_%H%M%S')\n",
    "path='/home/tecnoboy/'+name+'.csv'\n",
    "conCancellations.to_csv(path, index=False, quoting=csv.QUOTE_NONNUMERIC)"
   ]
  },
  {
   "cell_type": "code",
   "execution_count": null,
   "metadata": {},
   "outputs": [],
   "source": []
  },
  {
   "cell_type": "code",
   "execution_count": null,
   "metadata": {},
   "outputs": [],
   "source": []
  }
 ],
 "metadata": {
  "kernelspec": {
   "display_name": "Python 3",
   "language": "python",
   "name": "python3"
  },
  "language_info": {
   "codemirror_mode": {
    "name": "ipython",
    "version": 3
   },
   "file_extension": ".py",
   "mimetype": "text/x-python",
   "name": "python",
   "nbconvert_exporter": "python",
   "pygments_lexer": "ipython3",
   "version": "3.6.9"
  }
 },
 "nbformat": 4,
 "nbformat_minor": 4
}
